{
 "cells": [
  {
   "cell_type": "code",
   "execution_count": 1,
   "metadata": {},
   "outputs": [],
   "source": [
    "import numpy as np\n",
    "import pandas as pd\n",
    "\n",
    "import matplotlib.pyplot as plt"
   ]
  },
  {
   "cell_type": "code",
   "execution_count": 2,
   "metadata": {},
   "outputs": [
    {
     "data": {
      "text/html": [
       "<div>\n",
       "<style scoped>\n",
       "    .dataframe tbody tr th:only-of-type {\n",
       "        vertical-align: middle;\n",
       "    }\n",
       "\n",
       "    .dataframe tbody tr th {\n",
       "        vertical-align: top;\n",
       "    }\n",
       "\n",
       "    .dataframe thead th {\n",
       "        text-align: right;\n",
       "    }\n",
       "</style>\n",
       "<table border=\"1\" class=\"dataframe\">\n",
       "  <thead>\n",
       "    <tr style=\"text-align: right;\">\n",
       "      <th></th>\n",
       "      <th>TV</th>\n",
       "      <th>Radio</th>\n",
       "      <th>Newspaper</th>\n",
       "      <th>Sales</th>\n",
       "    </tr>\n",
       "  </thead>\n",
       "  <tbody>\n",
       "    <tr>\n",
       "      <th>0</th>\n",
       "      <td>230.1</td>\n",
       "      <td>37.8</td>\n",
       "      <td>69.2</td>\n",
       "      <td>22.1</td>\n",
       "    </tr>\n",
       "    <tr>\n",
       "      <th>1</th>\n",
       "      <td>44.5</td>\n",
       "      <td>39.3</td>\n",
       "      <td>45.1</td>\n",
       "      <td>10.4</td>\n",
       "    </tr>\n",
       "    <tr>\n",
       "      <th>2</th>\n",
       "      <td>17.2</td>\n",
       "      <td>45.9</td>\n",
       "      <td>69.3</td>\n",
       "      <td>9.3</td>\n",
       "    </tr>\n",
       "    <tr>\n",
       "      <th>3</th>\n",
       "      <td>151.5</td>\n",
       "      <td>41.3</td>\n",
       "      <td>58.5</td>\n",
       "      <td>18.5</td>\n",
       "    </tr>\n",
       "    <tr>\n",
       "      <th>4</th>\n",
       "      <td>180.8</td>\n",
       "      <td>10.8</td>\n",
       "      <td>58.4</td>\n",
       "      <td>12.9</td>\n",
       "    </tr>\n",
       "    <tr>\n",
       "      <th>...</th>\n",
       "      <td>...</td>\n",
       "      <td>...</td>\n",
       "      <td>...</td>\n",
       "      <td>...</td>\n",
       "    </tr>\n",
       "    <tr>\n",
       "      <th>195</th>\n",
       "      <td>38.2</td>\n",
       "      <td>3.7</td>\n",
       "      <td>13.8</td>\n",
       "      <td>7.6</td>\n",
       "    </tr>\n",
       "    <tr>\n",
       "      <th>196</th>\n",
       "      <td>94.2</td>\n",
       "      <td>4.9</td>\n",
       "      <td>8.1</td>\n",
       "      <td>9.7</td>\n",
       "    </tr>\n",
       "    <tr>\n",
       "      <th>197</th>\n",
       "      <td>177.0</td>\n",
       "      <td>9.3</td>\n",
       "      <td>6.4</td>\n",
       "      <td>12.8</td>\n",
       "    </tr>\n",
       "    <tr>\n",
       "      <th>198</th>\n",
       "      <td>283.6</td>\n",
       "      <td>42.0</td>\n",
       "      <td>66.2</td>\n",
       "      <td>25.5</td>\n",
       "    </tr>\n",
       "    <tr>\n",
       "      <th>199</th>\n",
       "      <td>232.1</td>\n",
       "      <td>8.6</td>\n",
       "      <td>8.7</td>\n",
       "      <td>13.4</td>\n",
       "    </tr>\n",
       "  </tbody>\n",
       "</table>\n",
       "<p>200 rows × 4 columns</p>\n",
       "</div>"
      ],
      "text/plain": [
       "        TV  Radio  Newspaper  Sales\n",
       "0    230.1   37.8       69.2   22.1\n",
       "1     44.5   39.3       45.1   10.4\n",
       "2     17.2   45.9       69.3    9.3\n",
       "3    151.5   41.3       58.5   18.5\n",
       "4    180.8   10.8       58.4   12.9\n",
       "..     ...    ...        ...    ...\n",
       "195   38.2    3.7       13.8    7.6\n",
       "196   94.2    4.9        8.1    9.7\n",
       "197  177.0    9.3        6.4   12.8\n",
       "198  283.6   42.0       66.2   25.5\n",
       "199  232.1    8.6        8.7   13.4\n",
       "\n",
       "[200 rows x 4 columns]"
      ]
     },
     "execution_count": 2,
     "metadata": {},
     "output_type": "execute_result"
    }
   ],
   "source": [
    "# Load Dataset\n",
    "data = pd.read_csv(\"data/Advertising.csv\")\n",
    "data = data.drop(columns = [\"Unnamed: 0\"])\n",
    "data"
   ]
  },
  {
   "cell_type": "code",
   "execution_count": 3,
   "metadata": {},
   "outputs": [
    {
     "data": {
      "image/png": "[encoded data removed]",
      "text/plain": [
       "<Figure size 1080x360 with 3 Axes>"
      ]
     },
     "metadata": {
      "needs_background": "light"
     },
     "output_type": "display_data"
    }
   ],
   "source": [
    "fig, ax = plt.subplots(nrows=1, ncols=3, figsize=(15, 5))\n",
    "\n",
    "ax[0].scatter(data[\"TV\"], data[\"Sales\"])\n",
    "ax[1].scatter(data[\"Radio\"], data[\"Sales\"])\n",
    "ax[2].scatter(data[\"Newspaper\"], data[\"Sales\"])\n",
    "\n",
    "ax[0].set_xlabel(\"TV\")\n",
    "ax[1].set_xlabel(\"Radio\")\n",
    "ax[2].set_xlabel(\"Newspaper\")\n",
    "\n",
    "ax[0].set_ylabel(\"sales\")\n",
    "ax[1].set_ylabel(\"sales\")\n",
    "ax[2].set_ylabel(\"sales\")\n",
    "\n",
    "plt.show()"
   ]
  },
  {
   "attachments": {},
   "cell_type": "markdown",
   "metadata": {},
   "source": [
    "---\n",
    "# **Melakukan Linear Regression dengan sklearn**"
   ]
  },
  {
   "cell_type": "code",
   "execution_count": 4,
   "metadata": {},
   "outputs": [],
   "source": [
    "# linear regression dg sklearn\n",
    "# Import library\n",
    "from sklearn.linear_model import LinearRegression"
   ]
  },
  {
   "cell_type": "code",
   "execution_count": 5,
   "metadata": {},
   "outputs": [],
   "source": [
    "# split input-output\n",
    "\n",
    "# Buat input & output\n",
    "def split_input_output(data, target_column):\n",
    "    X = data.drop(columns = target_column)\n",
    "    y = data[target_column]\n",
    "\n",
    "    return X, y\n",
    "\n",
    "X, y = split_input_output(data = data,\n",
    "                          target_column = \"Sales\")"
   ]
  },
  {
   "cell_type": "code",
   "execution_count": 6,
   "metadata": {},
   "outputs": [
    {
     "data": {
      "text/html": [
       "<div>\n",
       "<style scoped>\n",
       "    .dataframe tbody tr th:only-of-type {\n",
       "        vertical-align: middle;\n",
       "    }\n",
       "\n",
       "    .dataframe tbody tr th {\n",
       "        vertical-align: top;\n",
       "    }\n",
       "\n",
       "    .dataframe thead th {\n",
       "        text-align: right;\n",
       "    }\n",
       "</style>\n",
       "<table border=\"1\" class=\"dataframe\">\n",
       "  <thead>\n",
       "    <tr style=\"text-align: right;\">\n",
       "      <th></th>\n",
       "      <th>TV</th>\n",
       "      <th>Radio</th>\n",
       "      <th>Newspaper</th>\n",
       "    </tr>\n",
       "  </thead>\n",
       "  <tbody>\n",
       "    <tr>\n",
       "      <th>0</th>\n",
       "      <td>230.1</td>\n",
       "      <td>37.8</td>\n",
       "      <td>69.2</td>\n",
       "    </tr>\n",
       "    <tr>\n",
       "      <th>1</th>\n",
       "      <td>44.5</td>\n",
       "      <td>39.3</td>\n",
       "      <td>45.1</td>\n",
       "    </tr>\n",
       "    <tr>\n",
       "      <th>2</th>\n",
       "      <td>17.2</td>\n",
       "      <td>45.9</td>\n",
       "      <td>69.3</td>\n",
       "    </tr>\n",
       "    <tr>\n",
       "      <th>3</th>\n",
       "      <td>151.5</td>\n",
       "      <td>41.3</td>\n",
       "      <td>58.5</td>\n",
       "    </tr>\n",
       "    <tr>\n",
       "      <th>4</th>\n",
       "      <td>180.8</td>\n",
       "      <td>10.8</td>\n",
       "      <td>58.4</td>\n",
       "    </tr>\n",
       "  </tbody>\n",
       "</table>\n",
       "</div>"
      ],
      "text/plain": [
       "      TV  Radio  Newspaper\n",
       "0  230.1   37.8       69.2\n",
       "1   44.5   39.3       45.1\n",
       "2   17.2   45.9       69.3\n",
       "3  151.5   41.3       58.5\n",
       "4  180.8   10.8       58.4"
      ]
     },
     "execution_count": 6,
     "metadata": {},
     "output_type": "execute_result"
    }
   ],
   "source": [
    "X.head()"
   ]
  },
  {
   "cell_type": "code",
   "execution_count": 7,
   "metadata": {},
   "outputs": [
    {
     "data": {
      "text/plain": [
       "0    22.1\n",
       "1    10.4\n",
       "2     9.3\n",
       "3    18.5\n",
       "4    12.9\n",
       "Name: Sales, dtype: float64"
      ]
     },
     "execution_count": 7,
     "metadata": {},
     "output_type": "execute_result"
    }
   ],
   "source": [
    "y.head()"
   ]
  },
  {
   "cell_type": "code",
   "execution_count": 8,
   "metadata": {},
   "outputs": [],
   "source": [
    "# split train and test\n",
    "\n",
    "from sklearn.model_selection import train_test_split"
   ]
  },
  {
   "cell_type": "code",
   "execution_count": 9,
   "metadata": {},
   "outputs": [],
   "source": [
    "X_train, X_test, y_train, y_test = train_test_split(X,\n",
    "                                                    y,\n",
    "                                                    test_size = 0.2,\n",
    "                                                    random_state = 123)"
   ]
  },
  {
   "cell_type": "code",
   "execution_count": 10,
   "metadata": {},
   "outputs": [
    {
     "data": {
      "text/html": [
       "<div>\n",
       "<style scoped>\n",
       "    .dataframe tbody tr th:only-of-type {\n",
       "        vertical-align: middle;\n",
       "    }\n",
       "\n",
       "    .dataframe tbody tr th {\n",
       "        vertical-align: top;\n",
       "    }\n",
       "\n",
       "    .dataframe thead th {\n",
       "        text-align: right;\n",
       "    }\n",
       "</style>\n",
       "<table border=\"1\" class=\"dataframe\">\n",
       "  <thead>\n",
       "    <tr style=\"text-align: right;\">\n",
       "      <th></th>\n",
       "      <th>TV</th>\n",
       "      <th>Radio</th>\n",
       "      <th>Newspaper</th>\n",
       "    </tr>\n",
       "  </thead>\n",
       "  <tbody>\n",
       "    <tr>\n",
       "      <th>24</th>\n",
       "      <td>62.3</td>\n",
       "      <td>12.6</td>\n",
       "      <td>18.3</td>\n",
       "    </tr>\n",
       "    <tr>\n",
       "      <th>150</th>\n",
       "      <td>280.7</td>\n",
       "      <td>13.9</td>\n",
       "      <td>37.0</td>\n",
       "    </tr>\n",
       "    <tr>\n",
       "      <th>114</th>\n",
       "      <td>78.2</td>\n",
       "      <td>46.8</td>\n",
       "      <td>34.5</td>\n",
       "    </tr>\n",
       "    <tr>\n",
       "      <th>33</th>\n",
       "      <td>265.6</td>\n",
       "      <td>20.0</td>\n",
       "      <td>0.3</td>\n",
       "    </tr>\n",
       "    <tr>\n",
       "      <th>23</th>\n",
       "      <td>228.3</td>\n",
       "      <td>16.9</td>\n",
       "      <td>26.2</td>\n",
       "    </tr>\n",
       "  </tbody>\n",
       "</table>\n",
       "</div>"
      ],
      "text/plain": [
       "        TV  Radio  Newspaper\n",
       "24    62.3   12.6       18.3\n",
       "150  280.7   13.9       37.0\n",
       "114   78.2   46.8       34.5\n",
       "33   265.6   20.0        0.3\n",
       "23   228.3   16.9       26.2"
      ]
     },
     "execution_count": 10,
     "metadata": {},
     "output_type": "execute_result"
    }
   ],
   "source": [
    "X_train.head()"
   ]
  },
  {
   "cell_type": "code",
   "execution_count": 11,
   "metadata": {},
   "outputs": [
    {
     "name": "stdout",
     "output_type": "stream",
     "text": [
      "14.095000000000002\n"
     ]
    }
   ],
   "source": [
    "# buat baseline modelnya\n",
    "# baseline model regresi sama dengan rata-rata dari target\n",
    "\n",
    "baseline_pred = np.mean(y_train)\n",
    "print(baseline_pred)"
   ]
  },
  {
   "cell_type": "code",
   "execution_count": 12,
   "metadata": {},
   "outputs": [
    {
     "name": "stdout",
     "output_type": "stream",
     "text": [
      "26.088974999999998\n"
     ]
    }
   ],
   "source": [
    "from sklearn.metrics import mean_squared_error\n",
    "\n",
    "baseline_mse = mean_squared_error(y_train, \n",
    "                                  np.ones(len(y_train)) * baseline_pred)\n",
    "print(baseline_mse)\n",
    "\n",
    "# MSE (mean squared error) sama dengan RSS (Residual Sum of Square)"
   ]
  },
  {
   "cell_type": "code",
   "execution_count": 13,
   "metadata": {},
   "outputs": [],
   "source": [
    "# buat objek dan fitting\n",
    "# Buat objek\n",
    "lr = LinearRegression()"
   ]
  },
  {
   "cell_type": "code",
   "execution_count": 14,
   "metadata": {},
   "outputs": [],
   "source": [
    "# Lakukan cross validation\n",
    "from sklearn.model_selection import cross_val_score"
   ]
  },
  {
   "cell_type": "code",
   "execution_count": 15,
   "metadata": {},
   "outputs": [],
   "source": [
    "scores = cross_val_score(estimator = lr,\n",
    "                         X = X_train,\n",
    "                         y = y_train,\n",
    "                         cv = 5,\n",
    "                         scoring = \"neg_mean_squared_error\")\n",
    "\n",
    "# pengen mse nya lebih kecil, nilainya mendekati ke 0\n",
    "# untuk memaksimalkan karena keterbatasan sklearn, makanya dipake negatif\n"
   ]
  },
  {
   "cell_type": "code",
   "execution_count": 16,
   "metadata": {},
   "outputs": [
    {
     "data": {
      "text/plain": [
       "array([-1.95519805, -5.9288142 , -2.14412184, -3.06528874, -2.98933228])"
      ]
     },
     "execution_count": 16,
     "metadata": {},
     "output_type": "execute_result"
    }
   ],
   "source": [
    "scores"
   ]
  },
  {
   "cell_type": "code",
   "execution_count": 17,
   "metadata": {},
   "outputs": [
    {
     "name": "stdout",
     "output_type": "stream",
     "text": [
      "3.2165510231407253\n"
     ]
    }
   ],
   "source": [
    "lr_cv_scores = - np.mean(scores)\n",
    "print(lr_cv_scores)"
   ]
  },
  {
   "cell_type": "code",
   "execution_count": 18,
   "metadata": {},
   "outputs": [
    {
     "data": {
      "text/plain": [
       "LinearRegression()"
      ]
     },
     "execution_count": 18,
     "metadata": {},
     "output_type": "execute_result"
    }
   ],
   "source": [
    "# Lakukan Fitting Data\n",
    "lr.fit(X = X_train,\n",
    "       y = y_train)"
   ]
  },
  {
   "cell_type": "code",
   "execution_count": 19,
   "metadata": {},
   "outputs": [],
   "source": [
    "# predict and evaluate!\n",
    "\n",
    "# buat prediksi\n",
    "y_pred = lr.predict(X_train)"
   ]
  },
  {
   "cell_type": "code",
   "execution_count": 20,
   "metadata": {},
   "outputs": [
    {
     "data": {
      "text/html": [
       "<div>\n",
       "<style scoped>\n",
       "    .dataframe tbody tr th:only-of-type {\n",
       "        vertical-align: middle;\n",
       "    }\n",
       "\n",
       "    .dataframe tbody tr th {\n",
       "        vertical-align: top;\n",
       "    }\n",
       "\n",
       "    .dataframe thead th {\n",
       "        text-align: right;\n",
       "    }\n",
       "</style>\n",
       "<table border=\"1\" class=\"dataframe\">\n",
       "  <thead>\n",
       "    <tr style=\"text-align: right;\">\n",
       "      <th></th>\n",
       "      <th>actual</th>\n",
       "      <th>prediction</th>\n",
       "    </tr>\n",
       "  </thead>\n",
       "  <tbody>\n",
       "    <tr>\n",
       "      <th>24</th>\n",
       "      <td>9.7</td>\n",
       "      <td>8.103212</td>\n",
       "    </tr>\n",
       "    <tr>\n",
       "      <th>150</th>\n",
       "      <td>16.1</td>\n",
       "      <td>18.290549</td>\n",
       "    </tr>\n",
       "    <tr>\n",
       "      <th>114</th>\n",
       "      <td>14.6</td>\n",
       "      <td>15.197324</td>\n",
       "    </tr>\n",
       "    <tr>\n",
       "      <th>33</th>\n",
       "      <td>17.4</td>\n",
       "      <td>18.763145</td>\n",
       "    </tr>\n",
       "    <tr>\n",
       "      <th>23</th>\n",
       "      <td>15.5</td>\n",
       "      <td>16.468096</td>\n",
       "    </tr>\n",
       "  </tbody>\n",
       "</table>\n",
       "</div>"
      ],
      "text/plain": [
       "     actual  prediction\n",
       "24      9.7    8.103212\n",
       "150    16.1   18.290549\n",
       "114    14.6   15.197324\n",
       "33     17.4   18.763145\n",
       "23     15.5   16.468096"
      ]
     },
     "execution_count": 20,
     "metadata": {},
     "output_type": "execute_result"
    }
   ],
   "source": [
    "summary_train_pred = pd.DataFrame({\"actual\": y_train,\n",
    "                                   \"prediction\": y_pred})\n",
    "\n",
    "summary_train_pred.head()"
   ]
  },
  {
   "cell_type": "code",
   "execution_count": 21,
   "metadata": {},
   "outputs": [
    {
     "data": {
      "image/png": "[encoded data removed]",
      "text/plain": [
       "<Figure size 720x720 with 1 Axes>"
      ]
     },
     "metadata": {
      "needs_background": "light"
     },
     "output_type": "display_data"
    }
   ],
   "source": [
    "# Plot hasil\n",
    "fig, ax = plt.subplots(nrows=1, ncols=1, figsize=(10, 10))\n",
    "\n",
    "ax.scatter(summary_train_pred[\"actual\"], summary_train_pred[\"prediction\"])\n",
    "ax.plot([0, 30], [0, 30], \"--k\")\n",
    "\n",
    "ax.set_xlabel(\"Actual\")\n",
    "ax.set_ylabel(\"Prediction\")\n",
    "ax.set_xlim(0, 30)\n",
    "ax.set_ylim(0, 30)\n",
    "plt.show()"
   ]
  },
  {
   "cell_type": "code",
   "execution_count": 22,
   "metadata": {},
   "outputs": [
    {
     "name": "stdout",
     "output_type": "stream",
     "text": [
      "2.937624677304987\n"
     ]
    }
   ],
   "source": [
    "# Cari MSE\n",
    "prediction_train_mse = mean_squared_error(y_pred, y_train)\n",
    "print(prediction_train_mse)"
   ]
  },
  {
   "cell_type": "code",
   "execution_count": 23,
   "metadata": {},
   "outputs": [
    {
     "name": "stdout",
     "output_type": "stream",
     "text": [
      "MSE turun 88.74 %\n"
     ]
    }
   ],
   "source": [
    "# Cari perbandingan dengan baseline\n",
    "comparison_mse = 100*(baseline_mse - prediction_train_mse) / baseline_mse\n",
    "print(f\"MSE turun {comparison_mse:.2f} %\")"
   ]
  },
  {
   "cell_type": "code",
   "execution_count": 24,
   "metadata": {},
   "outputs": [],
   "source": [
    "# pada data test\n",
    "\n",
    "# Buat prediksi\n",
    "y_test_pred = lr.predict(X_test)\n"
   ]
  },
  {
   "cell_type": "code",
   "execution_count": 25,
   "metadata": {},
   "outputs": [
    {
     "data": {
      "text/html": [
       "<div>\n",
       "<style scoped>\n",
       "    .dataframe tbody tr th:only-of-type {\n",
       "        vertical-align: middle;\n",
       "    }\n",
       "\n",
       "    .dataframe tbody tr th {\n",
       "        vertical-align: top;\n",
       "    }\n",
       "\n",
       "    .dataframe thead th {\n",
       "        text-align: right;\n",
       "    }\n",
       "</style>\n",
       "<table border=\"1\" class=\"dataframe\">\n",
       "  <thead>\n",
       "    <tr style=\"text-align: right;\">\n",
       "      <th></th>\n",
       "      <th>actual</th>\n",
       "      <th>prediction</th>\n",
       "    </tr>\n",
       "  </thead>\n",
       "  <tbody>\n",
       "    <tr>\n",
       "      <th>50</th>\n",
       "      <td>11.4</td>\n",
       "      <td>12.589349</td>\n",
       "    </tr>\n",
       "    <tr>\n",
       "      <th>127</th>\n",
       "      <td>8.8</td>\n",
       "      <td>6.574663</td>\n",
       "    </tr>\n",
       "    <tr>\n",
       "      <th>37</th>\n",
       "      <td>14.7</td>\n",
       "      <td>15.515691</td>\n",
       "    </tr>\n",
       "    <tr>\n",
       "      <th>149</th>\n",
       "      <td>10.1</td>\n",
       "      <td>9.761643</td>\n",
       "    </tr>\n",
       "    <tr>\n",
       "      <th>19</th>\n",
       "      <td>14.6</td>\n",
       "      <td>14.085603</td>\n",
       "    </tr>\n",
       "  </tbody>\n",
       "</table>\n",
       "</div>"
      ],
      "text/plain": [
       "     actual  prediction\n",
       "50     11.4   12.589349\n",
       "127     8.8    6.574663\n",
       "37     14.7   15.515691\n",
       "149    10.1    9.761643\n",
       "19     14.6   14.085603"
      ]
     },
     "execution_count": 25,
     "metadata": {},
     "output_type": "execute_result"
    }
   ],
   "source": [
    "summary_test_pred = pd.DataFrame({\"actual\": y_test,\n",
    "                                  \"prediction\": y_test_pred})\n",
    "\n",
    "summary_test_pred.head()"
   ]
  },
  {
   "cell_type": "code",
   "execution_count": 26,
   "metadata": {},
   "outputs": [
    {
     "data": {
      "image/png": "[encoded data removed]",
      "text/plain": [
       "<Figure size 720x720 with 1 Axes>"
      ]
     },
     "metadata": {
      "needs_background": "light"
     },
     "output_type": "display_data"
    }
   ],
   "source": [
    "# Plot hasil\n",
    "fig, ax = plt.subplots(nrows=1, ncols=1, figsize=(10, 10))\n",
    "\n",
    "ax.scatter(summary_test_pred[\"actual\"], summary_test_pred[\"prediction\"])\n",
    "ax.plot([0, 30], [0, 30], \"--k\")\n",
    "\n",
    "ax.set_xlabel(\"Actual\")\n",
    "ax.set_ylabel(\"Prediction\")\n",
    "ax.set_xlim(0, 30)\n",
    "ax.set_ylim(0, 30)\n",
    "plt.show()"
   ]
  },
  {
   "cell_type": "code",
   "execution_count": 27,
   "metadata": {},
   "outputs": [
    {
     "name": "stdout",
     "output_type": "stream",
     "text": [
      "2.2030129791028488\n"
     ]
    }
   ],
   "source": [
    "# Cari MSE\n",
    "prediction_test_mse = mean_squared_error(y_test_pred, y_test)\n",
    "print(prediction_test_mse)"
   ]
  },
  {
   "cell_type": "code",
   "execution_count": 28,
   "metadata": {},
   "outputs": [
    {
     "name": "stdout",
     "output_type": "stream",
     "text": [
      "MSE turun 91.56 %\n"
     ]
    }
   ],
   "source": [
    "# Cari perbandingan dengan baseline\n",
    "comparison_mse = 100*(baseline_mse - prediction_test_mse) / baseline_mse\n",
    "print(f\"MSE turun {comparison_mse:.2f} %\")"
   ]
  },
  {
   "cell_type": "code",
   "execution_count": 29,
   "metadata": {},
   "outputs": [
    {
     "data": {
      "text/plain": [
       "array([ 0.04558897,  0.18653389, -0.00063032])"
      ]
     },
     "execution_count": 29,
     "metadata": {},
     "output_type": "execute_result"
    }
   ],
   "source": [
    "# Koefisien/slope linear regression\n",
    "lr.coef_"
   ]
  },
  {
   "cell_type": "code",
   "execution_count": 30,
   "metadata": {},
   "outputs": [
    {
     "data": {
      "text/plain": [
       "2.924226787250131"
      ]
     },
     "execution_count": 30,
     "metadata": {},
     "output_type": "execute_result"
    }
   ],
   "source": [
    "# Intercept linear regression\n",
    "lr.intercept_"
   ]
  },
  {
   "attachments": {},
   "cell_type": "markdown",
   "metadata": {},
   "source": [
    "Persamaan Final\n",
    "\n",
    "$$\n",
    "\\text{sales} = 0.046 \\cdot \\text{TV} + 0.189 \\cdot \\text{Radio} - 0.001 \\cdot \\text{Newspaper} + 2.939\n",
    "$$\n",
    "\n",
    "- Akan dapat kenaikan sales kalau tidak melakukan apa-apa (intercept > 0)\n",
    "- Ads lewat Radio menyumbang kontribusi besar terhadap sales dibandingkan TV & Newspaper\n",
    "- Ads lewat Newspaper hampir tidak berpengaruh pada Sales"
   ]
  },
  {
   "attachments": {},
   "cell_type": "markdown",
   "metadata": {},
   "source": [
    "---\n",
    "# **Melakukan Linear Regression Dari Scratch**\n",
    "\n",
    "Kita ingin membuat persamaan linear sebagai berikut\n",
    "\n",
    "$$\n",
    "\\text{sales} = \\beta_{1} \\cdot \\text{TV} + \\beta_{2} \\cdot \\text{Radio} + \\beta_{3} \\cdot \\text{Newspaper} + \\beta_{0} + e\n",
    "$$\n",
    "\n",
    "Karena kita memiliki data-nya, maka kita buat saja semua persamaan berdasarkan data."
   ]
  },
  {
   "cell_type": "code",
   "execution_count": 31,
   "metadata": {},
   "outputs": [
    {
     "data": {
      "text/html": [
       "<div>\n",
       "<style scoped>\n",
       "    .dataframe tbody tr th:only-of-type {\n",
       "        vertical-align: middle;\n",
       "    }\n",
       "\n",
       "    .dataframe tbody tr th {\n",
       "        vertical-align: top;\n",
       "    }\n",
       "\n",
       "    .dataframe thead th {\n",
       "        text-align: right;\n",
       "    }\n",
       "</style>\n",
       "<table border=\"1\" class=\"dataframe\">\n",
       "  <thead>\n",
       "    <tr style=\"text-align: right;\">\n",
       "      <th></th>\n",
       "      <th>TV</th>\n",
       "      <th>Radio</th>\n",
       "      <th>Newspaper</th>\n",
       "      <th>Sales</th>\n",
       "    </tr>\n",
       "  </thead>\n",
       "  <tbody>\n",
       "    <tr>\n",
       "      <th>0</th>\n",
       "      <td>230.1</td>\n",
       "      <td>37.8</td>\n",
       "      <td>69.2</td>\n",
       "      <td>22.1</td>\n",
       "    </tr>\n",
       "    <tr>\n",
       "      <th>1</th>\n",
       "      <td>44.5</td>\n",
       "      <td>39.3</td>\n",
       "      <td>45.1</td>\n",
       "      <td>10.4</td>\n",
       "    </tr>\n",
       "    <tr>\n",
       "      <th>2</th>\n",
       "      <td>17.2</td>\n",
       "      <td>45.9</td>\n",
       "      <td>69.3</td>\n",
       "      <td>9.3</td>\n",
       "    </tr>\n",
       "    <tr>\n",
       "      <th>3</th>\n",
       "      <td>151.5</td>\n",
       "      <td>41.3</td>\n",
       "      <td>58.5</td>\n",
       "      <td>18.5</td>\n",
       "    </tr>\n",
       "    <tr>\n",
       "      <th>4</th>\n",
       "      <td>180.8</td>\n",
       "      <td>10.8</td>\n",
       "      <td>58.4</td>\n",
       "      <td>12.9</td>\n",
       "    </tr>\n",
       "  </tbody>\n",
       "</table>\n",
       "</div>"
      ],
      "text/plain": [
       "      TV  Radio  Newspaper  Sales\n",
       "0  230.1   37.8       69.2   22.1\n",
       "1   44.5   39.3       45.1   10.4\n",
       "2   17.2   45.9       69.3    9.3\n",
       "3  151.5   41.3       58.5   18.5\n",
       "4  180.8   10.8       58.4   12.9"
      ]
     },
     "execution_count": 31,
     "metadata": {},
     "output_type": "execute_result"
    }
   ],
   "source": [
    "data.head()"
   ]
  },
  {
   "attachments": {},
   "cell_type": "markdown",
   "metadata": {},
   "source": [
    "\n",
    "Contoh 3 persamaan pertama\n",
    "​\n",
    "$$\n",
    "\\begin{align*}\n",
    "22.1 &= \\beta_{1} \\cdot 230.1 + \\beta_{2} \\cdot 37.8 + \\beta_{3} \\cdot 69.2 + \\beta_{0} + e_{1}\\\\ \n",
    "10.4 &= \\beta_{1} \\cdot 44.5 + \\beta_{2} \\cdot 45.9 + \\beta_{3} \\cdot 45.1 + \\beta_{0} + e_{2} \\\\\n",
    "9.3 &= \\beta_{1} \\cdot 17.2 + \\beta_{2} \\cdot 41.3 + \\beta_{3} \\cdot 69.3 + \\beta_{0} + e_{3} \\\\\n",
    "&\\vdots\n",
    "\\end{align*}\n",
    "$$\n",
    "Persamaan di atas, dapat diubah menjadi perkalian Matrix & Vektor\n",
    "​\n",
    "$$\n",
    "\\begin{bmatrix}\n",
    "22.1\\\\ \n",
    "10.4\\\\ \n",
    "9.3\\\\\n",
    "\\vdots\n",
    "\\end{bmatrix} = \n",
    "\\begin{bmatrix}\n",
    "230.1 & 37.8 & 69.2 & 1\\\\ \n",
    "44.5 & 45.9 & 45.1 & 1\\\\ \n",
    "17.2 & 41.3 & 69.3 & 1\\\\\n",
    "\\vdots & \\vdots & \\vdots & \\vdots\n",
    "\\end{bmatrix}\n",
    "\\cdot\n",
    "\\begin{bmatrix}\n",
    "\\beta_{1}\\\\ \n",
    "\\beta_{2}\\\\ \n",
    "\\beta_{3}\\\\\n",
    "\\beta_{0}\n",
    "\\end{bmatrix}\n",
    "+\n",
    "\\begin{bmatrix}\n",
    "e_{1}\\\\ \n",
    "e_{2}\\\\ \n",
    "e_{3}\\\\\n",
    "\\vdots\n",
    "\\end{bmatrix}\n",
    "$$\n",
    "​\n",
    "Lebih umum sebagai berikut\n",
    "​\n",
    "$$\n",
    "\\begin{bmatrix}\n",
    "\\vdots\\\\\n",
    "y\\\\\n",
    "\\vdots\n",
    "\\end{bmatrix} = \n",
    "\\begin{bmatrix}\n",
    "\\vdots & \\vdots & \\vdots & \\vdots \\\\\n",
    "\\text{TV} & \\text{Radio} & \\text{Advertising} & 1\\\\\n",
    "\\vdots & \\vdots & \\vdots & \\vdots\n",
    "\\end{bmatrix}\n",
    "\\cdot\n",
    "\\begin{bmatrix}\n",
    "\\beta_{1}\\\\ \n",
    "\\beta_{2}\\\\ \n",
    "\\beta_{3}\\\\\n",
    "\\beta_{0}\n",
    "\\end{bmatrix}\n",
    "+\n",
    "\\begin{bmatrix}\n",
    "\\vdots\\\\ \n",
    "e\\\\\n",
    "\\vdots\n",
    "\\end{bmatrix}\n",
    "$$\n",
    "​\n",
    "Bisa kita notasikan dalam variable\n",
    "$$\n",
    "y = X \\cdot \\theta + e\n",
    "$$\n",
    "Untuk menyelesaikan ini, kita membuat MSE\n",
    "$$\n",
    "\\begin{align*}\n",
    "\\text{MSE} &= \\cfrac{1}{n} \\sum_{i=1}^{n} e_{i}^2\\\\\n",
    "\\text{MSE} &= \\cfrac{1}{n} (y-X\\cdot\\theta)^{2}\n",
    "\\end{align*}\n",
    "$$\n",
    "- Yang ingin dicari adalah parameter model, $\\theta = \\{\\beta_{0}, \\cdots, \\beta_{3}\\}$ agar MSE minimum.\n",
    "- Kita bisa pakai turunan\n",
    "$$\n",
    "\\begin{align*}\n",
    "\\cfrac{\\partial \\text{MSE}}{\\partial \\theta} &= 0 \\\\\n",
    "0 &= \\cfrac{\\partial}{\\partial \\theta} \\cfrac{1}{n} (y-X\\cdot\\theta)^{2} \\\\\n",
    "&= \\cfrac{2}{n} (-X^{T}) (y - X \\cdot \\theta) \\\\\n",
    "&= X^{T}y - (X^{T}X)\\theta \\\\\n",
    "\\theta_{\\text{optimum}} &= (X^{T}X)^{-1} X^{T} y\n",
    "\\end{align*}\n",
    "$$\n",
    "- Disebut juga dengan solusi OLS\n",
    "- Yuk kita buat\n"
   ]
  },
  {
   "cell_type": "code",
   "execution_count": 32,
   "metadata": {},
   "outputs": [
    {
     "data": {
      "text/plain": [
       "array([[ 62.3,  12.6,  18.3,   1. ],\n",
       "       [280.7,  13.9,  37. ,   1. ],\n",
       "       [ 78.2,  46.8,  34.5,   1. ],\n",
       "       [265.6,  20. ,   0.3,   1. ],\n",
       "       [228.3,  16.9,  26.2,   1. ],\n",
       "       [164.5,  20.9,  47.4,   1. ],\n",
       "       [177. ,  33.4,  38.7,   1. ],\n",
       "       [222.4,   4.3,  49.8,   1. ],\n",
       "       [197.6,  23.3,  14.2,   1. ],\n",
       "       [109.8,  14.3,  31.7,   1. ],\n",
       "       [139.5,   2.1,  26.6,   1. ],\n",
       "       [225.8,   8.2,  56.5,   1. ],\n",
       "       [293.6,  27.7,   1.8,   1. ],\n",
       "       [141.3,  26.8,  46.2,   1. ],\n",
       "       [ 75.5,  10.8,   6. ,   1. ],\n",
       "       [ 85.7,  35.8,  49.3,   1. ],\n",
       "       [ 66.1,   5.8,  24.2,   1. ],\n",
       "       [276.9,  48.9,  41.8,   1. ],\n",
       "       [120.5,  28.5,  14.2,   1. ],\n",
       "       [239.3,  15.5,  27.3,   1. ],\n",
       "       [239.8,   4.1,  36.9,   1. ],\n",
       "       [ 90.4,   0.3,  23.2,   1. ],\n",
       "       [175.7,  15.4,   2.4,   1. ],\n",
       "       [140.3,   1.9,   9. ,   1. ],\n",
       "       [  8.6,   2.1,   1. ,   1. ],\n",
       "       [121. ,   8.4,  48.7,   1. ],\n",
       "       [187.8,  21.1,   9.5,   1. ],\n",
       "       [134.3,   4.9,   9.3,   1. ],\n",
       "       [266.9,  43.8,   5. ,   1. ],\n",
       "       [102.7,  29.6,   8.4,   1. ],\n",
       "       [248.8,  27.1,  22.9,   1. ],\n",
       "       [ 97.5,   7.6,   7.2,   1. ],\n",
       "       [131.7,  18.4,  34.6,   1. ],\n",
       "       [ 76.4,  26.7,  22.3,   1. ],\n",
       "       [ 93.9,  43.5,  50.5,   1. ],\n",
       "       [ 25.1,  25.7,  43.3,   1. ],\n",
       "       [ 17.2,   4.1,  31.6,   1. ],\n",
       "       [149.8,   1.3,  24.3,   1. ],\n",
       "       [  0.7,  39.6,   8.7,   1. ],\n",
       "       [ 53.5,   2. ,  21.4,   1. ],\n",
       "       [120.2,  19.6,  11.6,   1. ],\n",
       "       [292.9,  28.3,  43.2,   1. ],\n",
       "       [170.2,   7.8,  35.2,   1. ],\n",
       "       [  8.4,  27.2,   2.1,   1. ],\n",
       "       [ 70.6,  16. ,  40.8,   1. ],\n",
       "       [290.7,   4.1,   8.5,   1. ],\n",
       "       [230.1,  37.8,  69.2,   1. ],\n",
       "       [286. ,  13.9,   3.7,   1. ],\n",
       "       [175.1,  22.5,  31.5,   1. ],\n",
       "       [273.7,  28.9,  59.7,   1. ],\n",
       "       [202.5,  22.3,  31.6,   1. ],\n",
       "       [210.7,  29.5,   9.3,   1. ],\n",
       "       [243.2,  49. ,  44.3,   1. ],\n",
       "       [ 89.7,   9.9,  35.7,   1. ],\n",
       "       [ 87.2,  11.8,  25.9,   1. ],\n",
       "       [  8.7,  48.9,  75. ,   1. ],\n",
       "       [ 67.8,  36.6, 114. ,   1. ],\n",
       "       [284.3,  10.6,   6.4,   1. ],\n",
       "       [ 69. ,   9.3,   0.9,   1. ],\n",
       "       [213.4,  24.6,  13.1,   1. ],\n",
       "       [261.3,  42.7,  54.7,   1. ],\n",
       "       [ 38.2,   3.7,  13.8,   1. ],\n",
       "       [ 43.1,  26.7,  35.1,   1. ],\n",
       "       [240.1,  16.7,  22.9,   1. ],\n",
       "       [262.7,  28.8,  15.9,   1. ],\n",
       "       [104.6,   5.7,  34.4,   1. ],\n",
       "       [ 38. ,  40.3,  11.9,   1. ],\n",
       "       [218.5,   5.4,  27.4,   1. ],\n",
       "       [163.5,  36.8,   7.4,   1. ],\n",
       "       [220.5,  33.2,  37.9,   1. ],\n",
       "       [110.7,  40.6,  63.2,   1. ],\n",
       "       [199.8,   2.6,  21.2,   1. ],\n",
       "       [ 57.5,  32.8,  23.5,   1. ],\n",
       "       [172.5,  18.1,  30.7,   1. ],\n",
       "       [139.2,  14.3,  25.6,   1. ],\n",
       "       [224. ,   2.4,  15.6,   1. ],\n",
       "       [234.5,   3.4,  84.8,   1. ],\n",
       "       [ 94.2,   4.9,   8.1,   1. ],\n",
       "       [206.8,   5.2,  19.4,   1. ],\n",
       "       [193.7,  35.4,  75.6,   1. ],\n",
       "       [109.8,  47.8,  51.4,   1. ],\n",
       "       [237.4,   5.1,  23.5,   1. ],\n",
       "       [214.7,  24. ,   4. ,   1. ],\n",
       "       [139.3,  14.5,  10.2,   1. ],\n",
       "       [151.5,  41.3,  58.5,   1. ],\n",
       "       [ 76.3,  27.5,  16. ,   1. ],\n",
       "       [215.4,  23.6,  57.6,   1. ],\n",
       "       [ 28.6,   1.5,  33. ,   1. ],\n",
       "       [ 25.6,  39. ,   9.3,   1. ],\n",
       "       [227.2,  15.8,  49.9,   1. ],\n",
       "       [ 76.4,   0.8,  14.8,   1. ],\n",
       "       [100.4,   9.6,   3.6,   1. ],\n",
       "       [ 44.5,  39.3,  45.1,   1. ],\n",
       "       [ 69.2,  20.5,  18.3,   1. ],\n",
       "       [ 23.8,  35.1,  65.9,   1. ],\n",
       "       [248.4,  30.2,  20.3,   1. ],\n",
       "       [  7.3,  28.1,  41.4,   1. ],\n",
       "       [262.9,   3.5,  19.5,   1. ],\n",
       "       [296.4,  36.3, 100.9,   1. ],\n",
       "       [206.9,   8.4,  26.4,   1. ],\n",
       "       [ 59.6,  12. ,  43.1,   1. ],\n",
       "       [187.9,  17.2,  17.9,   1. ],\n",
       "       [204.1,  32.9,  46. ,   1. ],\n",
       "       [ 36.9,  38.6,  65.6,   1. ],\n",
       "       [ 75.1,  35. ,  52.7,   1. ],\n",
       "       [232.1,   8.6,   8.7,   1. ],\n",
       "       [199.1,  30.6,  38.7,   1. ],\n",
       "       [195.4,  47.7,  52.9,   1. ],\n",
       "       [240.1,   7.3,   8.7,   1. ],\n",
       "       [ 13.2,  15.9,  49.6,   1. ],\n",
       "       [ 43. ,  25.9,  20.5,   1. ],\n",
       "       [210.8,  49.6,  37.7,   1. ],\n",
       "       [ 16.9,  43.7,  89.4,   1. ],\n",
       "       [131.1,  42.8,  28.9,   1. ],\n",
       "       [216.8,  43.9,  27.2,   1. ],\n",
       "       [166.8,  42. ,   3.6,   1. ],\n",
       "       [265.2,   2.9,  43. ,   1. ],\n",
       "       [ 27.5,   1.6,  20.7,   1. ],\n",
       "       [ 95.7,   1.4,   7.4,   1. ],\n",
       "       [  4.1,  11.6,   5.7,   1. ],\n",
       "       [107.4,  14. ,  10.9,   1. ],\n",
       "       [125.7,  36.9,  79.2,   1. ],\n",
       "       [184.9,  21. ,  22. ,   1. ],\n",
       "       [280.2,  10.1,  21.4,   1. ],\n",
       "       [217.7,  33.5,  59. ,   1. ],\n",
       "       [229.5,  32.3,  74.2,   1. ],\n",
       "       [135.2,  41.7,  45.9,   1. ],\n",
       "       [137.9,  46.4,  59. ,   1. ],\n",
       "       [ 48.3,  47. ,   8.5,   1. ],\n",
       "       [191.1,  28.7,  18.2,   1. ],\n",
       "       [168.4,   7.1,  12.8,   1. ],\n",
       "       [177. ,   9.3,   6.4,   1. ],\n",
       "       [228. ,  37.7,  32. ,   1. ],\n",
       "       [213.5,  43. ,  33.8,   1. ],\n",
       "       [ 17.2,  45.9,  69.3,   1. ],\n",
       "       [198.9,  49.4,  60. ,   1. ],\n",
       "       [ 66.9,  11.7,  36.8,   1. ],\n",
       "       [237.4,  27.5,  11. ,   1. ],\n",
       "       [ 39.5,  41.1,   5.8,   1. ],\n",
       "       [117.2,  14.7,   5.4,   1. ],\n",
       "       [  5.4,  29.9,   9.4,   1. ],\n",
       "       [149.7,  35.6,   6. ,   1. ],\n",
       "       [171.3,  39.7,  37.7,   1. ],\n",
       "       [241.7,  38. ,  23.2,   1. ],\n",
       "       [222.4,   3.4,  13.1,   1. ],\n",
       "       [ 97.2,   1.5,  30. ,   1. ],\n",
       "       [129.4,   5.7,  31.3,   1. ],\n",
       "       [239.9,  41.5,  18.5,   1. ],\n",
       "       [283.6,  42. ,  66.2,   1. ],\n",
       "       [209.6,  20.6,  10.7,   1. ],\n",
       "       [197.6,   3.5,   5.9,   1. ],\n",
       "       [136.2,  19.2,  16.6,   1. ],\n",
       "       [123.1,  34.6,  12.4,   1. ],\n",
       "       [ 25. ,  11. ,  29.7,   1. ],\n",
       "       [ 68.4,  44.5,  35.6,   1. ],\n",
       "       [281.4,  39.6,  55.8,   1. ],\n",
       "       [289.7,  42.3,  51.2,   1. ],\n",
       "       [ 31.5,  24.6,   2.2,   1. ],\n",
       "       [  7.8,  38.9,  50.6,   1. ],\n",
       "       [255.4,  26.9,   5.5,   1. ]])"
      ]
     },
     "execution_count": 32,
     "metadata": {},
     "output_type": "execute_result"
    }
   ],
   "source": [
    "# Buat matriks X_ols\n",
    "X_ols = np.column_stack([X_train, np.ones(len(X_train))])\n",
    "X_ols"
   ]
  },
  {
   "cell_type": "code",
   "execution_count": 33,
   "metadata": {},
   "outputs": [
    {
     "data": {
      "text/plain": [
       "array([ 9.7, 16.1, 14.6, 17.4, 15.5, 14.5, 17.1, 11.7, 16.6, 12.4, 10.3,\n",
       "       13.4, 20.7, 15.5,  9.9, 13.3,  8.6, 27. , 14.2, 15.7, 12.3,  8.7,\n",
       "       14.1, 10.3,  4.8, 11.6, 15.6, 11.2, 25.4, 14. , 18.9,  9.7, 12.9,\n",
       "       11.8, 15.3,  8.5,  5.9, 10.1,  1.6,  8.1, 13.2, 21.4, 11.7,  5.7,\n",
       "       10.5, 12.8, 22.1, 15.9, 14.9, 20.8, 16.6, 18.4, 25.4, 10.6, 10.6,\n",
       "        7.2, 12.5, 15. ,  9.3, 17. , 24.2,  7.6, 10.1, 15.9, 20.2, 10.4,\n",
       "       10.9, 12.2, 18. , 20.1, 16. , 10.6, 11.8, 14.4, 12.2, 11.6, 11.9,\n",
       "        9.7, 12.2, 19.2, 16.7, 12.5, 17.4, 13.4, 18.5, 12. , 17.1,  7.3,\n",
       "        9.5, 14.8,  9.4, 10.7, 10.4, 11.3,  9.2, 20.2,  5.5, 12. , 23.8,\n",
       "       12.9,  9.7, 14.7, 19. , 10.8, 12.6, 13.4, 18.3, 22.4, 13.2,  5.6,\n",
       "        9.6, 23.8,  8.7, 18. , 22.3, 19.6, 12.7,  6.9,  9.5,  3.2, 11.5,\n",
       "       15.9, 15.5, 14.8, 19.4, 19.7, 17.2, 19.2, 11.6, 17.3, 11.7, 12.8,\n",
       "       21.5, 21.7,  9.3, 23.7,  9.7, 18.9, 10.8, 11.9,  5.3, 17.3, 19. ,\n",
       "       21.8, 11.5,  9.6, 11. , 23.2, 25.5, 15.9, 11.7, 13.2, 15.2,  7.2,\n",
       "       13.6, 24.4, 25.4,  9.5,  6.6, 19.8])"
      ]
     },
     "execution_count": 33,
     "metadata": {},
     "output_type": "execute_result"
    }
   ],
   "source": [
    "# Buat vektor y_ols\n",
    "y_ols = np.array(y_train)\n",
    "y_ols"
   ]
  },
  {
   "attachments": {},
   "cell_type": "markdown",
   "metadata": {},
   "source": [
    "Selesaikan OLS\n",
    "\n",
    "$$\n",
    "\\theta_{\\text{optimum}} = (X^{T}X)^{-1} X^{T} y\n",
    "$$"
   ]
  },
  {
   "cell_type": "code",
   "execution_count": 34,
   "metadata": {},
   "outputs": [
    {
     "data": {
      "text/plain": [
       "array([ 4.55889680e-02,  1.86533886e-01, -6.30319159e-04,  2.92422679e+00])"
      ]
     },
     "execution_count": 34,
     "metadata": {},
     "output_type": "execute_result"
    }
   ],
   "source": [
    "theta_ols = np.linalg.inv(X_ols.T @ X_ols) @ X_ols.T @ y_ols\n",
    "\n",
    "theta_ols"
   ]
  },
  {
   "cell_type": "code",
   "execution_count": 35,
   "metadata": {},
   "outputs": [],
   "source": [
    "# Predict & Evaluate\n",
    "\n",
    "# Untuk memprediksi, menggunakan persamaan akhirnya\n",
    "\n",
    "def lr_ols(X):\n",
    "    y = np.column_stack([X, np.ones(len(X))]) @ theta_ols\n",
    "\n",
    "    return y"
   ]
  },
  {
   "cell_type": "code",
   "execution_count": 36,
   "metadata": {},
   "outputs": [],
   "source": [
    "# Buat prediksi\n",
    "y_train_pred_ols = lr_ols(X = X_train)"
   ]
  },
  {
   "cell_type": "code",
   "execution_count": 37,
   "metadata": {},
   "outputs": [
    {
     "data": {
      "text/html": [
       "<div>\n",
       "<style scoped>\n",
       "    .dataframe tbody tr th:only-of-type {\n",
       "        vertical-align: middle;\n",
       "    }\n",
       "\n",
       "    .dataframe tbody tr th {\n",
       "        vertical-align: top;\n",
       "    }\n",
       "\n",
       "    .dataframe thead th {\n",
       "        text-align: right;\n",
       "    }\n",
       "</style>\n",
       "<table border=\"1\" class=\"dataframe\">\n",
       "  <thead>\n",
       "    <tr style=\"text-align: right;\">\n",
       "      <th></th>\n",
       "      <th>actual</th>\n",
       "      <th>prediction</th>\n",
       "    </tr>\n",
       "  </thead>\n",
       "  <tbody>\n",
       "    <tr>\n",
       "      <th>24</th>\n",
       "      <td>9.7</td>\n",
       "      <td>8.103212</td>\n",
       "    </tr>\n",
       "    <tr>\n",
       "      <th>150</th>\n",
       "      <td>16.1</td>\n",
       "      <td>18.290549</td>\n",
       "    </tr>\n",
       "    <tr>\n",
       "      <th>114</th>\n",
       "      <td>14.6</td>\n",
       "      <td>15.197324</td>\n",
       "    </tr>\n",
       "    <tr>\n",
       "      <th>33</th>\n",
       "      <td>17.4</td>\n",
       "      <td>18.763145</td>\n",
       "    </tr>\n",
       "    <tr>\n",
       "      <th>23</th>\n",
       "      <td>15.5</td>\n",
       "      <td>16.468096</td>\n",
       "    </tr>\n",
       "  </tbody>\n",
       "</table>\n",
       "</div>"
      ],
      "text/plain": [
       "     actual  prediction\n",
       "24      9.7    8.103212\n",
       "150    16.1   18.290549\n",
       "114    14.6   15.197324\n",
       "33     17.4   18.763145\n",
       "23     15.5   16.468096"
      ]
     },
     "execution_count": 37,
     "metadata": {},
     "output_type": "execute_result"
    }
   ],
   "source": [
    "summary_train_ols_pred = pd.DataFrame({\"actual\": y_train,\n",
    "                                       \"prediction\": y_train_pred_ols})\n",
    "\n",
    "summary_train_ols_pred.head()"
   ]
  },
  {
   "cell_type": "code",
   "execution_count": 38,
   "metadata": {},
   "outputs": [
    {
     "data": {
      "image/png": "[encoded data removed]",
      "text/plain": [
       "<Figure size 720x360 with 2 Axes>"
      ]
     },
     "metadata": {
      "needs_background": "light"
     },
     "output_type": "display_data"
    }
   ],
   "source": [
    "# Plot hasil\n",
    "fig, ax = plt.subplots(nrows=1, ncols=2, figsize=(10, 5))\n",
    "\n",
    "ax[0].scatter(summary_train_pred[\"actual\"], summary_train_pred[\"prediction\"])\n",
    "ax[0].plot([0, 30], [0, 30], \"--k\")\n",
    "\n",
    "ax[0].set_xlabel(\"Actual\")\n",
    "ax[0].set_ylabel(\"Prediction\")\n",
    "ax[0].set_xlim(0, 30)\n",
    "ax[0].set_ylim(0, 30)\n",
    "\n",
    "ax[1].scatter(summary_train_ols_pred[\"actual\"], summary_train_ols_pred[\"prediction\"])\n",
    "ax[1].plot([0, 30], [0, 30], \"--k\")\n",
    "\n",
    "ax[1].set_xlabel(\"Actual\")\n",
    "ax[1].set_ylabel(\"Prediction\")\n",
    "ax[1].set_xlim(0, 30)\n",
    "ax[1].set_ylim(0, 30)\n",
    "\n",
    "plt.show()"
   ]
  },
  {
   "cell_type": "code",
   "execution_count": 39,
   "metadata": {},
   "outputs": [
    {
     "name": "stdout",
     "output_type": "stream",
     "text": [
      "2.937624677304987\n"
     ]
    }
   ],
   "source": [
    "# Cari MSE\n",
    "prediction_train_ols_mse = mean_squared_error(y_train_pred_ols, y_train)\n",
    "print(prediction_train_ols_mse)"
   ]
  },
  {
   "cell_type": "code",
   "execution_count": 40,
   "metadata": {},
   "outputs": [
    {
     "name": "stdout",
     "output_type": "stream",
     "text": [
      "MSE turun 88.74 %\n"
     ]
    }
   ],
   "source": [
    "# Cari perbandingan dengan baseline\n",
    "comparison_mse = 100*(baseline_mse - prediction_train_ols_mse) / baseline_mse\n",
    "print(f\"MSE turun {comparison_mse:.2f} %\")"
   ]
  },
  {
   "attachments": {},
   "cell_type": "markdown",
   "metadata": {},
   "source": [
    "Apa harus dinormalisasi?\n",
    "Lakukan standardisasi X_train & X_test"
   ]
  },
  {
   "cell_type": "code",
   "execution_count": 41,
   "metadata": {},
   "outputs": [],
   "source": [
    "from sklearn.preprocessing import StandardScaler"
   ]
  },
  {
   "cell_type": "code",
   "execution_count": 42,
   "metadata": {},
   "outputs": [
    {
     "data": {
      "text/plain": [
       "StandardScaler()"
      ]
     },
     "execution_count": 42,
     "metadata": {},
     "output_type": "execute_result"
    }
   ],
   "source": [
    "# Buat objek scaler\n",
    "scaler = StandardScaler()\n",
    "\n",
    "# Fit pada data train\n",
    "scaler.fit(X_train)"
   ]
  },
  {
   "cell_type": "code",
   "execution_count": 43,
   "metadata": {},
   "outputs": [],
   "source": [
    "# Transform scaler pada X_train & X_test\n",
    "X_train_scaled = scaler.transform(X_train)\n",
    "X_train_scaled = pd.DataFrame(X_train_scaled)\n",
    "X_train_scaled.columns = X_train.columns\n",
    "X_train_scaled.index = X_train.index\n",
    "\n",
    "X_test_scaled = scaler.transform(X_test)\n",
    "X_test_scaled = pd.DataFrame(X_test_scaled)\n",
    "X_test_scaled.columns = X_test.columns\n",
    "X_test_scaled.index = X_test.index"
   ]
  },
  {
   "cell_type": "code",
   "execution_count": 44,
   "metadata": {},
   "outputs": [],
   "source": [
    "# lakukan fitting\n",
    "\n",
    "# Buat objek\n",
    "lr_scaled = LinearRegression()"
   ]
  },
  {
   "cell_type": "code",
   "execution_count": 45,
   "metadata": {},
   "outputs": [],
   "source": [
    "# Lakukan cross validation\n",
    "from sklearn.model_selection import cross_val_score"
   ]
  },
  {
   "cell_type": "code",
   "execution_count": 46,
   "metadata": {},
   "outputs": [],
   "source": [
    "scores = cross_val_score(estimator = lr_scaled,\n",
    "                         X = X_train_scaled,\n",
    "                         y = y_train,\n",
    "                         cv = 5,\n",
    "                         scoring = \"neg_mean_squared_error\")"
   ]
  },
  {
   "cell_type": "code",
   "execution_count": 47,
   "metadata": {},
   "outputs": [
    {
     "data": {
      "text/plain": [
       "array([-1.95519805, -5.9288142 , -2.14412184, -3.06528874, -2.98933228])"
      ]
     },
     "execution_count": 47,
     "metadata": {},
     "output_type": "execute_result"
    }
   ],
   "source": [
    "scores"
   ]
  },
  {
   "cell_type": "code",
   "execution_count": 48,
   "metadata": {},
   "outputs": [
    {
     "name": "stdout",
     "output_type": "stream",
     "text": [
      "3.2165510231407226\n"
     ]
    }
   ],
   "source": [
    "lr_scaled_cv_scores = - np.mean(scores)\n",
    "print(lr_scaled_cv_scores)"
   ]
  },
  {
   "cell_type": "code",
   "execution_count": 49,
   "metadata": {},
   "outputs": [
    {
     "data": {
      "text/plain": [
       "LinearRegression()"
      ]
     },
     "execution_count": 49,
     "metadata": {},
     "output_type": "execute_result"
    }
   ],
   "source": [
    "# Lakukan Fitting Data\n",
    "lr_scaled.fit(X = X_train_scaled,\n",
    "              y = y_train)"
   ]
  },
  {
   "cell_type": "code",
   "execution_count": 50,
   "metadata": {},
   "outputs": [],
   "source": [
    "# Buat prediksi\n",
    "y_scaled_pred = lr_scaled.predict(X_train_scaled)"
   ]
  },
  {
   "cell_type": "code",
   "execution_count": 51,
   "metadata": {},
   "outputs": [
    {
     "data": {
      "text/html": [
       "<div>\n",
       "<style scoped>\n",
       "    .dataframe tbody tr th:only-of-type {\n",
       "        vertical-align: middle;\n",
       "    }\n",
       "\n",
       "    .dataframe tbody tr th {\n",
       "        vertical-align: top;\n",
       "    }\n",
       "\n",
       "    .dataframe thead th {\n",
       "        text-align: right;\n",
       "    }\n",
       "</style>\n",
       "<table border=\"1\" class=\"dataframe\">\n",
       "  <thead>\n",
       "    <tr style=\"text-align: right;\">\n",
       "      <th></th>\n",
       "      <th>actual</th>\n",
       "      <th>prediction</th>\n",
       "    </tr>\n",
       "  </thead>\n",
       "  <tbody>\n",
       "    <tr>\n",
       "      <th>24</th>\n",
       "      <td>9.7</td>\n",
       "      <td>8.103212</td>\n",
       "    </tr>\n",
       "    <tr>\n",
       "      <th>150</th>\n",
       "      <td>16.1</td>\n",
       "      <td>18.290549</td>\n",
       "    </tr>\n",
       "    <tr>\n",
       "      <th>114</th>\n",
       "      <td>14.6</td>\n",
       "      <td>15.197324</td>\n",
       "    </tr>\n",
       "    <tr>\n",
       "      <th>33</th>\n",
       "      <td>17.4</td>\n",
       "      <td>18.763145</td>\n",
       "    </tr>\n",
       "    <tr>\n",
       "      <th>23</th>\n",
       "      <td>15.5</td>\n",
       "      <td>16.468096</td>\n",
       "    </tr>\n",
       "  </tbody>\n",
       "</table>\n",
       "</div>"
      ],
      "text/plain": [
       "     actual  prediction\n",
       "24      9.7    8.103212\n",
       "150    16.1   18.290549\n",
       "114    14.6   15.197324\n",
       "33     17.4   18.763145\n",
       "23     15.5   16.468096"
      ]
     },
     "execution_count": 51,
     "metadata": {},
     "output_type": "execute_result"
    }
   ],
   "source": [
    "summary_train_scaled_pred = pd.DataFrame({\"actual\": y_train,\n",
    "                                          \"prediction\": y_scaled_pred})\n",
    "\n",
    "summary_train_scaled_pred.head()"
   ]
  },
  {
   "cell_type": "code",
   "execution_count": 52,
   "metadata": {},
   "outputs": [
    {
     "data": {
      "image/png": "[encoded data removed]",
      "text/plain": [
       "<Figure size 720x360 with 2 Axes>"
      ]
     },
     "metadata": {
      "needs_background": "light"
     },
     "output_type": "display_data"
    }
   ],
   "source": [
    "# Plot hasil\n",
    "fig, ax = plt.subplots(nrows=1, ncols=2, figsize=(10, 5))\n",
    "\n",
    "ax[0].scatter(summary_train_pred[\"actual\"], summary_train_pred[\"prediction\"])\n",
    "ax[0].plot([0, 30], [0, 30], \"--k\")\n",
    "\n",
    "ax[0].set_xlabel(\"Actual\")\n",
    "ax[0].set_ylabel(\"Prediction\")\n",
    "ax[0].set_xlim(0, 30)\n",
    "ax[0].set_ylim(0, 30)\n",
    "\n",
    "ax[1].scatter(summary_train_scaled_pred[\"actual\"], summary_train_scaled_pred[\"prediction\"])\n",
    "ax[1].plot([0, 30], [0, 30], \"--k\")\n",
    "\n",
    "ax[1].set_xlabel(\"Actual\")\n",
    "ax[1].set_ylabel(\"Prediction\")\n",
    "ax[1].set_xlim(0, 30)\n",
    "ax[1].set_ylim(0, 30)\n",
    "\n",
    "plt.show()"
   ]
  },
  {
   "cell_type": "code",
   "execution_count": 53,
   "metadata": {},
   "outputs": [
    {
     "name": "stdout",
     "output_type": "stream",
     "text": [
      "2.9376246773049877\n"
     ]
    }
   ],
   "source": [
    "# Cari MSE\n",
    "prediction_train_scaled_mse = mean_squared_error(y_scaled_pred, y_train)\n",
    "print(prediction_train_scaled_mse)"
   ]
  },
  {
   "cell_type": "code",
   "execution_count": 54,
   "metadata": {},
   "outputs": [
    {
     "name": "stdout",
     "output_type": "stream",
     "text": [
      "MSE turun 88.74 %\n"
     ]
    }
   ],
   "source": [
    "# Cari perbandingan dengan baseline\n",
    "comparison_mse = 100*(baseline_mse - prediction_train_scaled_mse) / baseline_mse\n",
    "print(f\"MSE turun {comparison_mse:.2f} %\")"
   ]
  },
  {
   "cell_type": "code",
   "execution_count": 55,
   "metadata": {},
   "outputs": [
    {
     "data": {
      "text/plain": [
       "array([ 3.90372233,  2.7816998 , -0.01399175])"
      ]
     },
     "execution_count": 55,
     "metadata": {},
     "output_type": "execute_result"
    }
   ],
   "source": [
    "# Koefisien/slope linear regression\n",
    "lr_scaled.coef_"
   ]
  },
  {
   "cell_type": "code",
   "execution_count": 56,
   "metadata": {},
   "outputs": [
    {
     "data": {
      "text/plain": [
       "14.095000000000002"
      ]
     },
     "execution_count": 56,
     "metadata": {},
     "output_type": "execute_result"
    }
   ],
   "source": [
    "# Intercept linear regression\n",
    "lr_scaled.intercept_"
   ]
  }
 ],
 "metadata": {
  "kernelspec": {
   "display_name": "base",
   "language": "python",
   "name": "python3"
  },
  "language_info": {
   "codemirror_mode": {
    "name": "ipython",
    "version": 3
   },
   "file_extension": ".py",
   "mimetype": "text/x-python",
   "name": "python",
   "nbconvert_exporter": "python",
   "pygments_lexer": "ipython3",
   "version": "3.9.12"
  },
  "orig_nbformat": 4
 },
 "nbformat": 4,
 "nbformat_minor": 2
}
