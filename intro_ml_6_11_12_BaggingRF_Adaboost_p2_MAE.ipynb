{
 "cells": [
  {
   "cell_type": "code",
   "execution_count": 1,
   "metadata": {},
   "outputs": [],
   "source": [
    "import numpy as np\n",
    "import pandas as pd\n",
    "\n",
    "import matplotlib.pyplot as plt\n",
    "import seaborn as sns\n",
    "\n",
    "plt.rcParams['figure.figsize'] = (10, 7)\n",
    "plt.rcParams['font.size'] = 22"
   ]
  },
  {
   "attachments": {},
   "cell_type": "markdown",
   "metadata": {},
   "source": [
    "# Ensemble Model\n",
    "\n",
    "- Secara ringkas, Ensemble Model adalah membuat prediksi dari hasil agregasi beberapa model.\n",
    "\n",
    "<img src=\"https://drive.google.com/uc?id=1vXS4YK29ogq1nsc9sMHj5KAfpuhEbvw9\">\n",
    "\n",
    "- Ensemble model memanfaatkan model satu sama lain untuk membandingkan dan mengkoreksi hasil prediksi\n",
    "\n",
    "- Sehingga didapat peningkatan performa"
   ]
  },
  {
   "cell_type": "code",
   "execution_count": 2,
   "metadata": {},
   "outputs": [
    {
     "data": {
      "text/html": [
       "<div>\n",
       "<style scoped>\n",
       "    .dataframe tbody tr th:only-of-type {\n",
       "        vertical-align: middle;\n",
       "    }\n",
       "\n",
       "    .dataframe tbody tr th {\n",
       "        vertical-align: top;\n",
       "    }\n",
       "\n",
       "    .dataframe thead th {\n",
       "        text-align: right;\n",
       "    }\n",
       "</style>\n",
       "<table border=\"1\" class=\"dataframe\">\n",
       "  <thead>\n",
       "    <tr style=\"text-align: right;\">\n",
       "      <th></th>\n",
       "      <th>CRIM</th>\n",
       "      <th>ZN</th>\n",
       "      <th>INDUS</th>\n",
       "      <th>CHAS</th>\n",
       "      <th>NOX</th>\n",
       "      <th>RM</th>\n",
       "      <th>AGE</th>\n",
       "      <th>DIS</th>\n",
       "      <th>RAD</th>\n",
       "      <th>TAX</th>\n",
       "      <th>PTRATIO</th>\n",
       "      <th>B</th>\n",
       "      <th>LSTAT</th>\n",
       "      <th>target</th>\n",
       "    </tr>\n",
       "  </thead>\n",
       "  <tbody>\n",
       "    <tr>\n",
       "      <th>0</th>\n",
       "      <td>0.00632</td>\n",
       "      <td>18.0</td>\n",
       "      <td>2.31</td>\n",
       "      <td>0</td>\n",
       "      <td>0.538</td>\n",
       "      <td>6.575</td>\n",
       "      <td>65.2</td>\n",
       "      <td>4.0900</td>\n",
       "      <td>1</td>\n",
       "      <td>296.0</td>\n",
       "      <td>15.3</td>\n",
       "      <td>396.90</td>\n",
       "      <td>4.98</td>\n",
       "      <td>24.0</td>\n",
       "    </tr>\n",
       "    <tr>\n",
       "      <th>1</th>\n",
       "      <td>0.02731</td>\n",
       "      <td>0.0</td>\n",
       "      <td>7.07</td>\n",
       "      <td>0</td>\n",
       "      <td>0.469</td>\n",
       "      <td>6.421</td>\n",
       "      <td>78.9</td>\n",
       "      <td>4.9671</td>\n",
       "      <td>2</td>\n",
       "      <td>242.0</td>\n",
       "      <td>17.8</td>\n",
       "      <td>396.90</td>\n",
       "      <td>9.14</td>\n",
       "      <td>21.6</td>\n",
       "    </tr>\n",
       "    <tr>\n",
       "      <th>2</th>\n",
       "      <td>0.02729</td>\n",
       "      <td>0.0</td>\n",
       "      <td>7.07</td>\n",
       "      <td>0</td>\n",
       "      <td>0.469</td>\n",
       "      <td>7.185</td>\n",
       "      <td>61.1</td>\n",
       "      <td>4.9671</td>\n",
       "      <td>2</td>\n",
       "      <td>242.0</td>\n",
       "      <td>17.8</td>\n",
       "      <td>392.83</td>\n",
       "      <td>4.03</td>\n",
       "      <td>34.7</td>\n",
       "    </tr>\n",
       "    <tr>\n",
       "      <th>3</th>\n",
       "      <td>0.03237</td>\n",
       "      <td>0.0</td>\n",
       "      <td>2.18</td>\n",
       "      <td>0</td>\n",
       "      <td>0.458</td>\n",
       "      <td>6.998</td>\n",
       "      <td>45.8</td>\n",
       "      <td>6.0622</td>\n",
       "      <td>3</td>\n",
       "      <td>222.0</td>\n",
       "      <td>18.7</td>\n",
       "      <td>394.63</td>\n",
       "      <td>2.94</td>\n",
       "      <td>33.4</td>\n",
       "    </tr>\n",
       "    <tr>\n",
       "      <th>4</th>\n",
       "      <td>0.06905</td>\n",
       "      <td>0.0</td>\n",
       "      <td>2.18</td>\n",
       "      <td>0</td>\n",
       "      <td>0.458</td>\n",
       "      <td>7.147</td>\n",
       "      <td>54.2</td>\n",
       "      <td>6.0622</td>\n",
       "      <td>3</td>\n",
       "      <td>222.0</td>\n",
       "      <td>18.7</td>\n",
       "      <td>396.90</td>\n",
       "      <td>5.33</td>\n",
       "      <td>36.2</td>\n",
       "    </tr>\n",
       "    <tr>\n",
       "      <th>...</th>\n",
       "      <td>...</td>\n",
       "      <td>...</td>\n",
       "      <td>...</td>\n",
       "      <td>...</td>\n",
       "      <td>...</td>\n",
       "      <td>...</td>\n",
       "      <td>...</td>\n",
       "      <td>...</td>\n",
       "      <td>...</td>\n",
       "      <td>...</td>\n",
       "      <td>...</td>\n",
       "      <td>...</td>\n",
       "      <td>...</td>\n",
       "      <td>...</td>\n",
       "    </tr>\n",
       "    <tr>\n",
       "      <th>501</th>\n",
       "      <td>0.06263</td>\n",
       "      <td>0.0</td>\n",
       "      <td>11.93</td>\n",
       "      <td>0</td>\n",
       "      <td>0.573</td>\n",
       "      <td>6.593</td>\n",
       "      <td>69.1</td>\n",
       "      <td>2.4786</td>\n",
       "      <td>1</td>\n",
       "      <td>273.0</td>\n",
       "      <td>21.0</td>\n",
       "      <td>391.99</td>\n",
       "      <td>9.67</td>\n",
       "      <td>22.4</td>\n",
       "    </tr>\n",
       "    <tr>\n",
       "      <th>502</th>\n",
       "      <td>0.04527</td>\n",
       "      <td>0.0</td>\n",
       "      <td>11.93</td>\n",
       "      <td>0</td>\n",
       "      <td>0.573</td>\n",
       "      <td>6.120</td>\n",
       "      <td>76.7</td>\n",
       "      <td>2.2875</td>\n",
       "      <td>1</td>\n",
       "      <td>273.0</td>\n",
       "      <td>21.0</td>\n",
       "      <td>396.90</td>\n",
       "      <td>9.08</td>\n",
       "      <td>20.6</td>\n",
       "    </tr>\n",
       "    <tr>\n",
       "      <th>503</th>\n",
       "      <td>0.06076</td>\n",
       "      <td>0.0</td>\n",
       "      <td>11.93</td>\n",
       "      <td>0</td>\n",
       "      <td>0.573</td>\n",
       "      <td>6.976</td>\n",
       "      <td>91.0</td>\n",
       "      <td>2.1675</td>\n",
       "      <td>1</td>\n",
       "      <td>273.0</td>\n",
       "      <td>21.0</td>\n",
       "      <td>396.90</td>\n",
       "      <td>5.64</td>\n",
       "      <td>23.9</td>\n",
       "    </tr>\n",
       "    <tr>\n",
       "      <th>504</th>\n",
       "      <td>0.10959</td>\n",
       "      <td>0.0</td>\n",
       "      <td>11.93</td>\n",
       "      <td>0</td>\n",
       "      <td>0.573</td>\n",
       "      <td>6.794</td>\n",
       "      <td>89.3</td>\n",
       "      <td>2.3889</td>\n",
       "      <td>1</td>\n",
       "      <td>273.0</td>\n",
       "      <td>21.0</td>\n",
       "      <td>393.45</td>\n",
       "      <td>6.48</td>\n",
       "      <td>22.0</td>\n",
       "    </tr>\n",
       "    <tr>\n",
       "      <th>505</th>\n",
       "      <td>0.04741</td>\n",
       "      <td>0.0</td>\n",
       "      <td>11.93</td>\n",
       "      <td>0</td>\n",
       "      <td>0.573</td>\n",
       "      <td>6.030</td>\n",
       "      <td>80.8</td>\n",
       "      <td>2.5050</td>\n",
       "      <td>1</td>\n",
       "      <td>273.0</td>\n",
       "      <td>21.0</td>\n",
       "      <td>396.90</td>\n",
       "      <td>7.88</td>\n",
       "      <td>11.9</td>\n",
       "    </tr>\n",
       "  </tbody>\n",
       "</table>\n",
       "<p>506 rows × 14 columns</p>\n",
       "</div>"
      ],
      "text/plain": [
       "        CRIM    ZN  INDUS  CHAS    NOX     RM   AGE     DIS  RAD    TAX  \\\n",
       "0    0.00632  18.0   2.31     0  0.538  6.575  65.2  4.0900    1  296.0   \n",
       "1    0.02731   0.0   7.07     0  0.469  6.421  78.9  4.9671    2  242.0   \n",
       "2    0.02729   0.0   7.07     0  0.469  7.185  61.1  4.9671    2  242.0   \n",
       "3    0.03237   0.0   2.18     0  0.458  6.998  45.8  6.0622    3  222.0   \n",
       "4    0.06905   0.0   2.18     0  0.458  7.147  54.2  6.0622    3  222.0   \n",
       "..       ...   ...    ...   ...    ...    ...   ...     ...  ...    ...   \n",
       "501  0.06263   0.0  11.93     0  0.573  6.593  69.1  2.4786    1  273.0   \n",
       "502  0.04527   0.0  11.93     0  0.573  6.120  76.7  2.2875    1  273.0   \n",
       "503  0.06076   0.0  11.93     0  0.573  6.976  91.0  2.1675    1  273.0   \n",
       "504  0.10959   0.0  11.93     0  0.573  6.794  89.3  2.3889    1  273.0   \n",
       "505  0.04741   0.0  11.93     0  0.573  6.030  80.8  2.5050    1  273.0   \n",
       "\n",
       "     PTRATIO       B  LSTAT  target  \n",
       "0       15.3  396.90   4.98    24.0  \n",
       "1       17.8  396.90   9.14    21.6  \n",
       "2       17.8  392.83   4.03    34.7  \n",
       "3       18.7  394.63   2.94    33.4  \n",
       "4       18.7  396.90   5.33    36.2  \n",
       "..       ...     ...    ...     ...  \n",
       "501     21.0  391.99   9.67    22.4  \n",
       "502     21.0  396.90   9.08    20.6  \n",
       "503     21.0  396.90   5.64    23.9  \n",
       "504     21.0  393.45   6.48    22.0  \n",
       "505     21.0  396.90   7.88    11.9  \n",
       "\n",
       "[506 rows x 14 columns]"
      ]
     },
     "execution_count": 2,
     "metadata": {},
     "output_type": "execute_result"
    }
   ],
   "source": [
    "# load data\n",
    "\n",
    "data = pd.read_csv(\"data/boston_housing.csv\")\n",
    "data = data.rename(columns={'MEDV': 'target'})\n",
    "data"
   ]
  },
  {
   "attachments": {},
   "cell_type": "markdown",
   "metadata": {},
   "source": [
    "# STEP BY STEP ML\n",
    "\n",
    "1. split input-output\n",
    "2. split train & test \n",
    "3. handling masalah yang ada di data training\n",
    "    - missing value\n",
    "        - imputasi\n",
    "            -> numerik --> imput mean atau median atau modus\n",
    "            -> kategorik --> UNKNOWN atau KOSONG, modus, clustering\n",
    "        - drop\n",
    "    - encode variable kategorik --> rubah kategorik jadi numerik\n",
    "        - One hot encoding\n",
    "        - label encoding\n",
    "            -> nama negara --> OHE\n",
    "            -> rating -> label\n",
    "    - scaling --> standard scaler.\n",
    "4. Fitting model --> eksperimentasi\n",
    "    - baseline model\n",
    "        - model regresi --> average dari output\n",
    "        - model klasifikasi --> proporsi dari kelas terbesar.\n",
    "        \n",
    "    - acuan untuk membantu kita memilih model terbaik\n",
    "        - metrik performa --> saat kita melakukan cross validation.\n",
    "        \n",
    "    - knn -> jumlah tetangga, distance\n",
    "    - tree -> max depth, criterion, min sample on leaf\n",
    "    - linear model -> tidak ada\n",
    "    - ridge & lasso -> alpha -> penalty regularisasi \n",
    "    \n",
    "5. prediksi di data test -> sanity check performa di data test dari model terbaik.\n",
    "        \n",
    "        "
   ]
  },
  {
   "cell_type": "code",
   "execution_count": 3,
   "metadata": {},
   "outputs": [],
   "source": [
    "X = data.drop(columns = \"target\")\n",
    "y = data[\"target\"]"
   ]
  },
  {
   "cell_type": "code",
   "execution_count": 4,
   "metadata": {},
   "outputs": [
    {
     "data": {
      "text/html": [
       "<div>\n",
       "<style scoped>\n",
       "    .dataframe tbody tr th:only-of-type {\n",
       "        vertical-align: middle;\n",
       "    }\n",
       "\n",
       "    .dataframe tbody tr th {\n",
       "        vertical-align: top;\n",
       "    }\n",
       "\n",
       "    .dataframe thead th {\n",
       "        text-align: right;\n",
       "    }\n",
       "</style>\n",
       "<table border=\"1\" class=\"dataframe\">\n",
       "  <thead>\n",
       "    <tr style=\"text-align: right;\">\n",
       "      <th></th>\n",
       "      <th>CRIM</th>\n",
       "      <th>ZN</th>\n",
       "      <th>INDUS</th>\n",
       "      <th>CHAS</th>\n",
       "      <th>NOX</th>\n",
       "      <th>RM</th>\n",
       "      <th>AGE</th>\n",
       "      <th>DIS</th>\n",
       "      <th>RAD</th>\n",
       "      <th>TAX</th>\n",
       "      <th>PTRATIO</th>\n",
       "      <th>B</th>\n",
       "      <th>LSTAT</th>\n",
       "    </tr>\n",
       "  </thead>\n",
       "  <tbody>\n",
       "    <tr>\n",
       "      <th>0</th>\n",
       "      <td>0.00632</td>\n",
       "      <td>18.0</td>\n",
       "      <td>2.31</td>\n",
       "      <td>0</td>\n",
       "      <td>0.538</td>\n",
       "      <td>6.575</td>\n",
       "      <td>65.2</td>\n",
       "      <td>4.0900</td>\n",
       "      <td>1</td>\n",
       "      <td>296.0</td>\n",
       "      <td>15.3</td>\n",
       "      <td>396.90</td>\n",
       "      <td>4.98</td>\n",
       "    </tr>\n",
       "    <tr>\n",
       "      <th>1</th>\n",
       "      <td>0.02731</td>\n",
       "      <td>0.0</td>\n",
       "      <td>7.07</td>\n",
       "      <td>0</td>\n",
       "      <td>0.469</td>\n",
       "      <td>6.421</td>\n",
       "      <td>78.9</td>\n",
       "      <td>4.9671</td>\n",
       "      <td>2</td>\n",
       "      <td>242.0</td>\n",
       "      <td>17.8</td>\n",
       "      <td>396.90</td>\n",
       "      <td>9.14</td>\n",
       "    </tr>\n",
       "    <tr>\n",
       "      <th>2</th>\n",
       "      <td>0.02729</td>\n",
       "      <td>0.0</td>\n",
       "      <td>7.07</td>\n",
       "      <td>0</td>\n",
       "      <td>0.469</td>\n",
       "      <td>7.185</td>\n",
       "      <td>61.1</td>\n",
       "      <td>4.9671</td>\n",
       "      <td>2</td>\n",
       "      <td>242.0</td>\n",
       "      <td>17.8</td>\n",
       "      <td>392.83</td>\n",
       "      <td>4.03</td>\n",
       "    </tr>\n",
       "    <tr>\n",
       "      <th>3</th>\n",
       "      <td>0.03237</td>\n",
       "      <td>0.0</td>\n",
       "      <td>2.18</td>\n",
       "      <td>0</td>\n",
       "      <td>0.458</td>\n",
       "      <td>6.998</td>\n",
       "      <td>45.8</td>\n",
       "      <td>6.0622</td>\n",
       "      <td>3</td>\n",
       "      <td>222.0</td>\n",
       "      <td>18.7</td>\n",
       "      <td>394.63</td>\n",
       "      <td>2.94</td>\n",
       "    </tr>\n",
       "    <tr>\n",
       "      <th>4</th>\n",
       "      <td>0.06905</td>\n",
       "      <td>0.0</td>\n",
       "      <td>2.18</td>\n",
       "      <td>0</td>\n",
       "      <td>0.458</td>\n",
       "      <td>7.147</td>\n",
       "      <td>54.2</td>\n",
       "      <td>6.0622</td>\n",
       "      <td>3</td>\n",
       "      <td>222.0</td>\n",
       "      <td>18.7</td>\n",
       "      <td>396.90</td>\n",
       "      <td>5.33</td>\n",
       "    </tr>\n",
       "  </tbody>\n",
       "</table>\n",
       "</div>"
      ],
      "text/plain": [
       "      CRIM    ZN  INDUS  CHAS    NOX     RM   AGE     DIS  RAD    TAX  \\\n",
       "0  0.00632  18.0   2.31     0  0.538  6.575  65.2  4.0900    1  296.0   \n",
       "1  0.02731   0.0   7.07     0  0.469  6.421  78.9  4.9671    2  242.0   \n",
       "2  0.02729   0.0   7.07     0  0.469  7.185  61.1  4.9671    2  242.0   \n",
       "3  0.03237   0.0   2.18     0  0.458  6.998  45.8  6.0622    3  222.0   \n",
       "4  0.06905   0.0   2.18     0  0.458  7.147  54.2  6.0622    3  222.0   \n",
       "\n",
       "   PTRATIO       B  LSTAT  \n",
       "0     15.3  396.90   4.98  \n",
       "1     17.8  396.90   9.14  \n",
       "2     17.8  392.83   4.03  \n",
       "3     18.7  394.63   2.94  \n",
       "4     18.7  396.90   5.33  "
      ]
     },
     "execution_count": 4,
     "metadata": {},
     "output_type": "execute_result"
    }
   ],
   "source": [
    "X.head()"
   ]
  },
  {
   "cell_type": "code",
   "execution_count": 5,
   "metadata": {},
   "outputs": [
    {
     "data": {
      "text/plain": [
       "0    24.0\n",
       "1    21.6\n",
       "2    34.7\n",
       "3    33.4\n",
       "4    36.2\n",
       "Name: target, dtype: float64"
      ]
     },
     "execution_count": 5,
     "metadata": {},
     "output_type": "execute_result"
    }
   ],
   "source": [
    "y.head()"
   ]
  },
  {
   "attachments": {},
   "cell_type": "markdown",
   "metadata": {},
   "source": [
    "Split train-test data"
   ]
  },
  {
   "cell_type": "code",
   "execution_count": 6,
   "metadata": {},
   "outputs": [],
   "source": [
    "from sklearn.model_selection import train_test_split\n",
    "\n"
   ]
  },
  {
   "cell_type": "code",
   "execution_count": 7,
   "metadata": {},
   "outputs": [],
   "source": [
    "X_train, X_test, y_train, y_test = train_test_split(X, y,\n",
    "                                                    test_size = 0.2,\n",
    "                                                    random_state = 123)"
   ]
  },
  {
   "cell_type": "code",
   "execution_count": 8,
   "metadata": {},
   "outputs": [
    {
     "name": "stdout",
     "output_type": "stream",
     "text": [
      "(404, 13) (102, 13)\n"
     ]
    }
   ],
   "source": [
    "print(X_train.shape, X_test.shape)"
   ]
  },
  {
   "attachments": {},
   "cell_type": "markdown",
   "metadata": {},
   "source": [
    "Normalize data"
   ]
  },
  {
   "cell_type": "code",
   "execution_count": 9,
   "metadata": {},
   "outputs": [],
   "source": [
    "from sklearn.preprocessing import StandardScaler"
   ]
  },
  {
   "cell_type": "code",
   "execution_count": 10,
   "metadata": {},
   "outputs": [
    {
     "data": {
      "text/plain": [
       "StandardScaler()"
      ]
     },
     "execution_count": 10,
     "metadata": {},
     "output_type": "execute_result"
    }
   ],
   "source": [
    "# Buat & Fit scaler\n",
    "scaler = StandardScaler()\n",
    "scaler.fit(X_train)"
   ]
  },
  {
   "cell_type": "code",
   "execution_count": 11,
   "metadata": {},
   "outputs": [
    {
     "data": {
      "text/html": [
       "<div>\n",
       "<style scoped>\n",
       "    .dataframe tbody tr th:only-of-type {\n",
       "        vertical-align: middle;\n",
       "    }\n",
       "\n",
       "    .dataframe tbody tr th {\n",
       "        vertical-align: top;\n",
       "    }\n",
       "\n",
       "    .dataframe thead th {\n",
       "        text-align: right;\n",
       "    }\n",
       "</style>\n",
       "<table border=\"1\" class=\"dataframe\">\n",
       "  <thead>\n",
       "    <tr style=\"text-align: right;\">\n",
       "      <th></th>\n",
       "      <th>CRIM</th>\n",
       "      <th>ZN</th>\n",
       "      <th>INDUS</th>\n",
       "      <th>CHAS</th>\n",
       "      <th>NOX</th>\n",
       "      <th>RM</th>\n",
       "      <th>AGE</th>\n",
       "      <th>DIS</th>\n",
       "      <th>RAD</th>\n",
       "      <th>TAX</th>\n",
       "      <th>PTRATIO</th>\n",
       "      <th>B</th>\n",
       "      <th>LSTAT</th>\n",
       "    </tr>\n",
       "  </thead>\n",
       "  <tbody>\n",
       "    <tr>\n",
       "      <th>203</th>\n",
       "      <td>-0.401149</td>\n",
       "      <td>3.653859</td>\n",
       "      <td>-1.226095</td>\n",
       "      <td>-0.245698</td>\n",
       "      <td>-1.199016</td>\n",
       "      <td>2.231987</td>\n",
       "      <td>-1.278274</td>\n",
       "      <td>0.623686</td>\n",
       "      <td>-0.636934</td>\n",
       "      <td>-1.095990</td>\n",
       "      <td>-1.753696</td>\n",
       "      <td>0.388482</td>\n",
       "      <td>-1.266398</td>\n",
       "    </tr>\n",
       "    <tr>\n",
       "      <th>441</th>\n",
       "      <td>0.702723</td>\n",
       "      <td>-0.486534</td>\n",
       "      <td>0.995482</td>\n",
       "      <td>-0.245698</td>\n",
       "      <td>1.587329</td>\n",
       "      <td>0.176596</td>\n",
       "      <td>1.008537</td>\n",
       "      <td>-0.806000</td>\n",
       "      <td>1.675027</td>\n",
       "      <td>1.530409</td>\n",
       "      <td>0.808919</td>\n",
       "      <td>0.313998</td>\n",
       "      <td>0.940407</td>\n",
       "    </tr>\n",
       "    <tr>\n",
       "      <th>172</th>\n",
       "      <td>-0.389296</td>\n",
       "      <td>-0.486534</td>\n",
       "      <td>-1.028718</td>\n",
       "      <td>-0.245698</td>\n",
       "      <td>-0.391243</td>\n",
       "      <td>-1.008059</td>\n",
       "      <td>0.697674</td>\n",
       "      <td>-0.557330</td>\n",
       "      <td>-0.521336</td>\n",
       "      <td>-0.668160</td>\n",
       "      <td>-0.868429</td>\n",
       "      <td>0.433478</td>\n",
       "      <td>0.261930</td>\n",
       "    </tr>\n",
       "    <tr>\n",
       "      <th>95</th>\n",
       "      <td>-0.391244</td>\n",
       "      <td>-0.486534</td>\n",
       "      <td>-1.195840</td>\n",
       "      <td>-0.245698</td>\n",
       "      <td>-0.950404</td>\n",
       "      <td>0.487675</td>\n",
       "      <td>-0.399281</td>\n",
       "      <td>-0.136278</td>\n",
       "      <td>-0.868130</td>\n",
       "      <td>-0.787002</td>\n",
       "      <td>-0.216127</td>\n",
       "      <td>0.008419</td>\n",
       "      <td>-0.867459</td>\n",
       "    </tr>\n",
       "    <tr>\n",
       "      <th>54</th>\n",
       "      <td>-0.403599</td>\n",
       "      <td>2.782197</td>\n",
       "      <td>-1.035921</td>\n",
       "      <td>-0.245698</td>\n",
       "      <td>-1.251491</td>\n",
       "      <td>-0.559197</td>\n",
       "      <td>-0.763742</td>\n",
       "      <td>1.654751</td>\n",
       "      <td>-0.752532</td>\n",
       "      <td>0.359819</td>\n",
       "      <td>1.228256</td>\n",
       "      <td>0.433478</td>\n",
       "      <td>0.277382</td>\n",
       "    </tr>\n",
       "    <tr>\n",
       "      <th>...</th>\n",
       "      <td>...</td>\n",
       "      <td>...</td>\n",
       "      <td>...</td>\n",
       "      <td>...</td>\n",
       "      <td>...</td>\n",
       "      <td>...</td>\n",
       "      <td>...</td>\n",
       "      <td>...</td>\n",
       "      <td>...</td>\n",
       "      <td>...</td>\n",
       "      <td>...</td>\n",
       "      <td>...</td>\n",
       "      <td>...</td>\n",
       "    </tr>\n",
       "    <tr>\n",
       "      <th>98</th>\n",
       "      <td>-0.395821</td>\n",
       "      <td>-0.486534</td>\n",
       "      <td>-1.195840</td>\n",
       "      <td>-0.245698</td>\n",
       "      <td>-0.950404</td>\n",
       "      <td>2.185112</td>\n",
       "      <td>-1.146068</td>\n",
       "      <td>-0.136278</td>\n",
       "      <td>-0.868130</td>\n",
       "      <td>-0.787002</td>\n",
       "      <td>-0.216127</td>\n",
       "      <td>0.396673</td>\n",
       "      <td>-1.300111</td>\n",
       "    </tr>\n",
       "    <tr>\n",
       "      <th>476</th>\n",
       "      <td>0.149849</td>\n",
       "      <td>-0.486534</td>\n",
       "      <td>0.995482</td>\n",
       "      <td>-0.245698</td>\n",
       "      <td>0.503416</td>\n",
       "      <td>0.287391</td>\n",
       "      <td>0.879904</td>\n",
       "      <td>-0.693513</td>\n",
       "      <td>1.675027</td>\n",
       "      <td>1.530409</td>\n",
       "      <td>0.808919</td>\n",
       "      <td>0.425942</td>\n",
       "      <td>0.822411</td>\n",
       "    </tr>\n",
       "    <tr>\n",
       "      <th>322</th>\n",
       "      <td>-0.365143</td>\n",
       "      <td>-0.486534</td>\n",
       "      <td>-0.548961</td>\n",
       "      <td>-0.245698</td>\n",
       "      <td>-0.537485</td>\n",
       "      <td>-0.341868</td>\n",
       "      <td>-0.681559</td>\n",
       "      <td>0.437816</td>\n",
       "      <td>-0.521336</td>\n",
       "      <td>-0.721639</td>\n",
       "      <td>0.529361</td>\n",
       "      <td>0.433478</td>\n",
       "      <td>-0.719964</td>\n",
       "    </tr>\n",
       "    <tr>\n",
       "      <th>382</th>\n",
       "      <td>0.641524</td>\n",
       "      <td>-0.486534</td>\n",
       "      <td>0.995482</td>\n",
       "      <td>-0.245698</td>\n",
       "      <td>1.243229</td>\n",
       "      <td>-1.059195</td>\n",
       "      <td>1.108585</td>\n",
       "      <td>-1.032987</td>\n",
       "      <td>1.675027</td>\n",
       "      <td>1.530409</td>\n",
       "      <td>0.808919</td>\n",
       "      <td>0.433478</td>\n",
       "      <td>1.513530</td>\n",
       "    </tr>\n",
       "    <tr>\n",
       "      <th>365</th>\n",
       "      <td>0.113900</td>\n",
       "      <td>-0.486534</td>\n",
       "      <td>0.995482</td>\n",
       "      <td>-0.245698</td>\n",
       "      <td>1.398074</td>\n",
       "      <td>-3.864583</td>\n",
       "      <td>0.676235</td>\n",
       "      <td>-1.017626</td>\n",
       "      <td>1.675027</td>\n",
       "      <td>1.530409</td>\n",
       "      <td>0.808919</td>\n",
       "      <td>-0.027403</td>\n",
       "      <td>-0.801438</td>\n",
       "    </tr>\n",
       "  </tbody>\n",
       "</table>\n",
       "<p>404 rows × 13 columns</p>\n",
       "</div>"
      ],
      "text/plain": [
       "         CRIM        ZN     INDUS      CHAS       NOX        RM       AGE  \\\n",
       "203 -0.401149  3.653859 -1.226095 -0.245698 -1.199016  2.231987 -1.278274   \n",
       "441  0.702723 -0.486534  0.995482 -0.245698  1.587329  0.176596  1.008537   \n",
       "172 -0.389296 -0.486534 -1.028718 -0.245698 -0.391243 -1.008059  0.697674   \n",
       "95  -0.391244 -0.486534 -1.195840 -0.245698 -0.950404  0.487675 -0.399281   \n",
       "54  -0.403599  2.782197 -1.035921 -0.245698 -1.251491 -0.559197 -0.763742   \n",
       "..        ...       ...       ...       ...       ...       ...       ...   \n",
       "98  -0.395821 -0.486534 -1.195840 -0.245698 -0.950404  2.185112 -1.146068   \n",
       "476  0.149849 -0.486534  0.995482 -0.245698  0.503416  0.287391  0.879904   \n",
       "322 -0.365143 -0.486534 -0.548961 -0.245698 -0.537485 -0.341868 -0.681559   \n",
       "382  0.641524 -0.486534  0.995482 -0.245698  1.243229 -1.059195  1.108585   \n",
       "365  0.113900 -0.486534  0.995482 -0.245698  1.398074 -3.864583  0.676235   \n",
       "\n",
       "          DIS       RAD       TAX   PTRATIO         B     LSTAT  \n",
       "203  0.623686 -0.636934 -1.095990 -1.753696  0.388482 -1.266398  \n",
       "441 -0.806000  1.675027  1.530409  0.808919  0.313998  0.940407  \n",
       "172 -0.557330 -0.521336 -0.668160 -0.868429  0.433478  0.261930  \n",
       "95  -0.136278 -0.868130 -0.787002 -0.216127  0.008419 -0.867459  \n",
       "54   1.654751 -0.752532  0.359819  1.228256  0.433478  0.277382  \n",
       "..        ...       ...       ...       ...       ...       ...  \n",
       "98  -0.136278 -0.868130 -0.787002 -0.216127  0.396673 -1.300111  \n",
       "476 -0.693513  1.675027  1.530409  0.808919  0.425942  0.822411  \n",
       "322  0.437816 -0.521336 -0.721639  0.529361  0.433478 -0.719964  \n",
       "382 -1.032987  1.675027  1.530409  0.808919  0.433478  1.513530  \n",
       "365 -1.017626  1.675027  1.530409  0.808919 -0.027403 -0.801438  \n",
       "\n",
       "[404 rows x 13 columns]"
      ]
     },
     "execution_count": 11,
     "metadata": {},
     "output_type": "execute_result"
    }
   ],
   "source": [
    "# Transform data\n",
    "X_train_clean = scaler.transform(X_train)\n",
    "X_train_clean = pd.DataFrame(X_train_clean,\n",
    "                             columns = X_train.columns,\n",
    "                             index = X_train.index)\n",
    "\n",
    "X_train_clean"
   ]
  },
  {
   "cell_type": "code",
   "execution_count": 12,
   "metadata": {},
   "outputs": [],
   "source": [
    "def scaler_transform(X, scaler = None):\n",
    "    \"\"\"\n",
    "    Fungsi untuk melakukan standardisasi\n",
    "    :param X: <pandas DataFrame> sampel data\n",
    "    :param scaler: <sklearn object> scaler, default None\n",
    "    :return X_scaled: <pandas Dataframe> sampel data OHE\n",
    "    :param scaler: <sklearn object> scaler, default None\n",
    "    \"\"\"\n",
    "    if scaler != None:\n",
    "        pass\n",
    "    else:\n",
    "        # Buat & fit encoder\n",
    "        scaler = StandardScaler()\n",
    "        scaler.fit(X)\n",
    "\n",
    "    # Tranform data\n",
    "    X_scaled = scaler.transform(X)\n",
    "    X_scaled = pd.DataFrame(X_scaled,\n",
    "                            columns = X.columns,\n",
    "                            index = X.index)\n",
    "    \n",
    "    return X_scaled, scaler\n"
   ]
  },
  {
   "cell_type": "code",
   "execution_count": 13,
   "metadata": {},
   "outputs": [
    {
     "data": {
      "text/html": [
       "<div>\n",
       "<style scoped>\n",
       "    .dataframe tbody tr th:only-of-type {\n",
       "        vertical-align: middle;\n",
       "    }\n",
       "\n",
       "    .dataframe tbody tr th {\n",
       "        vertical-align: top;\n",
       "    }\n",
       "\n",
       "    .dataframe thead th {\n",
       "        text-align: right;\n",
       "    }\n",
       "</style>\n",
       "<table border=\"1\" class=\"dataframe\">\n",
       "  <thead>\n",
       "    <tr style=\"text-align: right;\">\n",
       "      <th></th>\n",
       "      <th>CRIM</th>\n",
       "      <th>ZN</th>\n",
       "      <th>INDUS</th>\n",
       "      <th>CHAS</th>\n",
       "      <th>NOX</th>\n",
       "      <th>RM</th>\n",
       "      <th>AGE</th>\n",
       "      <th>DIS</th>\n",
       "      <th>RAD</th>\n",
       "      <th>TAX</th>\n",
       "      <th>PTRATIO</th>\n",
       "      <th>B</th>\n",
       "      <th>LSTAT</th>\n",
       "    </tr>\n",
       "  </thead>\n",
       "  <tbody>\n",
       "    <tr>\n",
       "      <th>203</th>\n",
       "      <td>-0.401149</td>\n",
       "      <td>3.653859</td>\n",
       "      <td>-1.226095</td>\n",
       "      <td>-0.245698</td>\n",
       "      <td>-1.199016</td>\n",
       "      <td>2.231987</td>\n",
       "      <td>-1.278274</td>\n",
       "      <td>0.623686</td>\n",
       "      <td>-0.636934</td>\n",
       "      <td>-1.095990</td>\n",
       "      <td>-1.753696</td>\n",
       "      <td>0.388482</td>\n",
       "      <td>-1.266398</td>\n",
       "    </tr>\n",
       "    <tr>\n",
       "      <th>441</th>\n",
       "      <td>0.702723</td>\n",
       "      <td>-0.486534</td>\n",
       "      <td>0.995482</td>\n",
       "      <td>-0.245698</td>\n",
       "      <td>1.587329</td>\n",
       "      <td>0.176596</td>\n",
       "      <td>1.008537</td>\n",
       "      <td>-0.806000</td>\n",
       "      <td>1.675027</td>\n",
       "      <td>1.530409</td>\n",
       "      <td>0.808919</td>\n",
       "      <td>0.313998</td>\n",
       "      <td>0.940407</td>\n",
       "    </tr>\n",
       "    <tr>\n",
       "      <th>172</th>\n",
       "      <td>-0.389296</td>\n",
       "      <td>-0.486534</td>\n",
       "      <td>-1.028718</td>\n",
       "      <td>-0.245698</td>\n",
       "      <td>-0.391243</td>\n",
       "      <td>-1.008059</td>\n",
       "      <td>0.697674</td>\n",
       "      <td>-0.557330</td>\n",
       "      <td>-0.521336</td>\n",
       "      <td>-0.668160</td>\n",
       "      <td>-0.868429</td>\n",
       "      <td>0.433478</td>\n",
       "      <td>0.261930</td>\n",
       "    </tr>\n",
       "    <tr>\n",
       "      <th>95</th>\n",
       "      <td>-0.391244</td>\n",
       "      <td>-0.486534</td>\n",
       "      <td>-1.195840</td>\n",
       "      <td>-0.245698</td>\n",
       "      <td>-0.950404</td>\n",
       "      <td>0.487675</td>\n",
       "      <td>-0.399281</td>\n",
       "      <td>-0.136278</td>\n",
       "      <td>-0.868130</td>\n",
       "      <td>-0.787002</td>\n",
       "      <td>-0.216127</td>\n",
       "      <td>0.008419</td>\n",
       "      <td>-0.867459</td>\n",
       "    </tr>\n",
       "    <tr>\n",
       "      <th>54</th>\n",
       "      <td>-0.403599</td>\n",
       "      <td>2.782197</td>\n",
       "      <td>-1.035921</td>\n",
       "      <td>-0.245698</td>\n",
       "      <td>-1.251491</td>\n",
       "      <td>-0.559197</td>\n",
       "      <td>-0.763742</td>\n",
       "      <td>1.654751</td>\n",
       "      <td>-0.752532</td>\n",
       "      <td>0.359819</td>\n",
       "      <td>1.228256</td>\n",
       "      <td>0.433478</td>\n",
       "      <td>0.277382</td>\n",
       "    </tr>\n",
       "  </tbody>\n",
       "</table>\n",
       "</div>"
      ],
      "text/plain": [
       "         CRIM        ZN     INDUS      CHAS       NOX        RM       AGE  \\\n",
       "203 -0.401149  3.653859 -1.226095 -0.245698 -1.199016  2.231987 -1.278274   \n",
       "441  0.702723 -0.486534  0.995482 -0.245698  1.587329  0.176596  1.008537   \n",
       "172 -0.389296 -0.486534 -1.028718 -0.245698 -0.391243 -1.008059  0.697674   \n",
       "95  -0.391244 -0.486534 -1.195840 -0.245698 -0.950404  0.487675 -0.399281   \n",
       "54  -0.403599  2.782197 -1.035921 -0.245698 -1.251491 -0.559197 -0.763742   \n",
       "\n",
       "          DIS       RAD       TAX   PTRATIO         B     LSTAT  \n",
       "203  0.623686 -0.636934 -1.095990 -1.753696  0.388482 -1.266398  \n",
       "441 -0.806000  1.675027  1.530409  0.808919  0.313998  0.940407  \n",
       "172 -0.557330 -0.521336 -0.668160 -0.868429  0.433478  0.261930  \n",
       "95  -0.136278 -0.868130 -0.787002 -0.216127  0.008419 -0.867459  \n",
       "54   1.654751 -0.752532  0.359819  1.228256  0.433478  0.277382  "
      ]
     },
     "execution_count": 13,
     "metadata": {},
     "output_type": "execute_result"
    }
   ],
   "source": [
    "X_train_clean, scaler = scaler_transform(X = X_train)\n",
    "X_train_clean.head()"
   ]
  },
  {
   "attachments": {},
   "cell_type": "markdown",
   "metadata": {},
   "source": [
    "Transform data test"
   ]
  },
  {
   "cell_type": "code",
   "execution_count": 14,
   "metadata": {},
   "outputs": [],
   "source": [
    "def prepare_test(X, scaler):  \n",
    "    # Scaled data\n",
    "    X_clean, _ = scaler_transform(X = X,\n",
    "                                  scaler = scaler)\n",
    "    \n",
    "    return X_clean"
   ]
  },
  {
   "cell_type": "code",
   "execution_count": 15,
   "metadata": {},
   "outputs": [
    {
     "data": {
      "text/html": [
       "<div>\n",
       "<style scoped>\n",
       "    .dataframe tbody tr th:only-of-type {\n",
       "        vertical-align: middle;\n",
       "    }\n",
       "\n",
       "    .dataframe tbody tr th {\n",
       "        vertical-align: top;\n",
       "    }\n",
       "\n",
       "    .dataframe thead th {\n",
       "        text-align: right;\n",
       "    }\n",
       "</style>\n",
       "<table border=\"1\" class=\"dataframe\">\n",
       "  <thead>\n",
       "    <tr style=\"text-align: right;\">\n",
       "      <th></th>\n",
       "      <th>CRIM</th>\n",
       "      <th>ZN</th>\n",
       "      <th>INDUS</th>\n",
       "      <th>CHAS</th>\n",
       "      <th>NOX</th>\n",
       "      <th>RM</th>\n",
       "      <th>AGE</th>\n",
       "      <th>DIS</th>\n",
       "      <th>RAD</th>\n",
       "      <th>TAX</th>\n",
       "      <th>PTRATIO</th>\n",
       "      <th>B</th>\n",
       "      <th>LSTAT</th>\n",
       "    </tr>\n",
       "  </thead>\n",
       "  <tbody>\n",
       "    <tr>\n",
       "      <th>410</th>\n",
       "      <td>51.13580</td>\n",
       "      <td>0.0</td>\n",
       "      <td>18.10</td>\n",
       "      <td>0</td>\n",
       "      <td>0.5970</td>\n",
       "      <td>5.757</td>\n",
       "      <td>100.0</td>\n",
       "      <td>1.4130</td>\n",
       "      <td>24</td>\n",
       "      <td>666.0</td>\n",
       "      <td>20.2</td>\n",
       "      <td>2.60</td>\n",
       "      <td>10.11</td>\n",
       "    </tr>\n",
       "    <tr>\n",
       "      <th>85</th>\n",
       "      <td>0.05735</td>\n",
       "      <td>0.0</td>\n",
       "      <td>4.49</td>\n",
       "      <td>0</td>\n",
       "      <td>0.4490</td>\n",
       "      <td>6.630</td>\n",
       "      <td>56.1</td>\n",
       "      <td>4.4377</td>\n",
       "      <td>3</td>\n",
       "      <td>247.0</td>\n",
       "      <td>18.5</td>\n",
       "      <td>392.30</td>\n",
       "      <td>6.53</td>\n",
       "    </tr>\n",
       "    <tr>\n",
       "      <th>280</th>\n",
       "      <td>0.03578</td>\n",
       "      <td>20.0</td>\n",
       "      <td>3.33</td>\n",
       "      <td>0</td>\n",
       "      <td>0.4429</td>\n",
       "      <td>7.820</td>\n",
       "      <td>64.5</td>\n",
       "      <td>4.6947</td>\n",
       "      <td>5</td>\n",
       "      <td>216.0</td>\n",
       "      <td>14.9</td>\n",
       "      <td>387.31</td>\n",
       "      <td>3.76</td>\n",
       "    </tr>\n",
       "    <tr>\n",
       "      <th>422</th>\n",
       "      <td>12.04820</td>\n",
       "      <td>0.0</td>\n",
       "      <td>18.10</td>\n",
       "      <td>0</td>\n",
       "      <td>0.6140</td>\n",
       "      <td>5.648</td>\n",
       "      <td>87.6</td>\n",
       "      <td>1.9512</td>\n",
       "      <td>24</td>\n",
       "      <td>666.0</td>\n",
       "      <td>20.2</td>\n",
       "      <td>291.55</td>\n",
       "      <td>14.10</td>\n",
       "    </tr>\n",
       "    <tr>\n",
       "      <th>199</th>\n",
       "      <td>0.03150</td>\n",
       "      <td>95.0</td>\n",
       "      <td>1.47</td>\n",
       "      <td>0</td>\n",
       "      <td>0.4030</td>\n",
       "      <td>6.975</td>\n",
       "      <td>15.3</td>\n",
       "      <td>7.6534</td>\n",
       "      <td>3</td>\n",
       "      <td>402.0</td>\n",
       "      <td>17.0</td>\n",
       "      <td>396.90</td>\n",
       "      <td>4.56</td>\n",
       "    </tr>\n",
       "  </tbody>\n",
       "</table>\n",
       "</div>"
      ],
      "text/plain": [
       "         CRIM    ZN  INDUS  CHAS     NOX     RM    AGE     DIS  RAD    TAX  \\\n",
       "410  51.13580   0.0  18.10     0  0.5970  5.757  100.0  1.4130   24  666.0   \n",
       "85    0.05735   0.0   4.49     0  0.4490  6.630   56.1  4.4377    3  247.0   \n",
       "280   0.03578  20.0   3.33     0  0.4429  7.820   64.5  4.6947    5  216.0   \n",
       "422  12.04820   0.0  18.10     0  0.6140  5.648   87.6  1.9512   24  666.0   \n",
       "199   0.03150  95.0   1.47     0  0.4030  6.975   15.3  7.6534    3  402.0   \n",
       "\n",
       "     PTRATIO       B  LSTAT  \n",
       "410     20.2    2.60  10.11  \n",
       "85      18.5  392.30   6.53  \n",
       "280     14.9  387.31   3.76  \n",
       "422     20.2  291.55  14.10  \n",
       "199     17.0  396.90   4.56  "
      ]
     },
     "execution_count": 15,
     "metadata": {},
     "output_type": "execute_result"
    }
   ],
   "source": [
    "X_test.head()"
   ]
  },
  {
   "cell_type": "code",
   "execution_count": 16,
   "metadata": {},
   "outputs": [
    {
     "data": {
      "text/html": [
       "<div>\n",
       "<style scoped>\n",
       "    .dataframe tbody tr th:only-of-type {\n",
       "        vertical-align: middle;\n",
       "    }\n",
       "\n",
       "    .dataframe tbody tr th {\n",
       "        vertical-align: top;\n",
       "    }\n",
       "\n",
       "    .dataframe thead th {\n",
       "        text-align: right;\n",
       "    }\n",
       "</style>\n",
       "<table border=\"1\" class=\"dataframe\">\n",
       "  <thead>\n",
       "    <tr style=\"text-align: right;\">\n",
       "      <th></th>\n",
       "      <th>CRIM</th>\n",
       "      <th>ZN</th>\n",
       "      <th>INDUS</th>\n",
       "      <th>CHAS</th>\n",
       "      <th>NOX</th>\n",
       "      <th>RM</th>\n",
       "      <th>AGE</th>\n",
       "      <th>DIS</th>\n",
       "      <th>RAD</th>\n",
       "      <th>TAX</th>\n",
       "      <th>PTRATIO</th>\n",
       "      <th>B</th>\n",
       "      <th>LSTAT</th>\n",
       "    </tr>\n",
       "  </thead>\n",
       "  <tbody>\n",
       "    <tr>\n",
       "      <th>410</th>\n",
       "      <td>5.420728</td>\n",
       "      <td>-0.486534</td>\n",
       "      <td>0.995482</td>\n",
       "      <td>-0.245698</td>\n",
       "      <td>0.357173</td>\n",
       "      <td>-0.745275</td>\n",
       "      <td>1.108585</td>\n",
       "      <td>-1.111381</td>\n",
       "      <td>1.675027</td>\n",
       "      <td>1.530409</td>\n",
       "      <td>0.808919</td>\n",
       "      <td>-3.872802</td>\n",
       "      <td>-0.381428</td>\n",
       "    </tr>\n",
       "    <tr>\n",
       "      <th>85</th>\n",
       "      <td>-0.398615</td>\n",
       "      <td>-0.486534</td>\n",
       "      <td>-0.965327</td>\n",
       "      <td>-0.245698</td>\n",
       "      <td>-0.915994</td>\n",
       "      <td>0.494777</td>\n",
       "      <td>-0.460024</td>\n",
       "      <td>0.305098</td>\n",
       "      <td>-0.752532</td>\n",
       "      <td>-0.959322</td>\n",
       "      <td>0.016838</td>\n",
       "      <td>0.383239</td>\n",
       "      <td>-0.884316</td>\n",
       "    </tr>\n",
       "    <tr>\n",
       "      <th>280</th>\n",
       "      <td>-0.401072</td>\n",
       "      <td>0.385128</td>\n",
       "      <td>-1.132449</td>\n",
       "      <td>-0.245698</td>\n",
       "      <td>-0.968469</td>\n",
       "      <td>2.185112</td>\n",
       "      <td>-0.159880</td>\n",
       "      <td>0.425453</td>\n",
       "      <td>-0.521336</td>\n",
       "      <td>-1.143527</td>\n",
       "      <td>-1.660510</td>\n",
       "      <td>0.328742</td>\n",
       "      <td>-1.273421</td>\n",
       "    </tr>\n",
       "    <tr>\n",
       "      <th>422</th>\n",
       "      <td>0.967497</td>\n",
       "      <td>-0.486534</td>\n",
       "      <td>0.995482</td>\n",
       "      <td>-0.245698</td>\n",
       "      <td>0.503416</td>\n",
       "      <td>-0.900104</td>\n",
       "      <td>0.665515</td>\n",
       "      <td>-0.859340</td>\n",
       "      <td>1.675027</td>\n",
       "      <td>1.530409</td>\n",
       "      <td>0.808919</td>\n",
       "      <td>-0.717084</td>\n",
       "      <td>0.179052</td>\n",
       "    </tr>\n",
       "    <tr>\n",
       "      <th>199</th>\n",
       "      <td>-0.401560</td>\n",
       "      <td>3.653859</td>\n",
       "      <td>-1.400421</td>\n",
       "      <td>-0.245698</td>\n",
       "      <td>-1.311708</td>\n",
       "      <td>0.984832</td>\n",
       "      <td>-1.917867</td>\n",
       "      <td>1.811024</td>\n",
       "      <td>-0.752532</td>\n",
       "      <td>-0.038300</td>\n",
       "      <td>-0.682057</td>\n",
       "      <td>0.433478</td>\n",
       "      <td>-1.161044</td>\n",
       "    </tr>\n",
       "  </tbody>\n",
       "</table>\n",
       "</div>"
      ],
      "text/plain": [
       "         CRIM        ZN     INDUS      CHAS       NOX        RM       AGE  \\\n",
       "410  5.420728 -0.486534  0.995482 -0.245698  0.357173 -0.745275  1.108585   \n",
       "85  -0.398615 -0.486534 -0.965327 -0.245698 -0.915994  0.494777 -0.460024   \n",
       "280 -0.401072  0.385128 -1.132449 -0.245698 -0.968469  2.185112 -0.159880   \n",
       "422  0.967497 -0.486534  0.995482 -0.245698  0.503416 -0.900104  0.665515   \n",
       "199 -0.401560  3.653859 -1.400421 -0.245698 -1.311708  0.984832 -1.917867   \n",
       "\n",
       "          DIS       RAD       TAX   PTRATIO         B     LSTAT  \n",
       "410 -1.111381  1.675027  1.530409  0.808919 -3.872802 -0.381428  \n",
       "85   0.305098 -0.752532 -0.959322  0.016838  0.383239 -0.884316  \n",
       "280  0.425453 -0.521336 -1.143527 -1.660510  0.328742 -1.273421  \n",
       "422 -0.859340  1.675027  1.530409  0.808919 -0.717084  0.179052  \n",
       "199  1.811024 -0.752532 -0.038300 -0.682057  0.433478 -1.161044  "
      ]
     },
     "execution_count": 16,
     "metadata": {},
     "output_type": "execute_result"
    }
   ],
   "source": [
    "X_test_clean = prepare_test(X = X_test, \n",
    "                            scaler = scaler)\n",
    "\n",
    "X_test_clean.head()"
   ]
  },
  {
   "attachments": {},
   "cell_type": "markdown",
   "metadata": {},
   "source": [
    "Baseline Model"
   ]
  },
  {
   "cell_type": "code",
   "execution_count": 17,
   "metadata": {},
   "outputs": [
    {
     "data": {
      "text/plain": [
       "22.37475247524753"
      ]
     },
     "execution_count": 17,
     "metadata": {},
     "output_type": "execute_result"
    }
   ],
   "source": [
    "y_pred_baseline = y_train.mean()\n",
    "y_pred_baseline"
   ]
  },
  {
   "attachments": {},
   "cell_type": "markdown",
   "metadata": {},
   "source": [
    "---\n",
    "MSE & RMSE sensitive terhadap outlier,\n",
    "MAE tidak\n",
    "\n",
    "RMSE & MAE punya satuan yang sama dengan target sehingga lebih mudah diinterpretasikan"
   ]
  },
  {
   "cell_type": "code",
   "execution_count": 18,
   "metadata": {},
   "outputs": [],
   "source": [
    "from sklearn.metrics import mean_absolute_error"
   ]
  },
  {
   "cell_type": "code",
   "execution_count": 19,
   "metadata": {},
   "outputs": [
    {
     "data": {
      "text/plain": [
       "(6.583749142240957, 6.7705494078819655)"
      ]
     },
     "execution_count": 19,
     "metadata": {},
     "output_type": "execute_result"
    }
   ],
   "source": [
    "mae_train_baseline = mean_absolute_error(y_train, y_pred_baseline * np.ones(len(y_train)))\n",
    "mae_test_baseline = mean_absolute_error(y_test, y_pred_baseline * np.ones(len(y_test)))\n",
    "\n",
    "mae_train_baseline, mae_test_baseline"
   ]
  },
  {
   "attachments": {},
   "cell_type": "markdown",
   "metadata": {},
   "source": [
    "---\n",
    "# Decision Tree\n",
    "\n",
    "Lakukan gridsearch"
   ]
  },
  {
   "cell_type": "code",
   "execution_count": 20,
   "metadata": {},
   "outputs": [],
   "source": [
    "from sklearn.tree import DecisionTreeRegressor\n",
    "from sklearn.model_selection import GridSearchCV"
   ]
  },
  {
   "cell_type": "code",
   "execution_count": 21,
   "metadata": {},
   "outputs": [],
   "source": [
    "params = {\"max_depth\": [1, 2, 3, 4, 5, 6, 7, 8, 9, 10]}\n",
    "\n",
    "# Buat gridsearch\n",
    "tree = DecisionTreeRegressor(random_state = 123)\n",
    "\n",
    "tree_cv = GridSearchCV(estimator = tree,\n",
    "                       param_grid = params,\n",
    "                       cv = 5,\n",
    "                       scoring = \"neg_mean_absolute_error\")"
   ]
  },
  {
   "cell_type": "code",
   "execution_count": 22,
   "metadata": {},
   "outputs": [
    {
     "data": {
      "text/plain": [
       "GridSearchCV(cv=5, estimator=DecisionTreeRegressor(random_state=123),\n",
       "             param_grid={'max_depth': [1, 2, 3, 4, 5, 6, 7, 8, 9, 10]},\n",
       "             scoring='neg_mean_absolute_error')"
      ]
     },
     "execution_count": 22,
     "metadata": {},
     "output_type": "execute_result"
    }
   ],
   "source": [
    "# Fit grid search cv\n",
    "tree_cv.fit(X_train_clean, y_train)"
   ]
  },
  {
   "cell_type": "code",
   "execution_count": 23,
   "metadata": {},
   "outputs": [
    {
     "data": {
      "text/plain": [
       "{'max_depth': 7}"
      ]
     },
     "execution_count": 23,
     "metadata": {},
     "output_type": "execute_result"
    }
   ],
   "source": [
    "# Best params\n",
    "tree_cv.best_params_"
   ]
  },
  {
   "cell_type": "code",
   "execution_count": 24,
   "metadata": {},
   "outputs": [
    {
     "data": {
      "text/plain": [
       "DecisionTreeRegressor(max_depth=7, random_state=123)"
      ]
     },
     "execution_count": 24,
     "metadata": {},
     "output_type": "execute_result"
    }
   ],
   "source": [
    "# Refit the bagging tree\n",
    "tree = DecisionTreeRegressor(max_depth = tree_cv.best_params_[\"max_depth\"],\n",
    "                             random_state = 123)\n",
    "\n",
    "tree.fit(X_train_clean, y_train)"
   ]
  },
  {
   "cell_type": "code",
   "execution_count": 25,
   "metadata": {},
   "outputs": [
    {
     "name": "stdout",
     "output_type": "stream",
     "text": [
      "MAE Train :1.2526\n",
      "MAE CV    :3.1751\n"
     ]
    }
   ],
   "source": [
    "# Predict\n",
    "y_pred_train = tree.predict(X_train_clean)\n",
    "\n",
    "# MSE\n",
    "mae_train_dt = mean_absolute_error(y_train, y_pred_train)\n",
    "mae_cv_dt = -tree_cv.best_score_\n",
    "\n",
    "print(f\"MAE Train :{mae_train_dt:.4f}\")\n",
    "print(f\"MAE CV    :{mae_cv_dt:.4f}\")"
   ]
  },
  {
   "attachments": {},
   "cell_type": "markdown",
   "metadata": {},
   "source": [
    "---\n",
    "# Bagging Method\n",
    "1. Membuat $B$-sampel bootstrap\n",
    "2. Membuat $B$-model decision tree untuk masing-masing sampel\n",
    "3. Setiap model melakukan prediksi.\n",
    "4. Melakukan agregasi dari setiap hasil prediksi.\n",
    "    - Regresi menggunakan rata-rata\n",
    "    - Klasifikasi menggunakan majority vote"
   ]
  },
  {
   "attachments": {},
   "cell_type": "markdown",
   "metadata": {},
   "source": [
    "from scratch"
   ]
  },
  {
   "cell_type": "code",
   "execution_count": 26,
   "metadata": {},
   "outputs": [],
   "source": [
    "# Fungsi Bagging\n",
    "def bagging(X_train, y_train, B):\n",
    "    \"\"\"\n",
    "    Fungsi untuk membuat model bagging\n",
    "    :param X_train: <pandas Dataframe> sampel input\n",
    "    :param y_train: <pandas Dataframe> sampel output\n",
    "    :param B: <int> jumlah bootstrap sample\n",
    "    :return trees: <list> kumpulan tree\n",
    "    \"\"\"\n",
    "    N = len(X_train)\n",
    "    trees = []\n",
    "\n",
    "    for b in range(B):\n",
    "        # Buat bootstrap\n",
    "        sample = np.random.choice(X_train.index,\n",
    "                                  size = N,\n",
    "                                  replace = True)\n",
    "        \n",
    "        X_train_b = X_train.loc[sample]\n",
    "        y_train_b = y_train.loc[sample]\n",
    "\n",
    "        # Buat model\n",
    "        tree = DecisionTreeRegressor()\n",
    "        tree.fit(X_train_b, y_train_b)\n",
    "\n",
    "        # Append tree\n",
    "        trees.append(tree)\n",
    "\n",
    "    return trees\n"
   ]
  },
  {
   "cell_type": "code",
   "execution_count": 27,
   "metadata": {},
   "outputs": [
    {
     "data": {
      "text/plain": [
       "[DecisionTreeRegressor(),\n",
       " DecisionTreeRegressor(),\n",
       " DecisionTreeRegressor(),\n",
       " DecisionTreeRegressor(),\n",
       " DecisionTreeRegressor()]"
      ]
     },
     "execution_count": 27,
     "metadata": {},
     "output_type": "execute_result"
    }
   ],
   "source": [
    "bagging_mdl = bagging(X_train = X_train_clean, \n",
    "                      y_train = y_train, \n",
    "                      B = 5)\n",
    "\n",
    "bagging_mdl"
   ]
  },
  {
   "cell_type": "code",
   "execution_count": 28,
   "metadata": {},
   "outputs": [],
   "source": [
    "# Fungsi predict\n",
    "def predict_bagging(estimator, X):\n",
    "    \"\"\"\n",
    "    Fungsi untuk melakukan prediksi\n",
    "    :param estimator: <list> list model\n",
    "    :param X: <pandas Dataframe> sampel input\n",
    "    :param y_pred: <pandas Dataframe> prediksi sampel output\n",
    "    \"\"\"\n",
    "    B = len(estimator)\n",
    "    N = X.shape[0]\n",
    "    y_pred_list = np.zeros((B, N))\n",
    "\n",
    "    for i, tree in enumerate(estimator):\n",
    "        # Predict\n",
    "        y_pred_list[i] = tree.predict(X)\n",
    "\n",
    "    # Average\n",
    "    y_pred = np.mean(y_pred_list, axis = 0)\n",
    "\n",
    "    return y_pred"
   ]
  },
  {
   "cell_type": "code",
   "execution_count": 29,
   "metadata": {},
   "outputs": [],
   "source": [
    "# Predict\n",
    "y_pred_train = predict_bagging(estimator = bagging_mdl,\n",
    "                               X = X_train_clean)\n",
    "y_pred_test = predict_bagging(estimator = bagging_mdl,\n",
    "                              X = X_test_clean)"
   ]
  },
  {
   "cell_type": "code",
   "execution_count": 30,
   "metadata": {},
   "outputs": [
    {
     "data": {
      "text/plain": [
       "(1.027970297029703, 2.6937254901960785)"
      ]
     },
     "execution_count": 30,
     "metadata": {},
     "output_type": "execute_result"
    }
   ],
   "source": [
    "# Calculate MAE\n",
    "mae_train = mean_absolute_error(y_train, y_pred_train)\n",
    "mae_test = mean_absolute_error(y_test, y_pred_test)\n",
    "\n",
    "mae_train, mae_test"
   ]
  },
  {
   "cell_type": "code",
   "execution_count": 31,
   "metadata": {},
   "outputs": [],
   "source": [
    "# Lakukan perulangan\n",
    "B = [10, 50, 100, 150, 200, 250, 300, 350, 400, 450, 500]\n",
    "mae_train_list = []\n",
    "mae_test_list = []\n",
    "\n",
    "for b in B:\n",
    "    # Buat bagging model\n",
    "    bagging_mdl = bagging(X_train = X_train_clean, \n",
    "                          y_train = y_train, \n",
    "                          B = b)\n",
    "    \n",
    "    # Predict\n",
    "    y_pred_train = predict_bagging(estimator = bagging_mdl,\n",
    "                                   X = X_train_clean)\n",
    "    y_pred_test = predict_bagging(estimator = bagging_mdl,\n",
    "                                  X = X_test_clean)\n",
    "\n",
    "    # Calculate mae\n",
    "    mae_train = mean_absolute_error(y_train, y_pred_train)\n",
    "    mae_test = mean_absolute_error(y_test, y_pred_test)\n",
    "\n",
    "    # Append MSE\n",
    "    mae_train_list.append(mae_train)\n",
    "    mae_test_list.append(mae_test)\n",
    "    \n",
    "    # B adalah n_estimators dalam sklearn"
   ]
  },
  {
   "cell_type": "code",
   "execution_count": 32,
   "metadata": {},
   "outputs": [
    {
     "data": {
      "image/png": "[encoded data removed]",
      "text/plain": [
       "<Figure size 720x504 with 1 Axes>"
      ]
     },
     "metadata": {
      "needs_background": "light"
     },
     "output_type": "display_data"
    }
   ],
   "source": [
    "# Plot\n",
    "fig, ax = plt.subplots(nrows=1, ncols=1, figsize=(10, 7))\n",
    "\n",
    "ax.plot(B, mae_train_list, \"b\", marker = \"o\", label = \"Train\")\n",
    "ax.plot(B, mae_test_list, \"r\", marker = \"x\", label = \"Test\")\n",
    "\n",
    "ax.set_xlabel(\"B\")\n",
    "ax.set_ylabel(\"MAE\")\n",
    "plt.legend()\n",
    "plt.show()"
   ]
  },
  {
   "attachments": {},
   "cell_type": "markdown",
   "metadata": {},
   "source": [
    "<font color='red'>\n",
    "Catatan! - Gambar di atas hanya menunjukkan kalau makin besar nilai B, model tidak akan overfit.\n",
    "\n",
    "Pemilihan model terbaik <b>tidak</b> dilakukan dengan melihat performa test, <b>namun</b> dengan melihat performa CV.\n",
    "</font>"
   ]
  },
  {
   "attachments": {},
   "cell_type": "markdown",
   "metadata": {},
   "source": [
    "<font color='red'>\n",
    "hyperparameters tidak boleh dituning dalam test training!\n",
    "</font>"
   ]
  },
  {
   "attachments": {},
   "cell_type": "markdown",
   "metadata": {},
   "source": [
    "with Sklearn!"
   ]
  },
  {
   "cell_type": "code",
   "execution_count": 33,
   "metadata": {},
   "outputs": [],
   "source": [
    "from sklearn.ensemble import BaggingRegressor"
   ]
  },
  {
   "cell_type": "code",
   "execution_count": 34,
   "metadata": {},
   "outputs": [
    {
     "data": {
      "text/plain": [
       "BaggingRegressor(base_estimator=DecisionTreeRegressor(), random_state=123)"
      ]
     },
     "execution_count": 34,
     "metadata": {},
     "output_type": "execute_result"
    }
   ],
   "source": [
    "# Base estimator\n",
    "tree = DecisionTreeRegressor()\n",
    "\n",
    "# Buat Bagging\n",
    "bagging_tree = BaggingRegressor(base_estimator = tree,\n",
    "                                n_estimators = 10,\n",
    "                                random_state = 123)\n",
    "\n",
    "# Fit bagging\n",
    "bagging_tree.fit(X_train_clean, y_train)"
   ]
  },
  {
   "cell_type": "code",
   "execution_count": 35,
   "metadata": {},
   "outputs": [
    {
     "name": "stdout",
     "output_type": "stream",
     "text": [
      "MAE Train :0.9038\n"
     ]
    }
   ],
   "source": [
    "# Predict\n",
    "y_pred_train = bagging_tree.predict(X_train_clean)\n",
    "\n",
    "# MSE\n",
    "mae_train = mean_absolute_error(y_train, y_pred_train)\n",
    "\n",
    "print(f\"MAE Train :{mae_train:.4f}\")"
   ]
  },
  {
   "attachments": {},
   "cell_type": "markdown",
   "metadata": {},
   "source": [
    "lakukan gridsearch"
   ]
  },
  {
   "cell_type": "code",
   "execution_count": 36,
   "metadata": {},
   "outputs": [],
   "source": [
    "from sklearn.model_selection import GridSearchCV"
   ]
  },
  {
   "cell_type": "code",
   "execution_count": 37,
   "metadata": {},
   "outputs": [],
   "source": [
    "params = {\"n_estimators\": B}\n",
    "\n",
    "# Buat gridsearch\n",
    "tree = DecisionTreeRegressor()\n",
    "bagging_tree = BaggingRegressor(base_estimator = tree,\n",
    "                                random_state = 123)\n",
    "\n",
    "bagging_cv = GridSearchCV(estimator = bagging_tree,\n",
    "                          param_grid = params,\n",
    "                          cv = 5,\n",
    "                          scoring = \"neg_mean_absolute_error\")"
   ]
  },
  {
   "cell_type": "code",
   "execution_count": 38,
   "metadata": {},
   "outputs": [
    {
     "data": {
      "text/plain": [
       "GridSearchCV(cv=5,\n",
       "             estimator=BaggingRegressor(base_estimator=DecisionTreeRegressor(),\n",
       "                                        random_state=123),\n",
       "             param_grid={'n_estimators': [10, 50, 100, 150, 200, 250, 300, 350,\n",
       "                                          400, 450, 500]},\n",
       "             scoring='neg_mean_absolute_error')"
      ]
     },
     "execution_count": 38,
     "metadata": {},
     "output_type": "execute_result"
    }
   ],
   "source": [
    "# Fit grid search cv\n",
    "bagging_cv.fit(X_train_clean, y_train)"
   ]
  },
  {
   "cell_type": "code",
   "execution_count": 39,
   "metadata": {},
   "outputs": [
    {
     "data": {
      "text/plain": [
       "{'n_estimators': 300}"
      ]
     },
     "execution_count": 39,
     "metadata": {},
     "output_type": "execute_result"
    }
   ],
   "source": [
    "# Best params\n",
    "bagging_cv.best_params_"
   ]
  },
  {
   "cell_type": "code",
   "execution_count": 40,
   "metadata": {},
   "outputs": [
    {
     "data": {
      "text/plain": [
       "BaggingRegressor(base_estimator=DecisionTreeRegressor(), n_estimators=300,\n",
       "                 random_state=123)"
      ]
     },
     "execution_count": 40,
     "metadata": {},
     "output_type": "execute_result"
    }
   ],
   "source": [
    "# Refit the bagging tree\n",
    "bagging_tree = BaggingRegressor(base_estimator = tree,\n",
    "                                n_estimators = bagging_cv.best_params_[\"n_estimators\"],\n",
    "                                random_state = 123)\n",
    "\n",
    "bagging_tree.fit(X_train_clean, y_train)"
   ]
  },
  {
   "cell_type": "code",
   "execution_count": 41,
   "metadata": {},
   "outputs": [
    {
     "name": "stdout",
     "output_type": "stream",
     "text": [
      "MAE Train :0.8124\n",
      "MAE CV    :2.3051\n"
     ]
    }
   ],
   "source": [
    "# Predict\n",
    "y_pred_train = bagging_tree.predict(X_train_clean)\n",
    "\n",
    "# MSE\n",
    "mae_train_bg = mean_absolute_error(y_train, y_pred_train)\n",
    "mae_cv_bg = -bagging_cv.best_score_\n",
    "\n",
    "print(f\"MAE Train :{mae_train_bg:.4f}\")\n",
    "print(f\"MAE CV    :{mae_cv_bg:.4f}\")\n",
    "\n",
    "# dalam real life\n",
    "# grid search dan bagging optimization bisa digunakan untuk mencari hyperparameters optimal, dan ini memakan waktu\n",
    "# oleh karena itu, balik lagi ke pengalaman\n",
    "\n",
    "# apabila dalam base model decision tree, dalam hyperparameters searchnya itu bisa diatur training setnya (bootstrap set)\n",
    "# LIBRARY XGBM, proporsi col sample by tree bisa dimainin presentasenya"
   ]
  },
  {
   "attachments": {},
   "cell_type": "markdown",
   "metadata": {},
   "source": [
    "- error yang diabsolute kan\n",
    "- nilai prediksi - nilai asli\n",
    "- harga prediksi - harga asli --> deviasi harga"
   ]
  },
  {
   "attachments": {},
   "cell_type": "markdown",
   "metadata": {},
   "source": [
    "---\n",
    "# Random Forest Method\n",
    "1. Membuat $B$-sampel bootstrap\n",
    "2. Menentukan $p$ fitur yang digunakan untuk membuat model Decision Tree\n",
    "3. Membuat $B$-model decision tree untuk masing-masing sampel\n",
    "4. Setiap model melakukan prediksi.\n",
    "5. Melakukan agregasi dari setiap hasil prediksi.\n",
    "    - Regresi menggunakan rata-rata\n",
    "    - Klasifikasi menggunakan majority vote"
   ]
  },
  {
   "attachments": {},
   "cell_type": "markdown",
   "metadata": {},
   "source": [
    "with sklearn"
   ]
  },
  {
   "cell_type": "code",
   "execution_count": 42,
   "metadata": {},
   "outputs": [],
   "source": [
    "from sklearn.ensemble import RandomForestRegressor"
   ]
  },
  {
   "cell_type": "code",
   "execution_count": 43,
   "metadata": {},
   "outputs": [],
   "source": [
    "# Build random forest\n",
    "rf_tree = RandomForestRegressor(n_estimators = 100,\n",
    "                                criterion = \"squared_error\",\n",
    "                                max_features = \"sqrt\",\n",
    "                                random_state = 123)"
   ]
  },
  {
   "cell_type": "code",
   "execution_count": 44,
   "metadata": {},
   "outputs": [
    {
     "data": {
      "text/plain": [
       "RandomForestRegressor(max_features='sqrt', random_state=123)"
      ]
     },
     "execution_count": 44,
     "metadata": {},
     "output_type": "execute_result"
    }
   ],
   "source": [
    "# Fit random forest\n",
    "rf_tree.fit(X_train_clean, y_train)"
   ]
  },
  {
   "cell_type": "code",
   "execution_count": 45,
   "metadata": {},
   "outputs": [
    {
     "data": {
      "text/plain": [
       "(0.8026534653465325, 2.1940980392156866)"
      ]
     },
     "execution_count": 45,
     "metadata": {},
     "output_type": "execute_result"
    }
   ],
   "source": [
    "# Predict\n",
    "y_pred_train = rf_tree.predict(X_train_clean)\n",
    "y_pred_test = rf_tree.predict(X_test_clean)\n",
    "\n",
    "# MSE\n",
    "mae_train = mean_absolute_error(y_train, y_pred_train)\n",
    "mae_test = mean_absolute_error(y_test, y_pred_test)\n",
    "\n",
    "mae_train, mae_test"
   ]
  },
  {
   "attachments": {},
   "cell_type": "markdown",
   "metadata": {},
   "source": [
    "Lakukan gridsearch"
   ]
  },
  {
   "cell_type": "code",
   "execution_count": 46,
   "metadata": {},
   "outputs": [],
   "source": [
    "params = {\"n_estimators\": B,\n",
    "          \"max_features\": [\"sqrt\", \"log2\"]}\n",
    "\n",
    "# Buat gridsearch\n",
    "rf_tree = RandomForestRegressor(criterion = \"squared_error\",\n",
    "                                random_state = 123)\n",
    "\n",
    "rf_tree_cv = GridSearchCV(estimator = rf_tree,\n",
    "                          param_grid = params,\n",
    "                          cv = 5,\n",
    "                          scoring = \"neg_mean_absolute_error\")"
   ]
  },
  {
   "cell_type": "code",
   "execution_count": 47,
   "metadata": {},
   "outputs": [
    {
     "data": {
      "text/plain": [
       "GridSearchCV(cv=5, estimator=RandomForestRegressor(random_state=123),\n",
       "             param_grid={'max_features': ['sqrt', 'log2'],\n",
       "                         'n_estimators': [10, 50, 100, 150, 200, 250, 300, 350,\n",
       "                                          400, 450, 500]},\n",
       "             scoring='neg_mean_absolute_error')"
      ]
     },
     "execution_count": 47,
     "metadata": {},
     "output_type": "execute_result"
    }
   ],
   "source": [
    "# Fit grid search cv\n",
    "rf_tree_cv.fit(X_train_clean, y_train)"
   ]
  },
  {
   "cell_type": "code",
   "execution_count": 48,
   "metadata": {},
   "outputs": [
    {
     "data": {
      "text/plain": [
       "{'max_features': 'sqrt', 'n_estimators': 100}"
      ]
     },
     "execution_count": 48,
     "metadata": {},
     "output_type": "execute_result"
    }
   ],
   "source": [
    "# Best params\n",
    "rf_tree_cv.best_params_"
   ]
  },
  {
   "cell_type": "code",
   "execution_count": 49,
   "metadata": {},
   "outputs": [
    {
     "data": {
      "text/plain": [
       "RandomForestRegressor(max_features='sqrt', random_state=123)"
      ]
     },
     "execution_count": 49,
     "metadata": {},
     "output_type": "execute_result"
    }
   ],
   "source": [
    "# Refit the Random Forest\n",
    "rf_tree = RandomForestRegressor(criterion = \"squared_error\",\n",
    "                                max_features = rf_tree_cv.best_params_[\"max_features\"],\n",
    "                                n_estimators = rf_tree_cv.best_params_[\"n_estimators\"],\n",
    "                                random_state = 123)\n",
    "\n",
    "rf_tree.fit(X_train_clean, y_train)"
   ]
  },
  {
   "cell_type": "code",
   "execution_count": 50,
   "metadata": {},
   "outputs": [
    {
     "name": "stdout",
     "output_type": "stream",
     "text": [
      "MAE Train :0.8027\n",
      "MAE CV    :2.2330\n"
     ]
    }
   ],
   "source": [
    "# Predict\n",
    "y_pred_train = rf_tree.predict(X_train_clean)\n",
    "\n",
    "# MSE\n",
    "mae_train_rf = mean_absolute_error(y_train, y_pred_train)\n",
    "mae_cv_rf = -rf_tree_cv.best_score_\n",
    "\n",
    "print(f\"MAE Train :{mae_train_rf:.4f}\")\n",
    "print(f\"MAE CV    :{mae_cv_rf:.4f}\")"
   ]
  },
  {
   "attachments": {},
   "cell_type": "markdown",
   "metadata": {},
   "source": [
    "---\n",
    "# Adaboost Method\n",
    "1. Set weight data sama\n",
    "2. Bootstrap data\n",
    "3. Buat simple decision tree (Stomps / weak learner) -- decision tree dengan 1 atau 2 split\n",
    "4. Fit decision tree ke data\n",
    "5. Predict error dari hasil fitting\n",
    "6. Atur ulang weight (menggunakan formula di slide)\n",
    "7. Ulangi kembali langkah 2-6 untuk n-estimators\n",
    "8. Hasil prediksi adalah jumlah berbobot dari prediksi weak learner yang dikumpulkan\n",
    "\n",
    "\n",
    "with sklearn"
   ]
  },
  {
   "cell_type": "code",
   "execution_count": 51,
   "metadata": {},
   "outputs": [],
   "source": [
    "from sklearn.ensemble import AdaBoostRegressor"
   ]
  },
  {
   "cell_type": "code",
   "execution_count": 52,
   "metadata": {},
   "outputs": [],
   "source": [
    "# Build random forest\n",
    "tree = DecisionTreeRegressor(max_depth = 3)\n",
    "ada_tree = AdaBoostRegressor(base_estimator = tree,\n",
    "                             n_estimators = 50,\n",
    "                             random_state = 123)"
   ]
  },
  {
   "cell_type": "code",
   "execution_count": 53,
   "metadata": {},
   "outputs": [
    {
     "data": {
      "text/plain": [
       "AdaBoostRegressor(base_estimator=DecisionTreeRegressor(max_depth=3),\n",
       "                  random_state=123)"
      ]
     },
     "execution_count": 53,
     "metadata": {},
     "output_type": "execute_result"
    }
   ],
   "source": [
    "# Fit random forest\n",
    "ada_tree.fit(X_train_clean, y_train)"
   ]
  },
  {
   "cell_type": "code",
   "execution_count": 54,
   "metadata": {},
   "outputs": [
    {
     "data": {
      "text/plain": [
       "(2.191719072690198, 2.8608215669541424)"
      ]
     },
     "execution_count": 54,
     "metadata": {},
     "output_type": "execute_result"
    }
   ],
   "source": [
    "# Predict\n",
    "y_pred_train = ada_tree.predict(X_train_clean)\n",
    "y_pred_test = ada_tree.predict(X_test_clean)\n",
    "\n",
    "# MSE\n",
    "mae_train = mean_absolute_error(y_train, y_pred_train)\n",
    "mae_test = mean_absolute_error(y_test, y_pred_test)\n",
    "\n",
    "mae_train, mae_test"
   ]
  },
  {
   "cell_type": "code",
   "execution_count": 55,
   "metadata": {},
   "outputs": [],
   "source": [
    "params = {\"n_estimators\": B}\n",
    "\n",
    "# Buat gridsearch\n",
    "tree = DecisionTreeRegressor(max_depth = 3)\n",
    "ada_tree = AdaBoostRegressor(base_estimator = tree,\n",
    "                             random_state = 123)\n",
    "\n",
    "ada_tree_cv = GridSearchCV(estimator = ada_tree,\n",
    "                           param_grid = params,\n",
    "                           cv = 5,\n",
    "                           scoring = \"neg_mean_absolute_error\")"
   ]
  },
  {
   "cell_type": "code",
   "execution_count": 56,
   "metadata": {},
   "outputs": [
    {
     "data": {
      "text/plain": [
       "GridSearchCV(cv=5,\n",
       "             estimator=AdaBoostRegressor(base_estimator=DecisionTreeRegressor(max_depth=3),\n",
       "                                         random_state=123),\n",
       "             param_grid={'n_estimators': [10, 50, 100, 150, 200, 250, 300, 350,\n",
       "                                          400, 450, 500]},\n",
       "             scoring='neg_mean_absolute_error')"
      ]
     },
     "execution_count": 56,
     "metadata": {},
     "output_type": "execute_result"
    }
   ],
   "source": [
    "# Fit grid search cv\n",
    "ada_tree_cv.fit(X_train_clean, y_train)"
   ]
  },
  {
   "cell_type": "code",
   "execution_count": 57,
   "metadata": {},
   "outputs": [
    {
     "data": {
      "text/plain": [
       "{'n_estimators': 200}"
      ]
     },
     "execution_count": 57,
     "metadata": {},
     "output_type": "execute_result"
    }
   ],
   "source": [
    "# Best params\n",
    "ada_tree_cv.best_params_"
   ]
  },
  {
   "cell_type": "code",
   "execution_count": 58,
   "metadata": {},
   "outputs": [
    {
     "data": {
      "text/plain": [
       "AdaBoostRegressor(base_estimator=DecisionTreeRegressor(max_depth=3),\n",
       "                  n_estimators=200, random_state=123)"
      ]
     },
     "execution_count": 58,
     "metadata": {},
     "output_type": "execute_result"
    }
   ],
   "source": [
    "# Refit the Adaboost\n",
    "tree = DecisionTreeRegressor(max_depth = 3)\n",
    "ada_tree = AdaBoostRegressor(base_estimator = tree,\n",
    "                             n_estimators = ada_tree_cv.best_params_[\"n_estimators\"],\n",
    "                             random_state = 123)\n",
    "\n",
    "ada_tree.fit(X_train_clean, y_train)"
   ]
  },
  {
   "cell_type": "code",
   "execution_count": 59,
   "metadata": {},
   "outputs": [
    {
     "name": "stdout",
     "output_type": "stream",
     "text": [
      "MAE Train :2.1640\n",
      "MAE CV    :2.7185\n"
     ]
    }
   ],
   "source": [
    "# Predict\n",
    "y_pred_train = ada_tree.predict(X_train_clean)\n",
    "\n",
    "# MSE\n",
    "mae_train_ab = mean_absolute_error(y_train, y_pred_train)\n",
    "mae_cv_ab = -ada_tree_cv.best_score_\n",
    "\n",
    "print(f\"MAE Train :{mae_train_ab:.4f}\")\n",
    "print(f\"MAE CV    :{mae_cv_ab:.4f}\")"
   ]
  },
  {
   "attachments": {},
   "cell_type": "markdown",
   "metadata": {},
   "source": [
    "---\n",
    "# Better Version of Boosting - Gradient Boosting Method"
   ]
  },
  {
   "attachments": {},
   "cell_type": "markdown",
   "metadata": {},
   "source": [
    "*with sklearn*"
   ]
  },
  {
   "cell_type": "code",
   "execution_count": 60,
   "metadata": {},
   "outputs": [],
   "source": [
    "from sklearn.ensemble import GradientBoostingRegressor\n",
    "\n",
    "# gradient boosting ini lebih sering dipake\n",
    "# involve kompleks perhitungan gradien dsb."
   ]
  },
  {
   "cell_type": "code",
   "execution_count": 61,
   "metadata": {},
   "outputs": [],
   "source": [
    "# Build random forest\n",
    "grad_tree = GradientBoostingRegressor(random_state = 123)"
   ]
  },
  {
   "cell_type": "code",
   "execution_count": 62,
   "metadata": {},
   "outputs": [
    {
     "data": {
      "text/plain": [
       "GradientBoostingRegressor(random_state=123)"
      ]
     },
     "execution_count": 62,
     "metadata": {},
     "output_type": "execute_result"
    }
   ],
   "source": [
    "# Fit random forest\n",
    "grad_tree.fit(X_train_clean, y_train)"
   ]
  },
  {
   "cell_type": "code",
   "execution_count": 63,
   "metadata": {},
   "outputs": [
    {
     "data": {
      "text/plain": [
       "(1.0523100481329308, 2.31897013246593)"
      ]
     },
     "execution_count": 63,
     "metadata": {},
     "output_type": "execute_result"
    }
   ],
   "source": [
    "# Predict\n",
    "y_pred_train = grad_tree.predict(X_train_clean)\n",
    "y_pred_test = grad_tree.predict(X_test_clean)\n",
    "\n",
    "# MSE\n",
    "mae_train = mean_absolute_error(y_train, y_pred_train)\n",
    "mae_test = mean_absolute_error(y_test, y_pred_test)\n",
    "\n",
    "mae_train, mae_test"
   ]
  },
  {
   "cell_type": "code",
   "execution_count": 64,
   "metadata": {},
   "outputs": [],
   "source": [
    "params = {\"n_estimators\": B}\n",
    "\n",
    "# Buat gridsearch\n",
    "grad_tree = GradientBoostingRegressor(random_state = 123)\n",
    "\n",
    "grad_tree_cv = GridSearchCV(estimator = grad_tree,\n",
    "                           param_grid = params,\n",
    "                           cv = 5,\n",
    "                           scoring = \"neg_mean_absolute_error\")"
   ]
  },
  {
   "cell_type": "code",
   "execution_count": 65,
   "metadata": {},
   "outputs": [
    {
     "data": {
      "text/plain": [
       "GridSearchCV(cv=5, estimator=GradientBoostingRegressor(random_state=123),\n",
       "             param_grid={'n_estimators': [10, 50, 100, 150, 200, 250, 300, 350,\n",
       "                                          400, 450, 500]},\n",
       "             scoring='neg_mean_absolute_error')"
      ]
     },
     "execution_count": 65,
     "metadata": {},
     "output_type": "execute_result"
    }
   ],
   "source": [
    "# Fit grid search cv\n",
    "grad_tree_cv.fit(X_train_clean, y_train)"
   ]
  },
  {
   "cell_type": "code",
   "execution_count": 66,
   "metadata": {},
   "outputs": [
    {
     "data": {
      "text/plain": [
       "{'n_estimators': 150}"
      ]
     },
     "execution_count": 66,
     "metadata": {},
     "output_type": "execute_result"
    }
   ],
   "source": [
    "# Best params\n",
    "grad_tree_cv.best_params_"
   ]
  },
  {
   "cell_type": "code",
   "execution_count": 67,
   "metadata": {},
   "outputs": [
    {
     "data": {
      "text/plain": [
       "GradientBoostingRegressor(n_estimators=150, random_state=123)"
      ]
     },
     "execution_count": 67,
     "metadata": {},
     "output_type": "execute_result"
    }
   ],
   "source": [
    "# Refit the Adaboost\n",
    "grad_tree = GradientBoostingRegressor(n_estimators = grad_tree_cv.best_params_[\"n_estimators\"],\n",
    "                                      random_state = 123)\n",
    "\n",
    "grad_tree.fit(X_train_clean, y_train)"
   ]
  },
  {
   "cell_type": "code",
   "execution_count": 68,
   "metadata": {},
   "outputs": [
    {
     "name": "stdout",
     "output_type": "stream",
     "text": [
      "MAE Train :0.8100\n",
      "MAE CV    :2.2349\n"
     ]
    }
   ],
   "source": [
    "# Predict\n",
    "y_pred_train = grad_tree.predict(X_train_clean)\n",
    "\n",
    "# MSE\n",
    "mae_train_gb = mean_absolute_error(y_train, y_pred_train)\n",
    "mae_cv_gb = -grad_tree_cv.best_score_\n",
    "\n",
    "print(f\"MAE Train :{mae_train_gb:.4f}\")\n",
    "print(f\"MAE CV    :{mae_cv_gb:.4f}\")"
   ]
  },
  {
   "attachments": {},
   "cell_type": "markdown",
   "metadata": {},
   "source": [
    "---\n",
    "# Comparison"
   ]
  },
  {
   "cell_type": "code",
   "execution_count": 69,
   "metadata": {},
   "outputs": [
    {
     "data": {
      "text/html": [
       "<div>\n",
       "<style scoped>\n",
       "    .dataframe tbody tr th:only-of-type {\n",
       "        vertical-align: middle;\n",
       "    }\n",
       "\n",
       "    .dataframe tbody tr th {\n",
       "        vertical-align: top;\n",
       "    }\n",
       "\n",
       "    .dataframe thead th {\n",
       "        text-align: right;\n",
       "    }\n",
       "</style>\n",
       "<table border=\"1\" class=\"dataframe\">\n",
       "  <thead>\n",
       "    <tr style=\"text-align: right;\">\n",
       "      <th></th>\n",
       "      <th>MAE Train</th>\n",
       "      <th>MAE CV</th>\n",
       "    </tr>\n",
       "  </thead>\n",
       "  <tbody>\n",
       "    <tr>\n",
       "      <th>decision tree</th>\n",
       "      <td>1.252579</td>\n",
       "      <td>3.175117</td>\n",
       "    </tr>\n",
       "    <tr>\n",
       "      <th>bagging</th>\n",
       "      <td>0.812393</td>\n",
       "      <td>2.305093</td>\n",
       "    </tr>\n",
       "    <tr>\n",
       "      <th>random forest</th>\n",
       "      <td>0.802653</td>\n",
       "      <td>2.232963</td>\n",
       "    </tr>\n",
       "    <tr>\n",
       "      <th>adaBoost</th>\n",
       "      <td>2.163998</td>\n",
       "      <td>2.718546</td>\n",
       "    </tr>\n",
       "    <tr>\n",
       "      <th>gradientBoost</th>\n",
       "      <td>0.810002</td>\n",
       "      <td>2.234861</td>\n",
       "    </tr>\n",
       "  </tbody>\n",
       "</table>\n",
       "</div>"
      ],
      "text/plain": [
       "               MAE Train    MAE CV\n",
       "decision tree   1.252579  3.175117\n",
       "bagging         0.812393  2.305093\n",
       "random forest   0.802653  2.232963\n",
       "adaBoost        2.163998  2.718546\n",
       "gradientBoost   0.810002  2.234861"
      ]
     },
     "execution_count": 69,
     "metadata": {},
     "output_type": "execute_result"
    }
   ],
   "source": [
    "mae_train = [mae_train_dt, mae_train_bg, mae_train_rf, mae_train_ab, mae_train_gb]\n",
    "mae_cv = [mae_cv_dt, mae_cv_bg, mae_cv_rf, mae_cv_ab, mae_cv_gb]\n",
    "indexes = [\"decision tree\", \"bagging\", \"random forest\", \"adaBoost\", \"gradientBoost\"]\n",
    "\n",
    "summary_df = pd.DataFrame({\"MAE Train\": mae_train,\n",
    "                           \"MAE CV\": mae_cv},\n",
    "                          index = indexes)\n",
    "summary_df"
   ]
  },
  {
   "attachments": {},
   "cell_type": "markdown",
   "metadata": {},
   "source": [
    "---\n",
    "# Best Model\n",
    "\n",
    "**Random Forest**"
   ]
  },
  {
   "cell_type": "code",
   "execution_count": 70,
   "metadata": {},
   "outputs": [
    {
     "data": {
      "text/plain": [
       "(2.1940980392156866, 6.7705494078819655)"
      ]
     },
     "execution_count": 70,
     "metadata": {},
     "output_type": "execute_result"
    }
   ],
   "source": [
    "# Predict MAE\n",
    "y_pred_test = rf_tree.predict(X_test_clean)\n",
    "\n",
    "mae_test = mean_absolute_error(y_test, y_pred_test)\n",
    "mae_test, mae_test_baseline"
   ]
  },
  {
   "attachments": {},
   "cell_type": "markdown",
   "metadata": {},
   "source": [
    "---\n",
    "# Error Analysis"
   ]
  },
  {
   "cell_type": "code",
   "execution_count": 71,
   "metadata": {},
   "outputs": [],
   "source": [
    "import matplotlib.pyplot as plt"
   ]
  },
  {
   "cell_type": "code",
   "execution_count": 72,
   "metadata": {},
   "outputs": [
    {
     "data": {
      "text/plain": [
       "(0.0, 60.0)"
      ]
     },
     "execution_count": 72,
     "metadata": {},
     "output_type": "execute_result"
    },
    {
     "data": {
      "image/png": "[encoded data removed]",
      "text/plain": [
       "<Figure size 720x504 with 1 Axes>"
      ]
     },
     "metadata": {
      "needs_background": "light"
     },
     "output_type": "display_data"
    }
   ],
   "source": [
    "plt.scatter(y_test, y_pred_test)\n",
    "plt.plot([0, 60], [0,60], \"--r\")\n",
    "\n",
    "plt.xlabel(\"price asli\")\n",
    "plt.ylabel(\"price prediksi\")\n",
    "plt.xlim(0, 60)\n",
    "plt.ylim(0, 60)\n"
   ]
  },
  {
   "cell_type": "code",
   "execution_count": 73,
   "metadata": {},
   "outputs": [
    {
     "data": {
      "image/png": "[encoded data removed]",
      "text/plain": [
       "<Figure size 720x504 with 1 Axes>"
      ]
     },
     "metadata": {
      "needs_background": "light"
     },
     "output_type": "display_data"
    }
   ],
   "source": [
    "price_deviation = np.abs(y_test - y_pred_test)\n",
    "\n",
    "plt.scatter(y_test, price_deviation)\n",
    "plt.xlabel(\"price asli\")\n",
    "plt.ylabel(\"deviasi harga\")\n",
    "\n",
    "plt.show()"
   ]
  },
  {
   "attachments": {},
   "cell_type": "markdown",
   "metadata": {},
   "source": [
    "**Observasi**\n",
    "- Performa model bagus saat memprediksi data  price di rentan 10-40\n",
    "- Di atas itu, performa model turun.\n",
    "\n",
    "**Action**\n",
    "- EDA data-data dengan price yang tinggi.\n",
    "- Putuskan apakah perlu filtering outlier, atau mencari tambahan data agar bisa belajar data yang price-nya tinggi."
   ]
  }
 ],
 "metadata": {
  "kernelspec": {
   "display_name": "base",
   "language": "python",
   "name": "python3"
  },
  "language_info": {
   "codemirror_mode": {
    "name": "ipython",
    "version": 3
   },
   "file_extension": ".py",
   "mimetype": "text/x-python",
   "name": "python",
   "nbconvert_exporter": "python",
   "pygments_lexer": "ipython3",
   "version": "3.9.12"
  },
  "orig_nbformat": 4
 },
 "nbformat": 4,
 "nbformat_minor": 2
}
