{
 "cells": [
  {
   "cell_type": "code",
   "execution_count": 1,
   "metadata": {},
   "outputs": [],
   "source": [
    "import pandas as pd\n",
    "import numpy as np\n",
    "\n",
    "import matplotlib.pyplot as plt\n",
    "plt.rcParams.update({'font.size': 16})"
   ]
  },
  {
   "cell_type": "code",
   "execution_count": 2,
   "metadata": {},
   "outputs": [
    {
     "data": {
      "text/html": [
       "<div>\n",
       "<style scoped>\n",
       "    .dataframe tbody tr th:only-of-type {\n",
       "        vertical-align: middle;\n",
       "    }\n",
       "\n",
       "    .dataframe tbody tr th {\n",
       "        vertical-align: top;\n",
       "    }\n",
       "\n",
       "    .dataframe thead th {\n",
       "        text-align: right;\n",
       "    }\n",
       "</style>\n",
       "<table border=\"1\" class=\"dataframe\">\n",
       "  <thead>\n",
       "    <tr style=\"text-align: right;\">\n",
       "      <th></th>\n",
       "      <th>x</th>\n",
       "      <th>y</th>\n",
       "    </tr>\n",
       "  </thead>\n",
       "  <tbody>\n",
       "    <tr>\n",
       "      <th>0</th>\n",
       "      <td>1</td>\n",
       "      <td>25</td>\n",
       "    </tr>\n",
       "    <tr>\n",
       "      <th>1</th>\n",
       "      <td>2</td>\n",
       "      <td>49</td>\n",
       "    </tr>\n",
       "    <tr>\n",
       "      <th>2</th>\n",
       "      <td>3</td>\n",
       "      <td>81</td>\n",
       "    </tr>\n",
       "    <tr>\n",
       "      <th>3</th>\n",
       "      <td>4</td>\n",
       "      <td>121</td>\n",
       "    </tr>\n",
       "    <tr>\n",
       "      <th>4</th>\n",
       "      <td>5</td>\n",
       "      <td>169</td>\n",
       "    </tr>\n",
       "    <tr>\n",
       "      <th>5</th>\n",
       "      <td>6</td>\n",
       "      <td>225</td>\n",
       "    </tr>\n",
       "    <tr>\n",
       "      <th>6</th>\n",
       "      <td>7</td>\n",
       "      <td>289</td>\n",
       "    </tr>\n",
       "    <tr>\n",
       "      <th>7</th>\n",
       "      <td>8</td>\n",
       "      <td>361</td>\n",
       "    </tr>\n",
       "    <tr>\n",
       "      <th>8</th>\n",
       "      <td>9</td>\n",
       "      <td>441</td>\n",
       "    </tr>\n",
       "    <tr>\n",
       "      <th>9</th>\n",
       "      <td>10</td>\n",
       "      <td>529</td>\n",
       "    </tr>\n",
       "  </tbody>\n",
       "</table>\n",
       "</div>"
      ],
      "text/plain": [
       "    x    y\n",
       "0   1   25\n",
       "1   2   49\n",
       "2   3   81\n",
       "3   4  121\n",
       "4   5  169\n",
       "5   6  225\n",
       "6   7  289\n",
       "7   8  361\n",
       "8   9  441\n",
       "9  10  529"
      ]
     },
     "execution_count": 2,
     "metadata": {},
     "output_type": "execute_result"
    }
   ],
   "source": [
    "# ---\n",
    "# ## Sampling\n",
    "\n",
    "# - Lakukan sampling acak dengan `<dataframe>.sample()`\n",
    "\n",
    "# Buat data yang ingin di-sampling\n",
    "x = np.array([1, 2, 3, 4, 5, 6, 7, 8, 9, 10])\n",
    "y = (2*x + 3)**2\n",
    "\n",
    "data = pd.DataFrame({\"x\": x,\n",
    "                     \"y\": y})\n",
    "\n",
    "data"
   ]
  },
  {
   "cell_type": "code",
   "execution_count": 3,
   "metadata": {},
   "outputs": [
    {
     "data": {
      "text/html": [
       "<div>\n",
       "<style scoped>\n",
       "    .dataframe tbody tr th:only-of-type {\n",
       "        vertical-align: middle;\n",
       "    }\n",
       "\n",
       "    .dataframe tbody tr th {\n",
       "        vertical-align: top;\n",
       "    }\n",
       "\n",
       "    .dataframe thead th {\n",
       "        text-align: right;\n",
       "    }\n",
       "</style>\n",
       "<table border=\"1\" class=\"dataframe\">\n",
       "  <thead>\n",
       "    <tr style=\"text-align: right;\">\n",
       "      <th></th>\n",
       "      <th>x</th>\n",
       "      <th>y</th>\n",
       "    </tr>\n",
       "  </thead>\n",
       "  <tbody>\n",
       "    <tr>\n",
       "      <th>3</th>\n",
       "      <td>4</td>\n",
       "      <td>121</td>\n",
       "    </tr>\n",
       "    <tr>\n",
       "      <th>5</th>\n",
       "      <td>6</td>\n",
       "      <td>225</td>\n",
       "    </tr>\n",
       "    <tr>\n",
       "      <th>8</th>\n",
       "      <td>9</td>\n",
       "      <td>441</td>\n",
       "    </tr>\n",
       "    <tr>\n",
       "      <th>0</th>\n",
       "      <td>1</td>\n",
       "      <td>25</td>\n",
       "    </tr>\n",
       "    <tr>\n",
       "      <th>2</th>\n",
       "      <td>3</td>\n",
       "      <td>81</td>\n",
       "    </tr>\n",
       "  </tbody>\n",
       "</table>\n",
       "</div>"
      ],
      "text/plain": [
       "   x    y\n",
       "3  4  121\n",
       "5  6  225\n",
       "8  9  441\n",
       "0  1   25\n",
       "2  3   81"
      ]
     },
     "execution_count": 3,
     "metadata": {},
     "output_type": "execute_result"
    }
   ],
   "source": [
    "# Lakukan sampling sederhana\n",
    "# Sampling TANPA pengembalian\n",
    "n_sample = 5\n",
    "data.sample(n = n_sample)"
   ]
  },
  {
   "cell_type": "code",
   "execution_count": 4,
   "metadata": {},
   "outputs": [
    {
     "data": {
      "text/html": [
       "<div>\n",
       "<style scoped>\n",
       "    .dataframe tbody tr th:only-of-type {\n",
       "        vertical-align: middle;\n",
       "    }\n",
       "\n",
       "    .dataframe tbody tr th {\n",
       "        vertical-align: top;\n",
       "    }\n",
       "\n",
       "    .dataframe thead th {\n",
       "        text-align: right;\n",
       "    }\n",
       "</style>\n",
       "<table border=\"1\" class=\"dataframe\">\n",
       "  <thead>\n",
       "    <tr style=\"text-align: right;\">\n",
       "      <th></th>\n",
       "      <th>x</th>\n",
       "      <th>y</th>\n",
       "    </tr>\n",
       "  </thead>\n",
       "  <tbody>\n",
       "    <tr>\n",
       "      <th>4</th>\n",
       "      <td>5</td>\n",
       "      <td>169</td>\n",
       "    </tr>\n",
       "    <tr>\n",
       "      <th>7</th>\n",
       "      <td>8</td>\n",
       "      <td>361</td>\n",
       "    </tr>\n",
       "    <tr>\n",
       "      <th>2</th>\n",
       "      <td>3</td>\n",
       "      <td>81</td>\n",
       "    </tr>\n",
       "    <tr>\n",
       "      <th>8</th>\n",
       "      <td>9</td>\n",
       "      <td>441</td>\n",
       "    </tr>\n",
       "  </tbody>\n",
       "</table>\n",
       "</div>"
      ],
      "text/plain": [
       "   x    y\n",
       "4  5  169\n",
       "7  8  361\n",
       "2  3   81\n",
       "8  9  441"
      ]
     },
     "execution_count": 4,
     "metadata": {},
     "output_type": "execute_result"
    }
   ],
   "source": [
    "# Lakukan sampling sederhana\n",
    "# Sampling TANPA pengembalian\n",
    "frac_sample = 0.4\n",
    "data.sample(frac = frac_sample)"
   ]
  },
  {
   "cell_type": "code",
   "execution_count": 5,
   "metadata": {},
   "outputs": [
    {
     "name": "stdout",
     "output_type": "stream",
     "text": [
      "Index sample ke-1 : [3, 7, 9, 2, 4]\n",
      "Index sample ke-2 : [8, 5, 1, 6, 9]\n",
      "Index sample ke-3 : [0, 2, 6, 4, 1]\n",
      "Index sample ke-4 : [9, 3, 8, 1, 5]\n",
      "Index sample ke-5 : [2, 1, 7, 0, 5]\n",
      "Index sample ke-6 : [8, 6, 9, 2, 5]\n",
      "Index sample ke-7 : [6, 5, 2, 8, 3]\n",
      "Index sample ke-8 : [8, 3, 4, 5, 7]\n",
      "Index sample ke-9 : [4, 8, 0, 1, 6]\n",
      "Index sample ke-10 : [4, 0, 6, 3, 7]\n"
     ]
    }
   ],
   "source": [
    "# Lakukan 10 sampling\n",
    "for i in range(10):\n",
    "    data_sample = data.sample(n = n_sample)\n",
    "    index_data_sample = data_sample.index.to_list()\n",
    "\n",
    "    print(f\"Index sample ke-{i+1} : {index_data_sample}\")"
   ]
  },
  {
   "cell_type": "code",
   "execution_count": 6,
   "metadata": {},
   "outputs": [
    {
     "data": {
      "text/html": [
       "<div>\n",
       "<style scoped>\n",
       "    .dataframe tbody tr th:only-of-type {\n",
       "        vertical-align: middle;\n",
       "    }\n",
       "\n",
       "    .dataframe tbody tr th {\n",
       "        vertical-align: top;\n",
       "    }\n",
       "\n",
       "    .dataframe thead th {\n",
       "        text-align: right;\n",
       "    }\n",
       "</style>\n",
       "<table border=\"1\" class=\"dataframe\">\n",
       "  <thead>\n",
       "    <tr style=\"text-align: right;\">\n",
       "      <th></th>\n",
       "      <th>x</th>\n",
       "      <th>y</th>\n",
       "    </tr>\n",
       "  </thead>\n",
       "  <tbody>\n",
       "    <tr>\n",
       "      <th>5</th>\n",
       "      <td>6</td>\n",
       "      <td>225</td>\n",
       "    </tr>\n",
       "    <tr>\n",
       "      <th>6</th>\n",
       "      <td>7</td>\n",
       "      <td>289</td>\n",
       "    </tr>\n",
       "    <tr>\n",
       "      <th>0</th>\n",
       "      <td>1</td>\n",
       "      <td>25</td>\n",
       "    </tr>\n",
       "    <tr>\n",
       "      <th>7</th>\n",
       "      <td>8</td>\n",
       "      <td>361</td>\n",
       "    </tr>\n",
       "    <tr>\n",
       "      <th>8</th>\n",
       "      <td>9</td>\n",
       "      <td>441</td>\n",
       "    </tr>\n",
       "  </tbody>\n",
       "</table>\n",
       "</div>"
      ],
      "text/plain": [
       "   x    y\n",
       "5  6  225\n",
       "6  7  289\n",
       "0  1   25\n",
       "7  8  361\n",
       "8  9  441"
      ]
     },
     "execution_count": 6,
     "metadata": {},
     "output_type": "execute_result"
    }
   ],
   "source": [
    "# Lakukan sampling sederhana\n",
    "# Sampling DENGAN pengembalian\n",
    "n_sample = 5\n",
    "data.sample(n = n_sample,\n",
    "            replace = True)"
   ]
  },
  {
   "cell_type": "code",
   "execution_count": 7,
   "metadata": {},
   "outputs": [
    {
     "name": "stdout",
     "output_type": "stream",
     "text": [
      "Index sample ke-1 : [1, 3, 3, 2, 5]\n",
      "Index sample ke-2 : [7, 3, 5, 7, 2]\n",
      "Index sample ke-3 : [6, 8, 6, 7, 5]\n",
      "Index sample ke-4 : [3, 5, 6, 2, 6]\n",
      "Index sample ke-5 : [5, 2, 7, 7, 8]\n",
      "Index sample ke-6 : [4, 9, 2, 8, 6]\n",
      "Index sample ke-7 : [1, 4, 7, 0, 5]\n",
      "Index sample ke-8 : [0, 5, 7, 0, 6]\n",
      "Index sample ke-9 : [0, 1, 4, 4, 8]\n",
      "Index sample ke-10 : [0, 2, 8, 1, 0]\n"
     ]
    }
   ],
   "source": [
    "# Lakukan 10 sampling\n",
    "for i in range(10):\n",
    "    data_sample = data.sample(n = n_sample, replace = True)\n",
    "    index_data_sample = data_sample.index.to_list()\n",
    "\n",
    "    print(f\"Index sample ke-{i+1} : {index_data_sample}\")"
   ]
  },
  {
   "cell_type": "code",
   "execution_count": 8,
   "metadata": {},
   "outputs": [],
   "source": [
    "# ---\n",
    "# ## Validation Set Approach\n",
    "\n",
    "# - Bagi dataset 50:50 untuk training & validation\n",
    "# - Tanpa pengembalian"
   ]
  },
  {
   "cell_type": "code",
   "execution_count": 9,
   "metadata": {},
   "outputs": [
    {
     "data": {
      "text/html": [
       "<div>\n",
       "<style scoped>\n",
       "    .dataframe tbody tr th:only-of-type {\n",
       "        vertical-align: middle;\n",
       "    }\n",
       "\n",
       "    .dataframe tbody tr th {\n",
       "        vertical-align: top;\n",
       "    }\n",
       "\n",
       "    .dataframe thead th {\n",
       "        text-align: right;\n",
       "    }\n",
       "</style>\n",
       "<table border=\"1\" class=\"dataframe\">\n",
       "  <thead>\n",
       "    <tr style=\"text-align: right;\">\n",
       "      <th></th>\n",
       "      <th>x</th>\n",
       "      <th>y</th>\n",
       "    </tr>\n",
       "  </thead>\n",
       "  <tbody>\n",
       "    <tr>\n",
       "      <th>5</th>\n",
       "      <td>6</td>\n",
       "      <td>225</td>\n",
       "    </tr>\n",
       "    <tr>\n",
       "      <th>1</th>\n",
       "      <td>2</td>\n",
       "      <td>49</td>\n",
       "    </tr>\n",
       "    <tr>\n",
       "      <th>7</th>\n",
       "      <td>8</td>\n",
       "      <td>361</td>\n",
       "    </tr>\n",
       "    <tr>\n",
       "      <th>3</th>\n",
       "      <td>4</td>\n",
       "      <td>121</td>\n",
       "    </tr>\n",
       "    <tr>\n",
       "      <th>4</th>\n",
       "      <td>5</td>\n",
       "      <td>169</td>\n",
       "    </tr>\n",
       "  </tbody>\n",
       "</table>\n",
       "</div>"
      ],
      "text/plain": [
       "   x    y\n",
       "5  6  225\n",
       "1  2   49\n",
       "7  8  361\n",
       "3  4  121\n",
       "4  5  169"
      ]
     },
     "execution_count": 9,
     "metadata": {},
     "output_type": "execute_result"
    }
   ],
   "source": [
    "# Definisikan proporsi data validasi\n",
    "frac_validation = 0.5\n",
    "\n",
    "# Buat data training\n",
    "data_training = data.sample(frac = frac_validation)\n",
    "data_training"
   ]
  },
  {
   "cell_type": "code",
   "execution_count": 10,
   "metadata": {},
   "outputs": [
    {
     "data": {
      "text/html": [
       "<div>\n",
       "<style scoped>\n",
       "    .dataframe tbody tr th:only-of-type {\n",
       "        vertical-align: middle;\n",
       "    }\n",
       "\n",
       "    .dataframe tbody tr th {\n",
       "        vertical-align: top;\n",
       "    }\n",
       "\n",
       "    .dataframe thead th {\n",
       "        text-align: right;\n",
       "    }\n",
       "</style>\n",
       "<table border=\"1\" class=\"dataframe\">\n",
       "  <thead>\n",
       "    <tr style=\"text-align: right;\">\n",
       "      <th></th>\n",
       "      <th>x</th>\n",
       "      <th>y</th>\n",
       "    </tr>\n",
       "  </thead>\n",
       "  <tbody>\n",
       "    <tr>\n",
       "      <th>0</th>\n",
       "      <td>1</td>\n",
       "      <td>25</td>\n",
       "    </tr>\n",
       "    <tr>\n",
       "      <th>2</th>\n",
       "      <td>3</td>\n",
       "      <td>81</td>\n",
       "    </tr>\n",
       "    <tr>\n",
       "      <th>6</th>\n",
       "      <td>7</td>\n",
       "      <td>289</td>\n",
       "    </tr>\n",
       "    <tr>\n",
       "      <th>8</th>\n",
       "      <td>9</td>\n",
       "      <td>441</td>\n",
       "    </tr>\n",
       "    <tr>\n",
       "      <th>9</th>\n",
       "      <td>10</td>\n",
       "      <td>529</td>\n",
       "    </tr>\n",
       "  </tbody>\n",
       "</table>\n",
       "</div>"
      ],
      "text/plain": [
       "    x    y\n",
       "0   1   25\n",
       "2   3   81\n",
       "6   7  289\n",
       "8   9  441\n",
       "9  10  529"
      ]
     },
     "execution_count": 10,
     "metadata": {},
     "output_type": "execute_result"
    }
   ],
   "source": [
    "# Buat data validation\n",
    "index_data_training = data_training.index.to_list()\n",
    "\n",
    "data_validation = data.drop(index=index_data_training)\n",
    "data_validation"
   ]
  },
  {
   "cell_type": "code",
   "execution_count": 11,
   "metadata": {},
   "outputs": [],
   "source": [
    "# buat fungsi validation set approach\n",
    "def split_validation_set(data):\n",
    "    \"\"\"\n",
    "    Fungsi untuk splitting data training & validation\n",
    "    :param data: <pandas dataframe> sampel data\n",
    "    :return data_training: <pandas dataframe> training data\n",
    "    :return data_validation: <pandas dataframe> validation data\n",
    "    \"\"\"\n",
    "    # 1. cari data training\n",
    "    data_training = data.sample(frac = 0.5)\n",
    "\n",
    "    # 2. cari data valiadtion\n",
    "    index_data_training = data_training.index.to_list()\n",
    "    data_validation = data.drop(index=index_data_training)\n",
    "\n",
    "    return data_training, data_validation\n",
    "    "
   ]
  },
  {
   "cell_type": "code",
   "execution_count": 12,
   "metadata": {},
   "outputs": [
    {
     "name": "stdout",
     "output_type": "stream",
     "text": [
      "    x    y\n",
      "3   4  121\n",
      "8   9  441\n",
      "9  10  529\n",
      "1   2   49\n",
      "5   6  225\n",
      "\n",
      "   x    y\n",
      "0  1   25\n",
      "2  3   81\n",
      "4  5  169\n",
      "6  7  289\n",
      "7  8  361\n"
     ]
    }
   ],
   "source": [
    "data_training, data_validation = split_validation_set(data = data)\n",
    "\n",
    "print(data_training)\n",
    "print(\"\")\n",
    "print(data_validation)"
   ]
  },
  {
   "cell_type": "code",
   "execution_count": 13,
   "metadata": {},
   "outputs": [
    {
     "data": {
      "text/html": [
       "<div>\n",
       "<style scoped>\n",
       "    .dataframe tbody tr th:only-of-type {\n",
       "        vertical-align: middle;\n",
       "    }\n",
       "\n",
       "    .dataframe tbody tr th {\n",
       "        vertical-align: top;\n",
       "    }\n",
       "\n",
       "    .dataframe thead th {\n",
       "        text-align: right;\n",
       "    }\n",
       "</style>\n",
       "<table border=\"1\" class=\"dataframe\">\n",
       "  <thead>\n",
       "    <tr style=\"text-align: right;\">\n",
       "      <th></th>\n",
       "      <th>displacement</th>\n",
       "      <th>horsepower</th>\n",
       "      <th>weight</th>\n",
       "      <th>mpg</th>\n",
       "    </tr>\n",
       "  </thead>\n",
       "  <tbody>\n",
       "    <tr>\n",
       "      <th>0</th>\n",
       "      <td>307.0</td>\n",
       "      <td>130.0</td>\n",
       "      <td>3504.0</td>\n",
       "      <td>18.0</td>\n",
       "    </tr>\n",
       "    <tr>\n",
       "      <th>1</th>\n",
       "      <td>350.0</td>\n",
       "      <td>165.0</td>\n",
       "      <td>3693.0</td>\n",
       "      <td>15.0</td>\n",
       "    </tr>\n",
       "    <tr>\n",
       "      <th>2</th>\n",
       "      <td>318.0</td>\n",
       "      <td>150.0</td>\n",
       "      <td>3436.0</td>\n",
       "      <td>18.0</td>\n",
       "    </tr>\n",
       "    <tr>\n",
       "      <th>3</th>\n",
       "      <td>304.0</td>\n",
       "      <td>150.0</td>\n",
       "      <td>3433.0</td>\n",
       "      <td>16.0</td>\n",
       "    </tr>\n",
       "    <tr>\n",
       "      <th>4</th>\n",
       "      <td>302.0</td>\n",
       "      <td>140.0</td>\n",
       "      <td>3449.0</td>\n",
       "      <td>17.0</td>\n",
       "    </tr>\n",
       "  </tbody>\n",
       "</table>\n",
       "</div>"
      ],
      "text/plain": [
       "   displacement  horsepower  weight   mpg\n",
       "0         307.0       130.0  3504.0  18.0\n",
       "1         350.0       165.0  3693.0  15.0\n",
       "2         318.0       150.0  3436.0  18.0\n",
       "3         304.0       150.0  3433.0  16.0\n",
       "4         302.0       140.0  3449.0  17.0"
      ]
     },
     "execution_count": 13,
     "metadata": {},
     "output_type": "execute_result"
    }
   ],
   "source": [
    "# Aplikasi di model\n",
    "\n",
    "auto_data = pd.read_csv(\"data/auto.csv\")\n",
    "auto_data = auto_data[[\"displacement\", \"horsepower\", \"weight\", \"mpg\"]]\n",
    "\n",
    "auto_data.head()"
   ]
  },
  {
   "cell_type": "code",
   "execution_count": 14,
   "metadata": {},
   "outputs": [],
   "source": [
    "# Split data train & validation\n",
    "data_train, data_validation = split_validation_set(data = auto_data)"
   ]
  },
  {
   "cell_type": "code",
   "execution_count": 15,
   "metadata": {},
   "outputs": [
    {
     "data": {
      "text/html": [
       "<div>\n",
       "<style scoped>\n",
       "    .dataframe tbody tr th:only-of-type {\n",
       "        vertical-align: middle;\n",
       "    }\n",
       "\n",
       "    .dataframe tbody tr th {\n",
       "        vertical-align: top;\n",
       "    }\n",
       "\n",
       "    .dataframe thead th {\n",
       "        text-align: right;\n",
       "    }\n",
       "</style>\n",
       "<table border=\"1\" class=\"dataframe\">\n",
       "  <thead>\n",
       "    <tr style=\"text-align: right;\">\n",
       "      <th></th>\n",
       "      <th>displacement</th>\n",
       "      <th>horsepower</th>\n",
       "      <th>weight</th>\n",
       "      <th>mpg</th>\n",
       "    </tr>\n",
       "  </thead>\n",
       "  <tbody>\n",
       "    <tr>\n",
       "      <th>320</th>\n",
       "      <td>86.0</td>\n",
       "      <td>65.0</td>\n",
       "      <td>2110.0</td>\n",
       "      <td>46.6</td>\n",
       "    </tr>\n",
       "    <tr>\n",
       "      <th>175</th>\n",
       "      <td>115.0</td>\n",
       "      <td>95.0</td>\n",
       "      <td>2694.0</td>\n",
       "      <td>23.0</td>\n",
       "    </tr>\n",
       "    <tr>\n",
       "      <th>36</th>\n",
       "      <td>232.0</td>\n",
       "      <td>100.0</td>\n",
       "      <td>3288.0</td>\n",
       "      <td>18.0</td>\n",
       "    </tr>\n",
       "    <tr>\n",
       "      <th>81</th>\n",
       "      <td>120.0</td>\n",
       "      <td>97.0</td>\n",
       "      <td>2506.0</td>\n",
       "      <td>23.0</td>\n",
       "    </tr>\n",
       "    <tr>\n",
       "      <th>30</th>\n",
       "      <td>140.0</td>\n",
       "      <td>90.0</td>\n",
       "      <td>2264.0</td>\n",
       "      <td>28.0</td>\n",
       "    </tr>\n",
       "  </tbody>\n",
       "</table>\n",
       "</div>"
      ],
      "text/plain": [
       "     displacement  horsepower  weight   mpg\n",
       "320          86.0        65.0  2110.0  46.6\n",
       "175         115.0        95.0  2694.0  23.0\n",
       "36          232.0       100.0  3288.0  18.0\n",
       "81          120.0        97.0  2506.0  23.0\n",
       "30          140.0        90.0  2264.0  28.0"
      ]
     },
     "execution_count": 15,
     "metadata": {},
     "output_type": "execute_result"
    }
   ],
   "source": [
    "data_train.head()"
   ]
  },
  {
   "cell_type": "code",
   "execution_count": 16,
   "metadata": {},
   "outputs": [
    {
     "data": {
      "text/html": [
       "<div>\n",
       "<style scoped>\n",
       "    .dataframe tbody tr th:only-of-type {\n",
       "        vertical-align: middle;\n",
       "    }\n",
       "\n",
       "    .dataframe tbody tr th {\n",
       "        vertical-align: top;\n",
       "    }\n",
       "\n",
       "    .dataframe thead th {\n",
       "        text-align: right;\n",
       "    }\n",
       "</style>\n",
       "<table border=\"1\" class=\"dataframe\">\n",
       "  <thead>\n",
       "    <tr style=\"text-align: right;\">\n",
       "      <th></th>\n",
       "      <th>displacement</th>\n",
       "      <th>horsepower</th>\n",
       "      <th>weight</th>\n",
       "      <th>mpg</th>\n",
       "    </tr>\n",
       "  </thead>\n",
       "  <tbody>\n",
       "    <tr>\n",
       "      <th>1</th>\n",
       "      <td>350.0</td>\n",
       "      <td>165.0</td>\n",
       "      <td>3693.0</td>\n",
       "      <td>15.0</td>\n",
       "    </tr>\n",
       "    <tr>\n",
       "      <th>2</th>\n",
       "      <td>318.0</td>\n",
       "      <td>150.0</td>\n",
       "      <td>3436.0</td>\n",
       "      <td>18.0</td>\n",
       "    </tr>\n",
       "    <tr>\n",
       "      <th>4</th>\n",
       "      <td>302.0</td>\n",
       "      <td>140.0</td>\n",
       "      <td>3449.0</td>\n",
       "      <td>17.0</td>\n",
       "    </tr>\n",
       "    <tr>\n",
       "      <th>7</th>\n",
       "      <td>440.0</td>\n",
       "      <td>215.0</td>\n",
       "      <td>4312.0</td>\n",
       "      <td>14.0</td>\n",
       "    </tr>\n",
       "    <tr>\n",
       "      <th>8</th>\n",
       "      <td>455.0</td>\n",
       "      <td>225.0</td>\n",
       "      <td>4425.0</td>\n",
       "      <td>14.0</td>\n",
       "    </tr>\n",
       "  </tbody>\n",
       "</table>\n",
       "</div>"
      ],
      "text/plain": [
       "   displacement  horsepower  weight   mpg\n",
       "1         350.0       165.0  3693.0  15.0\n",
       "2         318.0       150.0  3436.0  18.0\n",
       "4         302.0       140.0  3449.0  17.0\n",
       "7         440.0       215.0  4312.0  14.0\n",
       "8         455.0       225.0  4425.0  14.0"
      ]
     },
     "execution_count": 16,
     "metadata": {},
     "output_type": "execute_result"
    }
   ],
   "source": [
    "data_validation.head()"
   ]
  },
  {
   "cell_type": "code",
   "execution_count": 17,
   "metadata": {},
   "outputs": [],
   "source": [
    "# Split data X & y\n",
    "# y = mpg\n",
    "def split_X_y(data, target_column):\n",
    "    \"\"\"\n",
    "    Fungsi untuk split X & y\n",
    "    :param data: <pandas dataframe> data sample\n",
    "    :param target_column: <str> nama target\n",
    "    :return X: <pandas dataframe> input\n",
    "    :return y: <pandas series> output\n",
    "    \"\"\"\n",
    "    # 1. Cari y\n",
    "    y = data[target_column]\n",
    "    \n",
    "    # 2. Cari X\n",
    "    X = data.drop(columns = target_column)\n",
    "\n",
    "    return X, y"
   ]
  },
  {
   "cell_type": "code",
   "execution_count": 18,
   "metadata": {},
   "outputs": [],
   "source": [
    "# Split training data\n",
    "X_train, y_train = split_X_y(data = data_train,\n",
    "                             target_column = \"mpg\")\n",
    "\n",
    "# Split validation data\n",
    "X_valid, y_valid = split_X_y(data = data_validation,\n",
    "                             target_column = \"mpg\")"
   ]
  },
  {
   "cell_type": "code",
   "execution_count": 19,
   "metadata": {},
   "outputs": [],
   "source": [
    "# Lakukan prediksi\n",
    "\n",
    "# Prediksi\n",
    "from sklearn.tree import DecisionTreeRegressor\n",
    "\n",
    "regressor = DecisionTreeRegressor(criterion = \"squared_error\",\n",
    "                                  max_depth = 3)"
   ]
  },
  {
   "cell_type": "code",
   "execution_count": 20,
   "metadata": {},
   "outputs": [
    {
     "data": {
      "text/plain": [
       "DecisionTreeRegressor(max_depth=3)"
      ]
     },
     "execution_count": 20,
     "metadata": {},
     "output_type": "execute_result"
    }
   ],
   "source": [
    "# Fit di data training\n",
    "regressor.fit(X = X_train,\n",
    "              y = y_train)"
   ]
  },
  {
   "cell_type": "code",
   "execution_count": 21,
   "metadata": {},
   "outputs": [],
   "source": [
    "# Predict score\n",
    "pred_training = regressor.predict(X_train)\n",
    "pred_validation = regressor.predict(X_valid)"
   ]
  },
  {
   "cell_type": "code",
   "execution_count": 22,
   "metadata": {},
   "outputs": [],
   "source": [
    "# Cek MSE di data training & validation\n",
    "from sklearn.metrics import mean_squared_error\n",
    "\n",
    "mse_training = mean_squared_error(y_true = y_train,\n",
    "                                  y_pred = pred_training)\n",
    "\n",
    "mse_validation = mean_squared_error(y_true = y_valid,\n",
    "                                    y_pred = pred_validation)"
   ]
  },
  {
   "cell_type": "code",
   "execution_count": 23,
   "metadata": {},
   "outputs": [
    {
     "name": "stdout",
     "output_type": "stream",
     "text": [
      "mse training   : 11.8497\n",
      "mse validation : 18.1291\n"
     ]
    }
   ],
   "source": [
    "print(f\"mse training   : {mse_training:.4f}\")\n",
    "print(f\"mse validation : {mse_validation:.4f}\")"
   ]
  },
  {
   "cell_type": "code",
   "execution_count": 24,
   "metadata": {},
   "outputs": [],
   "source": [
    "# Lakukan eksperimen 1\n",
    "\n",
    "# Model: Tree\n",
    "# depth of tree: variasi 1-10\n",
    "\n",
    "depth_list = [1, 2, 3, 4, 5, 6, 7, 8, 9, 10]\n",
    "mse_training_list = []\n",
    "mse_valid_list = []\n",
    "\n",
    "for i in range(10):\n",
    "    # 1. Fit model\n",
    "    regressor = DecisionTreeRegressor(max_depth = depth_list[i])\n",
    "    \n",
    "    regressor.fit(X = X_train,\n",
    "                  y = y_train)\n",
    "\n",
    "    # 2. Buat prediksi\n",
    "    pred_training = regressor.predict(X_train)\n",
    "    pred_validation = regressor.predict(X_valid)\n",
    "\n",
    "    # 3. Hitung mse di training & validation\n",
    "    mse_training = mean_squared_error(y_true = y_train,\n",
    "                                      y_pred = pred_training)\n",
    " \n",
    "    mse_validation = mean_squared_error(y_true = y_valid,\n",
    "                                        y_pred = pred_validation)\n",
    "    \n",
    "    # masukkan ke list\n",
    "    mse_training_list.append(mse_training)\n",
    "    mse_valid_list.append(mse_validation)"
   ]
  },
  {
   "cell_type": "code",
   "execution_count": 25,
   "metadata": {},
   "outputs": [
    {
     "data": {
      "image/png": "[encoded data removed]",
      "text/plain": [
       "<Figure size 576x576 with 1 Axes>"
      ]
     },
     "metadata": {
      "needs_background": "light"
     },
     "output_type": "display_data"
    }
   ],
   "source": [
    "# Tamplikan error training & valid\n",
    "fig, ax = plt.subplots(nrows=1, ncols=1, figsize=(8, 8))\n",
    "\n",
    "ax.plot(depth_list, mse_training_list, \"--r\", label=\"training\")\n",
    "ax.plot(depth_list, mse_valid_list, \"-.k\", label=\"validation\")\n",
    "\n",
    "\n",
    "ax.set_xlabel(\"Depth of Tree\")\n",
    "ax.set_ylabel(\"MSE\")\n",
    "plt.legend()\n",
    "plt.show()"
   ]
  },
  {
   "attachments": {},
   "cell_type": "markdown",
   "metadata": {},
   "source": [
    "---\n",
    "## Cross Validation Set Approach\n",
    "\n",
    "- Bagi data seimbang ke dalam k-fold\n",
    "- Dilakukan tanpa pengembalian"
   ]
  },
  {
   "cell_type": "code",
   "execution_count": 26,
   "metadata": {},
   "outputs": [
    {
     "name": "stdout",
     "output_type": "stream",
     "text": [
      "[ 4 10  9  2  5  6  3  8  1  7]\n",
      "[ 4  8  3  9  6  5 10  2  1  7]\n",
      "[ 1  2  4  5  6  8  9  7 10  3]\n",
      "[10  8  1  5  2  9  7  3  6  4]\n",
      "[ 6  8  4 10  5  2  7  3  1  9]\n"
     ]
    }
   ],
   "source": [
    "# Idenya, \n",
    "# 1. acak ulang susunan data\n",
    "# 2. bagi fold berdasarkan p urutan pertama\n",
    "\n",
    "# Acak data pakai np.random.permutation\n",
    "p_ = [1, 2, 3, 4, 5, 6, 7, 8, 9, 10]\n",
    "\n",
    "for i in range(5):\n",
    "    print(np.random.permutation(p_))"
   ]
  },
  {
   "cell_type": "code",
   "execution_count": 27,
   "metadata": {},
   "outputs": [
    {
     "data": {
      "text/html": [
       "<div>\n",
       "<style scoped>\n",
       "    .dataframe tbody tr th:only-of-type {\n",
       "        vertical-align: middle;\n",
       "    }\n",
       "\n",
       "    .dataframe tbody tr th {\n",
       "        vertical-align: top;\n",
       "    }\n",
       "\n",
       "    .dataframe thead th {\n",
       "        text-align: right;\n",
       "    }\n",
       "</style>\n",
       "<table border=\"1\" class=\"dataframe\">\n",
       "  <thead>\n",
       "    <tr style=\"text-align: right;\">\n",
       "      <th></th>\n",
       "      <th>displacement</th>\n",
       "      <th>horsepower</th>\n",
       "      <th>weight</th>\n",
       "      <th>mpg</th>\n",
       "    </tr>\n",
       "  </thead>\n",
       "  <tbody>\n",
       "    <tr>\n",
       "      <th>33</th>\n",
       "      <td>225.0</td>\n",
       "      <td>105.0</td>\n",
       "      <td>3439.0</td>\n",
       "      <td>16.0</td>\n",
       "    </tr>\n",
       "    <tr>\n",
       "      <th>240</th>\n",
       "      <td>121.0</td>\n",
       "      <td>110.0</td>\n",
       "      <td>2600.0</td>\n",
       "      <td>21.5</td>\n",
       "    </tr>\n",
       "    <tr>\n",
       "      <th>142</th>\n",
       "      <td>76.0</td>\n",
       "      <td>52.0</td>\n",
       "      <td>1649.0</td>\n",
       "      <td>31.0</td>\n",
       "    </tr>\n",
       "    <tr>\n",
       "      <th>71</th>\n",
       "      <td>304.0</td>\n",
       "      <td>150.0</td>\n",
       "      <td>3892.0</td>\n",
       "      <td>15.0</td>\n",
       "    </tr>\n",
       "    <tr>\n",
       "      <th>212</th>\n",
       "      <td>302.0</td>\n",
       "      <td>130.0</td>\n",
       "      <td>3870.0</td>\n",
       "      <td>13.0</td>\n",
       "    </tr>\n",
       "  </tbody>\n",
       "</table>\n",
       "</div>"
      ],
      "text/plain": [
       "     displacement  horsepower  weight   mpg\n",
       "33          225.0       105.0  3439.0  16.0\n",
       "240         121.0       110.0  2600.0  21.5\n",
       "142          76.0        52.0  1649.0  31.0\n",
       "71          304.0       150.0  3892.0  15.0\n",
       "212         302.0       130.0  3870.0  13.0"
      ]
     },
     "execution_count": 27,
     "metadata": {},
     "output_type": "execute_result"
    }
   ],
   "source": [
    "new_auto_data = auto_data.reindex(np.random.permutation(auto_data.index))\n",
    "new_auto_data.head()"
   ]
  },
  {
   "cell_type": "code",
   "execution_count": 28,
   "metadata": {},
   "outputs": [
    {
     "data": {
      "text/html": [
       "<div>\n",
       "<style scoped>\n",
       "    .dataframe tbody tr th:only-of-type {\n",
       "        vertical-align: middle;\n",
       "    }\n",
       "\n",
       "    .dataframe tbody tr th {\n",
       "        vertical-align: top;\n",
       "    }\n",
       "\n",
       "    .dataframe thead th {\n",
       "        text-align: right;\n",
       "    }\n",
       "</style>\n",
       "<table border=\"1\" class=\"dataframe\">\n",
       "  <thead>\n",
       "    <tr style=\"text-align: right;\">\n",
       "      <th></th>\n",
       "      <th>displacement</th>\n",
       "      <th>horsepower</th>\n",
       "      <th>weight</th>\n",
       "      <th>mpg</th>\n",
       "    </tr>\n",
       "  </thead>\n",
       "  <tbody>\n",
       "    <tr>\n",
       "      <th>0</th>\n",
       "      <td>307.0</td>\n",
       "      <td>130.0</td>\n",
       "      <td>3504.0</td>\n",
       "      <td>18.0</td>\n",
       "    </tr>\n",
       "    <tr>\n",
       "      <th>1</th>\n",
       "      <td>350.0</td>\n",
       "      <td>165.0</td>\n",
       "      <td>3693.0</td>\n",
       "      <td>15.0</td>\n",
       "    </tr>\n",
       "    <tr>\n",
       "      <th>2</th>\n",
       "      <td>318.0</td>\n",
       "      <td>150.0</td>\n",
       "      <td>3436.0</td>\n",
       "      <td>18.0</td>\n",
       "    </tr>\n",
       "    <tr>\n",
       "      <th>3</th>\n",
       "      <td>304.0</td>\n",
       "      <td>150.0</td>\n",
       "      <td>3433.0</td>\n",
       "      <td>16.0</td>\n",
       "    </tr>\n",
       "    <tr>\n",
       "      <th>4</th>\n",
       "      <td>302.0</td>\n",
       "      <td>140.0</td>\n",
       "      <td>3449.0</td>\n",
       "      <td>17.0</td>\n",
       "    </tr>\n",
       "  </tbody>\n",
       "</table>\n",
       "</div>"
      ],
      "text/plain": [
       "   displacement  horsepower  weight   mpg\n",
       "0         307.0       130.0  3504.0  18.0\n",
       "1         350.0       165.0  3693.0  15.0\n",
       "2         318.0       150.0  3436.0  18.0\n",
       "3         304.0       150.0  3433.0  16.0\n",
       "4         302.0       140.0  3449.0  17.0"
      ]
     },
     "execution_count": 28,
     "metadata": {},
     "output_type": "execute_result"
    }
   ],
   "source": [
    "auto_data.head()"
   ]
  },
  {
   "cell_type": "code",
   "execution_count": 29,
   "metadata": {},
   "outputs": [
    {
     "data": {
      "text/html": [
       "<div>\n",
       "<style scoped>\n",
       "    .dataframe tbody tr th:only-of-type {\n",
       "        vertical-align: middle;\n",
       "    }\n",
       "\n",
       "    .dataframe tbody tr th {\n",
       "        vertical-align: top;\n",
       "    }\n",
       "\n",
       "    .dataframe thead th {\n",
       "        text-align: right;\n",
       "    }\n",
       "</style>\n",
       "<table border=\"1\" class=\"dataframe\">\n",
       "  <thead>\n",
       "    <tr style=\"text-align: right;\">\n",
       "      <th></th>\n",
       "      <th>displacement</th>\n",
       "      <th>horsepower</th>\n",
       "      <th>weight</th>\n",
       "      <th>mpg</th>\n",
       "    </tr>\n",
       "  </thead>\n",
       "  <tbody>\n",
       "    <tr>\n",
       "      <th>0</th>\n",
       "      <td>225.0</td>\n",
       "      <td>105.0</td>\n",
       "      <td>3439.0</td>\n",
       "      <td>16.0</td>\n",
       "    </tr>\n",
       "    <tr>\n",
       "      <th>1</th>\n",
       "      <td>121.0</td>\n",
       "      <td>110.0</td>\n",
       "      <td>2600.0</td>\n",
       "      <td>21.5</td>\n",
       "    </tr>\n",
       "    <tr>\n",
       "      <th>2</th>\n",
       "      <td>76.0</td>\n",
       "      <td>52.0</td>\n",
       "      <td>1649.0</td>\n",
       "      <td>31.0</td>\n",
       "    </tr>\n",
       "    <tr>\n",
       "      <th>3</th>\n",
       "      <td>304.0</td>\n",
       "      <td>150.0</td>\n",
       "      <td>3892.0</td>\n",
       "      <td>15.0</td>\n",
       "    </tr>\n",
       "    <tr>\n",
       "      <th>4</th>\n",
       "      <td>302.0</td>\n",
       "      <td>130.0</td>\n",
       "      <td>3870.0</td>\n",
       "      <td>13.0</td>\n",
       "    </tr>\n",
       "  </tbody>\n",
       "</table>\n",
       "</div>"
      ],
      "text/plain": [
       "   displacement  horsepower  weight   mpg\n",
       "0         225.0       105.0  3439.0  16.0\n",
       "1         121.0       110.0  2600.0  21.5\n",
       "2          76.0        52.0  1649.0  31.0\n",
       "3         304.0       150.0  3892.0  15.0\n",
       "4         302.0       130.0  3870.0  13.0"
      ]
     },
     "execution_count": 29,
     "metadata": {},
     "output_type": "execute_result"
    }
   ],
   "source": [
    "# Reset index\n",
    "new_auto_data = new_auto_data.reset_index(drop = True)\n",
    "new_auto_data.head()"
   ]
  },
  {
   "cell_type": "code",
   "execution_count": 30,
   "metadata": {},
   "outputs": [
    {
     "name": "stdout",
     "output_type": "stream",
     "text": [
      "78\n"
     ]
    }
   ],
   "source": [
    "# Selanjutnya bagi data per fold.\n",
    "# Misal dibagi jadi 5 fold\n",
    "n_data = len(new_auto_data)\n",
    "n_fold = 5\n",
    "n_sample_in_fold = int(n_data / n_fold)\n",
    "print(n_sample_in_fold)"
   ]
  },
  {
   "cell_type": "code",
   "execution_count": 31,
   "metadata": {},
   "outputs": [
    {
     "name": "stdout",
     "output_type": "stream",
     "text": [
      "[    displacement  horsepower  weight   mpg\n",
      "0          225.0       105.0  3439.0  16.0\n",
      "1          121.0       110.0  2600.0  21.5\n",
      "2           76.0        52.0  1649.0  31.0\n",
      "3          304.0       150.0  3892.0  15.0\n",
      "4          302.0       130.0  3870.0  13.0\n",
      "..           ...         ...     ...   ...\n",
      "73         232.0       100.0  2945.0  18.0\n",
      "74         400.0       150.0  4997.0  11.0\n",
      "75         121.0       115.0  2795.0  21.6\n",
      "76         318.0       150.0  4135.0  15.0\n",
      "77         400.0       190.0  4422.0  13.0\n",
      "\n",
      "[78 rows x 4 columns],      displacement  horsepower  weight   mpg\n",
      "79           89.0        71.0  1925.0  31.9\n",
      "80           97.0        75.0  2155.0  28.0\n",
      "81           79.0        67.0  1963.0  26.0\n",
      "82          225.0       100.0  3233.0  22.0\n",
      "83           97.0        75.0  2171.0  29.0\n",
      "..            ...         ...     ...   ...\n",
      "152         232.0       112.0  2835.0  22.0\n",
      "153          91.0        53.0  1795.0  33.0\n",
      "154         140.0        72.0  2408.0  22.0\n",
      "155         200.0        81.0  3012.0  24.0\n",
      "156         151.0        90.0  2556.0  33.5\n",
      "\n",
      "[78 rows x 4 columns],      displacement  horsepower  weight   mpg\n",
      "158         250.0       100.0  3278.0  16.0\n",
      "159          85.0        65.0  1975.0  37.0\n",
      "160         168.0       132.0  2910.0  32.7\n",
      "161          91.0        69.0  2130.0  37.3\n",
      "162         231.0       110.0  3415.0  22.4\n",
      "..            ...         ...     ...   ...\n",
      "231         225.0       105.0  3121.0  18.0\n",
      "232         351.0       149.0  4335.0  16.0\n",
      "233         455.0       225.0  3086.0  14.0\n",
      "234         304.0       150.0  3672.0  17.0\n",
      "235         116.0        90.0  2123.0  28.0\n",
      "\n",
      "[78 rows x 4 columns],      displacement  horsepower  weight   mpg\n",
      "237         360.0       150.0  3940.0  18.5\n",
      "238         250.0        98.0  3525.0  18.5\n",
      "239         146.0        97.0  2815.0  22.0\n",
      "240         440.0       215.0  4312.0  14.0\n",
      "241         140.0        83.0  2639.0  23.0\n",
      "..            ...         ...     ...   ...\n",
      "310          98.0        70.0  2120.0  32.1\n",
      "311         318.0       140.0  4080.0  17.5\n",
      "312         302.0       140.0  4141.0  16.0\n",
      "313          97.0        52.0  2130.0  44.0\n",
      "314          79.0        58.0  1755.0  39.1\n",
      "\n",
      "[78 rows x 4 columns],      displacement  horsepower  weight   mpg\n",
      "316         140.0        88.0  2720.0  25.1\n",
      "317         262.0       110.0  3221.0  20.0\n",
      "318         140.0        88.0  2890.0  22.3\n",
      "319         121.0       112.0  2868.0  19.0\n",
      "320         225.0       100.0  3630.0  19.0\n",
      "..            ...         ...     ...   ...\n",
      "387         114.0        91.0  2582.0  20.0\n",
      "388         250.0        88.0  3021.0  18.0\n",
      "389         151.0        88.0  2740.0  24.5\n",
      "390         115.0        95.0  2694.0  23.0\n",
      "391         250.0       110.0  3645.0  18.5\n",
      "\n",
      "[76 rows x 4 columns]]\n"
     ]
    }
   ],
   "source": [
    "data_fold_list = []\n",
    "for i in range(n_fold):\n",
    "    index_start = i*n_sample_in_fold + i\n",
    "    index_end = index_start + n_sample_in_fold - 1\n",
    "\n",
    "    fold_data_i = new_auto_data.loc[index_start:index_end]\n",
    "    data_fold_list.append(fold_data_i)\n",
    "\n",
    "print(data_fold_list)"
   ]
  },
  {
   "cell_type": "code",
   "execution_count": 32,
   "metadata": {},
   "outputs": [
    {
     "data": {
      "text/html": [
       "<div>\n",
       "<style scoped>\n",
       "    .dataframe tbody tr th:only-of-type {\n",
       "        vertical-align: middle;\n",
       "    }\n",
       "\n",
       "    .dataframe tbody tr th {\n",
       "        vertical-align: top;\n",
       "    }\n",
       "\n",
       "    .dataframe thead th {\n",
       "        text-align: right;\n",
       "    }\n",
       "</style>\n",
       "<table border=\"1\" class=\"dataframe\">\n",
       "  <thead>\n",
       "    <tr style=\"text-align: right;\">\n",
       "      <th></th>\n",
       "      <th>displacement</th>\n",
       "      <th>horsepower</th>\n",
       "      <th>weight</th>\n",
       "      <th>mpg</th>\n",
       "    </tr>\n",
       "  </thead>\n",
       "  <tbody>\n",
       "    <tr>\n",
       "      <th>79</th>\n",
       "      <td>89.0</td>\n",
       "      <td>71.0</td>\n",
       "      <td>1925.0</td>\n",
       "      <td>31.9</td>\n",
       "    </tr>\n",
       "    <tr>\n",
       "      <th>80</th>\n",
       "      <td>97.0</td>\n",
       "      <td>75.0</td>\n",
       "      <td>2155.0</td>\n",
       "      <td>28.0</td>\n",
       "    </tr>\n",
       "    <tr>\n",
       "      <th>81</th>\n",
       "      <td>79.0</td>\n",
       "      <td>67.0</td>\n",
       "      <td>1963.0</td>\n",
       "      <td>26.0</td>\n",
       "    </tr>\n",
       "    <tr>\n",
       "      <th>82</th>\n",
       "      <td>225.0</td>\n",
       "      <td>100.0</td>\n",
       "      <td>3233.0</td>\n",
       "      <td>22.0</td>\n",
       "    </tr>\n",
       "    <tr>\n",
       "      <th>83</th>\n",
       "      <td>97.0</td>\n",
       "      <td>75.0</td>\n",
       "      <td>2171.0</td>\n",
       "      <td>29.0</td>\n",
       "    </tr>\n",
       "  </tbody>\n",
       "</table>\n",
       "</div>"
      ],
      "text/plain": [
       "    displacement  horsepower  weight   mpg\n",
       "79          89.0        71.0  1925.0  31.9\n",
       "80          97.0        75.0  2155.0  28.0\n",
       "81          79.0        67.0  1963.0  26.0\n",
       "82         225.0       100.0  3233.0  22.0\n",
       "83          97.0        75.0  2171.0  29.0"
      ]
     },
     "execution_count": 32,
     "metadata": {},
     "output_type": "execute_result"
    }
   ],
   "source": [
    "fold_ = 2\n",
    "data_valid = data_fold_list[fold_-1]\n",
    "data_valid.head()"
   ]
  },
  {
   "cell_type": "code",
   "execution_count": 33,
   "metadata": {},
   "outputs": [
    {
     "data": {
      "text/html": [
       "<div>\n",
       "<style scoped>\n",
       "    .dataframe tbody tr th:only-of-type {\n",
       "        vertical-align: middle;\n",
       "    }\n",
       "\n",
       "    .dataframe tbody tr th {\n",
       "        vertical-align: top;\n",
       "    }\n",
       "\n",
       "    .dataframe thead th {\n",
       "        text-align: right;\n",
       "    }\n",
       "</style>\n",
       "<table border=\"1\" class=\"dataframe\">\n",
       "  <thead>\n",
       "    <tr style=\"text-align: right;\">\n",
       "      <th></th>\n",
       "      <th>displacement</th>\n",
       "      <th>horsepower</th>\n",
       "      <th>weight</th>\n",
       "      <th>mpg</th>\n",
       "    </tr>\n",
       "  </thead>\n",
       "  <tbody>\n",
       "    <tr>\n",
       "      <th>0</th>\n",
       "      <td>225.0</td>\n",
       "      <td>105.0</td>\n",
       "      <td>3439.0</td>\n",
       "      <td>16.0</td>\n",
       "    </tr>\n",
       "    <tr>\n",
       "      <th>1</th>\n",
       "      <td>121.0</td>\n",
       "      <td>110.0</td>\n",
       "      <td>2600.0</td>\n",
       "      <td>21.5</td>\n",
       "    </tr>\n",
       "    <tr>\n",
       "      <th>2</th>\n",
       "      <td>76.0</td>\n",
       "      <td>52.0</td>\n",
       "      <td>1649.0</td>\n",
       "      <td>31.0</td>\n",
       "    </tr>\n",
       "    <tr>\n",
       "      <th>3</th>\n",
       "      <td>304.0</td>\n",
       "      <td>150.0</td>\n",
       "      <td>3892.0</td>\n",
       "      <td>15.0</td>\n",
       "    </tr>\n",
       "    <tr>\n",
       "      <th>4</th>\n",
       "      <td>302.0</td>\n",
       "      <td>130.0</td>\n",
       "      <td>3870.0</td>\n",
       "      <td>13.0</td>\n",
       "    </tr>\n",
       "  </tbody>\n",
       "</table>\n",
       "</div>"
      ],
      "text/plain": [
       "   displacement  horsepower  weight   mpg\n",
       "0         225.0       105.0  3439.0  16.0\n",
       "1         121.0       110.0  2600.0  21.5\n",
       "2          76.0        52.0  1649.0  31.0\n",
       "3         304.0       150.0  3892.0  15.0\n",
       "4         302.0       130.0  3870.0  13.0"
      ]
     },
     "execution_count": 33,
     "metadata": {},
     "output_type": "execute_result"
    }
   ],
   "source": [
    "data_to_concat = []\n",
    "for i in range(n_fold):\n",
    "    if fold_-1 != i:\n",
    "        data_to_concat.append(data_fold_list[i])\n",
    "\n",
    "data_train = pd.concat(data_to_concat)\n",
    "data_train.head()"
   ]
  },
  {
   "cell_type": "code",
   "execution_count": 34,
   "metadata": {},
   "outputs": [],
   "source": [
    "# buat generator data training & validation\n",
    "def generate_train_valid(data, fold):\n",
    "    \"\"\"\n",
    "    Fungsi untuk generate data training & validation dari list folded data\n",
    "    :param data: <list> list data tiap fold\n",
    "    :param fold: <int> fold yang ingin dijadikan data validasi\n",
    "    :return data_train: <pandas dataframe> sampel data training\n",
    "    :return data_valid: <pandas dataframe> sampel data validation\n",
    "    \"\"\"\n",
    "    # 1. Buat data validasi\n",
    "    data_valid = data[fold-1]\n",
    "\n",
    "    # 2. Buat data training\n",
    "    n_fold = len(data)\n",
    "    data_to_concat = []\n",
    "    for i in range(n_fold):\n",
    "        if fold-1 != i:\n",
    "            data_to_concat.append(data[i])\n",
    "\n",
    "    data_train = pd.concat(data_to_concat)\n",
    "\n",
    "    return data_train, data_valid"
   ]
  },
  {
   "cell_type": "code",
   "execution_count": 35,
   "metadata": {},
   "outputs": [
    {
     "data": {
      "text/html": [
       "<div>\n",
       "<style scoped>\n",
       "    .dataframe tbody tr th:only-of-type {\n",
       "        vertical-align: middle;\n",
       "    }\n",
       "\n",
       "    .dataframe tbody tr th {\n",
       "        vertical-align: top;\n",
       "    }\n",
       "\n",
       "    .dataframe thead th {\n",
       "        text-align: right;\n",
       "    }\n",
       "</style>\n",
       "<table border=\"1\" class=\"dataframe\">\n",
       "  <thead>\n",
       "    <tr style=\"text-align: right;\">\n",
       "      <th></th>\n",
       "      <th>displacement</th>\n",
       "      <th>horsepower</th>\n",
       "      <th>weight</th>\n",
       "      <th>mpg</th>\n",
       "    </tr>\n",
       "  </thead>\n",
       "  <tbody>\n",
       "    <tr>\n",
       "      <th>0</th>\n",
       "      <td>225.0</td>\n",
       "      <td>105.0</td>\n",
       "      <td>3439.0</td>\n",
       "      <td>16.0</td>\n",
       "    </tr>\n",
       "    <tr>\n",
       "      <th>1</th>\n",
       "      <td>121.0</td>\n",
       "      <td>110.0</td>\n",
       "      <td>2600.0</td>\n",
       "      <td>21.5</td>\n",
       "    </tr>\n",
       "    <tr>\n",
       "      <th>2</th>\n",
       "      <td>76.0</td>\n",
       "      <td>52.0</td>\n",
       "      <td>1649.0</td>\n",
       "      <td>31.0</td>\n",
       "    </tr>\n",
       "    <tr>\n",
       "      <th>3</th>\n",
       "      <td>304.0</td>\n",
       "      <td>150.0</td>\n",
       "      <td>3892.0</td>\n",
       "      <td>15.0</td>\n",
       "    </tr>\n",
       "    <tr>\n",
       "      <th>4</th>\n",
       "      <td>302.0</td>\n",
       "      <td>130.0</td>\n",
       "      <td>3870.0</td>\n",
       "      <td>13.0</td>\n",
       "    </tr>\n",
       "  </tbody>\n",
       "</table>\n",
       "</div>"
      ],
      "text/plain": [
       "   displacement  horsepower  weight   mpg\n",
       "0         225.0       105.0  3439.0  16.0\n",
       "1         121.0       110.0  2600.0  21.5\n",
       "2          76.0        52.0  1649.0  31.0\n",
       "3         304.0       150.0  3892.0  15.0\n",
       "4         302.0       130.0  3870.0  13.0"
      ]
     },
     "execution_count": 35,
     "metadata": {},
     "output_type": "execute_result"
    }
   ],
   "source": [
    "data_train, data_valid = generate_train_valid(data = data_fold_list,\n",
    "                                              fold = 4)\n",
    "\n",
    "data_train.head()"
   ]
  },
  {
   "cell_type": "code",
   "execution_count": 36,
   "metadata": {},
   "outputs": [
    {
     "data": {
      "text/html": [
       "<div>\n",
       "<style scoped>\n",
       "    .dataframe tbody tr th:only-of-type {\n",
       "        vertical-align: middle;\n",
       "    }\n",
       "\n",
       "    .dataframe tbody tr th {\n",
       "        vertical-align: top;\n",
       "    }\n",
       "\n",
       "    .dataframe thead th {\n",
       "        text-align: right;\n",
       "    }\n",
       "</style>\n",
       "<table border=\"1\" class=\"dataframe\">\n",
       "  <thead>\n",
       "    <tr style=\"text-align: right;\">\n",
       "      <th></th>\n",
       "      <th>displacement</th>\n",
       "      <th>horsepower</th>\n",
       "      <th>weight</th>\n",
       "      <th>mpg</th>\n",
       "    </tr>\n",
       "  </thead>\n",
       "  <tbody>\n",
       "    <tr>\n",
       "      <th>237</th>\n",
       "      <td>360.0</td>\n",
       "      <td>150.0</td>\n",
       "      <td>3940.0</td>\n",
       "      <td>18.5</td>\n",
       "    </tr>\n",
       "    <tr>\n",
       "      <th>238</th>\n",
       "      <td>250.0</td>\n",
       "      <td>98.0</td>\n",
       "      <td>3525.0</td>\n",
       "      <td>18.5</td>\n",
       "    </tr>\n",
       "    <tr>\n",
       "      <th>239</th>\n",
       "      <td>146.0</td>\n",
       "      <td>97.0</td>\n",
       "      <td>2815.0</td>\n",
       "      <td>22.0</td>\n",
       "    </tr>\n",
       "    <tr>\n",
       "      <th>240</th>\n",
       "      <td>440.0</td>\n",
       "      <td>215.0</td>\n",
       "      <td>4312.0</td>\n",
       "      <td>14.0</td>\n",
       "    </tr>\n",
       "    <tr>\n",
       "      <th>241</th>\n",
       "      <td>140.0</td>\n",
       "      <td>83.0</td>\n",
       "      <td>2639.0</td>\n",
       "      <td>23.0</td>\n",
       "    </tr>\n",
       "  </tbody>\n",
       "</table>\n",
       "</div>"
      ],
      "text/plain": [
       "     displacement  horsepower  weight   mpg\n",
       "237         360.0       150.0  3940.0  18.5\n",
       "238         250.0        98.0  3525.0  18.5\n",
       "239         146.0        97.0  2815.0  22.0\n",
       "240         440.0       215.0  4312.0  14.0\n",
       "241         140.0        83.0  2639.0  23.0"
      ]
     },
     "execution_count": 36,
     "metadata": {},
     "output_type": "execute_result"
    }
   ],
   "source": [
    "data_valid.head()"
   ]
  },
  {
   "attachments": {},
   "cell_type": "markdown",
   "metadata": {},
   "source": [
    "---\n",
    "**Lakukan eksperimen 1**\n",
    "- Model: Decision Tree Regressor\n",
    "- depth of tree: variasi 1-10"
   ]
  },
  {
   "cell_type": "code",
   "execution_count": 37,
   "metadata": {},
   "outputs": [],
   "source": [
    "depth_list = [1, 2, 3, 4, 5, 6, 7, 8, 9, 10]\n",
    "fold_list = [1, 2, 3, 4, 5]\n",
    "mse_training_list = []\n",
    "mse_valid_list = []\n",
    "\n",
    "for k in range(len(depth_list)):\n",
    "    mse_training_fold = []\n",
    "    mse_valid_fold = []\n",
    "\n",
    "    for i in range(len(fold_list)):\n",
    "        # 1. Buat data train & valid        \n",
    "        current_fold = i+1\n",
    "        data_train, data_valid = generate_train_valid(data = data_fold_list, \n",
    "                                                      fold = current_fold)\n",
    "        \n",
    "        # 2. Pisahkan X & y\n",
    "        # Split training data\n",
    "        X_train, y_train = split_X_y(data = data_train,\n",
    "                                    target_column = \"mpg\")\n",
    "\n",
    "        # Split validation data\n",
    "        X_valid, y_valid = split_X_y(data = data_valid,\n",
    "                                    target_column = \"mpg\")\n",
    "        \n",
    "        # 3. Fit model\n",
    "        regressor = DecisionTreeRegressor(max_depth = depth_list[k])\n",
    "        \n",
    "        regressor.fit(X = X_train,\n",
    "                      y = y_train)\n",
    "\n",
    "        # 4. Buat prediksi\n",
    "        pred_training = regressor.predict(X_train)\n",
    "        pred_validation = regressor.predict(X_valid)\n",
    "\n",
    "        # 5. Hitung mse di training & validation\n",
    "        mse_training = mean_squared_error(y_true = y_train,\n",
    "                                        y_pred = pred_training)\n",
    "    \n",
    "        mse_validation = mean_squared_error(y_true = y_valid,\n",
    "                                            y_pred = pred_validation)\n",
    "        \n",
    "        # 6. masukkan semua nilai mse training & validation ke dalam penyimpanan fold\n",
    "        mse_training_fold.append(mse_training)\n",
    "        mse_valid_fold.append(mse_validation)\n",
    "    \n",
    "    # 7. Cari rata-rata fold untuk setiap eksperimen\n",
    "    mse_training_eks = np.mean(mse_training_fold)\n",
    "    mse_valid_eks = np.mean(mse_valid_fold)\n",
    "    \n",
    "    # 8. masukkan ke list\n",
    "    mse_training_list.append(mse_training_eks)\n",
    "    mse_valid_list.append(mse_valid_eks)\n"
   ]
  },
  {
   "cell_type": "code",
   "execution_count": 38,
   "metadata": {},
   "outputs": [
    {
     "data": {
      "image/png": "[encoded data removed]",
      "text/plain": [
       "<Figure size 576x576 with 1 Axes>"
      ]
     },
     "metadata": {
      "needs_background": "light"
     },
     "output_type": "display_data"
    }
   ],
   "source": [
    "# Tamplikan error training & valid\n",
    "fig, ax = plt.subplots(nrows=1, ncols=1, figsize=(8, 8))\n",
    "\n",
    "ax.plot(depth_list, mse_training_list, \"--r\", label=\"training\")\n",
    "ax.plot(depth_list, mse_valid_list, \"-.k\", label=\"validation\")\n",
    "\n",
    "\n",
    "ax.set_xlabel(\"Depth of Tree\")\n",
    "ax.set_ylabel(\"MSE\")\n",
    "plt.legend()\n",
    "plt.show()"
   ]
  },
  {
   "attachments": {},
   "cell_type": "markdown",
   "metadata": {},
   "source": [
    "---\n",
    "## Bootstrap Approach\n",
    "\n",
    "- Resampling n data \n",
    "- Sample yang sudah terpilih dapat diambil kembali (with replacement)"
   ]
  },
  {
   "cell_type": "code",
   "execution_count": 39,
   "metadata": {},
   "outputs": [
    {
     "data": {
      "text/html": [
       "<div>\n",
       "<style scoped>\n",
       "    .dataframe tbody tr th:only-of-type {\n",
       "        vertical-align: middle;\n",
       "    }\n",
       "\n",
       "    .dataframe tbody tr th {\n",
       "        vertical-align: top;\n",
       "    }\n",
       "\n",
       "    .dataframe thead th {\n",
       "        text-align: right;\n",
       "    }\n",
       "</style>\n",
       "<table border=\"1\" class=\"dataframe\">\n",
       "  <thead>\n",
       "    <tr style=\"text-align: right;\">\n",
       "      <th></th>\n",
       "      <th>x</th>\n",
       "      <th>y</th>\n",
       "    </tr>\n",
       "  </thead>\n",
       "  <tbody>\n",
       "    <tr>\n",
       "      <th>0</th>\n",
       "      <td>1</td>\n",
       "      <td>25</td>\n",
       "    </tr>\n",
       "    <tr>\n",
       "      <th>1</th>\n",
       "      <td>2</td>\n",
       "      <td>49</td>\n",
       "    </tr>\n",
       "    <tr>\n",
       "      <th>2</th>\n",
       "      <td>3</td>\n",
       "      <td>81</td>\n",
       "    </tr>\n",
       "    <tr>\n",
       "      <th>3</th>\n",
       "      <td>4</td>\n",
       "      <td>121</td>\n",
       "    </tr>\n",
       "    <tr>\n",
       "      <th>4</th>\n",
       "      <td>5</td>\n",
       "      <td>169</td>\n",
       "    </tr>\n",
       "    <tr>\n",
       "      <th>5</th>\n",
       "      <td>6</td>\n",
       "      <td>225</td>\n",
       "    </tr>\n",
       "    <tr>\n",
       "      <th>6</th>\n",
       "      <td>7</td>\n",
       "      <td>289</td>\n",
       "    </tr>\n",
       "    <tr>\n",
       "      <th>7</th>\n",
       "      <td>8</td>\n",
       "      <td>361</td>\n",
       "    </tr>\n",
       "    <tr>\n",
       "      <th>8</th>\n",
       "      <td>9</td>\n",
       "      <td>441</td>\n",
       "    </tr>\n",
       "    <tr>\n",
       "      <th>9</th>\n",
       "      <td>10</td>\n",
       "      <td>529</td>\n",
       "    </tr>\n",
       "  </tbody>\n",
       "</table>\n",
       "</div>"
      ],
      "text/plain": [
       "    x    y\n",
       "0   1   25\n",
       "1   2   49\n",
       "2   3   81\n",
       "3   4  121\n",
       "4   5  169\n",
       "5   6  225\n",
       "6   7  289\n",
       "7   8  361\n",
       "8   9  441\n",
       "9  10  529"
      ]
     },
     "execution_count": 39,
     "metadata": {},
     "output_type": "execute_result"
    }
   ],
   "source": [
    "# Buat data yang ingin di-sampling\n",
    "x = np.array([1, 2, 3, 4, 5, 6, 7, 8, 9, 10])\n",
    "y = (2*x + 3)**2\n",
    "\n",
    "data = pd.DataFrame({\"x\": x,\n",
    "                     \"y\": y})\n",
    "\n",
    "data"
   ]
  },
  {
   "cell_type": "code",
   "execution_count": 40,
   "metadata": {},
   "outputs": [
    {
     "data": {
      "text/html": [
       "<div>\n",
       "<style scoped>\n",
       "    .dataframe tbody tr th:only-of-type {\n",
       "        vertical-align: middle;\n",
       "    }\n",
       "\n",
       "    .dataframe tbody tr th {\n",
       "        vertical-align: top;\n",
       "    }\n",
       "\n",
       "    .dataframe thead th {\n",
       "        text-align: right;\n",
       "    }\n",
       "</style>\n",
       "<table border=\"1\" class=\"dataframe\">\n",
       "  <thead>\n",
       "    <tr style=\"text-align: right;\">\n",
       "      <th></th>\n",
       "      <th>x</th>\n",
       "      <th>y</th>\n",
       "    </tr>\n",
       "  </thead>\n",
       "  <tbody>\n",
       "    <tr>\n",
       "      <th>1</th>\n",
       "      <td>2</td>\n",
       "      <td>49</td>\n",
       "    </tr>\n",
       "    <tr>\n",
       "      <th>8</th>\n",
       "      <td>9</td>\n",
       "      <td>441</td>\n",
       "    </tr>\n",
       "    <tr>\n",
       "      <th>3</th>\n",
       "      <td>4</td>\n",
       "      <td>121</td>\n",
       "    </tr>\n",
       "    <tr>\n",
       "      <th>9</th>\n",
       "      <td>10</td>\n",
       "      <td>529</td>\n",
       "    </tr>\n",
       "    <tr>\n",
       "      <th>3</th>\n",
       "      <td>4</td>\n",
       "      <td>121</td>\n",
       "    </tr>\n",
       "  </tbody>\n",
       "</table>\n",
       "</div>"
      ],
      "text/plain": [
       "    x    y\n",
       "1   2   49\n",
       "8   9  441\n",
       "3   4  121\n",
       "9  10  529\n",
       "3   4  121"
      ]
     },
     "execution_count": 40,
     "metadata": {},
     "output_type": "execute_result"
    }
   ],
   "source": [
    "# Lakukan sampling sederhana\n",
    "# Sampling DENGAN pengembalian\n",
    "n_sample = 5\n",
    "data.sample(n = n_sample,\n",
    "            replace = True)"
   ]
  },
  {
   "cell_type": "code",
   "execution_count": 41,
   "metadata": {},
   "outputs": [
    {
     "name": "stdout",
     "output_type": "stream",
     "text": [
      "Index sample ke-1 : [7, 3, 8, 5, 5, 6, 9, 6, 3, 2]\n",
      "Index sample ke-2 : [4, 6, 1, 6, 1, 6, 6, 3, 1, 5]\n",
      "Index sample ke-3 : [5, 5, 4, 5, 0, 0, 3, 1, 3, 6]\n",
      "Index sample ke-4 : [1, 1, 0, 2, 8, 2, 7, 0, 5, 9]\n",
      "Index sample ke-5 : [6, 6, 8, 1, 6, 4, 6, 0, 1, 5]\n",
      "Index sample ke-6 : [1, 5, 3, 5, 7, 1, 0, 8, 0, 2]\n",
      "Index sample ke-7 : [0, 1, 0, 1, 0, 9, 6, 9, 1, 3]\n",
      "Index sample ke-8 : [4, 0, 5, 5, 8, 8, 1, 8, 3, 5]\n",
      "Index sample ke-9 : [2, 1, 3, 8, 0, 3, 2, 8, 6, 5]\n",
      "Index sample ke-10 : [4, 3, 7, 6, 6, 4, 4, 1, 2, 4]\n"
     ]
    }
   ],
   "source": [
    "# Lakukan 10 sampling\n",
    "for i in range(10):\n",
    "    data_sample = data.sample(n = len(data), replace = True)\n",
    "    index_data_sample = data_sample.index.to_list()\n",
    "\n",
    "    print(f\"Index sample ke-{i+1} : {index_data_sample}\")"
   ]
  },
  {
   "cell_type": "code",
   "execution_count": 42,
   "metadata": {},
   "outputs": [],
   "source": [
    "# Buat fungsi\n",
    "def bootstrap_sampling(data, n_sample):\n",
    "    \"\"\"\n",
    "    Fungsi untuk buat bootstrap sampling\n",
    "    :param data: <pandas dataframe> sampel data\n",
    "    :param n_sample: <int> jumlah bootstrap sample\n",
    "    :return list_data: <list> kumpulan bootstrap sample\n",
    "    \"\"\"\n",
    "    list_data = []\n",
    "    for i in range(n_sample):\n",
    "        data_sample = data.sample(n = len(data),\n",
    "                                  replace = True)\n",
    "        \n",
    "        list_data.append(data_sample)\n",
    "\n",
    "    return list_data\n",
    "    "
   ]
  },
  {
   "cell_type": "code",
   "execution_count": 43,
   "metadata": {},
   "outputs": [
    {
     "data": {
      "text/plain": [
       "[    x    y\n",
       " 4   5  169\n",
       " 4   5  169\n",
       " 1   2   49\n",
       " 5   6  225\n",
       " 9  10  529\n",
       " 5   6  225\n",
       " 2   3   81\n",
       " 5   6  225\n",
       " 9  10  529\n",
       " 2   3   81,\n",
       "     x    y\n",
       " 2   3   81\n",
       " 3   4  121\n",
       " 9  10  529\n",
       " 7   8  361\n",
       " 2   3   81\n",
       " 9  10  529\n",
       " 6   7  289\n",
       " 5   6  225\n",
       " 7   8  361\n",
       " 8   9  441,\n",
       "     x    y\n",
       " 3   4  121\n",
       " 9  10  529\n",
       " 5   6  225\n",
       " 7   8  361\n",
       " 1   2   49\n",
       " 3   4  121\n",
       " 2   3   81\n",
       " 1   2   49\n",
       " 6   7  289\n",
       " 8   9  441,\n",
       "    x    y\n",
       " 4  5  169\n",
       " 7  8  361\n",
       " 1  2   49\n",
       " 0  1   25\n",
       " 3  4  121\n",
       " 7  8  361\n",
       " 3  4  121\n",
       " 5  6  225\n",
       " 7  8  361\n",
       " 2  3   81,\n",
       "     x    y\n",
       " 8   9  441\n",
       " 7   8  361\n",
       " 0   1   25\n",
       " 5   6  225\n",
       " 5   6  225\n",
       " 1   2   49\n",
       " 1   2   49\n",
       " 7   8  361\n",
       " 9  10  529\n",
       " 5   6  225]"
      ]
     },
     "execution_count": 43,
     "metadata": {},
     "output_type": "execute_result"
    }
   ],
   "source": [
    "list_data = bootstrap_sampling(data = data,\n",
    "                               n_sample = 5)\n",
    "\n",
    "list_data"
   ]
  },
  {
   "cell_type": "code",
   "execution_count": 44,
   "metadata": {},
   "outputs": [
    {
     "data": {
      "text/html": [
       "<div>\n",
       "<style scoped>\n",
       "    .dataframe tbody tr th:only-of-type {\n",
       "        vertical-align: middle;\n",
       "    }\n",
       "\n",
       "    .dataframe tbody tr th {\n",
       "        vertical-align: top;\n",
       "    }\n",
       "\n",
       "    .dataframe thead th {\n",
       "        text-align: right;\n",
       "    }\n",
       "</style>\n",
       "<table border=\"1\" class=\"dataframe\">\n",
       "  <thead>\n",
       "    <tr style=\"text-align: right;\">\n",
       "      <th></th>\n",
       "      <th>displacement</th>\n",
       "      <th>horsepower</th>\n",
       "      <th>weight</th>\n",
       "      <th>mpg</th>\n",
       "    </tr>\n",
       "  </thead>\n",
       "  <tbody>\n",
       "    <tr>\n",
       "      <th>0</th>\n",
       "      <td>307.0</td>\n",
       "      <td>130.0</td>\n",
       "      <td>3504.0</td>\n",
       "      <td>18.0</td>\n",
       "    </tr>\n",
       "    <tr>\n",
       "      <th>1</th>\n",
       "      <td>350.0</td>\n",
       "      <td>165.0</td>\n",
       "      <td>3693.0</td>\n",
       "      <td>15.0</td>\n",
       "    </tr>\n",
       "    <tr>\n",
       "      <th>2</th>\n",
       "      <td>318.0</td>\n",
       "      <td>150.0</td>\n",
       "      <td>3436.0</td>\n",
       "      <td>18.0</td>\n",
       "    </tr>\n",
       "    <tr>\n",
       "      <th>3</th>\n",
       "      <td>304.0</td>\n",
       "      <td>150.0</td>\n",
       "      <td>3433.0</td>\n",
       "      <td>16.0</td>\n",
       "    </tr>\n",
       "    <tr>\n",
       "      <th>4</th>\n",
       "      <td>302.0</td>\n",
       "      <td>140.0</td>\n",
       "      <td>3449.0</td>\n",
       "      <td>17.0</td>\n",
       "    </tr>\n",
       "  </tbody>\n",
       "</table>\n",
       "</div>"
      ],
      "text/plain": [
       "   displacement  horsepower  weight   mpg\n",
       "0         307.0       130.0  3504.0  18.0\n",
       "1         350.0       165.0  3693.0  15.0\n",
       "2         318.0       150.0  3436.0  18.0\n",
       "3         304.0       150.0  3433.0  16.0\n",
       "4         302.0       140.0  3449.0  17.0"
      ]
     },
     "execution_count": 44,
     "metadata": {},
     "output_type": "execute_result"
    }
   ],
   "source": [
    "# dalam model\n",
    "auto_data.head()"
   ]
  },
  {
   "cell_type": "code",
   "execution_count": 45,
   "metadata": {},
   "outputs": [],
   "source": [
    "n_sample = 5\n",
    "list_auto_data = bootstrap_sampling(data = auto_data,\n",
    "                                    n_sample = n_sample)"
   ]
  },
  {
   "cell_type": "code",
   "execution_count": 46,
   "metadata": {},
   "outputs": [],
   "source": [
    "# Prediksi pakai Linear Regression, agar dapat koefisiennya\n",
    "\n",
    "from sklearn.linear_model import LinearRegression"
   ]
  },
  {
   "cell_type": "code",
   "execution_count": 47,
   "metadata": {},
   "outputs": [],
   "source": [
    "X_train, y_train = split_X_y(data = list_auto_data[0],\n",
    "                             target_column = \"mpg\")"
   ]
  },
  {
   "cell_type": "code",
   "execution_count": 48,
   "metadata": {},
   "outputs": [
    {
     "name": "stdout",
     "output_type": "stream",
     "text": [
      "[ 0.00061928 -0.05401466 -0.00543683]\n",
      "45.37071420670358\n"
     ]
    }
   ],
   "source": [
    "# Fit model\n",
    "regressor = LinearRegression()\n",
    "regressor.fit(X_train, y_train)\n",
    "\n",
    "# Tampilkan coefficient & intercept\n",
    "print(regressor.coef_)\n",
    "print(regressor.intercept_)"
   ]
  },
  {
   "cell_type": "code",
   "execution_count": 49,
   "metadata": {},
   "outputs": [
    {
     "name": "stdout",
     "output_type": "stream",
     "text": [
      "[-0.00143133 -0.04146034 -0.00594885]\n",
      "45.73398092575883\n"
     ]
    }
   ],
   "source": [
    "# untuk bootstramp sample lainnya\n",
    "\n",
    "X_train, y_train = split_X_y(data = list_auto_data[1],\n",
    "                             target_column = \"mpg\")\n",
    "\n",
    "# Fit model\n",
    "regressor = LinearRegression()\n",
    "regressor.fit(X_train, y_train)\n",
    "\n",
    "# Tampilkan coefficient & intercept\n",
    "print(regressor.coef_)\n",
    "print(regressor.intercept_)"
   ]
  },
  {
   "attachments": {},
   "cell_type": "markdown",
   "metadata": {},
   "source": [
    "---\n",
    "**Lakukan eksperimen 1**\n",
    "- Model: Linear\n",
    "- n_sample: 101"
   ]
  },
  {
   "cell_type": "code",
   "execution_count": 50,
   "metadata": {},
   "outputs": [],
   "source": [
    "n_sample = 1001\n",
    "list_auto_data = bootstrap_sampling(data = auto_data,\n",
    "                                    n_sample = n_sample)"
   ]
  },
  {
   "cell_type": "code",
   "execution_count": 51,
   "metadata": {},
   "outputs": [],
   "source": [
    "coef_list = []\n",
    "intercept_list = []\n",
    "mse_list = []\n",
    "\n",
    "for i in range(n_sample):\n",
    "    data_train = list_auto_data[i]\n",
    "\n",
    "    # 1. Pisahkan X_train & y_train\n",
    "    X_train, y_train = split_X_y(data = data_train,\n",
    "                                 target_column = \"mpg\")\n",
    "    \n",
    "    # 2. Fit model\n",
    "    regressor = LinearRegression()\n",
    "    regressor.fit(X_train, y_train)\n",
    "\n",
    "    # 3. Buat prediksi\n",
    "    pred_training = regressor.predict(X_train)\n",
    "\n",
    "    # 4. Hitung mse di training & validation\n",
    "    mse_training = mean_squared_error(y_true = y_train,\n",
    "                                      y_pred = pred_training)\n",
    "     \n",
    "    # masukkan ke list\n",
    "    mse_list.append(mse_training)\n",
    "    coef_list.append(regressor.coef_)\n",
    "    intercept_list.append(regressor.intercept_)\n",
    "\n",
    "mse_list = np.array(mse_list)\n",
    "coef_list = np.array(coef_list)\n",
    "intercept_list = np.array(intercept_list)\n"
   ]
  },
  {
   "cell_type": "code",
   "execution_count": 52,
   "metadata": {},
   "outputs": [
    {
     "data": {
      "image/png": "[encoded data removed]",
      "text/plain": [
       "<Figure size 576x576 with 1 Axes>"
      ]
     },
     "metadata": {
      "needs_background": "light"
     },
     "output_type": "display_data"
    }
   ],
   "source": [
    "# Tamplikan error uncertainty\n",
    "fig, ax = plt.subplots(nrows=1, ncols=1, figsize=(8, 8))\n",
    "\n",
    "ax.hist(mse_list)\n",
    "\n",
    "ax.set_xlabel(\"MSE\")\n",
    "ax.set_ylabel(\"Frequency\")\n",
    "plt.show()"
   ]
  },
  {
   "cell_type": "code",
   "execution_count": 53,
   "metadata": {},
   "outputs": [
    {
     "data": {
      "image/png": "[encoded data removed]",
      "text/plain": [
       "<Figure size 576x576 with 1 Axes>"
      ]
     },
     "metadata": {
      "needs_background": "light"
     },
     "output_type": "display_data"
    }
   ],
   "source": [
    "# Tamplikan intercept uncertainty\n",
    "fig, ax = plt.subplots(nrows=1, ncols=1, figsize=(8, 8))\n",
    "\n",
    "ax.hist(intercept_list)\n",
    "\n",
    "ax.set_xlabel(\"Intercept Value\")\n",
    "ax.set_ylabel(\"Frequency\")\n",
    "plt.show()"
   ]
  },
  {
   "cell_type": "code",
   "execution_count": 54,
   "metadata": {},
   "outputs": [
    {
     "data": {
      "image/png": "[encoded data removed]",
      "text/plain": [
       "<Figure size 576x576 with 1 Axes>"
      ]
     },
     "metadata": {
      "needs_background": "light"
     },
     "output_type": "display_data"
    }
   ],
   "source": [
    "# Tamplikan salah satu koefisien\n",
    "fig, ax = plt.subplots(nrows=1, ncols=1, figsize=(8, 8))\n",
    "\n",
    "ax.hist(coef_list[:,0], label=\"coef-1\")\n",
    "ax.hist(coef_list[:,1], label=\"coef-2\")\n",
    "ax.hist(coef_list[:,2], label=\"coef-3\")\n",
    "\n",
    "ax.set_xlabel(\"Coef Value\")\n",
    "ax.set_ylabel(\"Frequency\")\n",
    "plt.show()"
   ]
  },
  {
   "cell_type": "code",
   "execution_count": 55,
   "metadata": {},
   "outputs": [
    {
     "data": {
      "image/png": "[encoded data removed]",
      "text/plain": [
       "<Figure size 576x576 with 1 Axes>"
      ]
     },
     "metadata": {
      "needs_background": "light"
     },
     "output_type": "display_data"
    }
   ],
   "source": [
    "# Tamplikan salah satu koefisien\n",
    "fig, ax = plt.subplots(nrows=1, ncols=1, figsize=(8, 8))\n",
    "\n",
    "ax.boxplot(coef_list)\n",
    "\n",
    "ax.set_xlabel(\"coef -i\")\n",
    "ax.set_ylabel(\"Coef Value\")\n",
    "plt.show()"
   ]
  }
 ],
 "metadata": {
  "kernelspec": {
   "display_name": "base",
   "language": "python",
   "name": "python3"
  },
  "language_info": {
   "codemirror_mode": {
    "name": "ipython",
    "version": 3
   },
   "file_extension": ".py",
   "mimetype": "text/x-python",
   "name": "python",
   "nbconvert_exporter": "python",
   "pygments_lexer": "ipython3",
   "version": "3.9.12"
  },
  "orig_nbformat": 4
 },
 "nbformat": 4,
 "nbformat_minor": 2
}
