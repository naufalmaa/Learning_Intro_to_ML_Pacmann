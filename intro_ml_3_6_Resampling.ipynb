{
 "cells": [
  {
   "cell_type": "code",
   "execution_count": 1,
   "metadata": {},
   "outputs": [],
   "source": [
    "import pandas as pd\n",
    "import numpy as np\n",
    "\n",
    "import matplotlib.pyplot as plt\n",
    "plt.rcParams.update({'font.size': 16})"
   ]
  },
  {
   "cell_type": "code",
   "execution_count": 2,
   "metadata": {},
   "outputs": [
    {
     "data": {
      "text/html": [
       "<div>\n",
       "<style scoped>\n",
       "    .dataframe tbody tr th:only-of-type {\n",
       "        vertical-align: middle;\n",
       "    }\n",
       "\n",
       "    .dataframe tbody tr th {\n",
       "        vertical-align: top;\n",
       "    }\n",
       "\n",
       "    .dataframe thead th {\n",
       "        text-align: right;\n",
       "    }\n",
       "</style>\n",
       "<table border=\"1\" class=\"dataframe\">\n",
       "  <thead>\n",
       "    <tr style=\"text-align: right;\">\n",
       "      <th></th>\n",
       "      <th>x</th>\n",
       "      <th>y</th>\n",
       "    </tr>\n",
       "  </thead>\n",
       "  <tbody>\n",
       "    <tr>\n",
       "      <th>0</th>\n",
       "      <td>1</td>\n",
       "      <td>25</td>\n",
       "    </tr>\n",
       "    <tr>\n",
       "      <th>1</th>\n",
       "      <td>2</td>\n",
       "      <td>49</td>\n",
       "    </tr>\n",
       "    <tr>\n",
       "      <th>2</th>\n",
       "      <td>3</td>\n",
       "      <td>81</td>\n",
       "    </tr>\n",
       "    <tr>\n",
       "      <th>3</th>\n",
       "      <td>4</td>\n",
       "      <td>121</td>\n",
       "    </tr>\n",
       "    <tr>\n",
       "      <th>4</th>\n",
       "      <td>5</td>\n",
       "      <td>169</td>\n",
       "    </tr>\n",
       "    <tr>\n",
       "      <th>5</th>\n",
       "      <td>6</td>\n",
       "      <td>225</td>\n",
       "    </tr>\n",
       "    <tr>\n",
       "      <th>6</th>\n",
       "      <td>7</td>\n",
       "      <td>289</td>\n",
       "    </tr>\n",
       "    <tr>\n",
       "      <th>7</th>\n",
       "      <td>8</td>\n",
       "      <td>361</td>\n",
       "    </tr>\n",
       "    <tr>\n",
       "      <th>8</th>\n",
       "      <td>9</td>\n",
       "      <td>441</td>\n",
       "    </tr>\n",
       "    <tr>\n",
       "      <th>9</th>\n",
       "      <td>10</td>\n",
       "      <td>529</td>\n",
       "    </tr>\n",
       "  </tbody>\n",
       "</table>\n",
       "</div>"
      ],
      "text/plain": [
       "    x    y\n",
       "0   1   25\n",
       "1   2   49\n",
       "2   3   81\n",
       "3   4  121\n",
       "4   5  169\n",
       "5   6  225\n",
       "6   7  289\n",
       "7   8  361\n",
       "8   9  441\n",
       "9  10  529"
      ]
     },
     "execution_count": 2,
     "metadata": {},
     "output_type": "execute_result"
    }
   ],
   "source": [
    "# ---\n",
    "# ## Sampling\n",
    "\n",
    "# - Lakukan sampling acak dengan `<dataframe>.sample()`\n",
    "\n",
    "# Buat data yang ingin di-sampling\n",
    "x = np.array([1, 2, 3, 4, 5, 6, 7, 8, 9, 10])\n",
    "y = (2*x + 3)**2\n",
    "\n",
    "data = pd.DataFrame({\"x\": x,\n",
    "                     \"y\": y})\n",
    "\n",
    "data"
   ]
  },
  {
   "cell_type": "code",
   "execution_count": 3,
   "metadata": {},
   "outputs": [
    {
     "data": {
      "text/html": [
       "<div>\n",
       "<style scoped>\n",
       "    .dataframe tbody tr th:only-of-type {\n",
       "        vertical-align: middle;\n",
       "    }\n",
       "\n",
       "    .dataframe tbody tr th {\n",
       "        vertical-align: top;\n",
       "    }\n",
       "\n",
       "    .dataframe thead th {\n",
       "        text-align: right;\n",
       "    }\n",
       "</style>\n",
       "<table border=\"1\" class=\"dataframe\">\n",
       "  <thead>\n",
       "    <tr style=\"text-align: right;\">\n",
       "      <th></th>\n",
       "      <th>x</th>\n",
       "      <th>y</th>\n",
       "    </tr>\n",
       "  </thead>\n",
       "  <tbody>\n",
       "    <tr>\n",
       "      <th>5</th>\n",
       "      <td>6</td>\n",
       "      <td>225</td>\n",
       "    </tr>\n",
       "    <tr>\n",
       "      <th>6</th>\n",
       "      <td>7</td>\n",
       "      <td>289</td>\n",
       "    </tr>\n",
       "    <tr>\n",
       "      <th>8</th>\n",
       "      <td>9</td>\n",
       "      <td>441</td>\n",
       "    </tr>\n",
       "    <tr>\n",
       "      <th>1</th>\n",
       "      <td>2</td>\n",
       "      <td>49</td>\n",
       "    </tr>\n",
       "    <tr>\n",
       "      <th>0</th>\n",
       "      <td>1</td>\n",
       "      <td>25</td>\n",
       "    </tr>\n",
       "  </tbody>\n",
       "</table>\n",
       "</div>"
      ],
      "text/plain": [
       "   x    y\n",
       "5  6  225\n",
       "6  7  289\n",
       "8  9  441\n",
       "1  2   49\n",
       "0  1   25"
      ]
     },
     "execution_count": 3,
     "metadata": {},
     "output_type": "execute_result"
    }
   ],
   "source": [
    "# Lakukan sampling sederhana\n",
    "# Sampling TANPA pengembalian\n",
    "n_sample = 5\n",
    "data.sample(n = n_sample)"
   ]
  },
  {
   "cell_type": "code",
   "execution_count": 4,
   "metadata": {},
   "outputs": [
    {
     "data": {
      "text/html": [
       "<div>\n",
       "<style scoped>\n",
       "    .dataframe tbody tr th:only-of-type {\n",
       "        vertical-align: middle;\n",
       "    }\n",
       "\n",
       "    .dataframe tbody tr th {\n",
       "        vertical-align: top;\n",
       "    }\n",
       "\n",
       "    .dataframe thead th {\n",
       "        text-align: right;\n",
       "    }\n",
       "</style>\n",
       "<table border=\"1\" class=\"dataframe\">\n",
       "  <thead>\n",
       "    <tr style=\"text-align: right;\">\n",
       "      <th></th>\n",
       "      <th>x</th>\n",
       "      <th>y</th>\n",
       "    </tr>\n",
       "  </thead>\n",
       "  <tbody>\n",
       "    <tr>\n",
       "      <th>0</th>\n",
       "      <td>1</td>\n",
       "      <td>25</td>\n",
       "    </tr>\n",
       "    <tr>\n",
       "      <th>5</th>\n",
       "      <td>6</td>\n",
       "      <td>225</td>\n",
       "    </tr>\n",
       "    <tr>\n",
       "      <th>2</th>\n",
       "      <td>3</td>\n",
       "      <td>81</td>\n",
       "    </tr>\n",
       "    <tr>\n",
       "      <th>4</th>\n",
       "      <td>5</td>\n",
       "      <td>169</td>\n",
       "    </tr>\n",
       "  </tbody>\n",
       "</table>\n",
       "</div>"
      ],
      "text/plain": [
       "   x    y\n",
       "0  1   25\n",
       "5  6  225\n",
       "2  3   81\n",
       "4  5  169"
      ]
     },
     "execution_count": 4,
     "metadata": {},
     "output_type": "execute_result"
    }
   ],
   "source": [
    "# Lakukan sampling sederhana\n",
    "# Sampling TANPA pengembalian\n",
    "frac_sample = 0.4\n",
    "data.sample(frac = frac_sample)"
   ]
  },
  {
   "cell_type": "code",
   "execution_count": 5,
   "metadata": {},
   "outputs": [
    {
     "name": "stdout",
     "output_type": "stream",
     "text": [
      "Index sample ke-1 : [3, 7, 6, 8, 5]\n",
      "Index sample ke-2 : [9, 3, 7, 6, 4]\n",
      "Index sample ke-3 : [1, 0, 5, 2, 3]\n",
      "Index sample ke-4 : [0, 6, 3, 8, 9]\n",
      "Index sample ke-5 : [0, 2, 9, 6, 1]\n",
      "Index sample ke-6 : [7, 1, 3, 4, 9]\n",
      "Index sample ke-7 : [4, 2, 3, 6, 8]\n",
      "Index sample ke-8 : [7, 2, 6, 0, 5]\n",
      "Index sample ke-9 : [6, 9, 1, 4, 3]\n",
      "Index sample ke-10 : [0, 5, 6, 7, 8]\n"
     ]
    }
   ],
   "source": [
    "# Lakukan 10 sampling\n",
    "for i in range(10):\n",
    "    data_sample = data.sample(n = n_sample)\n",
    "    index_data_sample = data_sample.index.to_list()\n",
    "\n",
    "    print(f\"Index sample ke-{i+1} : {index_data_sample}\")"
   ]
  },
  {
   "cell_type": "code",
   "execution_count": 6,
   "metadata": {},
   "outputs": [
    {
     "data": {
      "text/html": [
       "<div>\n",
       "<style scoped>\n",
       "    .dataframe tbody tr th:only-of-type {\n",
       "        vertical-align: middle;\n",
       "    }\n",
       "\n",
       "    .dataframe tbody tr th {\n",
       "        vertical-align: top;\n",
       "    }\n",
       "\n",
       "    .dataframe thead th {\n",
       "        text-align: right;\n",
       "    }\n",
       "</style>\n",
       "<table border=\"1\" class=\"dataframe\">\n",
       "  <thead>\n",
       "    <tr style=\"text-align: right;\">\n",
       "      <th></th>\n",
       "      <th>x</th>\n",
       "      <th>y</th>\n",
       "    </tr>\n",
       "  </thead>\n",
       "  <tbody>\n",
       "    <tr>\n",
       "      <th>5</th>\n",
       "      <td>6</td>\n",
       "      <td>225</td>\n",
       "    </tr>\n",
       "    <tr>\n",
       "      <th>1</th>\n",
       "      <td>2</td>\n",
       "      <td>49</td>\n",
       "    </tr>\n",
       "    <tr>\n",
       "      <th>3</th>\n",
       "      <td>4</td>\n",
       "      <td>121</td>\n",
       "    </tr>\n",
       "    <tr>\n",
       "      <th>3</th>\n",
       "      <td>4</td>\n",
       "      <td>121</td>\n",
       "    </tr>\n",
       "    <tr>\n",
       "      <th>9</th>\n",
       "      <td>10</td>\n",
       "      <td>529</td>\n",
       "    </tr>\n",
       "  </tbody>\n",
       "</table>\n",
       "</div>"
      ],
      "text/plain": [
       "    x    y\n",
       "5   6  225\n",
       "1   2   49\n",
       "3   4  121\n",
       "3   4  121\n",
       "9  10  529"
      ]
     },
     "execution_count": 6,
     "metadata": {},
     "output_type": "execute_result"
    }
   ],
   "source": [
    "# Lakukan sampling sederhana\n",
    "# Sampling DENGAN pengembalian\n",
    "n_sample = 5\n",
    "data.sample(n = n_sample,\n",
    "            replace = True)"
   ]
  },
  {
   "cell_type": "code",
   "execution_count": 7,
   "metadata": {},
   "outputs": [
    {
     "name": "stdout",
     "output_type": "stream",
     "text": [
      "Index sample ke-1 : [8, 7, 1, 4, 3]\n",
      "Index sample ke-2 : [3, 0, 4, 5, 5]\n",
      "Index sample ke-3 : [2, 0, 1, 7, 0]\n",
      "Index sample ke-4 : [9, 2, 4, 4, 0]\n",
      "Index sample ke-5 : [7, 7, 7, 4, 7]\n",
      "Index sample ke-6 : [5, 6, 5, 7, 7]\n",
      "Index sample ke-7 : [6, 0, 4, 1, 3]\n",
      "Index sample ke-8 : [3, 5, 5, 5, 3]\n",
      "Index sample ke-9 : [7, 6, 8, 3, 1]\n",
      "Index sample ke-10 : [7, 8, 5, 2, 5]\n"
     ]
    }
   ],
   "source": [
    "# Lakukan 10 sampling\n",
    "for i in range(10):\n",
    "    data_sample = data.sample(n = n_sample, replace = True)\n",
    "    index_data_sample = data_sample.index.to_list()\n",
    "\n",
    "    print(f\"Index sample ke-{i+1} : {index_data_sample}\")"
   ]
  },
  {
   "cell_type": "code",
   "execution_count": 8,
   "metadata": {},
   "outputs": [],
   "source": [
    "# ---\n",
    "# ## Validation Set Approach\n",
    "\n",
    "# - Bagi dataset 50:50 untuk training & validation\n",
    "# - Tanpa pengembalian"
   ]
  },
  {
   "cell_type": "code",
   "execution_count": 9,
   "metadata": {},
   "outputs": [
    {
     "data": {
      "text/html": [
       "<div>\n",
       "<style scoped>\n",
       "    .dataframe tbody tr th:only-of-type {\n",
       "        vertical-align: middle;\n",
       "    }\n",
       "\n",
       "    .dataframe tbody tr th {\n",
       "        vertical-align: top;\n",
       "    }\n",
       "\n",
       "    .dataframe thead th {\n",
       "        text-align: right;\n",
       "    }\n",
       "</style>\n",
       "<table border=\"1\" class=\"dataframe\">\n",
       "  <thead>\n",
       "    <tr style=\"text-align: right;\">\n",
       "      <th></th>\n",
       "      <th>x</th>\n",
       "      <th>y</th>\n",
       "    </tr>\n",
       "  </thead>\n",
       "  <tbody>\n",
       "    <tr>\n",
       "      <th>0</th>\n",
       "      <td>1</td>\n",
       "      <td>25</td>\n",
       "    </tr>\n",
       "    <tr>\n",
       "      <th>3</th>\n",
       "      <td>4</td>\n",
       "      <td>121</td>\n",
       "    </tr>\n",
       "    <tr>\n",
       "      <th>2</th>\n",
       "      <td>3</td>\n",
       "      <td>81</td>\n",
       "    </tr>\n",
       "    <tr>\n",
       "      <th>5</th>\n",
       "      <td>6</td>\n",
       "      <td>225</td>\n",
       "    </tr>\n",
       "    <tr>\n",
       "      <th>8</th>\n",
       "      <td>9</td>\n",
       "      <td>441</td>\n",
       "    </tr>\n",
       "  </tbody>\n",
       "</table>\n",
       "</div>"
      ],
      "text/plain": [
       "   x    y\n",
       "0  1   25\n",
       "3  4  121\n",
       "2  3   81\n",
       "5  6  225\n",
       "8  9  441"
      ]
     },
     "execution_count": 9,
     "metadata": {},
     "output_type": "execute_result"
    }
   ],
   "source": [
    "# Definisikan proporsi data validasi\n",
    "frac_validation = 0.5\n",
    "\n",
    "# Buat data training\n",
    "data_training = data.sample(frac = frac_validation)\n",
    "data_training"
   ]
  },
  {
   "cell_type": "code",
   "execution_count": 10,
   "metadata": {},
   "outputs": [
    {
     "data": {
      "text/html": [
       "<div>\n",
       "<style scoped>\n",
       "    .dataframe tbody tr th:only-of-type {\n",
       "        vertical-align: middle;\n",
       "    }\n",
       "\n",
       "    .dataframe tbody tr th {\n",
       "        vertical-align: top;\n",
       "    }\n",
       "\n",
       "    .dataframe thead th {\n",
       "        text-align: right;\n",
       "    }\n",
       "</style>\n",
       "<table border=\"1\" class=\"dataframe\">\n",
       "  <thead>\n",
       "    <tr style=\"text-align: right;\">\n",
       "      <th></th>\n",
       "      <th>x</th>\n",
       "      <th>y</th>\n",
       "    </tr>\n",
       "  </thead>\n",
       "  <tbody>\n",
       "    <tr>\n",
       "      <th>1</th>\n",
       "      <td>2</td>\n",
       "      <td>49</td>\n",
       "    </tr>\n",
       "    <tr>\n",
       "      <th>4</th>\n",
       "      <td>5</td>\n",
       "      <td>169</td>\n",
       "    </tr>\n",
       "    <tr>\n",
       "      <th>6</th>\n",
       "      <td>7</td>\n",
       "      <td>289</td>\n",
       "    </tr>\n",
       "    <tr>\n",
       "      <th>7</th>\n",
       "      <td>8</td>\n",
       "      <td>361</td>\n",
       "    </tr>\n",
       "    <tr>\n",
       "      <th>9</th>\n",
       "      <td>10</td>\n",
       "      <td>529</td>\n",
       "    </tr>\n",
       "  </tbody>\n",
       "</table>\n",
       "</div>"
      ],
      "text/plain": [
       "    x    y\n",
       "1   2   49\n",
       "4   5  169\n",
       "6   7  289\n",
       "7   8  361\n",
       "9  10  529"
      ]
     },
     "execution_count": 10,
     "metadata": {},
     "output_type": "execute_result"
    }
   ],
   "source": [
    "# Buat data validation\n",
    "index_data_training = data_training.index.to_list()\n",
    "\n",
    "data_validation = data.drop(index=index_data_training)\n",
    "data_validation"
   ]
  },
  {
   "cell_type": "code",
   "execution_count": 11,
   "metadata": {},
   "outputs": [],
   "source": [
    "# buat fungsi validation set approach\n",
    "def split_validation_set(data):\n",
    "    \"\"\"\n",
    "    Fungsi untuk splitting data training & validation\n",
    "    :param data: <pandas dataframe> sampel data\n",
    "    :return data_training: <pandas dataframe> training data\n",
    "    :return data_validation: <pandas dataframe> validation data\n",
    "    \"\"\"\n",
    "    # 1. cari data training\n",
    "    data_training = data.sample(frac = 0.5)\n",
    "\n",
    "    # 2. cari data valiadtion\n",
    "    index_data_training = data_training.index.to_list()\n",
    "    data_validation = data.drop(index=index_data_training)\n",
    "\n",
    "    return data_training, data_validation\n",
    "    "
   ]
  },
  {
   "cell_type": "code",
   "execution_count": 12,
   "metadata": {},
   "outputs": [
    {
     "name": "stdout",
     "output_type": "stream",
     "text": [
      "    x    y\n",
      "9  10  529\n",
      "5   6  225\n",
      "3   4  121\n",
      "2   3   81\n",
      "8   9  441\n",
      "\n",
      "   x    y\n",
      "0  1   25\n",
      "1  2   49\n",
      "4  5  169\n",
      "6  7  289\n",
      "7  8  361\n"
     ]
    }
   ],
   "source": [
    "data_training, data_validation = split_validation_set(data = data)\n",
    "\n",
    "print(data_training)\n",
    "print(\"\")\n",
    "print(data_validation)"
   ]
  },
  {
   "cell_type": "code",
   "execution_count": 13,
   "metadata": {},
   "outputs": [
    {
     "data": {
      "text/html": [
       "<div>\n",
       "<style scoped>\n",
       "    .dataframe tbody tr th:only-of-type {\n",
       "        vertical-align: middle;\n",
       "    }\n",
       "\n",
       "    .dataframe tbody tr th {\n",
       "        vertical-align: top;\n",
       "    }\n",
       "\n",
       "    .dataframe thead th {\n",
       "        text-align: right;\n",
       "    }\n",
       "</style>\n",
       "<table border=\"1\" class=\"dataframe\">\n",
       "  <thead>\n",
       "    <tr style=\"text-align: right;\">\n",
       "      <th></th>\n",
       "      <th>displacement</th>\n",
       "      <th>horsepower</th>\n",
       "      <th>weight</th>\n",
       "      <th>mpg</th>\n",
       "    </tr>\n",
       "  </thead>\n",
       "  <tbody>\n",
       "    <tr>\n",
       "      <th>0</th>\n",
       "      <td>307.0</td>\n",
       "      <td>130.0</td>\n",
       "      <td>3504.0</td>\n",
       "      <td>18.0</td>\n",
       "    </tr>\n",
       "    <tr>\n",
       "      <th>1</th>\n",
       "      <td>350.0</td>\n",
       "      <td>165.0</td>\n",
       "      <td>3693.0</td>\n",
       "      <td>15.0</td>\n",
       "    </tr>\n",
       "    <tr>\n",
       "      <th>2</th>\n",
       "      <td>318.0</td>\n",
       "      <td>150.0</td>\n",
       "      <td>3436.0</td>\n",
       "      <td>18.0</td>\n",
       "    </tr>\n",
       "    <tr>\n",
       "      <th>3</th>\n",
       "      <td>304.0</td>\n",
       "      <td>150.0</td>\n",
       "      <td>3433.0</td>\n",
       "      <td>16.0</td>\n",
       "    </tr>\n",
       "    <tr>\n",
       "      <th>4</th>\n",
       "      <td>302.0</td>\n",
       "      <td>140.0</td>\n",
       "      <td>3449.0</td>\n",
       "      <td>17.0</td>\n",
       "    </tr>\n",
       "  </tbody>\n",
       "</table>\n",
       "</div>"
      ],
      "text/plain": [
       "   displacement  horsepower  weight   mpg\n",
       "0         307.0       130.0  3504.0  18.0\n",
       "1         350.0       165.0  3693.0  15.0\n",
       "2         318.0       150.0  3436.0  18.0\n",
       "3         304.0       150.0  3433.0  16.0\n",
       "4         302.0       140.0  3449.0  17.0"
      ]
     },
     "execution_count": 13,
     "metadata": {},
     "output_type": "execute_result"
    }
   ],
   "source": [
    "# Aplikasi di model\n",
    "\n",
    "auto_data = pd.read_csv(\"data/auto.csv\")\n",
    "auto_data = auto_data[[\"displacement\", \"horsepower\", \"weight\", \"mpg\"]]\n",
    "\n",
    "auto_data.head()"
   ]
  },
  {
   "cell_type": "code",
   "execution_count": 14,
   "metadata": {},
   "outputs": [],
   "source": [
    "# Split data train & validation\n",
    "data_train, data_validation = split_validation_set(data = auto_data)"
   ]
  },
  {
   "cell_type": "code",
   "execution_count": 15,
   "metadata": {},
   "outputs": [
    {
     "data": {
      "text/html": [
       "<div>\n",
       "<style scoped>\n",
       "    .dataframe tbody tr th:only-of-type {\n",
       "        vertical-align: middle;\n",
       "    }\n",
       "\n",
       "    .dataframe tbody tr th {\n",
       "        vertical-align: top;\n",
       "    }\n",
       "\n",
       "    .dataframe thead th {\n",
       "        text-align: right;\n",
       "    }\n",
       "</style>\n",
       "<table border=\"1\" class=\"dataframe\">\n",
       "  <thead>\n",
       "    <tr style=\"text-align: right;\">\n",
       "      <th></th>\n",
       "      <th>displacement</th>\n",
       "      <th>horsepower</th>\n",
       "      <th>weight</th>\n",
       "      <th>mpg</th>\n",
       "    </tr>\n",
       "  </thead>\n",
       "  <tbody>\n",
       "    <tr>\n",
       "      <th>272</th>\n",
       "      <td>131.0</td>\n",
       "      <td>103.0</td>\n",
       "      <td>2830.0</td>\n",
       "      <td>20.3</td>\n",
       "    </tr>\n",
       "    <tr>\n",
       "      <th>224</th>\n",
       "      <td>231.0</td>\n",
       "      <td>105.0</td>\n",
       "      <td>3425.0</td>\n",
       "      <td>20.5</td>\n",
       "    </tr>\n",
       "    <tr>\n",
       "      <th>216</th>\n",
       "      <td>79.0</td>\n",
       "      <td>58.0</td>\n",
       "      <td>1825.0</td>\n",
       "      <td>36.0</td>\n",
       "    </tr>\n",
       "    <tr>\n",
       "      <th>240</th>\n",
       "      <td>121.0</td>\n",
       "      <td>110.0</td>\n",
       "      <td>2600.0</td>\n",
       "      <td>21.5</td>\n",
       "    </tr>\n",
       "    <tr>\n",
       "      <th>76</th>\n",
       "      <td>121.0</td>\n",
       "      <td>76.0</td>\n",
       "      <td>2511.0</td>\n",
       "      <td>22.0</td>\n",
       "    </tr>\n",
       "  </tbody>\n",
       "</table>\n",
       "</div>"
      ],
      "text/plain": [
       "     displacement  horsepower  weight   mpg\n",
       "272         131.0       103.0  2830.0  20.3\n",
       "224         231.0       105.0  3425.0  20.5\n",
       "216          79.0        58.0  1825.0  36.0\n",
       "240         121.0       110.0  2600.0  21.5\n",
       "76          121.0        76.0  2511.0  22.0"
      ]
     },
     "execution_count": 15,
     "metadata": {},
     "output_type": "execute_result"
    }
   ],
   "source": [
    "data_train.head()"
   ]
  },
  {
   "cell_type": "code",
   "execution_count": 16,
   "metadata": {},
   "outputs": [
    {
     "data": {
      "text/html": [
       "<div>\n",
       "<style scoped>\n",
       "    .dataframe tbody tr th:only-of-type {\n",
       "        vertical-align: middle;\n",
       "    }\n",
       "\n",
       "    .dataframe tbody tr th {\n",
       "        vertical-align: top;\n",
       "    }\n",
       "\n",
       "    .dataframe thead th {\n",
       "        text-align: right;\n",
       "    }\n",
       "</style>\n",
       "<table border=\"1\" class=\"dataframe\">\n",
       "  <thead>\n",
       "    <tr style=\"text-align: right;\">\n",
       "      <th></th>\n",
       "      <th>displacement</th>\n",
       "      <th>horsepower</th>\n",
       "      <th>weight</th>\n",
       "      <th>mpg</th>\n",
       "    </tr>\n",
       "  </thead>\n",
       "  <tbody>\n",
       "    <tr>\n",
       "      <th>0</th>\n",
       "      <td>307.0</td>\n",
       "      <td>130.0</td>\n",
       "      <td>3504.0</td>\n",
       "      <td>18.0</td>\n",
       "    </tr>\n",
       "    <tr>\n",
       "      <th>1</th>\n",
       "      <td>350.0</td>\n",
       "      <td>165.0</td>\n",
       "      <td>3693.0</td>\n",
       "      <td>15.0</td>\n",
       "    </tr>\n",
       "    <tr>\n",
       "      <th>3</th>\n",
       "      <td>304.0</td>\n",
       "      <td>150.0</td>\n",
       "      <td>3433.0</td>\n",
       "      <td>16.0</td>\n",
       "    </tr>\n",
       "    <tr>\n",
       "      <th>4</th>\n",
       "      <td>302.0</td>\n",
       "      <td>140.0</td>\n",
       "      <td>3449.0</td>\n",
       "      <td>17.0</td>\n",
       "    </tr>\n",
       "    <tr>\n",
       "      <th>5</th>\n",
       "      <td>429.0</td>\n",
       "      <td>198.0</td>\n",
       "      <td>4341.0</td>\n",
       "      <td>15.0</td>\n",
       "    </tr>\n",
       "  </tbody>\n",
       "</table>\n",
       "</div>"
      ],
      "text/plain": [
       "   displacement  horsepower  weight   mpg\n",
       "0         307.0       130.0  3504.0  18.0\n",
       "1         350.0       165.0  3693.0  15.0\n",
       "3         304.0       150.0  3433.0  16.0\n",
       "4         302.0       140.0  3449.0  17.0\n",
       "5         429.0       198.0  4341.0  15.0"
      ]
     },
     "execution_count": 16,
     "metadata": {},
     "output_type": "execute_result"
    }
   ],
   "source": [
    "data_validation.head()"
   ]
  },
  {
   "cell_type": "code",
   "execution_count": 17,
   "metadata": {},
   "outputs": [],
   "source": [
    "# Split data X & y\n",
    "# y = mpg\n",
    "def split_X_y(data, target_column):\n",
    "    \"\"\"\n",
    "    Fungsi untuk split X & y\n",
    "    :param data: <pandas dataframe> data sample\n",
    "    :param target_column: <str> nama target\n",
    "    :return X: <pandas dataframe> input\n",
    "    :return y: <pandas series> output\n",
    "    \"\"\"\n",
    "    # 1. Cari y\n",
    "    y = data[target_column]\n",
    "    \n",
    "    # 2. Cari X\n",
    "    X = data.drop(columns = target_column)\n",
    "\n",
    "    return X, y"
   ]
  },
  {
   "cell_type": "code",
   "execution_count": 18,
   "metadata": {},
   "outputs": [],
   "source": [
    "# Split training data\n",
    "X_train, y_train = split_X_y(data = data_train,\n",
    "                             target_column = \"mpg\")\n",
    "\n",
    "# Split validation data\n",
    "X_valid, y_valid = split_X_y(data = data_validation,\n",
    "                             target_column = \"mpg\")"
   ]
  },
  {
   "cell_type": "code",
   "execution_count": 19,
   "metadata": {},
   "outputs": [],
   "source": [
    "# Lakukan prediksi\n",
    "\n",
    "# Prediksi\n",
    "from sklearn.tree import DecisionTreeRegressor\n",
    "\n",
    "regressor = DecisionTreeRegressor(criterion = \"squared_error\",\n",
    "                                  max_depth = 3)"
   ]
  },
  {
   "cell_type": "code",
   "execution_count": 20,
   "metadata": {},
   "outputs": [
    {
     "data": {
      "text/html": [
       "<style>#sk-container-id-1 {color: black;background-color: white;}#sk-container-id-1 pre{padding: 0;}#sk-container-id-1 div.sk-toggleable {background-color: white;}#sk-container-id-1 label.sk-toggleable__label {cursor: pointer;display: block;width: 100%;margin-bottom: 0;padding: 0.3em;box-sizing: border-box;text-align: center;}#sk-container-id-1 label.sk-toggleable__label-arrow:before {content: \"▸\";float: left;margin-right: 0.25em;color: #696969;}#sk-container-id-1 label.sk-toggleable__label-arrow:hover:before {color: black;}#sk-container-id-1 div.sk-estimator:hover label.sk-toggleable__label-arrow:before {color: black;}#sk-container-id-1 div.sk-toggleable__content {max-height: 0;max-width: 0;overflow: hidden;text-align: left;background-color: #f0f8ff;}#sk-container-id-1 div.sk-toggleable__content pre {margin: 0.2em;color: black;border-radius: 0.25em;background-color: #f0f8ff;}#sk-container-id-1 input.sk-toggleable__control:checked~div.sk-toggleable__content {max-height: 200px;max-width: 100%;overflow: auto;}#sk-container-id-1 input.sk-toggleable__control:checked~label.sk-toggleable__label-arrow:before {content: \"▾\";}#sk-container-id-1 div.sk-estimator input.sk-toggleable__control:checked~label.sk-toggleable__label {background-color: #d4ebff;}#sk-container-id-1 div.sk-label input.sk-toggleable__control:checked~label.sk-toggleable__label {background-color: #d4ebff;}#sk-container-id-1 input.sk-hidden--visually {border: 0;clip: rect(1px 1px 1px 1px);clip: rect(1px, 1px, 1px, 1px);height: 1px;margin: -1px;overflow: hidden;padding: 0;position: absolute;width: 1px;}#sk-container-id-1 div.sk-estimator {font-family: monospace;background-color: #f0f8ff;border: 1px dotted black;border-radius: 0.25em;box-sizing: border-box;margin-bottom: 0.5em;}#sk-container-id-1 div.sk-estimator:hover {background-color: #d4ebff;}#sk-container-id-1 div.sk-parallel-item::after {content: \"\";width: 100%;border-bottom: 1px solid gray;flex-grow: 1;}#sk-container-id-1 div.sk-label:hover label.sk-toggleable__label {background-color: #d4ebff;}#sk-container-id-1 div.sk-serial::before {content: \"\";position: absolute;border-left: 1px solid gray;box-sizing: border-box;top: 0;bottom: 0;left: 50%;z-index: 0;}#sk-container-id-1 div.sk-serial {display: flex;flex-direction: column;align-items: center;background-color: white;padding-right: 0.2em;padding-left: 0.2em;position: relative;}#sk-container-id-1 div.sk-item {position: relative;z-index: 1;}#sk-container-id-1 div.sk-parallel {display: flex;align-items: stretch;justify-content: center;background-color: white;position: relative;}#sk-container-id-1 div.sk-item::before, #sk-container-id-1 div.sk-parallel-item::before {content: \"\";position: absolute;border-left: 1px solid gray;box-sizing: border-box;top: 0;bottom: 0;left: 50%;z-index: -1;}#sk-container-id-1 div.sk-parallel-item {display: flex;flex-direction: column;z-index: 1;position: relative;background-color: white;}#sk-container-id-1 div.sk-parallel-item:first-child::after {align-self: flex-end;width: 50%;}#sk-container-id-1 div.sk-parallel-item:last-child::after {align-self: flex-start;width: 50%;}#sk-container-id-1 div.sk-parallel-item:only-child::after {width: 0;}#sk-container-id-1 div.sk-dashed-wrapped {border: 1px dashed gray;margin: 0 0.4em 0.5em 0.4em;box-sizing: border-box;padding-bottom: 0.4em;background-color: white;}#sk-container-id-1 div.sk-label label {font-family: monospace;font-weight: bold;display: inline-block;line-height: 1.2em;}#sk-container-id-1 div.sk-label-container {text-align: center;}#sk-container-id-1 div.sk-container {/* jupyter's `normalize.less` sets `[hidden] { display: none; }` but bootstrap.min.css set `[hidden] { display: none !important; }` so we also need the `!important` here to be able to override the default hidden behavior on the sphinx rendered scikit-learn.org. See: https://github.com/scikit-learn/scikit-learn/issues/21755 */display: inline-block !important;position: relative;}#sk-container-id-1 div.sk-text-repr-fallback {display: none;}</style><div id=\"sk-container-id-1\" class=\"sk-top-container\"><div class=\"sk-text-repr-fallback\"><pre>DecisionTreeRegressor(max_depth=3)</pre><b>In a Jupyter environment, please rerun this cell to show the HTML representation or trust the notebook. <br />On GitHub, the HTML representation is unable to render, please try loading this page with nbviewer.org.</b></div><div class=\"sk-container\" hidden><div class=\"sk-item\"><div class=\"sk-estimator sk-toggleable\"><input class=\"sk-toggleable__control sk-hidden--visually\" id=\"sk-estimator-id-1\" type=\"checkbox\" checked><label for=\"sk-estimator-id-1\" class=\"sk-toggleable__label sk-toggleable__label-arrow\">DecisionTreeRegressor</label><div class=\"sk-toggleable__content\"><pre>DecisionTreeRegressor(max_depth=3)</pre></div></div></div></div></div>"
      ],
      "text/plain": [
       "DecisionTreeRegressor(max_depth=3)"
      ]
     },
     "execution_count": 20,
     "metadata": {},
     "output_type": "execute_result"
    }
   ],
   "source": [
    "# Fit di data training\n",
    "regressor.fit(X = X_train,\n",
    "              y = y_train)"
   ]
  },
  {
   "cell_type": "code",
   "execution_count": 21,
   "metadata": {},
   "outputs": [],
   "source": [
    "# Predict score\n",
    "pred_training = regressor.predict(X_train)\n",
    "pred_validation = regressor.predict(X_valid)"
   ]
  },
  {
   "cell_type": "code",
   "execution_count": 22,
   "metadata": {},
   "outputs": [],
   "source": [
    "# Cek MSE di data training & validation\n",
    "from sklearn.metrics import mean_squared_error\n",
    "\n",
    "mse_training = mean_squared_error(y_true = y_train,\n",
    "                                  y_pred = pred_training)\n",
    "\n",
    "mse_validation = mean_squared_error(y_true = y_valid,\n",
    "                                    y_pred = pred_validation)"
   ]
  },
  {
   "cell_type": "code",
   "execution_count": 23,
   "metadata": {},
   "outputs": [
    {
     "name": "stdout",
     "output_type": "stream",
     "text": [
      "mse training   : 12.3368\n",
      "mse validation : 21.0735\n"
     ]
    }
   ],
   "source": [
    "print(f\"mse training   : {mse_training:.4f}\")\n",
    "print(f\"mse validation : {mse_validation:.4f}\")"
   ]
  },
  {
   "cell_type": "code",
   "execution_count": 24,
   "metadata": {},
   "outputs": [],
   "source": [
    "# Lakukan eksperimen 1\n",
    "\n",
    "# Model: Tree\n",
    "# depth of tree: variasi 1-10\n",
    "\n",
    "depth_list = [1, 2, 3, 4, 5, 6, 7, 8, 9, 10]\n",
    "mse_training_list = []\n",
    "mse_valid_list = []\n",
    "\n",
    "for i in range(10):\n",
    "    # 1. Fit model\n",
    "    regressor = DecisionTreeRegressor(max_depth = depth_list[i])\n",
    "    \n",
    "    regressor.fit(X = X_train,\n",
    "                  y = y_train)\n",
    "\n",
    "    # 2. Buat prediksi\n",
    "    pred_training = regressor.predict(X_train)\n",
    "    pred_validation = regressor.predict(X_valid)\n",
    "\n",
    "    # 3. Hitung mse di training & validation\n",
    "    mse_training = mean_squared_error(y_true = y_train,\n",
    "                                      y_pred = pred_training)\n",
    " \n",
    "    mse_validation = mean_squared_error(y_true = y_valid,\n",
    "                                        y_pred = pred_validation)\n",
    "    \n",
    "    # masukkan ke list\n",
    "    mse_training_list.append(mse_training)\n",
    "    mse_valid_list.append(mse_validation)"
   ]
  },
  {
   "cell_type": "code",
   "execution_count": 25,
   "metadata": {},
   "outputs": [
    {
     "data": {
      "image/png": "[encoded data removed]",
      "text/plain": [
       "<Figure size 800x800 with 1 Axes>"
      ]
     },
     "metadata": {},
     "output_type": "display_data"
    }
   ],
   "source": [
    "# Tamplikan error training & valid\n",
    "fig, ax = plt.subplots(nrows=1, ncols=1, figsize=(8, 8))\n",
    "\n",
    "ax.plot(depth_list, mse_training_list, \"--r\", label=\"training\")\n",
    "ax.plot(depth_list, mse_valid_list, \"-.k\", label=\"validation\")\n",
    "\n",
    "\n",
    "ax.set_xlabel(\"Depth of Tree\")\n",
    "ax.set_ylabel(\"MSE\")\n",
    "plt.legend()\n",
    "plt.show()"
   ]
  },
  {
   "attachments": {},
   "cell_type": "markdown",
   "metadata": {},
   "source": [
    "---\n",
    "## Cross Validation Set Approach\n",
    "\n",
    "- Bagi data seimbang ke dalam k-fold\n",
    "- Dilakukan tanpa pengembalian"
   ]
  },
  {
   "cell_type": "code",
   "execution_count": 26,
   "metadata": {},
   "outputs": [
    {
     "name": "stdout",
     "output_type": "stream",
     "text": [
      "[ 5  2  4  6  1  8  3  9  7 10]\n",
      "[ 8  2  5  1  3  6  7 10  4  9]\n",
      "[ 7  6  5 10  9  8  1  2  3  4]\n",
      "[ 2  4  7  1  3  8 10  6  9  5]\n",
      "[ 9  4  8  3  7  6  2  1 10  5]\n"
     ]
    }
   ],
   "source": [
    "# Idenya, \n",
    "# 1. acak ulang susunan data\n",
    "# 2. bagi fold berdasarkan p urutan pertama\n",
    "\n",
    "# Acak data pakai np.random.permutation\n",
    "p_ = [1, 2, 3, 4, 5, 6, 7, 8, 9, 10]\n",
    "\n",
    "for i in range(5):\n",
    "    print(np.random.permutation(p_))"
   ]
  },
  {
   "cell_type": "code",
   "execution_count": 27,
   "metadata": {},
   "outputs": [
    {
     "data": {
      "text/html": [
       "<div>\n",
       "<style scoped>\n",
       "    .dataframe tbody tr th:only-of-type {\n",
       "        vertical-align: middle;\n",
       "    }\n",
       "\n",
       "    .dataframe tbody tr th {\n",
       "        vertical-align: top;\n",
       "    }\n",
       "\n",
       "    .dataframe thead th {\n",
       "        text-align: right;\n",
       "    }\n",
       "</style>\n",
       "<table border=\"1\" class=\"dataframe\">\n",
       "  <thead>\n",
       "    <tr style=\"text-align: right;\">\n",
       "      <th></th>\n",
       "      <th>displacement</th>\n",
       "      <th>horsepower</th>\n",
       "      <th>weight</th>\n",
       "      <th>mpg</th>\n",
       "    </tr>\n",
       "  </thead>\n",
       "  <tbody>\n",
       "    <tr>\n",
       "      <th>36</th>\n",
       "      <td>232.0</td>\n",
       "      <td>100.0</td>\n",
       "      <td>3288.0</td>\n",
       "      <td>18.0</td>\n",
       "    </tr>\n",
       "    <tr>\n",
       "      <th>47</th>\n",
       "      <td>250.0</td>\n",
       "      <td>88.0</td>\n",
       "      <td>3139.0</td>\n",
       "      <td>18.0</td>\n",
       "    </tr>\n",
       "    <tr>\n",
       "      <th>23</th>\n",
       "      <td>121.0</td>\n",
       "      <td>113.0</td>\n",
       "      <td>2234.0</td>\n",
       "      <td>26.0</td>\n",
       "    </tr>\n",
       "    <tr>\n",
       "      <th>294</th>\n",
       "      <td>121.0</td>\n",
       "      <td>80.0</td>\n",
       "      <td>2670.0</td>\n",
       "      <td>27.4</td>\n",
       "    </tr>\n",
       "    <tr>\n",
       "      <th>352</th>\n",
       "      <td>119.0</td>\n",
       "      <td>100.0</td>\n",
       "      <td>2615.0</td>\n",
       "      <td>32.9</td>\n",
       "    </tr>\n",
       "  </tbody>\n",
       "</table>\n",
       "</div>"
      ],
      "text/plain": [
       "     displacement  horsepower  weight   mpg\n",
       "36          232.0       100.0  3288.0  18.0\n",
       "47          250.0        88.0  3139.0  18.0\n",
       "23          121.0       113.0  2234.0  26.0\n",
       "294         121.0        80.0  2670.0  27.4\n",
       "352         119.0       100.0  2615.0  32.9"
      ]
     },
     "execution_count": 27,
     "metadata": {},
     "output_type": "execute_result"
    }
   ],
   "source": [
    "new_auto_data = auto_data.reindex(np.random.permutation(auto_data.index))\n",
    "new_auto_data.head()"
   ]
  },
  {
   "cell_type": "code",
   "execution_count": 28,
   "metadata": {},
   "outputs": [
    {
     "data": {
      "text/html": [
       "<div>\n",
       "<style scoped>\n",
       "    .dataframe tbody tr th:only-of-type {\n",
       "        vertical-align: middle;\n",
       "    }\n",
       "\n",
       "    .dataframe tbody tr th {\n",
       "        vertical-align: top;\n",
       "    }\n",
       "\n",
       "    .dataframe thead th {\n",
       "        text-align: right;\n",
       "    }\n",
       "</style>\n",
       "<table border=\"1\" class=\"dataframe\">\n",
       "  <thead>\n",
       "    <tr style=\"text-align: right;\">\n",
       "      <th></th>\n",
       "      <th>displacement</th>\n",
       "      <th>horsepower</th>\n",
       "      <th>weight</th>\n",
       "      <th>mpg</th>\n",
       "    </tr>\n",
       "  </thead>\n",
       "  <tbody>\n",
       "    <tr>\n",
       "      <th>0</th>\n",
       "      <td>307.0</td>\n",
       "      <td>130.0</td>\n",
       "      <td>3504.0</td>\n",
       "      <td>18.0</td>\n",
       "    </tr>\n",
       "    <tr>\n",
       "      <th>1</th>\n",
       "      <td>350.0</td>\n",
       "      <td>165.0</td>\n",
       "      <td>3693.0</td>\n",
       "      <td>15.0</td>\n",
       "    </tr>\n",
       "    <tr>\n",
       "      <th>2</th>\n",
       "      <td>318.0</td>\n",
       "      <td>150.0</td>\n",
       "      <td>3436.0</td>\n",
       "      <td>18.0</td>\n",
       "    </tr>\n",
       "    <tr>\n",
       "      <th>3</th>\n",
       "      <td>304.0</td>\n",
       "      <td>150.0</td>\n",
       "      <td>3433.0</td>\n",
       "      <td>16.0</td>\n",
       "    </tr>\n",
       "    <tr>\n",
       "      <th>4</th>\n",
       "      <td>302.0</td>\n",
       "      <td>140.0</td>\n",
       "      <td>3449.0</td>\n",
       "      <td>17.0</td>\n",
       "    </tr>\n",
       "  </tbody>\n",
       "</table>\n",
       "</div>"
      ],
      "text/plain": [
       "   displacement  horsepower  weight   mpg\n",
       "0         307.0       130.0  3504.0  18.0\n",
       "1         350.0       165.0  3693.0  15.0\n",
       "2         318.0       150.0  3436.0  18.0\n",
       "3         304.0       150.0  3433.0  16.0\n",
       "4         302.0       140.0  3449.0  17.0"
      ]
     },
     "execution_count": 28,
     "metadata": {},
     "output_type": "execute_result"
    }
   ],
   "source": [
    "auto_data.head()"
   ]
  },
  {
   "cell_type": "code",
   "execution_count": 29,
   "metadata": {},
   "outputs": [
    {
     "data": {
      "text/html": [
       "<div>\n",
       "<style scoped>\n",
       "    .dataframe tbody tr th:only-of-type {\n",
       "        vertical-align: middle;\n",
       "    }\n",
       "\n",
       "    .dataframe tbody tr th {\n",
       "        vertical-align: top;\n",
       "    }\n",
       "\n",
       "    .dataframe thead th {\n",
       "        text-align: right;\n",
       "    }\n",
       "</style>\n",
       "<table border=\"1\" class=\"dataframe\">\n",
       "  <thead>\n",
       "    <tr style=\"text-align: right;\">\n",
       "      <th></th>\n",
       "      <th>displacement</th>\n",
       "      <th>horsepower</th>\n",
       "      <th>weight</th>\n",
       "      <th>mpg</th>\n",
       "    </tr>\n",
       "  </thead>\n",
       "  <tbody>\n",
       "    <tr>\n",
       "      <th>0</th>\n",
       "      <td>232.0</td>\n",
       "      <td>100.0</td>\n",
       "      <td>3288.0</td>\n",
       "      <td>18.0</td>\n",
       "    </tr>\n",
       "    <tr>\n",
       "      <th>1</th>\n",
       "      <td>250.0</td>\n",
       "      <td>88.0</td>\n",
       "      <td>3139.0</td>\n",
       "      <td>18.0</td>\n",
       "    </tr>\n",
       "    <tr>\n",
       "      <th>2</th>\n",
       "      <td>121.0</td>\n",
       "      <td>113.0</td>\n",
       "      <td>2234.0</td>\n",
       "      <td>26.0</td>\n",
       "    </tr>\n",
       "    <tr>\n",
       "      <th>3</th>\n",
       "      <td>121.0</td>\n",
       "      <td>80.0</td>\n",
       "      <td>2670.0</td>\n",
       "      <td>27.4</td>\n",
       "    </tr>\n",
       "    <tr>\n",
       "      <th>4</th>\n",
       "      <td>119.0</td>\n",
       "      <td>100.0</td>\n",
       "      <td>2615.0</td>\n",
       "      <td>32.9</td>\n",
       "    </tr>\n",
       "  </tbody>\n",
       "</table>\n",
       "</div>"
      ],
      "text/plain": [
       "   displacement  horsepower  weight   mpg\n",
       "0         232.0       100.0  3288.0  18.0\n",
       "1         250.0        88.0  3139.0  18.0\n",
       "2         121.0       113.0  2234.0  26.0\n",
       "3         121.0        80.0  2670.0  27.4\n",
       "4         119.0       100.0  2615.0  32.9"
      ]
     },
     "execution_count": 29,
     "metadata": {},
     "output_type": "execute_result"
    }
   ],
   "source": [
    "# Reset index\n",
    "new_auto_data = new_auto_data.reset_index(drop = True)\n",
    "new_auto_data.head()"
   ]
  },
  {
   "cell_type": "code",
   "execution_count": 30,
   "metadata": {},
   "outputs": [
    {
     "name": "stdout",
     "output_type": "stream",
     "text": [
      "78\n"
     ]
    }
   ],
   "source": [
    "# Selanjutnya bagi data per fold.\n",
    "# Misal dibagi jadi 5 fold\n",
    "n_data = len(new_auto_data)\n",
    "n_fold = 5\n",
    "n_sample_in_fold = int(n_data / n_fold)\n",
    "print(n_sample_in_fold)"
   ]
  },
  {
   "cell_type": "code",
   "execution_count": 31,
   "metadata": {},
   "outputs": [
    {
     "name": "stdout",
     "output_type": "stream",
     "text": [
      "[    displacement  horsepower  weight   mpg\n",
      "0          232.0       100.0  3288.0  18.0\n",
      "1          250.0        88.0  3139.0  18.0\n",
      "2          121.0       113.0  2234.0  26.0\n",
      "3          121.0        80.0  2670.0  27.4\n",
      "4          119.0       100.0  2615.0  32.9\n",
      "..           ...         ...     ...   ...\n",
      "73         302.0       139.0  3570.0  20.2\n",
      "74         156.0       105.0  2800.0  27.9\n",
      "75         112.0        88.0  2395.0  34.0\n",
      "76         116.0        75.0  2246.0  26.0\n",
      "77          81.0        60.0  1760.0  35.1\n",
      "\n",
      "[78 rows x 4 columns],      displacement  horsepower  weight   mpg\n",
      "79          318.0       140.0  4080.0  17.5\n",
      "80          140.0        90.0  2264.0  28.0\n",
      "81           86.0        64.0  1875.0  39.0\n",
      "82          134.0        95.0  2560.0  27.5\n",
      "83          225.0       100.0  3430.0  20.5\n",
      "..            ...         ...     ...   ...\n",
      "152         225.0       105.0  3439.0  16.0\n",
      "153         232.0        90.0  3210.0  19.4\n",
      "154         151.0        90.0  2735.0  27.0\n",
      "155         302.0       137.0  4042.0  14.0\n",
      "156         318.0       210.0  4382.0  11.0\n",
      "\n",
      "[78 rows x 4 columns],      displacement  horsepower  weight   mpg\n",
      "158         151.0        90.0  3003.0  24.3\n",
      "159         262.0        85.0  3015.0  38.0\n",
      "160          91.0        67.0  1965.0  32.0\n",
      "161          71.0        65.0  1836.0  32.0\n",
      "162         120.0        88.0  2957.0  23.0\n",
      "..            ...         ...     ...   ...\n",
      "231          97.0        75.0  2171.0  29.0\n",
      "232          79.0        58.0  1755.0  39.1\n",
      "233         260.0       110.0  3365.0  19.9\n",
      "234         173.0       110.0  2725.0  23.5\n",
      "235         146.0        97.0  2815.0  22.0\n",
      "\n",
      "[78 rows x 4 columns],      displacement  horsepower  weight   mpg\n",
      "237         400.0       167.0  4906.0  12.0\n",
      "238          97.0        67.0  1985.0  30.0\n",
      "239         107.0        75.0  2210.0  33.7\n",
      "240         140.0        92.0  2865.0  24.0\n",
      "241          85.0        70.0  1990.0  32.0\n",
      "..            ...         ...     ...   ...\n",
      "310         199.0        97.0  2774.0  18.0\n",
      "311          86.0        65.0  2110.0  46.6\n",
      "312         140.0        78.0  2592.0  23.0\n",
      "313         350.0       170.0  4165.0  15.5\n",
      "314         134.0        96.0  2702.0  24.0\n",
      "\n",
      "[78 rows x 4 columns],      displacement  horsepower  weight   mpg\n",
      "316         440.0       215.0  4312.0  14.0\n",
      "317         400.0       150.0  3761.0  15.0\n",
      "318         350.0       145.0  4440.0  15.0\n",
      "319         122.0        80.0  2451.0  26.0\n",
      "320         304.0       193.0  4732.0   9.0\n",
      "..            ...         ...     ...   ...\n",
      "387         225.0        90.0  3381.0  19.1\n",
      "388         350.0       180.0  3664.0  11.0\n",
      "389          85.0        65.0  2020.0  31.8\n",
      "390          98.0        80.0  1915.0  35.7\n",
      "391         200.0        85.0  2587.0  21.0\n",
      "\n",
      "[76 rows x 4 columns]]\n"
     ]
    }
   ],
   "source": [
    "data_fold_list = []\n",
    "for i in range(n_fold):\n",
    "    index_start = i*n_sample_in_fold + i\n",
    "    index_end = index_start + n_sample_in_fold - 1\n",
    "\n",
    "    fold_data_i = new_auto_data.loc[index_start:index_end]\n",
    "    data_fold_list.append(fold_data_i)\n",
    "\n",
    "print(data_fold_list)"
   ]
  },
  {
   "cell_type": "code",
   "execution_count": 32,
   "metadata": {},
   "outputs": [
    {
     "data": {
      "text/html": [
       "<div>\n",
       "<style scoped>\n",
       "    .dataframe tbody tr th:only-of-type {\n",
       "        vertical-align: middle;\n",
       "    }\n",
       "\n",
       "    .dataframe tbody tr th {\n",
       "        vertical-align: top;\n",
       "    }\n",
       "\n",
       "    .dataframe thead th {\n",
       "        text-align: right;\n",
       "    }\n",
       "</style>\n",
       "<table border=\"1\" class=\"dataframe\">\n",
       "  <thead>\n",
       "    <tr style=\"text-align: right;\">\n",
       "      <th></th>\n",
       "      <th>displacement</th>\n",
       "      <th>horsepower</th>\n",
       "      <th>weight</th>\n",
       "      <th>mpg</th>\n",
       "    </tr>\n",
       "  </thead>\n",
       "  <tbody>\n",
       "    <tr>\n",
       "      <th>79</th>\n",
       "      <td>318.0</td>\n",
       "      <td>140.0</td>\n",
       "      <td>4080.0</td>\n",
       "      <td>17.5</td>\n",
       "    </tr>\n",
       "    <tr>\n",
       "      <th>80</th>\n",
       "      <td>140.0</td>\n",
       "      <td>90.0</td>\n",
       "      <td>2264.0</td>\n",
       "      <td>28.0</td>\n",
       "    </tr>\n",
       "    <tr>\n",
       "      <th>81</th>\n",
       "      <td>86.0</td>\n",
       "      <td>64.0</td>\n",
       "      <td>1875.0</td>\n",
       "      <td>39.0</td>\n",
       "    </tr>\n",
       "    <tr>\n",
       "      <th>82</th>\n",
       "      <td>134.0</td>\n",
       "      <td>95.0</td>\n",
       "      <td>2560.0</td>\n",
       "      <td>27.5</td>\n",
       "    </tr>\n",
       "    <tr>\n",
       "      <th>83</th>\n",
       "      <td>225.0</td>\n",
       "      <td>100.0</td>\n",
       "      <td>3430.0</td>\n",
       "      <td>20.5</td>\n",
       "    </tr>\n",
       "  </tbody>\n",
       "</table>\n",
       "</div>"
      ],
      "text/plain": [
       "    displacement  horsepower  weight   mpg\n",
       "79         318.0       140.0  4080.0  17.5\n",
       "80         140.0        90.0  2264.0  28.0\n",
       "81          86.0        64.0  1875.0  39.0\n",
       "82         134.0        95.0  2560.0  27.5\n",
       "83         225.0       100.0  3430.0  20.5"
      ]
     },
     "execution_count": 32,
     "metadata": {},
     "output_type": "execute_result"
    }
   ],
   "source": [
    "fold_ = 2\n",
    "data_valid = data_fold_list[fold_-1]\n",
    "data_valid.head()"
   ]
  },
  {
   "cell_type": "code",
   "execution_count": 33,
   "metadata": {},
   "outputs": [
    {
     "data": {
      "text/html": [
       "<div>\n",
       "<style scoped>\n",
       "    .dataframe tbody tr th:only-of-type {\n",
       "        vertical-align: middle;\n",
       "    }\n",
       "\n",
       "    .dataframe tbody tr th {\n",
       "        vertical-align: top;\n",
       "    }\n",
       "\n",
       "    .dataframe thead th {\n",
       "        text-align: right;\n",
       "    }\n",
       "</style>\n",
       "<table border=\"1\" class=\"dataframe\">\n",
       "  <thead>\n",
       "    <tr style=\"text-align: right;\">\n",
       "      <th></th>\n",
       "      <th>displacement</th>\n",
       "      <th>horsepower</th>\n",
       "      <th>weight</th>\n",
       "      <th>mpg</th>\n",
       "    </tr>\n",
       "  </thead>\n",
       "  <tbody>\n",
       "    <tr>\n",
       "      <th>0</th>\n",
       "      <td>232.0</td>\n",
       "      <td>100.0</td>\n",
       "      <td>3288.0</td>\n",
       "      <td>18.0</td>\n",
       "    </tr>\n",
       "    <tr>\n",
       "      <th>1</th>\n",
       "      <td>250.0</td>\n",
       "      <td>88.0</td>\n",
       "      <td>3139.0</td>\n",
       "      <td>18.0</td>\n",
       "    </tr>\n",
       "    <tr>\n",
       "      <th>2</th>\n",
       "      <td>121.0</td>\n",
       "      <td>113.0</td>\n",
       "      <td>2234.0</td>\n",
       "      <td>26.0</td>\n",
       "    </tr>\n",
       "    <tr>\n",
       "      <th>3</th>\n",
       "      <td>121.0</td>\n",
       "      <td>80.0</td>\n",
       "      <td>2670.0</td>\n",
       "      <td>27.4</td>\n",
       "    </tr>\n",
       "    <tr>\n",
       "      <th>4</th>\n",
       "      <td>119.0</td>\n",
       "      <td>100.0</td>\n",
       "      <td>2615.0</td>\n",
       "      <td>32.9</td>\n",
       "    </tr>\n",
       "  </tbody>\n",
       "</table>\n",
       "</div>"
      ],
      "text/plain": [
       "   displacement  horsepower  weight   mpg\n",
       "0         232.0       100.0  3288.0  18.0\n",
       "1         250.0        88.0  3139.0  18.0\n",
       "2         121.0       113.0  2234.0  26.0\n",
       "3         121.0        80.0  2670.0  27.4\n",
       "4         119.0       100.0  2615.0  32.9"
      ]
     },
     "execution_count": 33,
     "metadata": {},
     "output_type": "execute_result"
    }
   ],
   "source": [
    "data_to_concat = []\n",
    "for i in range(n_fold):\n",
    "    if fold_-1 != i:\n",
    "        data_to_concat.append(data_fold_list[i])\n",
    "\n",
    "data_train = pd.concat(data_to_concat)\n",
    "data_train.head()"
   ]
  },
  {
   "cell_type": "code",
   "execution_count": 34,
   "metadata": {},
   "outputs": [],
   "source": [
    "# buat generator data training & validation\n",
    "def generate_train_valid(data, fold):\n",
    "    \"\"\"\n",
    "    Fungsi untuk generate data training & validation dari list folded data\n",
    "    :param data: <list> list data tiap fold\n",
    "    :param fold: <int> fold yang ingin dijadikan data validasi\n",
    "    :return data_train: <pandas dataframe> sampel data training\n",
    "    :return data_valid: <pandas dataframe> sampel data validation\n",
    "    \"\"\"\n",
    "    # 1. Buat data validasi\n",
    "    data_valid = data[fold-1]\n",
    "\n",
    "    # 2. Buat data training\n",
    "    n_fold = len(data)\n",
    "    data_to_concat = []\n",
    "    for i in range(n_fold):\n",
    "        if fold-1 != i:\n",
    "            data_to_concat.append(data[i])\n",
    "\n",
    "    data_train = pd.concat(data_to_concat)\n",
    "\n",
    "    return data_train, data_valid"
   ]
  },
  {
   "cell_type": "code",
   "execution_count": 35,
   "metadata": {},
   "outputs": [
    {
     "data": {
      "text/html": [
       "<div>\n",
       "<style scoped>\n",
       "    .dataframe tbody tr th:only-of-type {\n",
       "        vertical-align: middle;\n",
       "    }\n",
       "\n",
       "    .dataframe tbody tr th {\n",
       "        vertical-align: top;\n",
       "    }\n",
       "\n",
       "    .dataframe thead th {\n",
       "        text-align: right;\n",
       "    }\n",
       "</style>\n",
       "<table border=\"1\" class=\"dataframe\">\n",
       "  <thead>\n",
       "    <tr style=\"text-align: right;\">\n",
       "      <th></th>\n",
       "      <th>displacement</th>\n",
       "      <th>horsepower</th>\n",
       "      <th>weight</th>\n",
       "      <th>mpg</th>\n",
       "    </tr>\n",
       "  </thead>\n",
       "  <tbody>\n",
       "    <tr>\n",
       "      <th>0</th>\n",
       "      <td>232.0</td>\n",
       "      <td>100.0</td>\n",
       "      <td>3288.0</td>\n",
       "      <td>18.0</td>\n",
       "    </tr>\n",
       "    <tr>\n",
       "      <th>1</th>\n",
       "      <td>250.0</td>\n",
       "      <td>88.0</td>\n",
       "      <td>3139.0</td>\n",
       "      <td>18.0</td>\n",
       "    </tr>\n",
       "    <tr>\n",
       "      <th>2</th>\n",
       "      <td>121.0</td>\n",
       "      <td>113.0</td>\n",
       "      <td>2234.0</td>\n",
       "      <td>26.0</td>\n",
       "    </tr>\n",
       "    <tr>\n",
       "      <th>3</th>\n",
       "      <td>121.0</td>\n",
       "      <td>80.0</td>\n",
       "      <td>2670.0</td>\n",
       "      <td>27.4</td>\n",
       "    </tr>\n",
       "    <tr>\n",
       "      <th>4</th>\n",
       "      <td>119.0</td>\n",
       "      <td>100.0</td>\n",
       "      <td>2615.0</td>\n",
       "      <td>32.9</td>\n",
       "    </tr>\n",
       "  </tbody>\n",
       "</table>\n",
       "</div>"
      ],
      "text/plain": [
       "   displacement  horsepower  weight   mpg\n",
       "0         232.0       100.0  3288.0  18.0\n",
       "1         250.0        88.0  3139.0  18.0\n",
       "2         121.0       113.0  2234.0  26.0\n",
       "3         121.0        80.0  2670.0  27.4\n",
       "4         119.0       100.0  2615.0  32.9"
      ]
     },
     "execution_count": 35,
     "metadata": {},
     "output_type": "execute_result"
    }
   ],
   "source": [
    "data_train, data_valid = generate_train_valid(data = data_fold_list,\n",
    "                                              fold = 4)\n",
    "\n",
    "data_train.head()"
   ]
  },
  {
   "cell_type": "code",
   "execution_count": 36,
   "metadata": {},
   "outputs": [
    {
     "data": {
      "text/html": [
       "<div>\n",
       "<style scoped>\n",
       "    .dataframe tbody tr th:only-of-type {\n",
       "        vertical-align: middle;\n",
       "    }\n",
       "\n",
       "    .dataframe tbody tr th {\n",
       "        vertical-align: top;\n",
       "    }\n",
       "\n",
       "    .dataframe thead th {\n",
       "        text-align: right;\n",
       "    }\n",
       "</style>\n",
       "<table border=\"1\" class=\"dataframe\">\n",
       "  <thead>\n",
       "    <tr style=\"text-align: right;\">\n",
       "      <th></th>\n",
       "      <th>displacement</th>\n",
       "      <th>horsepower</th>\n",
       "      <th>weight</th>\n",
       "      <th>mpg</th>\n",
       "    </tr>\n",
       "  </thead>\n",
       "  <tbody>\n",
       "    <tr>\n",
       "      <th>237</th>\n",
       "      <td>400.0</td>\n",
       "      <td>167.0</td>\n",
       "      <td>4906.0</td>\n",
       "      <td>12.0</td>\n",
       "    </tr>\n",
       "    <tr>\n",
       "      <th>238</th>\n",
       "      <td>97.0</td>\n",
       "      <td>67.0</td>\n",
       "      <td>1985.0</td>\n",
       "      <td>30.0</td>\n",
       "    </tr>\n",
       "    <tr>\n",
       "      <th>239</th>\n",
       "      <td>107.0</td>\n",
       "      <td>75.0</td>\n",
       "      <td>2210.0</td>\n",
       "      <td>33.7</td>\n",
       "    </tr>\n",
       "    <tr>\n",
       "      <th>240</th>\n",
       "      <td>140.0</td>\n",
       "      <td>92.0</td>\n",
       "      <td>2865.0</td>\n",
       "      <td>24.0</td>\n",
       "    </tr>\n",
       "    <tr>\n",
       "      <th>241</th>\n",
       "      <td>85.0</td>\n",
       "      <td>70.0</td>\n",
       "      <td>1990.0</td>\n",
       "      <td>32.0</td>\n",
       "    </tr>\n",
       "  </tbody>\n",
       "</table>\n",
       "</div>"
      ],
      "text/plain": [
       "     displacement  horsepower  weight   mpg\n",
       "237         400.0       167.0  4906.0  12.0\n",
       "238          97.0        67.0  1985.0  30.0\n",
       "239         107.0        75.0  2210.0  33.7\n",
       "240         140.0        92.0  2865.0  24.0\n",
       "241          85.0        70.0  1990.0  32.0"
      ]
     },
     "execution_count": 36,
     "metadata": {},
     "output_type": "execute_result"
    }
   ],
   "source": [
    "data_valid.head()"
   ]
  },
  {
   "attachments": {},
   "cell_type": "markdown",
   "metadata": {},
   "source": [
    "---\n",
    "**Lakukan eksperimen 1**\n",
    "- Model: Decision Tree Regressor\n",
    "- depth of tree: variasi 1-10"
   ]
  },
  {
   "cell_type": "code",
   "execution_count": 37,
   "metadata": {},
   "outputs": [],
   "source": [
    "depth_list = [1, 2, 3, 4, 5, 6, 7, 8, 9, 10]\n",
    "fold_list = [1, 2, 3, 4, 5]\n",
    "mse_training_list = []\n",
    "mse_valid_list = []\n",
    "\n",
    "for k in range(len(depth_list)):\n",
    "    mse_training_fold = []\n",
    "    mse_valid_fold = []\n",
    "\n",
    "    for i in range(len(fold_list)):\n",
    "        # 1. Buat data train & valid        \n",
    "        current_fold = i+1\n",
    "        data_train, data_valid = generate_train_valid(data = data_fold_list, \n",
    "                                                      fold = current_fold)\n",
    "        \n",
    "        # 2. Pisahkan X & y\n",
    "        # Split training data\n",
    "        X_train, y_train = split_X_y(data = data_train,\n",
    "                                    target_column = \"mpg\")\n",
    "\n",
    "        # Split validation data\n",
    "        X_valid, y_valid = split_X_y(data = data_valid,\n",
    "                                    target_column = \"mpg\")\n",
    "        \n",
    "        # 3. Fit model\n",
    "        regressor = DecisionTreeRegressor(max_depth = depth_list[k])\n",
    "        \n",
    "        regressor.fit(X = X_train,\n",
    "                      y = y_train)\n",
    "\n",
    "        # 4. Buat prediksi\n",
    "        pred_training = regressor.predict(X_train)\n",
    "        pred_validation = regressor.predict(X_valid)\n",
    "\n",
    "        # 5. Hitung mse di training & validation\n",
    "        mse_training = mean_squared_error(y_true = y_train,\n",
    "                                        y_pred = pred_training)\n",
    "    \n",
    "        mse_validation = mean_squared_error(y_true = y_valid,\n",
    "                                            y_pred = pred_validation)\n",
    "        \n",
    "        # 6. masukkan semua nilai mse training & validation ke dalam penyimpanan fold\n",
    "        mse_training_fold.append(mse_training)\n",
    "        mse_valid_fold.append(mse_validation)\n",
    "    \n",
    "    # 7. Cari rata-rata fold untuk setiap eksperimen\n",
    "    mse_training_eks = np.mean(mse_training_fold)\n",
    "    mse_valid_eks = np.mean(mse_valid_fold)\n",
    "    \n",
    "    # 8. masukkan ke list\n",
    "    mse_training_list.append(mse_training_eks)\n",
    "    mse_valid_list.append(mse_valid_eks)\n"
   ]
  },
  {
   "cell_type": "code",
   "execution_count": 38,
   "metadata": {},
   "outputs": [
    {
     "data": {
      "image/png": "[encoded data removed]",
      "text/plain": [
       "<Figure size 800x800 with 1 Axes>"
      ]
     },
     "metadata": {},
     "output_type": "display_data"
    }
   ],
   "source": [
    "# Tamplikan error training & valid\n",
    "fig, ax = plt.subplots(nrows=1, ncols=1, figsize=(8, 8))\n",
    "\n",
    "ax.plot(depth_list, mse_training_list, \"--r\", label=\"training\")\n",
    "ax.plot(depth_list, mse_valid_list, \"-.k\", label=\"validation\")\n",
    "\n",
    "\n",
    "ax.set_xlabel(\"Depth of Tree\")\n",
    "ax.set_ylabel(\"MSE\")\n",
    "plt.legend()\n",
    "plt.show()"
   ]
  },
  {
   "attachments": {},
   "cell_type": "markdown",
   "metadata": {},
   "source": [
    "---\n",
    "## Bootstrap Approach\n",
    "\n",
    "- Resampling n data \n",
    "- Sample yang sudah terpilih dapat diambil kembali (with replacement)"
   ]
  },
  {
   "cell_type": "code",
   "execution_count": 39,
   "metadata": {},
   "outputs": [
    {
     "data": {
      "text/html": [
       "<div>\n",
       "<style scoped>\n",
       "    .dataframe tbody tr th:only-of-type {\n",
       "        vertical-align: middle;\n",
       "    }\n",
       "\n",
       "    .dataframe tbody tr th {\n",
       "        vertical-align: top;\n",
       "    }\n",
       "\n",
       "    .dataframe thead th {\n",
       "        text-align: right;\n",
       "    }\n",
       "</style>\n",
       "<table border=\"1\" class=\"dataframe\">\n",
       "  <thead>\n",
       "    <tr style=\"text-align: right;\">\n",
       "      <th></th>\n",
       "      <th>x</th>\n",
       "      <th>y</th>\n",
       "    </tr>\n",
       "  </thead>\n",
       "  <tbody>\n",
       "    <tr>\n",
       "      <th>0</th>\n",
       "      <td>1</td>\n",
       "      <td>25</td>\n",
       "    </tr>\n",
       "    <tr>\n",
       "      <th>1</th>\n",
       "      <td>2</td>\n",
       "      <td>49</td>\n",
       "    </tr>\n",
       "    <tr>\n",
       "      <th>2</th>\n",
       "      <td>3</td>\n",
       "      <td>81</td>\n",
       "    </tr>\n",
       "    <tr>\n",
       "      <th>3</th>\n",
       "      <td>4</td>\n",
       "      <td>121</td>\n",
       "    </tr>\n",
       "    <tr>\n",
       "      <th>4</th>\n",
       "      <td>5</td>\n",
       "      <td>169</td>\n",
       "    </tr>\n",
       "    <tr>\n",
       "      <th>5</th>\n",
       "      <td>6</td>\n",
       "      <td>225</td>\n",
       "    </tr>\n",
       "    <tr>\n",
       "      <th>6</th>\n",
       "      <td>7</td>\n",
       "      <td>289</td>\n",
       "    </tr>\n",
       "    <tr>\n",
       "      <th>7</th>\n",
       "      <td>8</td>\n",
       "      <td>361</td>\n",
       "    </tr>\n",
       "    <tr>\n",
       "      <th>8</th>\n",
       "      <td>9</td>\n",
       "      <td>441</td>\n",
       "    </tr>\n",
       "    <tr>\n",
       "      <th>9</th>\n",
       "      <td>10</td>\n",
       "      <td>529</td>\n",
       "    </tr>\n",
       "  </tbody>\n",
       "</table>\n",
       "</div>"
      ],
      "text/plain": [
       "    x    y\n",
       "0   1   25\n",
       "1   2   49\n",
       "2   3   81\n",
       "3   4  121\n",
       "4   5  169\n",
       "5   6  225\n",
       "6   7  289\n",
       "7   8  361\n",
       "8   9  441\n",
       "9  10  529"
      ]
     },
     "execution_count": 39,
     "metadata": {},
     "output_type": "execute_result"
    }
   ],
   "source": [
    "# Buat data yang ingin di-sampling\n",
    "x = np.array([1, 2, 3, 4, 5, 6, 7, 8, 9, 10])\n",
    "y = (2*x + 3)**2\n",
    "\n",
    "data = pd.DataFrame({\"x\": x,\n",
    "                     \"y\": y})\n",
    "\n",
    "data"
   ]
  },
  {
   "cell_type": "code",
   "execution_count": 40,
   "metadata": {},
   "outputs": [
    {
     "data": {
      "text/html": [
       "<div>\n",
       "<style scoped>\n",
       "    .dataframe tbody tr th:only-of-type {\n",
       "        vertical-align: middle;\n",
       "    }\n",
       "\n",
       "    .dataframe tbody tr th {\n",
       "        vertical-align: top;\n",
       "    }\n",
       "\n",
       "    .dataframe thead th {\n",
       "        text-align: right;\n",
       "    }\n",
       "</style>\n",
       "<table border=\"1\" class=\"dataframe\">\n",
       "  <thead>\n",
       "    <tr style=\"text-align: right;\">\n",
       "      <th></th>\n",
       "      <th>x</th>\n",
       "      <th>y</th>\n",
       "    </tr>\n",
       "  </thead>\n",
       "  <tbody>\n",
       "    <tr>\n",
       "      <th>4</th>\n",
       "      <td>5</td>\n",
       "      <td>169</td>\n",
       "    </tr>\n",
       "    <tr>\n",
       "      <th>8</th>\n",
       "      <td>9</td>\n",
       "      <td>441</td>\n",
       "    </tr>\n",
       "    <tr>\n",
       "      <th>1</th>\n",
       "      <td>2</td>\n",
       "      <td>49</td>\n",
       "    </tr>\n",
       "    <tr>\n",
       "      <th>7</th>\n",
       "      <td>8</td>\n",
       "      <td>361</td>\n",
       "    </tr>\n",
       "    <tr>\n",
       "      <th>1</th>\n",
       "      <td>2</td>\n",
       "      <td>49</td>\n",
       "    </tr>\n",
       "  </tbody>\n",
       "</table>\n",
       "</div>"
      ],
      "text/plain": [
       "   x    y\n",
       "4  5  169\n",
       "8  9  441\n",
       "1  2   49\n",
       "7  8  361\n",
       "1  2   49"
      ]
     },
     "execution_count": 40,
     "metadata": {},
     "output_type": "execute_result"
    }
   ],
   "source": [
    "# Lakukan sampling sederhana\n",
    "# Sampling DENGAN pengembalian\n",
    "n_sample = 5\n",
    "data.sample(n = n_sample,\n",
    "            replace = True)"
   ]
  },
  {
   "cell_type": "code",
   "execution_count": 41,
   "metadata": {},
   "outputs": [
    {
     "name": "stdout",
     "output_type": "stream",
     "text": [
      "Index sample ke-1 : [5, 5, 3, 8, 5, 8, 2, 8, 2, 6]\n",
      "Index sample ke-2 : [0, 3, 7, 2, 8, 2, 8, 8, 1, 8]\n",
      "Index sample ke-3 : [6, 9, 3, 7, 6, 4, 4, 6, 0, 2]\n",
      "Index sample ke-4 : [7, 6, 2, 2, 5, 3, 4, 5, 7, 2]\n",
      "Index sample ke-5 : [2, 1, 9, 1, 6, 5, 7, 7, 6, 2]\n",
      "Index sample ke-6 : [9, 3, 7, 8, 2, 8, 2, 5, 1, 4]\n",
      "Index sample ke-7 : [6, 2, 1, 3, 0, 0, 8, 7, 2, 1]\n",
      "Index sample ke-8 : [0, 4, 6, 2, 0, 5, 9, 2, 8, 8]\n",
      "Index sample ke-9 : [6, 2, 0, 0, 8, 2, 7, 4, 7, 1]\n",
      "Index sample ke-10 : [8, 0, 9, 3, 6, 2, 8, 3, 1, 6]\n"
     ]
    }
   ],
   "source": [
    "# Lakukan 10 sampling\n",
    "for i in range(10):\n",
    "    data_sample = data.sample(n = len(data), replace = True)\n",
    "    index_data_sample = data_sample.index.to_list()\n",
    "\n",
    "    print(f\"Index sample ke-{i+1} : {index_data_sample}\")"
   ]
  },
  {
   "cell_type": "code",
   "execution_count": 42,
   "metadata": {},
   "outputs": [],
   "source": [
    "# Buat fungsi\n",
    "def bootstrap_sampling(data, n_sample):\n",
    "    \"\"\"\n",
    "    Fungsi untuk buat bootstrap sampling\n",
    "    :param data: <pandas dataframe> sampel data\n",
    "    :param n_sample: <int> jumlah bootstrap sample\n",
    "    :return list_data: <list> kumpulan bootstrap sample\n",
    "    \"\"\"\n",
    "    list_data = []\n",
    "    for i in range(n_sample):\n",
    "        data_sample = data.sample(n = len(data),\n",
    "                                  replace = True)\n",
    "        \n",
    "        list_data.append(data_sample)\n",
    "\n",
    "    return list_data\n",
    "    "
   ]
  },
  {
   "cell_type": "code",
   "execution_count": 43,
   "metadata": {},
   "outputs": [
    {
     "data": {
      "text/plain": [
       "[    x    y\n",
       " 2   3   81\n",
       " 7   8  361\n",
       " 0   1   25\n",
       " 9  10  529\n",
       " 8   9  441\n",
       " 0   1   25\n",
       " 8   9  441\n",
       " 8   9  441\n",
       " 0   1   25\n",
       " 2   3   81,\n",
       "    x    y\n",
       " 3  4  121\n",
       " 4  5  169\n",
       " 4  5  169\n",
       " 3  4  121\n",
       " 8  9  441\n",
       " 7  8  361\n",
       " 8  9  441\n",
       " 7  8  361\n",
       " 2  3   81\n",
       " 5  6  225,\n",
       "     x    y\n",
       " 9  10  529\n",
       " 5   6  225\n",
       " 7   8  361\n",
       " 5   6  225\n",
       " 0   1   25\n",
       " 4   5  169\n",
       " 9  10  529\n",
       " 0   1   25\n",
       " 7   8  361\n",
       " 0   1   25,\n",
       "     x    y\n",
       " 3   4  121\n",
       " 1   2   49\n",
       " 9  10  529\n",
       " 7   8  361\n",
       " 4   5  169\n",
       " 3   4  121\n",
       " 7   8  361\n",
       " 8   9  441\n",
       " 0   1   25\n",
       " 6   7  289,\n",
       "     x    y\n",
       " 4   5  169\n",
       " 1   2   49\n",
       " 9  10  529\n",
       " 1   2   49\n",
       " 7   8  361\n",
       " 3   4  121\n",
       " 4   5  169\n",
       " 7   8  361\n",
       " 2   3   81\n",
       " 7   8  361]"
      ]
     },
     "execution_count": 43,
     "metadata": {},
     "output_type": "execute_result"
    }
   ],
   "source": [
    "list_data = bootstrap_sampling(data = data,\n",
    "                               n_sample = 5)\n",
    "\n",
    "list_data"
   ]
  },
  {
   "cell_type": "code",
   "execution_count": 44,
   "metadata": {},
   "outputs": [
    {
     "data": {
      "text/html": [
       "<div>\n",
       "<style scoped>\n",
       "    .dataframe tbody tr th:only-of-type {\n",
       "        vertical-align: middle;\n",
       "    }\n",
       "\n",
       "    .dataframe tbody tr th {\n",
       "        vertical-align: top;\n",
       "    }\n",
       "\n",
       "    .dataframe thead th {\n",
       "        text-align: right;\n",
       "    }\n",
       "</style>\n",
       "<table border=\"1\" class=\"dataframe\">\n",
       "  <thead>\n",
       "    <tr style=\"text-align: right;\">\n",
       "      <th></th>\n",
       "      <th>displacement</th>\n",
       "      <th>horsepower</th>\n",
       "      <th>weight</th>\n",
       "      <th>mpg</th>\n",
       "    </tr>\n",
       "  </thead>\n",
       "  <tbody>\n",
       "    <tr>\n",
       "      <th>0</th>\n",
       "      <td>307.0</td>\n",
       "      <td>130.0</td>\n",
       "      <td>3504.0</td>\n",
       "      <td>18.0</td>\n",
       "    </tr>\n",
       "    <tr>\n",
       "      <th>1</th>\n",
       "      <td>350.0</td>\n",
       "      <td>165.0</td>\n",
       "      <td>3693.0</td>\n",
       "      <td>15.0</td>\n",
       "    </tr>\n",
       "    <tr>\n",
       "      <th>2</th>\n",
       "      <td>318.0</td>\n",
       "      <td>150.0</td>\n",
       "      <td>3436.0</td>\n",
       "      <td>18.0</td>\n",
       "    </tr>\n",
       "    <tr>\n",
       "      <th>3</th>\n",
       "      <td>304.0</td>\n",
       "      <td>150.0</td>\n",
       "      <td>3433.0</td>\n",
       "      <td>16.0</td>\n",
       "    </tr>\n",
       "    <tr>\n",
       "      <th>4</th>\n",
       "      <td>302.0</td>\n",
       "      <td>140.0</td>\n",
       "      <td>3449.0</td>\n",
       "      <td>17.0</td>\n",
       "    </tr>\n",
       "  </tbody>\n",
       "</table>\n",
       "</div>"
      ],
      "text/plain": [
       "   displacement  horsepower  weight   mpg\n",
       "0         307.0       130.0  3504.0  18.0\n",
       "1         350.0       165.0  3693.0  15.0\n",
       "2         318.0       150.0  3436.0  18.0\n",
       "3         304.0       150.0  3433.0  16.0\n",
       "4         302.0       140.0  3449.0  17.0"
      ]
     },
     "execution_count": 44,
     "metadata": {},
     "output_type": "execute_result"
    }
   ],
   "source": [
    "# dalam model\n",
    "auto_data.head()"
   ]
  },
  {
   "cell_type": "code",
   "execution_count": 45,
   "metadata": {},
   "outputs": [],
   "source": [
    "n_sample = 5\n",
    "list_auto_data = bootstrap_sampling(data = auto_data,\n",
    "                                    n_sample = n_sample)"
   ]
  },
  {
   "cell_type": "code",
   "execution_count": 46,
   "metadata": {},
   "outputs": [],
   "source": [
    "# Prediksi pakai Linear Regression, agar dapat koefisiennya\n",
    "\n",
    "from sklearn.linear_model import LinearRegression"
   ]
  },
  {
   "cell_type": "code",
   "execution_count": 47,
   "metadata": {},
   "outputs": [],
   "source": [
    "X_train, y_train = split_X_y(data = list_auto_data[0],\n",
    "                             target_column = \"mpg\")"
   ]
  },
  {
   "cell_type": "code",
   "execution_count": 48,
   "metadata": {},
   "outputs": [
    {
     "name": "stdout",
     "output_type": "stream",
     "text": [
      "[-0.00393478 -0.0492789  -0.00535256]\n",
      "45.35495976537938\n"
     ]
    }
   ],
   "source": [
    "# Fit model\n",
    "regressor = LinearRegression()\n",
    "regressor.fit(X_train, y_train)\n",
    "\n",
    "# Tampilkan coefficient & intercept\n",
    "print(regressor.coef_)\n",
    "print(regressor.intercept_)"
   ]
  },
  {
   "cell_type": "code",
   "execution_count": 49,
   "metadata": {},
   "outputs": [
    {
     "name": "stdout",
     "output_type": "stream",
     "text": [
      "[ 0.00082968 -0.04769692 -0.00546862]\n",
      "44.44058222252268\n"
     ]
    }
   ],
   "source": [
    "# untuk bootstramp sample lainnya\n",
    "\n",
    "X_train, y_train = split_X_y(data = list_auto_data[1],\n",
    "                             target_column = \"mpg\")\n",
    "\n",
    "# Fit model\n",
    "regressor = LinearRegression()\n",
    "regressor.fit(X_train, y_train)\n",
    "\n",
    "# Tampilkan coefficient & intercept\n",
    "print(regressor.coef_)\n",
    "print(regressor.intercept_)"
   ]
  },
  {
   "attachments": {},
   "cell_type": "markdown",
   "metadata": {},
   "source": [
    "---\n",
    "**Lakukan eksperimen 1**\n",
    "- Model: Linear\n",
    "- n_sample: 101"
   ]
  },
  {
   "cell_type": "code",
   "execution_count": 50,
   "metadata": {},
   "outputs": [],
   "source": [
    "n_sample = 1001\n",
    "list_auto_data = bootstrap_sampling(data = auto_data,\n",
    "                                    n_sample = n_sample)"
   ]
  },
  {
   "cell_type": "code",
   "execution_count": 51,
   "metadata": {},
   "outputs": [],
   "source": [
    "coef_list = []\n",
    "intercept_list = []\n",
    "mse_list = []\n",
    "\n",
    "for i in range(n_sample):\n",
    "    data_train = list_auto_data[i]\n",
    "\n",
    "    # 1. Pisahkan X_train & y_train\n",
    "    X_train, y_train = split_X_y(data = data_train,\n",
    "                                 target_column = \"mpg\")\n",
    "    \n",
    "    # 2. Fit model\n",
    "    regressor = LinearRegression()\n",
    "    regressor.fit(X_train, y_train)\n",
    "\n",
    "    # 3. Buat prediksi\n",
    "    pred_training = regressor.predict(X_train)\n",
    "\n",
    "    # 4. Hitung mse di training & validation\n",
    "    mse_training = mean_squared_error(y_true = y_train,\n",
    "                                      y_pred = pred_training)\n",
    "     \n",
    "    # masukkan ke list\n",
    "    mse_list.append(mse_training)\n",
    "    coef_list.append(regressor.coef_)\n",
    "    intercept_list.append(regressor.intercept_)\n",
    "\n",
    "mse_list = np.array(mse_list)\n",
    "coef_list = np.array(coef_list)\n",
    "intercept_list = np.array(intercept_list)\n"
   ]
  },
  {
   "cell_type": "code",
   "execution_count": 52,
   "metadata": {},
   "outputs": [
    {
     "data": {
      "image/png": "[encoded data removed]",
      "text/plain": [
       "<Figure size 800x800 with 1 Axes>"
      ]
     },
     "metadata": {},
     "output_type": "display_data"
    }
   ],
   "source": [
    "# Tamplikan error uncertainty\n",
    "fig, ax = plt.subplots(nrows=1, ncols=1, figsize=(8, 8))\n",
    "\n",
    "ax.hist(mse_list)\n",
    "\n",
    "ax.set_xlabel(\"MSE\")\n",
    "ax.set_ylabel(\"Frequency\")\n",
    "plt.show()"
   ]
  },
  {
   "cell_type": "code",
   "execution_count": 53,
   "metadata": {},
   "outputs": [
    {
     "data": {
      "image/png": "[encoded data removed]",
      "text/plain": [
       "<Figure size 800x800 with 1 Axes>"
      ]
     },
     "metadata": {},
     "output_type": "display_data"
    }
   ],
   "source": [
    "# Tamplikan intercept uncertainty\n",
    "fig, ax = plt.subplots(nrows=1, ncols=1, figsize=(8, 8))\n",
    "\n",
    "ax.hist(intercept_list)\n",
    "\n",
    "ax.set_xlabel(\"Intercept Value\")\n",
    "ax.set_ylabel(\"Frequency\")\n",
    "plt.show()"
   ]
  },
  {
   "cell_type": "code",
   "execution_count": 54,
   "metadata": {},
   "outputs": [
    {
     "data": {
      "image/png": "[encoded data removed]",
      "text/plain": [
       "<Figure size 800x800 with 1 Axes>"
      ]
     },
     "metadata": {},
     "output_type": "display_data"
    }
   ],
   "source": [
    "# Tamplikan salah satu koefisien\n",
    "fig, ax = plt.subplots(nrows=1, ncols=1, figsize=(8, 8))\n",
    "\n",
    "ax.hist(coef_list[:,0], label=\"coef-1\")\n",
    "ax.hist(coef_list[:,1], label=\"coef-2\")\n",
    "ax.hist(coef_list[:,2], label=\"coef-3\")\n",
    "\n",
    "ax.set_xlabel(\"Coef Value\")\n",
    "ax.set_ylabel(\"Frequency\")\n",
    "plt.show()"
   ]
  },
  {
   "cell_type": "code",
   "execution_count": 55,
   "metadata": {},
   "outputs": [
    {
     "data": {
      "image/png": "[encoded data removed]",
      "text/plain": [
       "<Figure size 800x800 with 1 Axes>"
      ]
     },
     "metadata": {},
     "output_type": "display_data"
    }
   ],
   "source": [
    "# Tamplikan salah satu koefisien\n",
    "fig, ax = plt.subplots(nrows=1, ncols=1, figsize=(8, 8))\n",
    "\n",
    "ax.boxplot(coef_list)\n",
    "\n",
    "ax.set_xlabel(\"coef -i\")\n",
    "ax.set_ylabel(\"Coef Value\")\n",
    "plt.show()"
   ]
  }
 ],
 "metadata": {
  "kernelspec": {
   "display_name": "base",
   "language": "python",
   "name": "python3"
  },
  "language_info": {
   "codemirror_mode": {
    "name": "ipython",
    "version": 3
   },
   "file_extension": ".py",
   "mimetype": "text/x-python",
   "name": "python",
   "nbconvert_exporter": "python",
   "pygments_lexer": "ipython3",
   "version": "3.9.13"
  },
  "orig_nbformat": 4
 },
 "nbformat": 4,
 "nbformat_minor": 2
}
