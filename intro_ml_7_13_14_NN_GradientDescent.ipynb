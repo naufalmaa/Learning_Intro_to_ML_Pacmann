{
 "cells": [
  {
   "cell_type": "code",
   "execution_count": 1,
   "metadata": {},
   "outputs": [],
   "source": [
    "import pandas as pd\n",
    "import numpy as np\n",
    "\n",
    "import matplotlib.pyplot as plt\n",
    "import seaborn as sns\n",
    "\n",
    "plt.rcParams[\"figure.figsize\"] = (10, 7)\n",
    "plt.rcParams[\"font.size\"] = 16"
   ]
  },
  {
   "attachments": {},
   "cell_type": "markdown",
   "metadata": {},
   "source": [
    "## **Prediksi karyawan left (1) atau tidak (0)**\n",
    "\n",
    "*Cek Resiko dengan Sederhana*\n",
    "\n",
    "- Salah prediksi karyawan stay - diprediksi stay, padahal resign/left\n",
    "  - Resource bisa berkurang sehingga produktifitas menurun\n",
    "  - Mengeluarkan cost untuk pesangon karyawan\n",
    "  - Ada kemungkinan beberapa target tidak terkejar\n",
    "\n",
    "- Salah prediksi karyawan left - diprediksi left, padahal stay\n",
    "  - Sudah membuka job opening lebih dulu, HR bisa buang-buang waktu.\n",
    "  - Mungkin melakukan restrukturisasi tim.\n",
    "\n",
    "---\n",
    "- Lebih besar resiko dari salah prediksi karyawan stay\n",
    "- Apabila stay = negative (0) & left = positive (1)\n",
    "- Maka kita ingin memperkecil nilai False Negative\n",
    "- Dengan kata lain memperbesar nilai Recall\n",
    "\n",
    "$$\n",
    "\\text{Recall} = \\cfrac{TP}{TP + FN}\n",
    "$$\n",
    "\n",
    "catatan: apabila ingin mengurangi kasus left (positive)nya, maka bisa dikurangi *Precision*-nya\n",
    "\n",
    "$$\n",
    "\\text{Precision} = \\cfrac{TP}{TP + FP}\n",
    "$$"
   ]
  },
  {
   "cell_type": "code",
   "execution_count": 2,
   "metadata": {},
   "outputs": [],
   "source": [
    "# load data\n",
    "\n",
    "def importData(filename):\n",
    "    # Read Data\n",
    "    data = pd.read_csv(filename)\n",
    "    print(f\"shape awal                    : {data.shape}, (#observasi, #fitur)\")\n",
    "\n",
    "    # Drop duplicate\n",
    "    data = data.drop_duplicates()\n",
    "    print(f\"shape setelah drop duplikat   : {data.shape}, (#observasi, #fitur)\")\n",
    "\n",
    "    return data\n"
   ]
  },
  {
   "cell_type": "code",
   "execution_count": 3,
   "metadata": {},
   "outputs": [
    {
     "name": "stdout",
     "output_type": "stream",
     "text": [
      "shape awal                    : (14999, 10), (#observasi, #fitur)\n",
      "shape setelah drop duplikat   : (11991, 10), (#observasi, #fitur)\n"
     ]
    },
    {
     "data": {
      "text/html": [
       "<div>\n",
       "<style scoped>\n",
       "    .dataframe tbody tr th:only-of-type {\n",
       "        vertical-align: middle;\n",
       "    }\n",
       "\n",
       "    .dataframe tbody tr th {\n",
       "        vertical-align: top;\n",
       "    }\n",
       "\n",
       "    .dataframe thead th {\n",
       "        text-align: right;\n",
       "    }\n",
       "</style>\n",
       "<table border=\"1\" class=\"dataframe\">\n",
       "  <thead>\n",
       "    <tr style=\"text-align: right;\">\n",
       "      <th></th>\n",
       "      <th>satisfaction_level</th>\n",
       "      <th>last_evaluation</th>\n",
       "      <th>number_project</th>\n",
       "      <th>average_montly_hours</th>\n",
       "      <th>time_spend_company</th>\n",
       "      <th>Work_accident</th>\n",
       "      <th>left</th>\n",
       "      <th>promotion_last_5years</th>\n",
       "      <th>division</th>\n",
       "      <th>salary</th>\n",
       "    </tr>\n",
       "  </thead>\n",
       "  <tbody>\n",
       "    <tr>\n",
       "      <th>0</th>\n",
       "      <td>0.38</td>\n",
       "      <td>0.53</td>\n",
       "      <td>2</td>\n",
       "      <td>157</td>\n",
       "      <td>3</td>\n",
       "      <td>0</td>\n",
       "      <td>1</td>\n",
       "      <td>0</td>\n",
       "      <td>sales</td>\n",
       "      <td>low</td>\n",
       "    </tr>\n",
       "    <tr>\n",
       "      <th>1</th>\n",
       "      <td>0.80</td>\n",
       "      <td>0.86</td>\n",
       "      <td>5</td>\n",
       "      <td>262</td>\n",
       "      <td>6</td>\n",
       "      <td>0</td>\n",
       "      <td>1</td>\n",
       "      <td>0</td>\n",
       "      <td>sales</td>\n",
       "      <td>medium</td>\n",
       "    </tr>\n",
       "    <tr>\n",
       "      <th>2</th>\n",
       "      <td>0.11</td>\n",
       "      <td>0.88</td>\n",
       "      <td>7</td>\n",
       "      <td>272</td>\n",
       "      <td>4</td>\n",
       "      <td>0</td>\n",
       "      <td>1</td>\n",
       "      <td>0</td>\n",
       "      <td>sales</td>\n",
       "      <td>medium</td>\n",
       "    </tr>\n",
       "    <tr>\n",
       "      <th>3</th>\n",
       "      <td>0.72</td>\n",
       "      <td>0.87</td>\n",
       "      <td>5</td>\n",
       "      <td>223</td>\n",
       "      <td>5</td>\n",
       "      <td>0</td>\n",
       "      <td>1</td>\n",
       "      <td>0</td>\n",
       "      <td>sales</td>\n",
       "      <td>low</td>\n",
       "    </tr>\n",
       "    <tr>\n",
       "      <th>4</th>\n",
       "      <td>0.37</td>\n",
       "      <td>0.52</td>\n",
       "      <td>2</td>\n",
       "      <td>159</td>\n",
       "      <td>3</td>\n",
       "      <td>0</td>\n",
       "      <td>1</td>\n",
       "      <td>0</td>\n",
       "      <td>sales</td>\n",
       "      <td>low</td>\n",
       "    </tr>\n",
       "  </tbody>\n",
       "</table>\n",
       "</div>"
      ],
      "text/plain": [
       "   satisfaction_level  last_evaluation  number_project  average_montly_hours  \\\n",
       "0                0.38             0.53               2                   157   \n",
       "1                0.80             0.86               5                   262   \n",
       "2                0.11             0.88               7                   272   \n",
       "3                0.72             0.87               5                   223   \n",
       "4                0.37             0.52               2                   159   \n",
       "\n",
       "   time_spend_company  Work_accident  left  promotion_last_5years division  \\\n",
       "0                   3              0     1                      0    sales   \n",
       "1                   6              0     1                      0    sales   \n",
       "2                   4              0     1                      0    sales   \n",
       "3                   5              0     1                      0    sales   \n",
       "4                   3              0     1                      0    sales   \n",
       "\n",
       "   salary  \n",
       "0     low  \n",
       "1  medium  \n",
       "2  medium  \n",
       "3     low  \n",
       "4     low  "
      ]
     },
     "execution_count": 3,
     "metadata": {},
     "output_type": "execute_result"
    }
   ],
   "source": [
    "filename = \"data/data_hr.csv\"\n",
    "data = importData(filename = filename)\n",
    "\n",
    "data.head()"
   ]
  },
  {
   "cell_type": "code",
   "execution_count": 4,
   "metadata": {},
   "outputs": [],
   "source": [
    "def splitInputOutput(data, target_column):\n",
    "    X = data.drop(columns = target_column)\n",
    "    y = data[target_column]\n",
    "\n",
    "    return X, y"
   ]
  },
  {
   "cell_type": "code",
   "execution_count": 5,
   "metadata": {},
   "outputs": [
    {
     "data": {
      "text/plain": [
       "(<bound method NDFrame.head of        satisfaction_level  last_evaluation  number_project  \\\n",
       " 0                    0.38             0.53               2   \n",
       " 1                    0.80             0.86               5   \n",
       " 2                    0.11             0.88               7   \n",
       " 3                    0.72             0.87               5   \n",
       " 4                    0.37             0.52               2   \n",
       " ...                   ...              ...             ...   \n",
       " 11995                0.90             0.55               3   \n",
       " 11996                0.74             0.95               5   \n",
       " 11997                0.85             0.54               3   \n",
       " 11998                0.33             0.65               3   \n",
       " 11999                0.50             0.73               4   \n",
       " \n",
       "        average_montly_hours  time_spend_company  Work_accident  \\\n",
       " 0                       157                   3              0   \n",
       " 1                       262                   6              0   \n",
       " 2                       272                   4              0   \n",
       " 3                       223                   5              0   \n",
       " 4                       159                   3              0   \n",
       " ...                     ...                 ...            ...   \n",
       " 11995                   259                  10              1   \n",
       " 11996                   266                  10              0   \n",
       " 11997                   185                  10              0   \n",
       " 11998                   172                  10              0   \n",
       " 11999                   180                   3              0   \n",
       " \n",
       "        promotion_last_5years    division  salary  \n",
       " 0                          0       sales     low  \n",
       " 1                          0       sales  medium  \n",
       " 2                          0       sales  medium  \n",
       " 3                          0       sales     low  \n",
       " 4                          0       sales     low  \n",
       " ...                      ...         ...     ...  \n",
       " 11995                      1  management    high  \n",
       " 11996                      1  management    high  \n",
       " 11997                      1  management    high  \n",
       " 11998                      1   marketing    high  \n",
       " 11999                      0          IT     low  \n",
       " \n",
       " [11991 rows x 9 columns]>,\n",
       " <bound method NDFrame.head of 0        1\n",
       " 1        1\n",
       " 2        1\n",
       " 3        1\n",
       " 4        1\n",
       "         ..\n",
       " 11995    0\n",
       " 11996    0\n",
       " 11997    0\n",
       " 11998    0\n",
       " 11999    0\n",
       " Name: left, Length: 11991, dtype: int64>)"
      ]
     },
     "execution_count": 5,
     "metadata": {},
     "output_type": "execute_result"
    }
   ],
   "source": [
    "target_column = \"left\"\n",
    "X, y = splitInputOutput(data = data,\n",
    "                        target_column = target_column)\n",
    "\n",
    "X.head, y.head"
   ]
  },
  {
   "attachments": {},
   "cell_type": "markdown",
   "metadata": {},
   "source": [
    "Split train-test"
   ]
  },
  {
   "cell_type": "code",
   "execution_count": 6,
   "metadata": {},
   "outputs": [
    {
     "data": {
      "text/plain": [
       "left\n",
       "0    0.833959\n",
       "1    0.166041\n",
       "Name: proportion, dtype: float64"
      ]
     },
     "execution_count": 6,
     "metadata": {},
     "output_type": "execute_result"
    }
   ],
   "source": [
    "# Cek kondisi proporsi kelas target\n",
    "y.value_counts(normalize = True)\n",
    "\n",
    "# Tidak balance"
   ]
  },
  {
   "cell_type": "code",
   "execution_count": 7,
   "metadata": {},
   "outputs": [
    {
     "data": {
      "text/plain": [
       "((9592, 9), (2399, 9), (9592,), (2399,))"
      ]
     },
     "execution_count": 7,
     "metadata": {},
     "output_type": "execute_result"
    }
   ],
   "source": [
    "from sklearn.model_selection import train_test_split\n",
    "\n",
    "X_train, X_test, y_train, y_test = train_test_split(X, y,\n",
    "                                                    stratify = y,\n",
    "                                                    test_size = 0.2,\n",
    "                                                    random_state = 123)\n",
    "\n",
    "X_train.shape, X_test.shape, y_train.shape, y_test.shape\n",
    "\n",
    "# kalo main timestamp series, biasanya pembagian train, test, validation data berdasarkan waktu"
   ]
  },
  {
   "attachments": {},
   "cell_type": "markdown",
   "metadata": {},
   "source": [
    "Splitting Categorical and Numerical Column"
   ]
  },
  {
   "cell_type": "code",
   "execution_count": 8,
   "metadata": {},
   "outputs": [
    {
     "data": {
      "text/html": [
       "<div>\n",
       "<style scoped>\n",
       "    .dataframe tbody tr th:only-of-type {\n",
       "        vertical-align: middle;\n",
       "    }\n",
       "\n",
       "    .dataframe tbody tr th {\n",
       "        vertical-align: top;\n",
       "    }\n",
       "\n",
       "    .dataframe thead th {\n",
       "        text-align: right;\n",
       "    }\n",
       "</style>\n",
       "<table border=\"1\" class=\"dataframe\">\n",
       "  <thead>\n",
       "    <tr style=\"text-align: right;\">\n",
       "      <th></th>\n",
       "      <th>satisfaction_level</th>\n",
       "      <th>last_evaluation</th>\n",
       "      <th>number_project</th>\n",
       "      <th>average_montly_hours</th>\n",
       "      <th>time_spend_company</th>\n",
       "      <th>Work_accident</th>\n",
       "      <th>promotion_last_5years</th>\n",
       "      <th>division</th>\n",
       "      <th>salary</th>\n",
       "    </tr>\n",
       "  </thead>\n",
       "  <tbody>\n",
       "    <tr>\n",
       "      <th>9492</th>\n",
       "      <td>0.44</td>\n",
       "      <td>0.56</td>\n",
       "      <td>3</td>\n",
       "      <td>123</td>\n",
       "      <td>3</td>\n",
       "      <td>0</td>\n",
       "      <td>0</td>\n",
       "      <td>accounting</td>\n",
       "      <td>medium</td>\n",
       "    </tr>\n",
       "    <tr>\n",
       "      <th>11555</th>\n",
       "      <td>0.98</td>\n",
       "      <td>0.44</td>\n",
       "      <td>4</td>\n",
       "      <td>154</td>\n",
       "      <td>6</td>\n",
       "      <td>1</td>\n",
       "      <td>0</td>\n",
       "      <td>sales</td>\n",
       "      <td>medium</td>\n",
       "    </tr>\n",
       "    <tr>\n",
       "      <th>11301</th>\n",
       "      <td>0.76</td>\n",
       "      <td>0.99</td>\n",
       "      <td>3</td>\n",
       "      <td>133</td>\n",
       "      <td>4</td>\n",
       "      <td>0</td>\n",
       "      <td>0</td>\n",
       "      <td>sales</td>\n",
       "      <td>low</td>\n",
       "    </tr>\n",
       "    <tr>\n",
       "      <th>5578</th>\n",
       "      <td>0.47</td>\n",
       "      <td>0.55</td>\n",
       "      <td>2</td>\n",
       "      <td>156</td>\n",
       "      <td>2</td>\n",
       "      <td>0</td>\n",
       "      <td>0</td>\n",
       "      <td>management</td>\n",
       "      <td>medium</td>\n",
       "    </tr>\n",
       "    <tr>\n",
       "      <th>6241</th>\n",
       "      <td>0.84</td>\n",
       "      <td>0.68</td>\n",
       "      <td>4</td>\n",
       "      <td>151</td>\n",
       "      <td>2</td>\n",
       "      <td>0</td>\n",
       "      <td>0</td>\n",
       "      <td>technical</td>\n",
       "      <td>low</td>\n",
       "    </tr>\n",
       "  </tbody>\n",
       "</table>\n",
       "</div>"
      ],
      "text/plain": [
       "       satisfaction_level  last_evaluation  number_project  \\\n",
       "9492                 0.44             0.56               3   \n",
       "11555                0.98             0.44               4   \n",
       "11301                0.76             0.99               3   \n",
       "5578                 0.47             0.55               2   \n",
       "6241                 0.84             0.68               4   \n",
       "\n",
       "       average_montly_hours  time_spend_company  Work_accident  \\\n",
       "9492                    123                   3              0   \n",
       "11555                   154                   6              1   \n",
       "11301                   133                   4              0   \n",
       "5578                    156                   2              0   \n",
       "6241                    151                   2              0   \n",
       "\n",
       "       promotion_last_5years    division  salary  \n",
       "9492                       0  accounting  medium  \n",
       "11555                      0       sales  medium  \n",
       "11301                      0       sales     low  \n",
       "5578                       0  management  medium  \n",
       "6241                       0   technical     low  "
      ]
     },
     "execution_count": 8,
     "metadata": {},
     "output_type": "execute_result"
    }
   ],
   "source": [
    "X_train.head()"
   ]
  },
  {
   "cell_type": "code",
   "execution_count": 9,
   "metadata": {},
   "outputs": [
    {
     "data": {
      "text/plain": [
       "(['Work_accident', 'promotion_last_5years', 'division', 'salary'],\n",
       " ['last_evaluation',\n",
       "  'satisfaction_level',\n",
       "  'time_spend_company',\n",
       "  'average_montly_hours',\n",
       "  'number_project'])"
      ]
     },
     "execution_count": 9,
     "metadata": {},
     "output_type": "execute_result"
    }
   ],
   "source": [
    "categorical_col = [\"Work_accident\", \"promotion_last_5years\", \"division\", \"salary\"]\n",
    "numerical_col = list(set(X_train.columns) - set(categorical_col))\n",
    "\n",
    "categorical_col, numerical_col"
   ]
  },
  {
   "cell_type": "code",
   "execution_count": 10,
   "metadata": {},
   "outputs": [],
   "source": [
    "def splitNumCat(data, num_col, cat_col):\n",
    "    data_num = data[num_col]\n",
    "    data_cat = data[cat_col]\n",
    "\n",
    "    return data_num, data_cat\n",
    "    "
   ]
  },
  {
   "cell_type": "code",
   "execution_count": 11,
   "metadata": {},
   "outputs": [],
   "source": [
    "X_train_num, X_train_cat = splitNumCat(data = X_train,\n",
    "                                       num_col = numerical_col,\n",
    "                                       cat_col = categorical_col)"
   ]
  },
  {
   "attachments": {},
   "cell_type": "markdown",
   "metadata": {},
   "source": [
    "Handling Numerical Data"
   ]
  },
  {
   "cell_type": "code",
   "execution_count": 12,
   "metadata": {},
   "outputs": [
    {
     "data": {
      "text/plain": [
       "last_evaluation         False\n",
       "satisfaction_level      False\n",
       "time_spend_company      False\n",
       "average_montly_hours    False\n",
       "number_project          False\n",
       "dtype: bool"
      ]
     },
     "execution_count": 12,
     "metadata": {},
     "output_type": "execute_result"
    }
   ],
   "source": [
    "# Check missing value\n",
    "X_train_num.isna().any()"
   ]
  },
  {
   "cell_type": "code",
   "execution_count": 13,
   "metadata": {},
   "outputs": [],
   "source": [
    "# Buat imputer untuk jaga-jaga apabila di data test ada yang kosong\n",
    "from sklearn.impute import SimpleImputer\n",
    "\n",
    "def imputerNum(data, imputer = None):\n",
    "    if imputer == None:\n",
    "        # Buat imputer\n",
    "        imputer = SimpleImputer(missing_values = np.nan,\n",
    "                                strategy = \"median\")\n",
    "        imputer.fit(data)\n",
    "\n",
    "    # Transform data dengan imputer\n",
    "    data_imputed = imputer.transform(data)\n",
    "    data_imputed = pd.DataFrame(data_imputed,\n",
    "                                index = data.index,\n",
    "                                columns = data.columns)\n",
    "    \n",
    "    return data_imputed, imputer\n"
   ]
  },
  {
   "cell_type": "code",
   "execution_count": 14,
   "metadata": {},
   "outputs": [],
   "source": [
    "X_train_num_imputed, imputer_num = imputerNum(data = X_train_num)"
   ]
  },
  {
   "cell_type": "code",
   "execution_count": 15,
   "metadata": {},
   "outputs": [
    {
     "data": {
      "text/html": [
       "<div>\n",
       "<style scoped>\n",
       "    .dataframe tbody tr th:only-of-type {\n",
       "        vertical-align: middle;\n",
       "    }\n",
       "\n",
       "    .dataframe tbody tr th {\n",
       "        vertical-align: top;\n",
       "    }\n",
       "\n",
       "    .dataframe thead th {\n",
       "        text-align: right;\n",
       "    }\n",
       "</style>\n",
       "<table border=\"1\" class=\"dataframe\">\n",
       "  <thead>\n",
       "    <tr style=\"text-align: right;\">\n",
       "      <th></th>\n",
       "      <th>last_evaluation</th>\n",
       "      <th>satisfaction_level</th>\n",
       "      <th>time_spend_company</th>\n",
       "      <th>average_montly_hours</th>\n",
       "      <th>number_project</th>\n",
       "    </tr>\n",
       "  </thead>\n",
       "  <tbody>\n",
       "    <tr>\n",
       "      <th>9492</th>\n",
       "      <td>0.56</td>\n",
       "      <td>0.44</td>\n",
       "      <td>3.0</td>\n",
       "      <td>123.0</td>\n",
       "      <td>3.0</td>\n",
       "    </tr>\n",
       "    <tr>\n",
       "      <th>11555</th>\n",
       "      <td>0.44</td>\n",
       "      <td>0.98</td>\n",
       "      <td>6.0</td>\n",
       "      <td>154.0</td>\n",
       "      <td>4.0</td>\n",
       "    </tr>\n",
       "    <tr>\n",
       "      <th>11301</th>\n",
       "      <td>0.99</td>\n",
       "      <td>0.76</td>\n",
       "      <td>4.0</td>\n",
       "      <td>133.0</td>\n",
       "      <td>3.0</td>\n",
       "    </tr>\n",
       "    <tr>\n",
       "      <th>5578</th>\n",
       "      <td>0.55</td>\n",
       "      <td>0.47</td>\n",
       "      <td>2.0</td>\n",
       "      <td>156.0</td>\n",
       "      <td>2.0</td>\n",
       "    </tr>\n",
       "    <tr>\n",
       "      <th>6241</th>\n",
       "      <td>0.68</td>\n",
       "      <td>0.84</td>\n",
       "      <td>2.0</td>\n",
       "      <td>151.0</td>\n",
       "      <td>4.0</td>\n",
       "    </tr>\n",
       "  </tbody>\n",
       "</table>\n",
       "</div>"
      ],
      "text/plain": [
       "       last_evaluation  satisfaction_level  time_spend_company  \\\n",
       "9492              0.56                0.44                 3.0   \n",
       "11555             0.44                0.98                 6.0   \n",
       "11301             0.99                0.76                 4.0   \n",
       "5578              0.55                0.47                 2.0   \n",
       "6241              0.68                0.84                 2.0   \n",
       "\n",
       "       average_montly_hours  number_project  \n",
       "9492                  123.0             3.0  \n",
       "11555                 154.0             4.0  \n",
       "11301                 133.0             3.0  \n",
       "5578                  156.0             2.0  \n",
       "6241                  151.0             4.0  "
      ]
     },
     "execution_count": 15,
     "metadata": {},
     "output_type": "execute_result"
    }
   ],
   "source": [
    "X_train_num_imputed.head()"
   ]
  },
  {
   "attachments": {},
   "cell_type": "markdown",
   "metadata": {},
   "source": [
    "Handling Categorical Data"
   ]
  },
  {
   "cell_type": "code",
   "execution_count": 16,
   "metadata": {},
   "outputs": [
    {
     "data": {
      "text/plain": [
       "Work_accident            False\n",
       "promotion_last_5years    False\n",
       "division                 False\n",
       "salary                   False\n",
       "dtype: bool"
      ]
     },
     "execution_count": 16,
     "metadata": {},
     "output_type": "execute_result"
    }
   ],
   "source": [
    "# Check missing value\n",
    "X_train_cat.isna().any()"
   ]
  },
  {
   "cell_type": "code",
   "execution_count": 17,
   "metadata": {},
   "outputs": [],
   "source": [
    "# Buat imputer untuk jaga-jaga apabila di data test ada yang kosong\n",
    "def imputerCat(data, imputer = None):\n",
    "    if imputer == None:\n",
    "        # Buat imputer\n",
    "        imputer = SimpleImputer(missing_values = np.nan,\n",
    "                                strategy = \"constant\",\n",
    "                                fill_value = \"UNKNOWN\")\n",
    "        imputer.fit(data)\n",
    "\n",
    "    # Transform data dengan imputer\n",
    "    data_imputed = imputer.transform(data)\n",
    "    data_imputed = pd.DataFrame(data_imputed,\n",
    "                                index = data.index,\n",
    "                                columns = data.columns)\n",
    "    \n",
    "    return data_imputed, imputer\n"
   ]
  },
  {
   "cell_type": "code",
   "execution_count": 18,
   "metadata": {},
   "outputs": [],
   "source": [
    "X_train_cat_imputed, imputer_cat = imputerCat(data = X_train_cat)"
   ]
  },
  {
   "cell_type": "code",
   "execution_count": 19,
   "metadata": {},
   "outputs": [
    {
     "data": {
      "text/html": [
       "<div>\n",
       "<style scoped>\n",
       "    .dataframe tbody tr th:only-of-type {\n",
       "        vertical-align: middle;\n",
       "    }\n",
       "\n",
       "    .dataframe tbody tr th {\n",
       "        vertical-align: top;\n",
       "    }\n",
       "\n",
       "    .dataframe thead th {\n",
       "        text-align: right;\n",
       "    }\n",
       "</style>\n",
       "<table border=\"1\" class=\"dataframe\">\n",
       "  <thead>\n",
       "    <tr style=\"text-align: right;\">\n",
       "      <th></th>\n",
       "      <th>Work_accident</th>\n",
       "      <th>promotion_last_5years</th>\n",
       "      <th>division</th>\n",
       "      <th>salary</th>\n",
       "    </tr>\n",
       "  </thead>\n",
       "  <tbody>\n",
       "    <tr>\n",
       "      <th>9492</th>\n",
       "      <td>0</td>\n",
       "      <td>0</td>\n",
       "      <td>accounting</td>\n",
       "      <td>medium</td>\n",
       "    </tr>\n",
       "    <tr>\n",
       "      <th>11555</th>\n",
       "      <td>1</td>\n",
       "      <td>0</td>\n",
       "      <td>sales</td>\n",
       "      <td>medium</td>\n",
       "    </tr>\n",
       "    <tr>\n",
       "      <th>11301</th>\n",
       "      <td>0</td>\n",
       "      <td>0</td>\n",
       "      <td>sales</td>\n",
       "      <td>low</td>\n",
       "    </tr>\n",
       "    <tr>\n",
       "      <th>5578</th>\n",
       "      <td>0</td>\n",
       "      <td>0</td>\n",
       "      <td>management</td>\n",
       "      <td>medium</td>\n",
       "    </tr>\n",
       "    <tr>\n",
       "      <th>6241</th>\n",
       "      <td>0</td>\n",
       "      <td>0</td>\n",
       "      <td>technical</td>\n",
       "      <td>low</td>\n",
       "    </tr>\n",
       "  </tbody>\n",
       "</table>\n",
       "</div>"
      ],
      "text/plain": [
       "      Work_accident promotion_last_5years    division  salary\n",
       "9492              0                     0  accounting  medium\n",
       "11555             1                     0       sales  medium\n",
       "11301             0                     0       sales     low\n",
       "5578              0                     0  management  medium\n",
       "6241              0                     0   technical     low"
      ]
     },
     "execution_count": 19,
     "metadata": {},
     "output_type": "execute_result"
    }
   ],
   "source": [
    "X_train_cat_imputed.head()"
   ]
  },
  {
   "attachments": {},
   "cell_type": "markdown",
   "metadata": {},
   "source": [
    "One Hot Encoding Data"
   ]
  },
  {
   "cell_type": "code",
   "execution_count": 20,
   "metadata": {},
   "outputs": [],
   "source": [
    "from sklearn.preprocessing import OneHotEncoder\n",
    "\n",
    "def encoderCat(data, encoder_col = None, encoder = None):\n",
    "    if encoder == None:\n",
    "        # Buat objek\n",
    "        encoder = OneHotEncoder(handle_unknown = \"ignore\",\n",
    "                                drop = \"if_binary\")\n",
    "        encoder.fit(data)\n",
    "        encoder_col = encoder.get_feature_names_out(data.columns)\n",
    "\n",
    "    # Transform data\n",
    "    data_encoded = encoder.transform(data).toarray()\n",
    "    data_encoded = pd.DataFrame(data_encoded,\n",
    "                                index = data.index,\n",
    "                                columns = encoder_col)\n",
    "    \n",
    "    return data_encoded, encoder_col, encoder\n"
   ]
  },
  {
   "cell_type": "code",
   "execution_count": 21,
   "metadata": {},
   "outputs": [],
   "source": [
    "X_train_cat_encoded, encoder_col, encoder_OHE = encoderCat(data = X_train_cat_imputed)"
   ]
  },
  {
   "cell_type": "code",
   "execution_count": 22,
   "metadata": {},
   "outputs": [
    {
     "data": {
      "text/html": [
       "<div>\n",
       "<style scoped>\n",
       "    .dataframe tbody tr th:only-of-type {\n",
       "        vertical-align: middle;\n",
       "    }\n",
       "\n",
       "    .dataframe tbody tr th {\n",
       "        vertical-align: top;\n",
       "    }\n",
       "\n",
       "    .dataframe thead th {\n",
       "        text-align: right;\n",
       "    }\n",
       "</style>\n",
       "<table border=\"1\" class=\"dataframe\">\n",
       "  <thead>\n",
       "    <tr style=\"text-align: right;\">\n",
       "      <th></th>\n",
       "      <th>9492</th>\n",
       "      <th>11555</th>\n",
       "      <th>11301</th>\n",
       "      <th>5578</th>\n",
       "      <th>6241</th>\n",
       "    </tr>\n",
       "  </thead>\n",
       "  <tbody>\n",
       "    <tr>\n",
       "      <th>Work_accident</th>\n",
       "      <td>0</td>\n",
       "      <td>1</td>\n",
       "      <td>0</td>\n",
       "      <td>0</td>\n",
       "      <td>0</td>\n",
       "    </tr>\n",
       "    <tr>\n",
       "      <th>promotion_last_5years</th>\n",
       "      <td>0</td>\n",
       "      <td>0</td>\n",
       "      <td>0</td>\n",
       "      <td>0</td>\n",
       "      <td>0</td>\n",
       "    </tr>\n",
       "    <tr>\n",
       "      <th>division</th>\n",
       "      <td>accounting</td>\n",
       "      <td>sales</td>\n",
       "      <td>sales</td>\n",
       "      <td>management</td>\n",
       "      <td>technical</td>\n",
       "    </tr>\n",
       "    <tr>\n",
       "      <th>salary</th>\n",
       "      <td>medium</td>\n",
       "      <td>medium</td>\n",
       "      <td>low</td>\n",
       "      <td>medium</td>\n",
       "      <td>low</td>\n",
       "    </tr>\n",
       "  </tbody>\n",
       "</table>\n",
       "</div>"
      ],
      "text/plain": [
       "                            9492    11555  11301       5578       6241 \n",
       "Work_accident                   0       1      0           0          0\n",
       "promotion_last_5years           0       0      0           0          0\n",
       "division               accounting   sales  sales  management  technical\n",
       "salary                     medium  medium    low      medium        low"
      ]
     },
     "execution_count": 22,
     "metadata": {},
     "output_type": "execute_result"
    }
   ],
   "source": [
    "X_train_cat_imputed.head().T"
   ]
  },
  {
   "cell_type": "code",
   "execution_count": 23,
   "metadata": {},
   "outputs": [
    {
     "data": {
      "text/html": [
       "<div>\n",
       "<style scoped>\n",
       "    .dataframe tbody tr th:only-of-type {\n",
       "        vertical-align: middle;\n",
       "    }\n",
       "\n",
       "    .dataframe tbody tr th {\n",
       "        vertical-align: top;\n",
       "    }\n",
       "\n",
       "    .dataframe thead th {\n",
       "        text-align: right;\n",
       "    }\n",
       "</style>\n",
       "<table border=\"1\" class=\"dataframe\">\n",
       "  <thead>\n",
       "    <tr style=\"text-align: right;\">\n",
       "      <th></th>\n",
       "      <th>9492</th>\n",
       "      <th>11555</th>\n",
       "      <th>11301</th>\n",
       "      <th>5578</th>\n",
       "      <th>6241</th>\n",
       "    </tr>\n",
       "  </thead>\n",
       "  <tbody>\n",
       "    <tr>\n",
       "      <th>Work_accident_1</th>\n",
       "      <td>0.0</td>\n",
       "      <td>1.0</td>\n",
       "      <td>0.0</td>\n",
       "      <td>0.0</td>\n",
       "      <td>0.0</td>\n",
       "    </tr>\n",
       "    <tr>\n",
       "      <th>promotion_last_5years_1</th>\n",
       "      <td>0.0</td>\n",
       "      <td>0.0</td>\n",
       "      <td>0.0</td>\n",
       "      <td>0.0</td>\n",
       "      <td>0.0</td>\n",
       "    </tr>\n",
       "    <tr>\n",
       "      <th>division_IT</th>\n",
       "      <td>0.0</td>\n",
       "      <td>0.0</td>\n",
       "      <td>0.0</td>\n",
       "      <td>0.0</td>\n",
       "      <td>0.0</td>\n",
       "    </tr>\n",
       "    <tr>\n",
       "      <th>division_RandD</th>\n",
       "      <td>0.0</td>\n",
       "      <td>0.0</td>\n",
       "      <td>0.0</td>\n",
       "      <td>0.0</td>\n",
       "      <td>0.0</td>\n",
       "    </tr>\n",
       "    <tr>\n",
       "      <th>division_accounting</th>\n",
       "      <td>1.0</td>\n",
       "      <td>0.0</td>\n",
       "      <td>0.0</td>\n",
       "      <td>0.0</td>\n",
       "      <td>0.0</td>\n",
       "    </tr>\n",
       "    <tr>\n",
       "      <th>division_hr</th>\n",
       "      <td>0.0</td>\n",
       "      <td>0.0</td>\n",
       "      <td>0.0</td>\n",
       "      <td>0.0</td>\n",
       "      <td>0.0</td>\n",
       "    </tr>\n",
       "    <tr>\n",
       "      <th>division_management</th>\n",
       "      <td>0.0</td>\n",
       "      <td>0.0</td>\n",
       "      <td>0.0</td>\n",
       "      <td>1.0</td>\n",
       "      <td>0.0</td>\n",
       "    </tr>\n",
       "    <tr>\n",
       "      <th>division_marketing</th>\n",
       "      <td>0.0</td>\n",
       "      <td>0.0</td>\n",
       "      <td>0.0</td>\n",
       "      <td>0.0</td>\n",
       "      <td>0.0</td>\n",
       "    </tr>\n",
       "    <tr>\n",
       "      <th>division_product_mng</th>\n",
       "      <td>0.0</td>\n",
       "      <td>0.0</td>\n",
       "      <td>0.0</td>\n",
       "      <td>0.0</td>\n",
       "      <td>0.0</td>\n",
       "    </tr>\n",
       "    <tr>\n",
       "      <th>division_sales</th>\n",
       "      <td>0.0</td>\n",
       "      <td>1.0</td>\n",
       "      <td>1.0</td>\n",
       "      <td>0.0</td>\n",
       "      <td>0.0</td>\n",
       "    </tr>\n",
       "    <tr>\n",
       "      <th>division_support</th>\n",
       "      <td>0.0</td>\n",
       "      <td>0.0</td>\n",
       "      <td>0.0</td>\n",
       "      <td>0.0</td>\n",
       "      <td>0.0</td>\n",
       "    </tr>\n",
       "    <tr>\n",
       "      <th>division_technical</th>\n",
       "      <td>0.0</td>\n",
       "      <td>0.0</td>\n",
       "      <td>0.0</td>\n",
       "      <td>0.0</td>\n",
       "      <td>1.0</td>\n",
       "    </tr>\n",
       "    <tr>\n",
       "      <th>salary_high</th>\n",
       "      <td>0.0</td>\n",
       "      <td>0.0</td>\n",
       "      <td>0.0</td>\n",
       "      <td>0.0</td>\n",
       "      <td>0.0</td>\n",
       "    </tr>\n",
       "    <tr>\n",
       "      <th>salary_low</th>\n",
       "      <td>0.0</td>\n",
       "      <td>0.0</td>\n",
       "      <td>1.0</td>\n",
       "      <td>0.0</td>\n",
       "      <td>1.0</td>\n",
       "    </tr>\n",
       "    <tr>\n",
       "      <th>salary_medium</th>\n",
       "      <td>1.0</td>\n",
       "      <td>1.0</td>\n",
       "      <td>0.0</td>\n",
       "      <td>1.0</td>\n",
       "      <td>0.0</td>\n",
       "    </tr>\n",
       "  </tbody>\n",
       "</table>\n",
       "</div>"
      ],
      "text/plain": [
       "                         9492   11555  11301  5578   6241 \n",
       "Work_accident_1            0.0    1.0    0.0    0.0    0.0\n",
       "promotion_last_5years_1    0.0    0.0    0.0    0.0    0.0\n",
       "division_IT                0.0    0.0    0.0    0.0    0.0\n",
       "division_RandD             0.0    0.0    0.0    0.0    0.0\n",
       "division_accounting        1.0    0.0    0.0    0.0    0.0\n",
       "division_hr                0.0    0.0    0.0    0.0    0.0\n",
       "division_management        0.0    0.0    0.0    1.0    0.0\n",
       "division_marketing         0.0    0.0    0.0    0.0    0.0\n",
       "division_product_mng       0.0    0.0    0.0    0.0    0.0\n",
       "division_sales             0.0    1.0    1.0    0.0    0.0\n",
       "division_support           0.0    0.0    0.0    0.0    0.0\n",
       "division_technical         0.0    0.0    0.0    0.0    1.0\n",
       "salary_high                0.0    0.0    0.0    0.0    0.0\n",
       "salary_low                 0.0    0.0    1.0    0.0    1.0\n",
       "salary_medium              1.0    1.0    0.0    1.0    0.0"
      ]
     },
     "execution_count": 23,
     "metadata": {},
     "output_type": "execute_result"
    }
   ],
   "source": [
    "X_train_cat_encoded.head().T"
   ]
  },
  {
   "cell_type": "code",
   "execution_count": 24,
   "metadata": {},
   "outputs": [
    {
     "data": {
      "text/plain": [
       "array(['Work_accident_1', 'promotion_last_5years_1', 'division_IT',\n",
       "       'division_RandD', 'division_accounting', 'division_hr',\n",
       "       'division_management', 'division_marketing',\n",
       "       'division_product_mng', 'division_sales', 'division_support',\n",
       "       'division_technical', 'salary_high', 'salary_low', 'salary_medium'],\n",
       "      dtype=object)"
      ]
     },
     "execution_count": 24,
     "metadata": {},
     "output_type": "execute_result"
    }
   ],
   "source": [
    "encoder_col"
   ]
  },
  {
   "attachments": {},
   "cell_type": "markdown",
   "metadata": {},
   "source": [
    "Concat Data"
   ]
  },
  {
   "cell_type": "code",
   "execution_count": 25,
   "metadata": {},
   "outputs": [
    {
     "data": {
      "text/html": [
       "<div>\n",
       "<style scoped>\n",
       "    .dataframe tbody tr th:only-of-type {\n",
       "        vertical-align: middle;\n",
       "    }\n",
       "\n",
       "    .dataframe tbody tr th {\n",
       "        vertical-align: top;\n",
       "    }\n",
       "\n",
       "    .dataframe thead th {\n",
       "        text-align: right;\n",
       "    }\n",
       "</style>\n",
       "<table border=\"1\" class=\"dataframe\">\n",
       "  <thead>\n",
       "    <tr style=\"text-align: right;\">\n",
       "      <th></th>\n",
       "      <th>last_evaluation</th>\n",
       "      <th>satisfaction_level</th>\n",
       "      <th>time_spend_company</th>\n",
       "      <th>average_montly_hours</th>\n",
       "      <th>number_project</th>\n",
       "      <th>Work_accident_1</th>\n",
       "      <th>promotion_last_5years_1</th>\n",
       "      <th>division_IT</th>\n",
       "      <th>division_RandD</th>\n",
       "      <th>division_accounting</th>\n",
       "      <th>division_hr</th>\n",
       "      <th>division_management</th>\n",
       "      <th>division_marketing</th>\n",
       "      <th>division_product_mng</th>\n",
       "      <th>division_sales</th>\n",
       "      <th>division_support</th>\n",
       "      <th>division_technical</th>\n",
       "      <th>salary_high</th>\n",
       "      <th>salary_low</th>\n",
       "      <th>salary_medium</th>\n",
       "    </tr>\n",
       "  </thead>\n",
       "  <tbody>\n",
       "    <tr>\n",
       "      <th>9492</th>\n",
       "      <td>0.56</td>\n",
       "      <td>0.44</td>\n",
       "      <td>3.0</td>\n",
       "      <td>123.0</td>\n",
       "      <td>3.0</td>\n",
       "      <td>0.0</td>\n",
       "      <td>0.0</td>\n",
       "      <td>0.0</td>\n",
       "      <td>0.0</td>\n",
       "      <td>1.0</td>\n",
       "      <td>0.0</td>\n",
       "      <td>0.0</td>\n",
       "      <td>0.0</td>\n",
       "      <td>0.0</td>\n",
       "      <td>0.0</td>\n",
       "      <td>0.0</td>\n",
       "      <td>0.0</td>\n",
       "      <td>0.0</td>\n",
       "      <td>0.0</td>\n",
       "      <td>1.0</td>\n",
       "    </tr>\n",
       "    <tr>\n",
       "      <th>11555</th>\n",
       "      <td>0.44</td>\n",
       "      <td>0.98</td>\n",
       "      <td>6.0</td>\n",
       "      <td>154.0</td>\n",
       "      <td>4.0</td>\n",
       "      <td>1.0</td>\n",
       "      <td>0.0</td>\n",
       "      <td>0.0</td>\n",
       "      <td>0.0</td>\n",
       "      <td>0.0</td>\n",
       "      <td>0.0</td>\n",
       "      <td>0.0</td>\n",
       "      <td>0.0</td>\n",
       "      <td>0.0</td>\n",
       "      <td>1.0</td>\n",
       "      <td>0.0</td>\n",
       "      <td>0.0</td>\n",
       "      <td>0.0</td>\n",
       "      <td>0.0</td>\n",
       "      <td>1.0</td>\n",
       "    </tr>\n",
       "    <tr>\n",
       "      <th>11301</th>\n",
       "      <td>0.99</td>\n",
       "      <td>0.76</td>\n",
       "      <td>4.0</td>\n",
       "      <td>133.0</td>\n",
       "      <td>3.0</td>\n",
       "      <td>0.0</td>\n",
       "      <td>0.0</td>\n",
       "      <td>0.0</td>\n",
       "      <td>0.0</td>\n",
       "      <td>0.0</td>\n",
       "      <td>0.0</td>\n",
       "      <td>0.0</td>\n",
       "      <td>0.0</td>\n",
       "      <td>0.0</td>\n",
       "      <td>1.0</td>\n",
       "      <td>0.0</td>\n",
       "      <td>0.0</td>\n",
       "      <td>0.0</td>\n",
       "      <td>1.0</td>\n",
       "      <td>0.0</td>\n",
       "    </tr>\n",
       "    <tr>\n",
       "      <th>5578</th>\n",
       "      <td>0.55</td>\n",
       "      <td>0.47</td>\n",
       "      <td>2.0</td>\n",
       "      <td>156.0</td>\n",
       "      <td>2.0</td>\n",
       "      <td>0.0</td>\n",
       "      <td>0.0</td>\n",
       "      <td>0.0</td>\n",
       "      <td>0.0</td>\n",
       "      <td>0.0</td>\n",
       "      <td>0.0</td>\n",
       "      <td>1.0</td>\n",
       "      <td>0.0</td>\n",
       "      <td>0.0</td>\n",
       "      <td>0.0</td>\n",
       "      <td>0.0</td>\n",
       "      <td>0.0</td>\n",
       "      <td>0.0</td>\n",
       "      <td>0.0</td>\n",
       "      <td>1.0</td>\n",
       "    </tr>\n",
       "    <tr>\n",
       "      <th>6241</th>\n",
       "      <td>0.68</td>\n",
       "      <td>0.84</td>\n",
       "      <td>2.0</td>\n",
       "      <td>151.0</td>\n",
       "      <td>4.0</td>\n",
       "      <td>0.0</td>\n",
       "      <td>0.0</td>\n",
       "      <td>0.0</td>\n",
       "      <td>0.0</td>\n",
       "      <td>0.0</td>\n",
       "      <td>0.0</td>\n",
       "      <td>0.0</td>\n",
       "      <td>0.0</td>\n",
       "      <td>0.0</td>\n",
       "      <td>0.0</td>\n",
       "      <td>0.0</td>\n",
       "      <td>1.0</td>\n",
       "      <td>0.0</td>\n",
       "      <td>1.0</td>\n",
       "      <td>0.0</td>\n",
       "    </tr>\n",
       "  </tbody>\n",
       "</table>\n",
       "</div>"
      ],
      "text/plain": [
       "       last_evaluation  satisfaction_level  time_spend_company  \\\n",
       "9492              0.56                0.44                 3.0   \n",
       "11555             0.44                0.98                 6.0   \n",
       "11301             0.99                0.76                 4.0   \n",
       "5578              0.55                0.47                 2.0   \n",
       "6241              0.68                0.84                 2.0   \n",
       "\n",
       "       average_montly_hours  number_project  Work_accident_1  \\\n",
       "9492                  123.0             3.0              0.0   \n",
       "11555                 154.0             4.0              1.0   \n",
       "11301                 133.0             3.0              0.0   \n",
       "5578                  156.0             2.0              0.0   \n",
       "6241                  151.0             4.0              0.0   \n",
       "\n",
       "       promotion_last_5years_1  division_IT  division_RandD  \\\n",
       "9492                       0.0          0.0             0.0   \n",
       "11555                      0.0          0.0             0.0   \n",
       "11301                      0.0          0.0             0.0   \n",
       "5578                       0.0          0.0             0.0   \n",
       "6241                       0.0          0.0             0.0   \n",
       "\n",
       "       division_accounting  division_hr  division_management  \\\n",
       "9492                   1.0          0.0                  0.0   \n",
       "11555                  0.0          0.0                  0.0   \n",
       "11301                  0.0          0.0                  0.0   \n",
       "5578                   0.0          0.0                  1.0   \n",
       "6241                   0.0          0.0                  0.0   \n",
       "\n",
       "       division_marketing  division_product_mng  division_sales  \\\n",
       "9492                  0.0                   0.0             0.0   \n",
       "11555                 0.0                   0.0             1.0   \n",
       "11301                 0.0                   0.0             1.0   \n",
       "5578                  0.0                   0.0             0.0   \n",
       "6241                  0.0                   0.0             0.0   \n",
       "\n",
       "       division_support  division_technical  salary_high  salary_low  \\\n",
       "9492                0.0                 0.0          0.0         0.0   \n",
       "11555               0.0                 0.0          0.0         0.0   \n",
       "11301               0.0                 0.0          0.0         1.0   \n",
       "5578                0.0                 0.0          0.0         0.0   \n",
       "6241                0.0                 1.0          0.0         1.0   \n",
       "\n",
       "       salary_medium  \n",
       "9492             1.0  \n",
       "11555            1.0  \n",
       "11301            0.0  \n",
       "5578             1.0  \n",
       "6241             0.0  "
      ]
     },
     "execution_count": 25,
     "metadata": {},
     "output_type": "execute_result"
    }
   ],
   "source": [
    "X_train_concat = pd.concat([X_train_num_imputed, X_train_cat_encoded],\n",
    "                           axis = 1)\n",
    "X_train_concat.head()"
   ]
  },
  {
   "attachments": {},
   "cell_type": "markdown",
   "metadata": {},
   "source": [
    "Balancing Data: SMOTE"
   ]
  },
  {
   "cell_type": "code",
   "execution_count": 26,
   "metadata": {},
   "outputs": [
    {
     "data": {
      "text/plain": [
       "last_evaluation            False\n",
       "satisfaction_level         False\n",
       "time_spend_company         False\n",
       "average_montly_hours       False\n",
       "number_project             False\n",
       "Work_accident_1            False\n",
       "promotion_last_5years_1    False\n",
       "division_IT                False\n",
       "division_RandD             False\n",
       "division_accounting        False\n",
       "division_hr                False\n",
       "division_management        False\n",
       "division_marketing         False\n",
       "division_product_mng       False\n",
       "division_sales             False\n",
       "division_support           False\n",
       "division_technical         False\n",
       "salary_high                False\n",
       "salary_low                 False\n",
       "salary_medium              False\n",
       "dtype: bool"
      ]
     },
     "execution_count": 26,
     "metadata": {},
     "output_type": "execute_result"
    }
   ],
   "source": [
    "# Cek missing values\n",
    "X_train_concat.isna().any()"
   ]
  },
  {
   "cell_type": "code",
   "execution_count": 27,
   "metadata": {},
   "outputs": [],
   "source": [
    "from imblearn.over_sampling import SMOTE\n",
    "\n",
    "# apabila kelas 0 dan 1 imbalance, bisa dibuat banyak dengan menggunakan SMOTE dg memperbanyak data dummy"
   ]
  },
  {
   "cell_type": "code",
   "execution_count": 28,
   "metadata": {},
   "outputs": [
    {
     "data": {
      "text/plain": [
       "left\n",
       "0    7999\n",
       "1    1593\n",
       "Name: count, dtype: int64"
      ]
     },
     "execution_count": 28,
     "metadata": {},
     "output_type": "execute_result"
    }
   ],
   "source": [
    "y_train.value_counts()"
   ]
  },
  {
   "cell_type": "code",
   "execution_count": 29,
   "metadata": {},
   "outputs": [],
   "source": [
    "# Buat objek\n",
    "smt = SMOTE(sampling_strategy = \"minority\",\n",
    "            random_state = 123)\n",
    "\n",
    "# Fit objek\n",
    "X_train_smote, y_train = smt.fit_resample(X_train_concat, y_train)"
   ]
  },
  {
   "cell_type": "code",
   "execution_count": 30,
   "metadata": {},
   "outputs": [
    {
     "data": {
      "text/plain": [
       "left\n",
       "0    7999\n",
       "1    7999\n",
       "Name: count, dtype: int64"
      ]
     },
     "execution_count": 30,
     "metadata": {},
     "output_type": "execute_result"
    }
   ],
   "source": [
    "y_train.value_counts()"
   ]
  },
  {
   "attachments": {},
   "cell_type": "markdown",
   "metadata": {},
   "source": [
    "Scale Data"
   ]
  },
  {
   "cell_type": "code",
   "execution_count": 31,
   "metadata": {},
   "outputs": [],
   "source": [
    "from sklearn.preprocessing import StandardScaler"
   ]
  },
  {
   "cell_type": "code",
   "execution_count": 32,
   "metadata": {},
   "outputs": [],
   "source": [
    "def standardizeData(data, scaler = None):\n",
    "    if scaler == None:\n",
    "        # Buat & Fit scaler\n",
    "        scaler = StandardScaler()\n",
    "        scaler.fit(data)\n",
    "\n",
    "    # Tranform data\n",
    "    data_scaled = scaler.transform(data)\n",
    "    data_scaled = pd.DataFrame(data_scaled,\n",
    "                               index = data.index,\n",
    "                               columns = data.columns)\n",
    "    \n",
    "    return data_scaled, scaler\n"
   ]
  },
  {
   "cell_type": "code",
   "execution_count": 33,
   "metadata": {},
   "outputs": [
    {
     "data": {
      "text/html": [
       "<div>\n",
       "<style scoped>\n",
       "    .dataframe tbody tr th:only-of-type {\n",
       "        vertical-align: middle;\n",
       "    }\n",
       "\n",
       "    .dataframe tbody tr th {\n",
       "        vertical-align: top;\n",
       "    }\n",
       "\n",
       "    .dataframe thead th {\n",
       "        text-align: right;\n",
       "    }\n",
       "</style>\n",
       "<table border=\"1\" class=\"dataframe\">\n",
       "  <thead>\n",
       "    <tr style=\"text-align: right;\">\n",
       "      <th></th>\n",
       "      <th>last_evaluation</th>\n",
       "      <th>satisfaction_level</th>\n",
       "      <th>time_spend_company</th>\n",
       "      <th>average_montly_hours</th>\n",
       "      <th>number_project</th>\n",
       "      <th>Work_accident_1</th>\n",
       "      <th>promotion_last_5years_1</th>\n",
       "      <th>division_IT</th>\n",
       "      <th>division_RandD</th>\n",
       "      <th>division_accounting</th>\n",
       "      <th>division_hr</th>\n",
       "      <th>division_management</th>\n",
       "      <th>division_marketing</th>\n",
       "      <th>division_product_mng</th>\n",
       "      <th>division_sales</th>\n",
       "      <th>division_support</th>\n",
       "      <th>division_technical</th>\n",
       "      <th>salary_high</th>\n",
       "      <th>salary_low</th>\n",
       "      <th>salary_medium</th>\n",
       "    </tr>\n",
       "  </thead>\n",
       "  <tbody>\n",
       "    <tr>\n",
       "      <th>0</th>\n",
       "      <td>-0.890868</td>\n",
       "      <td>-0.431503</td>\n",
       "      <td>-0.471127</td>\n",
       "      <td>-1.486439</td>\n",
       "      <td>-0.578146</td>\n",
       "      <td>-0.351311</td>\n",
       "      <td>-0.110301</td>\n",
       "      <td>-0.297505</td>\n",
       "      <td>-0.235581</td>\n",
       "      <td>4.605603</td>\n",
       "      <td>-0.24889</td>\n",
       "      <td>-0.185121</td>\n",
       "      <td>-0.256305</td>\n",
       "      <td>-0.256259</td>\n",
       "      <td>-0.658173</td>\n",
       "      <td>-0.442553</td>\n",
       "      <td>-0.502155</td>\n",
       "      <td>-0.244109</td>\n",
       "      <td>-1.078736</td>\n",
       "      <td>1.204474</td>\n",
       "    </tr>\n",
       "    <tr>\n",
       "      <th>1</th>\n",
       "      <td>-1.561170</td>\n",
       "      <td>1.603604</td>\n",
       "      <td>2.009593</td>\n",
       "      <td>-0.914865</td>\n",
       "      <td>0.111341</td>\n",
       "      <td>2.973877</td>\n",
       "      <td>-0.110301</td>\n",
       "      <td>-0.297505</td>\n",
       "      <td>-0.235581</td>\n",
       "      <td>-0.241852</td>\n",
       "      <td>-0.24889</td>\n",
       "      <td>-0.185121</td>\n",
       "      <td>-0.256305</td>\n",
       "      <td>-0.256259</td>\n",
       "      <td>1.621300</td>\n",
       "      <td>-0.442553</td>\n",
       "      <td>-0.502155</td>\n",
       "      <td>-0.244109</td>\n",
       "      <td>-1.078736</td>\n",
       "      <td>1.204474</td>\n",
       "    </tr>\n",
       "    <tr>\n",
       "      <th>2</th>\n",
       "      <td>1.511046</td>\n",
       "      <td>0.774486</td>\n",
       "      <td>0.355779</td>\n",
       "      <td>-1.302061</td>\n",
       "      <td>-0.578146</td>\n",
       "      <td>-0.351311</td>\n",
       "      <td>-0.110301</td>\n",
       "      <td>-0.297505</td>\n",
       "      <td>-0.235581</td>\n",
       "      <td>-0.241852</td>\n",
       "      <td>-0.24889</td>\n",
       "      <td>-0.185121</td>\n",
       "      <td>-0.256305</td>\n",
       "      <td>-0.256259</td>\n",
       "      <td>1.621300</td>\n",
       "      <td>-0.442553</td>\n",
       "      <td>-0.502155</td>\n",
       "      <td>-0.244109</td>\n",
       "      <td>0.953991</td>\n",
       "      <td>-0.853195</td>\n",
       "    </tr>\n",
       "    <tr>\n",
       "      <th>3</th>\n",
       "      <td>-0.946727</td>\n",
       "      <td>-0.318442</td>\n",
       "      <td>-1.298034</td>\n",
       "      <td>-0.877989</td>\n",
       "      <td>-1.267632</td>\n",
       "      <td>-0.351311</td>\n",
       "      <td>-0.110301</td>\n",
       "      <td>-0.297505</td>\n",
       "      <td>-0.235581</td>\n",
       "      <td>-0.241852</td>\n",
       "      <td>-0.24889</td>\n",
       "      <td>5.983289</td>\n",
       "      <td>-0.256305</td>\n",
       "      <td>-0.256259</td>\n",
       "      <td>-0.658173</td>\n",
       "      <td>-0.442553</td>\n",
       "      <td>-0.502155</td>\n",
       "      <td>-0.244109</td>\n",
       "      <td>-1.078736</td>\n",
       "      <td>1.204474</td>\n",
       "    </tr>\n",
       "    <tr>\n",
       "      <th>4</th>\n",
       "      <td>-0.220567</td>\n",
       "      <td>1.075983</td>\n",
       "      <td>-1.298034</td>\n",
       "      <td>-0.970179</td>\n",
       "      <td>0.111341</td>\n",
       "      <td>-0.351311</td>\n",
       "      <td>-0.110301</td>\n",
       "      <td>-0.297505</td>\n",
       "      <td>-0.235581</td>\n",
       "      <td>-0.241852</td>\n",
       "      <td>-0.24889</td>\n",
       "      <td>-0.185121</td>\n",
       "      <td>-0.256305</td>\n",
       "      <td>-0.256259</td>\n",
       "      <td>-0.658173</td>\n",
       "      <td>-0.442553</td>\n",
       "      <td>2.138905</td>\n",
       "      <td>-0.244109</td>\n",
       "      <td>0.953991</td>\n",
       "      <td>-0.853195</td>\n",
       "    </tr>\n",
       "  </tbody>\n",
       "</table>\n",
       "</div>"
      ],
      "text/plain": [
       "   last_evaluation  satisfaction_level  time_spend_company  \\\n",
       "0        -0.890868           -0.431503           -0.471127   \n",
       "1        -1.561170            1.603604            2.009593   \n",
       "2         1.511046            0.774486            0.355779   \n",
       "3        -0.946727           -0.318442           -1.298034   \n",
       "4        -0.220567            1.075983           -1.298034   \n",
       "\n",
       "   average_montly_hours  number_project  Work_accident_1  \\\n",
       "0             -1.486439       -0.578146        -0.351311   \n",
       "1             -0.914865        0.111341         2.973877   \n",
       "2             -1.302061       -0.578146        -0.351311   \n",
       "3             -0.877989       -1.267632        -0.351311   \n",
       "4             -0.970179        0.111341        -0.351311   \n",
       "\n",
       "   promotion_last_5years_1  division_IT  division_RandD  division_accounting  \\\n",
       "0                -0.110301    -0.297505       -0.235581             4.605603   \n",
       "1                -0.110301    -0.297505       -0.235581            -0.241852   \n",
       "2                -0.110301    -0.297505       -0.235581            -0.241852   \n",
       "3                -0.110301    -0.297505       -0.235581            -0.241852   \n",
       "4                -0.110301    -0.297505       -0.235581            -0.241852   \n",
       "\n",
       "   division_hr  division_management  division_marketing  division_product_mng  \\\n",
       "0     -0.24889            -0.185121           -0.256305             -0.256259   \n",
       "1     -0.24889            -0.185121           -0.256305             -0.256259   \n",
       "2     -0.24889            -0.185121           -0.256305             -0.256259   \n",
       "3     -0.24889             5.983289           -0.256305             -0.256259   \n",
       "4     -0.24889            -0.185121           -0.256305             -0.256259   \n",
       "\n",
       "   division_sales  division_support  division_technical  salary_high  \\\n",
       "0       -0.658173         -0.442553           -0.502155    -0.244109   \n",
       "1        1.621300         -0.442553           -0.502155    -0.244109   \n",
       "2        1.621300         -0.442553           -0.502155    -0.244109   \n",
       "3       -0.658173         -0.442553           -0.502155    -0.244109   \n",
       "4       -0.658173         -0.442553            2.138905    -0.244109   \n",
       "\n",
       "   salary_low  salary_medium  \n",
       "0   -1.078736       1.204474  \n",
       "1   -1.078736       1.204474  \n",
       "2    0.953991      -0.853195  \n",
       "3   -1.078736       1.204474  \n",
       "4    0.953991      -0.853195  "
      ]
     },
     "execution_count": 33,
     "metadata": {},
     "output_type": "execute_result"
    }
   ],
   "source": [
    "X_train_clean, scaler = standardizeData(data = X_train_smote)\n",
    "X_train_clean.head()"
   ]
  },
  {
   "attachments": {},
   "cell_type": "markdown",
   "metadata": {},
   "source": [
    "Transform Test Data"
   ]
  },
  {
   "cell_type": "code",
   "execution_count": 34,
   "metadata": {},
   "outputs": [],
   "source": [
    "def transformTestData(data, num_col, cat_col, encoder_col,\n",
    "                      imputer_num, imputer_cat, encoder_cat,\n",
    "                      scaler):\n",
    "    # 1. Split num-cat\n",
    "    data_num, data_cat = splitNumCat(data = data,\n",
    "                                     num_col = num_col,\n",
    "                                     cat_col = cat_col)\n",
    "    \n",
    "    # 2. Handling num\n",
    "    data_num_imputed, _ = imputerNum(data = data_num,\n",
    "                                     imputer = imputer_num)\n",
    "    \n",
    "    # 3. Handling cat\n",
    "    data_cat_imputed, _ = imputerCat(data = data_cat,\n",
    "                                     imputer = imputer_cat)\n",
    "    data_cat_encoded, _, _ = encoderCat(data = data_cat_imputed,\n",
    "                                        encoder_col = encoder_col,\n",
    "                                        encoder = encoder_cat)\n",
    "    \n",
    "    # 4. Concat data\n",
    "    data_concat = pd.concat([data_num_imputed, data_cat_encoded],\n",
    "                            axis = 1)\n",
    "    \n",
    "    # 5. Scale data\n",
    "    data_clean, _ = standardizeData(data = data_concat,\n",
    "                                    scaler = scaler)\n",
    "    \n",
    "    return data_clean\n"
   ]
  },
  {
   "cell_type": "code",
   "execution_count": 35,
   "metadata": {},
   "outputs": [
    {
     "data": {
      "text/html": [
       "<div>\n",
       "<style scoped>\n",
       "    .dataframe tbody tr th:only-of-type {\n",
       "        vertical-align: middle;\n",
       "    }\n",
       "\n",
       "    .dataframe tbody tr th {\n",
       "        vertical-align: top;\n",
       "    }\n",
       "\n",
       "    .dataframe thead th {\n",
       "        text-align: right;\n",
       "    }\n",
       "</style>\n",
       "<table border=\"1\" class=\"dataframe\">\n",
       "  <thead>\n",
       "    <tr style=\"text-align: right;\">\n",
       "      <th></th>\n",
       "      <th>last_evaluation</th>\n",
       "      <th>satisfaction_level</th>\n",
       "      <th>time_spend_company</th>\n",
       "      <th>average_montly_hours</th>\n",
       "      <th>number_project</th>\n",
       "      <th>Work_accident_1</th>\n",
       "      <th>promotion_last_5years_1</th>\n",
       "      <th>division_IT</th>\n",
       "      <th>division_RandD</th>\n",
       "      <th>division_accounting</th>\n",
       "      <th>division_hr</th>\n",
       "      <th>division_management</th>\n",
       "      <th>division_marketing</th>\n",
       "      <th>division_product_mng</th>\n",
       "      <th>division_sales</th>\n",
       "      <th>division_support</th>\n",
       "      <th>division_technical</th>\n",
       "      <th>salary_high</th>\n",
       "      <th>salary_low</th>\n",
       "      <th>salary_medium</th>\n",
       "    </tr>\n",
       "  </thead>\n",
       "  <tbody>\n",
       "    <tr>\n",
       "      <th>8578</th>\n",
       "      <td>1.287612</td>\n",
       "      <td>1.000609</td>\n",
       "      <td>2.009593</td>\n",
       "      <td>-0.232664</td>\n",
       "      <td>1.490314</td>\n",
       "      <td>-0.351311</td>\n",
       "      <td>-0.110301</td>\n",
       "      <td>-0.297505</td>\n",
       "      <td>-0.235581</td>\n",
       "      <td>4.605603</td>\n",
       "      <td>-0.24889</td>\n",
       "      <td>-0.185121</td>\n",
       "      <td>-0.256305</td>\n",
       "      <td>-0.256259</td>\n",
       "      <td>-0.658173</td>\n",
       "      <td>-0.442553</td>\n",
       "      <td>-0.502155</td>\n",
       "      <td>-0.244109</td>\n",
       "      <td>-1.078736</td>\n",
       "      <td>1.204474</td>\n",
       "    </tr>\n",
       "    <tr>\n",
       "      <th>5756</th>\n",
       "      <td>0.784886</td>\n",
       "      <td>-1.411370</td>\n",
       "      <td>0.355779</td>\n",
       "      <td>1.168615</td>\n",
       "      <td>0.800827</td>\n",
       "      <td>-0.351311</td>\n",
       "      <td>-0.110301</td>\n",
       "      <td>-0.297505</td>\n",
       "      <td>-0.235581</td>\n",
       "      <td>4.605603</td>\n",
       "      <td>-0.24889</td>\n",
       "      <td>-0.185121</td>\n",
       "      <td>-0.256305</td>\n",
       "      <td>-0.256259</td>\n",
       "      <td>-0.658173</td>\n",
       "      <td>-0.442553</td>\n",
       "      <td>-0.502155</td>\n",
       "      <td>-0.244109</td>\n",
       "      <td>-1.078736</td>\n",
       "      <td>1.204474</td>\n",
       "    </tr>\n",
       "    <tr>\n",
       "      <th>3994</th>\n",
       "      <td>1.455188</td>\n",
       "      <td>0.284553</td>\n",
       "      <td>-1.298034</td>\n",
       "      <td>-0.804238</td>\n",
       "      <td>0.111341</td>\n",
       "      <td>-0.351311</td>\n",
       "      <td>-0.110301</td>\n",
       "      <td>-0.297505</td>\n",
       "      <td>-0.235581</td>\n",
       "      <td>-0.241852</td>\n",
       "      <td>-0.24889</td>\n",
       "      <td>-0.185121</td>\n",
       "      <td>-0.256305</td>\n",
       "      <td>-0.256259</td>\n",
       "      <td>1.621300</td>\n",
       "      <td>-0.442553</td>\n",
       "      <td>-0.502155</td>\n",
       "      <td>-0.244109</td>\n",
       "      <td>-1.078736</td>\n",
       "      <td>1.204474</td>\n",
       "    </tr>\n",
       "    <tr>\n",
       "      <th>1784</th>\n",
       "      <td>-1.170161</td>\n",
       "      <td>-0.469191</td>\n",
       "      <td>-0.471127</td>\n",
       "      <td>-1.007055</td>\n",
       "      <td>-1.267632</td>\n",
       "      <td>2.973877</td>\n",
       "      <td>-0.110301</td>\n",
       "      <td>-0.297505</td>\n",
       "      <td>-0.235581</td>\n",
       "      <td>4.605603</td>\n",
       "      <td>-0.24889</td>\n",
       "      <td>-0.185121</td>\n",
       "      <td>-0.256305</td>\n",
       "      <td>-0.256259</td>\n",
       "      <td>-0.658173</td>\n",
       "      <td>-0.442553</td>\n",
       "      <td>-0.502155</td>\n",
       "      <td>-0.244109</td>\n",
       "      <td>-1.078736</td>\n",
       "      <td>1.204474</td>\n",
       "    </tr>\n",
       "    <tr>\n",
       "      <th>10508</th>\n",
       "      <td>1.455188</td>\n",
       "      <td>-0.167693</td>\n",
       "      <td>-0.471127</td>\n",
       "      <td>0.762982</td>\n",
       "      <td>0.111341</td>\n",
       "      <td>-0.351311</td>\n",
       "      <td>-0.110301</td>\n",
       "      <td>-0.297505</td>\n",
       "      <td>-0.235581</td>\n",
       "      <td>-0.241852</td>\n",
       "      <td>-0.24889</td>\n",
       "      <td>-0.185121</td>\n",
       "      <td>-0.256305</td>\n",
       "      <td>-0.256259</td>\n",
       "      <td>-0.658173</td>\n",
       "      <td>2.439560</td>\n",
       "      <td>-0.502155</td>\n",
       "      <td>-0.244109</td>\n",
       "      <td>-1.078736</td>\n",
       "      <td>1.204474</td>\n",
       "    </tr>\n",
       "  </tbody>\n",
       "</table>\n",
       "</div>"
      ],
      "text/plain": [
       "       last_evaluation  satisfaction_level  time_spend_company  \\\n",
       "8578          1.287612            1.000609            2.009593   \n",
       "5756          0.784886           -1.411370            0.355779   \n",
       "3994          1.455188            0.284553           -1.298034   \n",
       "1784         -1.170161           -0.469191           -0.471127   \n",
       "10508         1.455188           -0.167693           -0.471127   \n",
       "\n",
       "       average_montly_hours  number_project  Work_accident_1  \\\n",
       "8578              -0.232664        1.490314        -0.351311   \n",
       "5756               1.168615        0.800827        -0.351311   \n",
       "3994              -0.804238        0.111341        -0.351311   \n",
       "1784              -1.007055       -1.267632         2.973877   \n",
       "10508              0.762982        0.111341        -0.351311   \n",
       "\n",
       "       promotion_last_5years_1  division_IT  division_RandD  \\\n",
       "8578                 -0.110301    -0.297505       -0.235581   \n",
       "5756                 -0.110301    -0.297505       -0.235581   \n",
       "3994                 -0.110301    -0.297505       -0.235581   \n",
       "1784                 -0.110301    -0.297505       -0.235581   \n",
       "10508                -0.110301    -0.297505       -0.235581   \n",
       "\n",
       "       division_accounting  division_hr  division_management  \\\n",
       "8578              4.605603     -0.24889            -0.185121   \n",
       "5756              4.605603     -0.24889            -0.185121   \n",
       "3994             -0.241852     -0.24889            -0.185121   \n",
       "1784              4.605603     -0.24889            -0.185121   \n",
       "10508            -0.241852     -0.24889            -0.185121   \n",
       "\n",
       "       division_marketing  division_product_mng  division_sales  \\\n",
       "8578            -0.256305             -0.256259       -0.658173   \n",
       "5756            -0.256305             -0.256259       -0.658173   \n",
       "3994            -0.256305             -0.256259        1.621300   \n",
       "1784            -0.256305             -0.256259       -0.658173   \n",
       "10508           -0.256305             -0.256259       -0.658173   \n",
       "\n",
       "       division_support  division_technical  salary_high  salary_low  \\\n",
       "8578          -0.442553           -0.502155    -0.244109   -1.078736   \n",
       "5756          -0.442553           -0.502155    -0.244109   -1.078736   \n",
       "3994          -0.442553           -0.502155    -0.244109   -1.078736   \n",
       "1784          -0.442553           -0.502155    -0.244109   -1.078736   \n",
       "10508          2.439560           -0.502155    -0.244109   -1.078736   \n",
       "\n",
       "       salary_medium  \n",
       "8578        1.204474  \n",
       "5756        1.204474  \n",
       "3994        1.204474  \n",
       "1784        1.204474  \n",
       "10508       1.204474  "
      ]
     },
     "execution_count": 35,
     "metadata": {},
     "output_type": "execute_result"
    }
   ],
   "source": [
    "X_test_clean = transformTestData(data = X_test,\n",
    "                                 num_col = numerical_col, \n",
    "                                 cat_col = categorical_col,\n",
    "                                 encoder_col = encoder_col,\n",
    "                                 imputer_num = imputer_num,\n",
    "                                 imputer_cat = imputer_cat,\n",
    "                                 encoder_cat = encoder_OHE,\n",
    "                                 scaler = scaler)\n",
    "\n",
    "X_test_clean.head()"
   ]
  },
  {
   "cell_type": "code",
   "execution_count": 36,
   "metadata": {},
   "outputs": [
    {
     "data": {
      "text/plain": [
       "Index(['last_evaluation', 'satisfaction_level', 'time_spend_company',\n",
       "       'average_montly_hours', 'number_project', 'Work_accident_1',\n",
       "       'promotion_last_5years_1', 'division_IT', 'division_RandD',\n",
       "       'division_accounting', 'division_hr', 'division_management',\n",
       "       'division_marketing', 'division_product_mng', 'division_sales',\n",
       "       'division_support', 'division_technical', 'salary_high', 'salary_low',\n",
       "       'salary_medium'],\n",
       "      dtype='object')"
      ]
     },
     "execution_count": 36,
     "metadata": {},
     "output_type": "execute_result"
    }
   ],
   "source": [
    "X_test_clean.columns"
   ]
  },
  {
   "cell_type": "code",
   "execution_count": 37,
   "metadata": {},
   "outputs": [
    {
     "data": {
      "text/plain": [
       "Index(['last_evaluation', 'satisfaction_level', 'time_spend_company',\n",
       "       'average_montly_hours', 'number_project', 'Work_accident_1',\n",
       "       'promotion_last_5years_1', 'division_IT', 'division_RandD',\n",
       "       'division_accounting', 'division_hr', 'division_management',\n",
       "       'division_marketing', 'division_product_mng', 'division_sales',\n",
       "       'division_support', 'division_technical', 'salary_high', 'salary_low',\n",
       "       'salary_medium'],\n",
       "      dtype='object')"
      ]
     },
     "execution_count": 37,
     "metadata": {},
     "output_type": "execute_result"
    }
   ],
   "source": [
    "X_train_clean.columns"
   ]
  },
  {
   "cell_type": "code",
   "execution_count": 38,
   "metadata": {},
   "outputs": [
    {
     "data": {
      "text/plain": [
       "20"
      ]
     },
     "execution_count": 38,
     "metadata": {},
     "output_type": "execute_result"
    }
   ],
   "source": [
    "len(X_train_clean.columns)\n",
    "# masing-masing columns/fitur dengan total 20 akan digunakan untuk 20 weights\n",
    "# dan 1 bias"
   ]
  },
  {
   "attachments": {},
   "cell_type": "markdown",
   "metadata": {},
   "source": [
    "Done"
   ]
  },
  {
   "attachments": {},
   "cell_type": "markdown",
   "metadata": {},
   "source": [
    "---\n",
    "# Multi-Layer Perceptron (Neural Network)\n",
    "- Mengadaptasi cara sel otak transfer & mengolah informasi.\n",
    "- Satuan terkecilnya adalah Neuron (Perceptron)\n",
    "<center>\n",
    "<img src=\"https://blog.camelot-group.com/wp-content/uploads/2022/01/Perceptron_byCamelot.png\">\n",
    "<br>\n",
    "<a href=\"https://blog.camelot-group.com/2022/01/neural-networks-perceptron/\">source</a>\n",
    "</center>\n",
    "​\n",
    "- 1 Perceptron dapat menerima beberapa input\n",
    "- 1 Perceptron mengeluarkan 1 output\n",
    "- Input-input akan dijumlahkan secara berbobot dahulu (`preActivation`)\n",
    "- Kemudian akan diaktifasi menggunakan `activation function` seperti Sigmoid, ReLU, TanH, dan sebagainya."
   ]
  },
  {
   "attachments": {},
   "cell_type": "markdown",
   "metadata": {},
   "source": [
    "---\n",
    "## Feed Propagation\n",
    "- Misal kita ingin selesaikan kasus klasifikasi\n",
    "- Kita buat arsitektur Neural Network dengan 1 perceptron"
   ]
  },
  {
   "cell_type": "code",
   "execution_count": 39,
   "metadata": {},
   "outputs": [],
   "source": [
    "def preActivation(X, w):\n",
    "    \"\"\"\n",
    "    Fungsi untuk mendapatkan nilai pre activation (weighted-sum)\n",
    "    :param X: <pandas DataFrame> data input\n",
    "    :param w: <numpy array> weight dari masing-masing input\n",
    "    :return a: <numpy array> weighted sum atau pre activation\n",
    "    \"\"\"\n",
    "    a = np.dot(X, w[1:]) + w[0]\n",
    "\n",
    "    return a\n",
    "\n",
    "# pre-activation ---> non-linear function"
   ]
  },
  {
   "cell_type": "code",
   "execution_count": 40,
   "metadata": {},
   "outputs": [],
   "source": [
    "def activationFunction(a, types):\n",
    "    \"\"\"\n",
    "    Fungsi untuk melakukan aktifasi nilai pre activation\n",
    "    :param a: <numpy array> pre activation value\n",
    "    :param types: <str> pilihan fungsi aktivasi\n",
    "    :return y: <numpy array> output perceptron\n",
    "    \"\"\"\n",
    "    if types == \"linear\":\n",
    "        y = a\n",
    "    elif types == \"sigmoid\":\n",
    "        y = 1 / (1 + np.exp(-a))\n",
    "    elif types == \"relu\":\n",
    "        y = np.max(0, a)\n",
    "    else:\n",
    "        raise Exception(\"Activation Function tidak terdaftar\")\n",
    "\n",
    "    return y"
   ]
  },
  {
   "attachments": {},
   "cell_type": "markdown",
   "metadata": {},
   "source": [
    "Lakukan Forward Propagation"
   ]
  },
  {
   "cell_type": "code",
   "execution_count": 41,
   "metadata": {},
   "outputs": [
    {
     "data": {
      "text/plain": [
       "array([0.93876467, 0.10316831, 0.52147161, 0.15390596, 0.71820151,\n",
       "       0.37699455, 0.04409178, 0.64818412, 0.57863707, 0.14145694,\n",
       "       0.95011214, 0.67502974, 0.32457354, 0.51957147, 0.89160216,\n",
       "       0.95185558, 0.1663537 , 0.67921673, 0.43291297, 0.75182969,\n",
       "       0.19223871])"
      ]
     },
     "execution_count": 41,
     "metadata": {},
     "output_type": "execute_result"
    }
   ],
   "source": [
    "# Buat random weight\n",
    "# Ada 20 weight & 1 bias\n",
    "w = np.random.rand(21)\n",
    "w"
   ]
  },
  {
   "attachments": {},
   "cell_type": "markdown",
   "metadata": {},
   "source": [
    "pada data train"
   ]
  },
  {
   "cell_type": "code",
   "execution_count": 42,
   "metadata": {},
   "outputs": [],
   "source": [
    "# Cari pre-activation function\n",
    "a = preActivation(X = X_train_clean,\n",
    "                  w = w)"
   ]
  },
  {
   "cell_type": "code",
   "execution_count": 43,
   "metadata": {},
   "outputs": [],
   "source": [
    "# Cari output --> activate the pre-activation\n",
    "# Karena klasifikasi, activation function menggunakan Sigmoid\n",
    "y_pred_proba_train = activationFunction(a = a,\n",
    "                                        types = \"sigmoid\")"
   ]
  },
  {
   "cell_type": "code",
   "execution_count": 44,
   "metadata": {},
   "outputs": [],
   "source": [
    "# Buat prediksi\n",
    "thresh = 0.5\n",
    "\n",
    "# untuk prediksi > 0.5, masuknya ke 1 (left)\n",
    "# untuk prediksi < 0.5, masuknya ke 0 (stay)\n",
    "\n",
    "y_pred_train = (y_pred_proba_train > thresh).astype(\"int\")"
   ]
  },
  {
   "attachments": {},
   "cell_type": "markdown",
   "metadata": {},
   "source": [
    "pada data test"
   ]
  },
  {
   "cell_type": "code",
   "execution_count": 45,
   "metadata": {},
   "outputs": [],
   "source": [
    "# Cari pre-activation function\n",
    "a = preActivation(X = X_test_clean,\n",
    "                  w = w)"
   ]
  },
  {
   "cell_type": "code",
   "execution_count": 46,
   "metadata": {},
   "outputs": [],
   "source": [
    "# Cari output --> activate the pre-activation\n",
    "# Karena klasifikasi, activation function menggunakan Sigmoid\n",
    "y_pred_proba_test = activationFunction(a = a,\n",
    "                                       types = \"sigmoid\")"
   ]
  },
  {
   "cell_type": "code",
   "execution_count": 47,
   "metadata": {},
   "outputs": [],
   "source": [
    "# Buat prediksi\n",
    "y_pred_test = (y_pred_proba_test > thresh).astype(\"int\")"
   ]
  },
  {
   "attachments": {},
   "cell_type": "markdown",
   "metadata": {},
   "source": [
    "cek performa"
   ]
  },
  {
   "cell_type": "code",
   "execution_count": 48,
   "metadata": {},
   "outputs": [],
   "source": [
    "# Cari performa\n",
    "from sklearn.metrics import confusion_matrix\n",
    "from sklearn.metrics import accuracy_score\n",
    "from sklearn.metrics import classification_report\n",
    "from sklearn.metrics import roc_curve\n",
    "from sklearn.metrics import auc"
   ]
  },
  {
   "attachments": {},
   "cell_type": "markdown",
   "metadata": {},
   "source": [
    "pada data train"
   ]
  },
  {
   "cell_type": "code",
   "execution_count": 49,
   "metadata": {},
   "outputs": [
    {
     "data": {
      "text/plain": [
       "array([[2064, 5935],\n",
       "       [3108, 4891]], dtype=int64)"
      ]
     },
     "execution_count": 49,
     "metadata": {},
     "output_type": "execute_result"
    }
   ],
   "source": [
    "# Tampilkan confusion matrix\n",
    "confusion_matrix(y_true = y_train,\n",
    "                 y_pred = y_pred_train)"
   ]
  },
  {
   "cell_type": "code",
   "execution_count": 50,
   "metadata": {},
   "outputs": [
    {
     "data": {
      "text/plain": [
       "0.4347418427303413"
      ]
     },
     "execution_count": 50,
     "metadata": {},
     "output_type": "execute_result"
    }
   ],
   "source": [
    "# Tampilkan score\n",
    "accuracy_score(y_true = y_train,\n",
    "               y_pred = y_pred_train)"
   ]
  },
  {
   "cell_type": "code",
   "execution_count": 51,
   "metadata": {},
   "outputs": [
    {
     "name": "stdout",
     "output_type": "stream",
     "text": [
      "              precision    recall  f1-score   support\n",
      "\n",
      "    stay (0)       0.40      0.26      0.31      7999\n",
      "    left (1)       0.45      0.61      0.52      7999\n",
      "\n",
      "    accuracy                           0.43     15998\n",
      "   macro avg       0.43      0.43      0.42     15998\n",
      "weighted avg       0.43      0.43      0.42     15998\n",
      "\n"
     ]
    }
   ],
   "source": [
    "# Tampilkan score\n",
    "print(classification_report(y_true = y_train,\n",
    "                            y_pred = y_pred_train,\n",
    "                            target_names = [\"stay (0)\", \"left (1)\"]))"
   ]
  },
  {
   "attachments": {},
   "cell_type": "markdown",
   "metadata": {},
   "source": [
    "**Baseline**\n",
    "- karena data sudah balance, accuracy baseline adalah 50%\n",
    "- model ini lebih buruk dibanding baseline, jadi harus diimprove\n",
    "\n",
    "**Focus**\n",
    "- `weighted_avg recall` bernilai 0.43, artinya dari yang **benar-benar** left, hanya 43% yang berhasil diprediksi left.\n",
    "- Berarti masih ada hampir 50% karyawan yang left tapi salah prediksi, dengan kata lain resikonya besar.\n",
    "- Kita ingin kecilkan hal tersebut"
   ]
  },
  {
   "cell_type": "code",
   "execution_count": 52,
   "metadata": {},
   "outputs": [
    {
     "data": {
      "image/png": "[encoded data removed]",
      "text/plain": [
       "<Figure size 1000x700 with 1 Axes>"
      ]
     },
     "metadata": {},
     "output_type": "display_data"
    }
   ],
   "source": [
    "# ROC Curve\n",
    "# seberapa bagus preparasi kelas yang dilakukan oleh model, gapeduli berapapun thresholdnya\n",
    "# matriks untuk memperlihatkan kemampuan model tuh bisa misahin nilai 0 dan 1 tuh segimana\n",
    "# AUC  disini nilainya 0.47 (msh jelek)\n",
    "\n",
    "fpr_lr, tpr_lr, threshold_lr = roc_curve(y_train,\n",
    "                                         y_pred_proba_train)\n",
    "roc_auc_lr = auc(fpr_lr, tpr_lr)\n",
    "\n",
    "plt.title('Receiver Operating Characteristic')\n",
    "plt.plot(fpr_lr, tpr_lr, 'b', label = 'AUC = %0.2f' % roc_auc_lr)\n",
    "plt.legend(loc = 'lower right')\n",
    "plt.plot([0, 1], [0, 1],'r--')\n",
    "plt.xlim([0, 1])\n",
    "plt.ylim([0, 1])\n",
    "plt.ylabel('True Positive Rate')\n",
    "plt.xlabel('False Positive Rate')\n",
    "plt.show()"
   ]
  },
  {
   "attachments": {},
   "cell_type": "markdown",
   "metadata": {},
   "source": [
    "pada data test"
   ]
  },
  {
   "cell_type": "code",
   "execution_count": 53,
   "metadata": {},
   "outputs": [
    {
     "data": {
      "text/plain": [
       "array([[ 503, 1498],\n",
       "       [ 153,  245]], dtype=int64)"
      ]
     },
     "execution_count": 53,
     "metadata": {},
     "output_type": "execute_result"
    }
   ],
   "source": [
    "# Tampilkan confusion matrix\n",
    "confusion_matrix(y_true = y_test,\n",
    "                 y_pred = y_pred_test)"
   ]
  },
  {
   "cell_type": "code",
   "execution_count": 54,
   "metadata": {},
   "outputs": [
    {
     "data": {
      "text/plain": [
       "0.3117965819091288"
      ]
     },
     "execution_count": 54,
     "metadata": {},
     "output_type": "execute_result"
    }
   ],
   "source": [
    "# Tampilkan score\n",
    "accuracy_score(y_true = y_test,\n",
    "               y_pred = y_pred_test)"
   ]
  },
  {
   "cell_type": "code",
   "execution_count": 55,
   "metadata": {},
   "outputs": [
    {
     "name": "stdout",
     "output_type": "stream",
     "text": [
      "              precision    recall  f1-score   support\n",
      "\n",
      "    stay (0)       0.77      0.25      0.38      2001\n",
      "    left (1)       0.14      0.62      0.23       398\n",
      "\n",
      "    accuracy                           0.31      2399\n",
      "   macro avg       0.45      0.43      0.30      2399\n",
      "weighted avg       0.66      0.31      0.35      2399\n",
      "\n"
     ]
    }
   ],
   "source": [
    "# Tampilkan score\n",
    "print(classification_report(y_true = y_test,\n",
    "                            y_pred = y_pred_test,\n",
    "                            target_names = [\"stay (0)\", \"left (1)\"]))"
   ]
  },
  {
   "cell_type": "code",
   "execution_count": 56,
   "metadata": {},
   "outputs": [
    {
     "data": {
      "image/png": "[encoded data removed]",
      "text/plain": [
       "<Figure size 1000x700 with 1 Axes>"
      ]
     },
     "metadata": {},
     "output_type": "display_data"
    }
   ],
   "source": [
    "# ROC Curve\n",
    "fpr_lr, tpr_lr, threshold_lr = roc_curve(y_test,\n",
    "                                         y_pred_proba_test)\n",
    "roc_auc_lr = auc(fpr_lr, tpr_lr)\n",
    "\n",
    "plt.title('Receiver Operating Characteristic')\n",
    "plt.plot(fpr_lr, tpr_lr, 'b', label = 'AUC = %0.2f' % roc_auc_lr)\n",
    "plt.legend(loc = 'lower right')\n",
    "plt.plot([0, 1], [0, 1],'r--')\n",
    "plt.xlim([0, 1])\n",
    "plt.ylim([0, 1])\n",
    "plt.ylabel('True Positive Rate')\n",
    "plt.xlabel('False Positive Rate')\n",
    "plt.show()"
   ]
  },
  {
   "attachments": {},
   "cell_type": "markdown",
   "metadata": {},
   "source": [
    "Masih jelek, ingin kita improve"
   ]
  },
  {
   "attachments": {},
   "cell_type": "markdown",
   "metadata": {},
   "source": [
    "---\n",
    "# Gradient Descent\n",
    "- Akurasi model random masih kecil, ingin kita tingkatkan\n",
    "- Artinya, **weight** ingin kita optimasi\n",
    "- Dapat dioptimasi menggunakan **Gradient Descent**\n",
    "<center>\n",
    "<img src=\"https://static.javatpoint.com/tutorial/machine-learning/images/gradient-descent-in-machine-learning1.png\">\n",
    "<br>\n",
    "<a href=\"https://www.javatpoint.com/gradient-descent-in-machine-learning\">source</a>\n",
    "</center>\n",
    "\n",
    "Algoritma:\n",
    "- Inisialisasi weight, *bisa random*\n",
    "- Cari gradient error terhadap weight\n",
    "- Lakukan update weight dari informasi gradient tersebut\n",
    "\n",
    "$$\n",
    "w_{\\text{new}} = w_{\\text{old}} - \\nabla_{w} E\n",
    "$$\n",
    "\n",
    "- Ulangi hingga stopping criteria tercapai (max. iteration atau weight tidak berubah --> $\\nabla_{w} E = 0$)\n",
    "\n",
    "Cari gradient error menggunakan chain rules\n",
    "​\n",
    "$$\n",
    "\\begin{align*}\n",
    "\\cfrac{\\partial \\text{error}}{\\partial w_{0}} &= \\cfrac{\\partial \\text{error}}{\\partial \\hat{y}} \\cdot \\cfrac{\\partial \\hat{y}}{\\partial a} \\cdot \\cfrac{\\partial a}{\\partial w_{0}} \\\\ \\\\\n",
    "\\cfrac{\\partial \\text{error}}{\\partial w_{1}} &= \\cfrac{\\partial \\text{error}}{\\partial \\hat{y}} \\cdot \\cfrac{\\partial \\hat{y}}{\\partial a} \\cdot \\cfrac{\\partial a}{\\partial w_{1}} \\\\ \\\\\n",
    "\\cfrac{\\partial \\text{error}}{\\partial w_{2}} &= \\cfrac{\\partial \\text{error}}{\\partial \\hat{y}} \\cdot \\cfrac{\\partial \\hat{y}}{\\partial a} \\cdot \\cfrac{\\partial a}{\\partial w_{2}} \\\\ \\\\\n",
    "\\vdots \\\\ \\\\ \n",
    "\\cfrac{\\partial \\text{error}}{\\partial w_{20}} &= \\cfrac{\\partial \\text{error}}{\\partial \\hat{y}} \\cdot \\cfrac{\\partial \\hat{y}}{\\partial a} \\cdot \\cfrac{\\partial a}{\\partial w_{20}}\n",
    "\\end{align*}\n",
    "$$\n",
    "Maka didapat\n",
    "​\n",
    "$$\n",
    "\\begin{align*}\n",
    "\\cfrac{\\partial \\text{error}}{\\partial \\hat{y}} &= -2 (y - \\hat{y}) \\\\ \\\\\n",
    "\\cfrac{\\partial \\hat{y}}{\\partial a} &= \\sigma(a)(1 - \\sigma(a)) \\\\ \\\\\n",
    "\\cfrac{\\partial a}{\\partial w_{0}} &= 1 \\\\ \\\\\n",
    "\\cfrac{\\partial a}{\\partial w_{1}} &= x_{1} \\\\ \\\\\n",
    "\\cfrac{\\partial a}{\\partial w_{2}} &= x_{2} \\\\ \\\\\n",
    "\\vdots \\\\ \\\\\n",
    "\\cfrac{\\partial a}{\\partial w_{20}} &= x_{20}\n",
    "\\end{align*}\n",
    "$$"
   ]
  },
  {
   "cell_type": "code",
   "execution_count": 57,
   "metadata": {},
   "outputs": [],
   "source": [
    "def gradientDescent(X, y, \n",
    "                    learning_rate, max_iter, \n",
    "                    epsilon = 1e-6):\n",
    "    \"\"\"\n",
    "    Fungsi untuk melakukan update weight\n",
    "    \"\"\"\n",
    "    X = np.array(X)\n",
    "    n = X.shape[0]          # banyak data\n",
    "    p = X.shape[1] + 1      # banyak parameter\n",
    "\n",
    "    # Inisialisasi weights\n",
    "    w = np.ones(p)\n",
    "\n",
    "    # Inisialisasi\n",
    "    w_hist = []\n",
    "    loss_hist = []\n",
    "    iter = 0\n",
    "    previous_loss = 0\n",
    "\n",
    "    # Lakukan iterasi\n",
    "    for iter in range(max_iter):\n",
    "        # Buat prediksi\n",
    "        a = preActivation(X = X, w = w)\n",
    "        y_pred = activationFunction(a = a, types = \"sigmoid\")\n",
    "\n",
    "        # Cari error\n",
    "        current_loss = np.linalg.norm(y - y_pred)**2\n",
    "        \n",
    "        if np.abs(previous_loss - current_loss) < epsilon:\n",
    "            break\n",
    "\n",
    "        # Update\n",
    "        previous_loss = current_loss\n",
    "        loss_hist.append(current_loss)\n",
    "        w_hist.append(w)\n",
    "        \n",
    "        # Cari gradient error\n",
    "        derr_dy = -2 * (y - y_pred)\n",
    "        dy_da = y_pred * (1 - y_pred)\n",
    "        \n",
    "        derr_dw = np.zeros(p)\n",
    "        for j in range(p):\n",
    "            # Cari da_dw_j\n",
    "            if j == 0:\n",
    "                da_dw = np.ones(n)\n",
    "            else:\n",
    "                da_dw = X[:, j-1]\n",
    "            \n",
    "            # Cari error\n",
    "            derr_dw[j] = np.sum(derr_dy * dy_da * da_dw)\n",
    "\n",
    "\n",
    "        # Update weight dari gradient error\n",
    "        for j in range(p):\n",
    "            w[j] = w[j] - learning_rate * derr_dw[j]\n",
    "\n",
    "        if iter%100 == 0:\n",
    "            print(f\"iterasi {iter+1} - Loss: {current_loss:.4f}\")\n",
    "\n",
    "    # Print last iteration\n",
    "    print(f\"iterasi {iter+1} - Loss: {current_loss:.4f}\")\n",
    "\n",
    "    return loss_hist, w_hist"
   ]
  },
  {
   "cell_type": "code",
   "execution_count": 58,
   "metadata": {},
   "outputs": [
    {
     "name": "stdout",
     "output_type": "stream",
     "text": [
      "iterasi 1 - Loss: 7488.4710\n",
      "iterasi 101 - Loss: 1963.8561\n",
      "iterasi 201 - Loss: 2044.7741\n"
     ]
    },
    {
     "name": "stdout",
     "output_type": "stream",
     "text": [
      "iterasi 301 - Loss: 1993.4708\n",
      "iterasi 401 - Loss: 1992.0998\n",
      "iterasi 501 - Loss: 1990.3646\n",
      "iterasi 601 - Loss: 1989.4031\n",
      "iterasi 701 - Loss: 1988.7281\n",
      "iterasi 801 - Loss: 1988.2398\n",
      "iterasi 901 - Loss: 1987.8800\n",
      "iterasi 1001 - Loss: 1987.6113\n",
      "iterasi 1101 - Loss: 1987.4087\n",
      "iterasi 1201 - Loss: 1987.2547\n",
      "iterasi 1301 - Loss: 1987.1371\n",
      "iterasi 1401 - Loss: 1987.0467\n",
      "iterasi 1501 - Loss: 1986.9772\n",
      "iterasi 1601 - Loss: 1986.9235\n",
      "iterasi 1701 - Loss: 1986.8820\n",
      "iterasi 1801 - Loss: 1986.8498\n",
      "iterasi 1901 - Loss: 1986.8249\n",
      "iterasi 2001 - Loss: 1986.8055\n",
      "iterasi 2101 - Loss: 1986.7904\n",
      "iterasi 2201 - Loss: 1986.7787\n",
      "iterasi 2301 - Loss: 1986.7697\n",
      "iterasi 2401 - Loss: 1986.7626\n",
      "iterasi 2501 - Loss: 1986.7571\n",
      "iterasi 2601 - Loss: 1986.7528\n",
      "iterasi 2701 - Loss: 1986.7495\n",
      "iterasi 2801 - Loss: 1986.7469\n",
      "iterasi 2901 - Loss: 1986.7449\n",
      "iterasi 3001 - Loss: 1986.7433\n",
      "iterasi 3101 - Loss: 1986.7421\n",
      "iterasi 3201 - Loss: 1986.7411\n",
      "iterasi 3301 - Loss: 1986.7404\n",
      "iterasi 3401 - Loss: 1986.7398\n",
      "iterasi 3501 - Loss: 1986.7393\n",
      "iterasi 3601 - Loss: 1986.7390\n",
      "iterasi 3701 - Loss: 1986.7387\n",
      "iterasi 3801 - Loss: 1986.7385\n",
      "iterasi 3901 - Loss: 1986.7383\n",
      "iterasi 4001 - Loss: 1986.7382\n",
      "iterasi 4101 - Loss: 1986.7381\n",
      "iterasi 4201 - Loss: 1986.7380\n",
      "iterasi 4301 - Loss: 1986.7380\n",
      "iterasi 4401 - Loss: 1986.7379\n",
      "iterasi 4501 - Loss: 1986.7379\n",
      "iterasi 4601 - Loss: 1986.7379\n",
      "iterasi 4701 - Loss: 1986.7378\n",
      "iterasi 4801 - Loss: 1986.7378\n",
      "iterasi 4901 - Loss: 1986.7378\n",
      "iterasi 5000 - Loss: 1973.1015\n"
     ]
    }
   ],
   "source": [
    "loss_hist, w_hist = gradientDescent(X = X_train_clean,\n",
    "                                    y = y_train,\n",
    "                                    learning_rate = 0.01,\n",
    "                                    max_iter = 5000)"
   ]
  },
  {
   "cell_type": "code",
   "execution_count": 59,
   "metadata": {},
   "outputs": [
    {
     "data": {
      "image/png": "[encoded data removed]",
      "text/plain": [
       "<Figure size 1000x700 with 1 Axes>"
      ]
     },
     "metadata": {},
     "output_type": "display_data"
    }
   ],
   "source": [
    "# Plot Error history\n",
    "plt.plot([i for i in range(len(loss_hist))], loss_hist)\n",
    "plt.xlabel(\"Iteration\")\n",
    "plt.ylabel(\"Loss\")\n",
    "\n",
    "plt.show()"
   ]
  },
  {
   "cell_type": "code",
   "execution_count": 60,
   "metadata": {},
   "outputs": [
    {
     "data": {
      "text/plain": [
       "array([ -2.27399062,   0.45503596, -10.59286825,  18.07835485,\n",
       "        -0.40339791,  -7.43007237,  -0.69640368,  -3.69871996,\n",
       "         0.82700263,   0.52800415,   0.58352403,   0.82091864,\n",
       "         0.4622261 ,   0.8441784 ,   0.90100331,   1.6190233 ,\n",
       "         0.99647706,   1.36099874,   0.20024904,   1.26470939,\n",
       "         1.10061991])"
      ]
     },
     "execution_count": 60,
     "metadata": {},
     "output_type": "execute_result"
    }
   ],
   "source": [
    "# Cari best weights\n",
    "w_best = w_hist[-1]\n",
    "w_best"
   ]
  },
  {
   "attachments": {},
   "cell_type": "markdown",
   "metadata": {},
   "source": [
    "pada data train"
   ]
  },
  {
   "cell_type": "code",
   "execution_count": 61,
   "metadata": {},
   "outputs": [],
   "source": [
    "# Cari pre-activation function\n",
    "a = preActivation(X = X_train_clean,\n",
    "                  w = w_best)"
   ]
  },
  {
   "cell_type": "code",
   "execution_count": 62,
   "metadata": {},
   "outputs": [],
   "source": [
    "# Cari output --> activate the pre-activation\n",
    "# Karena klasifikasi, activation function menggunakan Sigmoid\n",
    "y_pred_proba_train = activationFunction(a = a,\n",
    "                                        types = \"sigmoid\")"
   ]
  },
  {
   "cell_type": "code",
   "execution_count": 63,
   "metadata": {},
   "outputs": [],
   "source": [
    "# Buat prediksi\n",
    "thresh = 0.5\n",
    "\n",
    "y_pred_train = (y_pred_proba_train > thresh).astype(\"int\")"
   ]
  },
  {
   "attachments": {},
   "cell_type": "markdown",
   "metadata": {},
   "source": [
    "pada data test"
   ]
  },
  {
   "cell_type": "code",
   "execution_count": 64,
   "metadata": {},
   "outputs": [],
   "source": [
    "# Cari pre-activation function\n",
    "a = preActivation(X = X_test_clean,\n",
    "                  w = w_best)"
   ]
  },
  {
   "cell_type": "code",
   "execution_count": 65,
   "metadata": {},
   "outputs": [],
   "source": [
    "# Cari output --> activate the pre-activation\n",
    "# Karena klasifikasi, activation function menggunakan Sigmoid\n",
    "y_pred_proba_test = activationFunction(a = a,\n",
    "                                       types = \"sigmoid\")"
   ]
  },
  {
   "cell_type": "code",
   "execution_count": 66,
   "metadata": {},
   "outputs": [],
   "source": [
    "# Buat prediksi\n",
    "y_pred_test = (y_pred_proba_test > thresh).astype(\"int\")"
   ]
  },
  {
   "attachments": {},
   "cell_type": "markdown",
   "metadata": {},
   "source": [
    "cek performa\n",
    "\n",
    "pada data train"
   ]
  },
  {
   "cell_type": "code",
   "execution_count": 67,
   "metadata": {},
   "outputs": [
    {
     "data": {
      "text/plain": [
       "array([[6276, 1723],\n",
       "       [ 358, 7641]], dtype=int64)"
      ]
     },
     "execution_count": 67,
     "metadata": {},
     "output_type": "execute_result"
    }
   ],
   "source": [
    "# Tampilkan confusion matrix\n",
    "confusion_matrix(y_true = y_train,\n",
    "                 y_pred = y_pred_train)"
   ]
  },
  {
   "cell_type": "code",
   "execution_count": 68,
   "metadata": {},
   "outputs": [
    {
     "data": {
      "text/plain": [
       "0.8699212401550194"
      ]
     },
     "execution_count": 68,
     "metadata": {},
     "output_type": "execute_result"
    }
   ],
   "source": [
    "# Tampilkan score\n",
    "accuracy_score(y_true = y_train,\n",
    "               y_pred = y_pred_train)"
   ]
  },
  {
   "cell_type": "code",
   "execution_count": 69,
   "metadata": {},
   "outputs": [
    {
     "name": "stdout",
     "output_type": "stream",
     "text": [
      "              precision    recall  f1-score   support\n",
      "\n",
      "    stay (0)       0.95      0.78      0.86      7999\n",
      "    left (1)       0.82      0.96      0.88      7999\n",
      "\n",
      "    accuracy                           0.87     15998\n",
      "   macro avg       0.88      0.87      0.87     15998\n",
      "weighted avg       0.88      0.87      0.87     15998\n",
      "\n"
     ]
    }
   ],
   "source": [
    "# Tampilkan score\n",
    "print(classification_report(y_true = y_train,\n",
    "                            y_pred = y_pred_train,\n",
    "                            target_names = [\"stay (0)\", \"left (1)\"]))"
   ]
  },
  {
   "attachments": {},
   "cell_type": "markdown",
   "metadata": {},
   "source": [
    "- Ada perbaikan recall, tadinya 43% sekarang jadi 87%\n",
    "- Membaik"
   ]
  },
  {
   "cell_type": "code",
   "execution_count": 70,
   "metadata": {},
   "outputs": [
    {
     "data": {
      "image/png": "[encoded data removed]",
      "text/plain": [
       "<Figure size 1000x700 with 1 Axes>"
      ]
     },
     "metadata": {},
     "output_type": "display_data"
    }
   ],
   "source": [
    "# ROC Curve\n",
    "fpr_lr, tpr_lr, threshold_lr = roc_curve(y_train,\n",
    "                                         y_pred_proba_train)\n",
    "roc_auc_lr = auc(fpr_lr, tpr_lr)\n",
    "\n",
    "plt.title('Receiver Operating Characteristic')\n",
    "plt.plot(fpr_lr, tpr_lr, 'b', label = 'AUC = %0.2f' % roc_auc_lr)\n",
    "plt.legend(loc = 'lower right')\n",
    "plt.plot([0, 1], [0, 1],'r--')\n",
    "plt.xlim([0, 1])\n",
    "plt.ylim([0, 1])\n",
    "plt.ylabel('True Positive Rate')\n",
    "plt.xlabel('False Positive Rate')\n",
    "plt.show()"
   ]
  },
  {
   "attachments": {},
   "cell_type": "markdown",
   "metadata": {},
   "source": [
    "pada data test"
   ]
  },
  {
   "cell_type": "code",
   "execution_count": 71,
   "metadata": {},
   "outputs": [
    {
     "data": {
      "text/plain": [
       "array([[1537,  464],\n",
       "       [  27,  371]], dtype=int64)"
      ]
     },
     "execution_count": 71,
     "metadata": {},
     "output_type": "execute_result"
    }
   ],
   "source": [
    "# Tampilkan confusion matrix\n",
    "confusion_matrix(y_true = y_test,\n",
    "                 y_pred = y_pred_test)"
   ]
  },
  {
   "cell_type": "code",
   "execution_count": 72,
   "metadata": {},
   "outputs": [
    {
     "data": {
      "text/plain": [
       "0.795331388078366"
      ]
     },
     "execution_count": 72,
     "metadata": {},
     "output_type": "execute_result"
    }
   ],
   "source": [
    "# Tampilkan score\n",
    "accuracy_score(y_true = y_test,\n",
    "               y_pred = y_pred_test)"
   ]
  },
  {
   "cell_type": "code",
   "execution_count": 73,
   "metadata": {},
   "outputs": [
    {
     "name": "stdout",
     "output_type": "stream",
     "text": [
      "              precision    recall  f1-score   support\n",
      "\n",
      "    stay (0)       0.98      0.77      0.86      2001\n",
      "    left (1)       0.44      0.93      0.60       398\n",
      "\n",
      "    accuracy                           0.80      2399\n",
      "   macro avg       0.71      0.85      0.73      2399\n",
      "weighted avg       0.89      0.80      0.82      2399\n",
      "\n"
     ]
    }
   ],
   "source": [
    "# Tampilkan score\n",
    "print(classification_report(y_true = y_test,\n",
    "                            y_pred = y_pred_test,\n",
    "                            target_names = [\"stay (0)\", \"left (1)\"]))"
   ]
  },
  {
   "cell_type": "code",
   "execution_count": 74,
   "metadata": {},
   "outputs": [
    {
     "data": {
      "image/png": "[encoded data removed]",
      "text/plain": [
       "<Figure size 1000x700 with 1 Axes>"
      ]
     },
     "metadata": {},
     "output_type": "display_data"
    }
   ],
   "source": [
    "# ROC Curve\n",
    "# AUC terlihat tinggi, jadi model uda bagus bos\n",
    "\n",
    "fpr_lr, tpr_lr, threshold_lr = roc_curve(y_test,\n",
    "                                         y_pred_proba_test)\n",
    "roc_auc_lr = auc(fpr_lr, tpr_lr)\n",
    "\n",
    "plt.title('Receiver Operating Characteristic')\n",
    "plt.plot(fpr_lr, tpr_lr, 'b', label = 'AUC = %0.2f' % roc_auc_lr)\n",
    "plt.legend(loc = 'lower right')\n",
    "plt.plot([0, 1], [0, 1],'r--')\n",
    "plt.xlim([0, 1])\n",
    "plt.ylim([0, 1])\n",
    "plt.ylabel('True Positive Rate')\n",
    "plt.xlabel('False Positive Rate')\n",
    "plt.show()"
   ]
  },
  {
   "attachments": {},
   "cell_type": "markdown",
   "metadata": {},
   "source": [
    "---\n",
    "# Membuat Model Neural Network"
   ]
  },
  {
   "cell_type": "code",
   "execution_count": 75,
   "metadata": {},
   "outputs": [],
   "source": [
    "# Import library\n",
    "import tensorflow as tf\n",
    "from tensorflow.keras.models import Sequential\n",
    "from tensorflow.keras.layers import Dense\n",
    "from tensorflow.keras.optimizers import SGD"
   ]
  },
  {
   "attachments": {},
   "cell_type": "markdown",
   "metadata": {},
   "source": [
    "**Arsitektur Simpel**"
   ]
  },
  {
   "cell_type": "code",
   "execution_count": 76,
   "metadata": {},
   "outputs": [],
   "source": [
    "# Buat arsitektur model dengan 1 perceptron\n",
    "model = Sequential([\n",
    "    Dense(1, input_shape = (X_train_clean.shape[1],), activation = \"sigmoid\")\n",
    "])\n",
    "\n",
    "# Buat optimizer, menggunakan ADAM (varian gradient descent)\n",
    "opt = SGD(learning_rate = 0.01)\n",
    "\n",
    "# Compile model\n",
    "model.compile(loss = \"binary_crossentropy\",\n",
    "              optimizer = opt,\n",
    "              metrics = [\"accuracy\"])"
   ]
  },
  {
   "cell_type": "code",
   "execution_count": 77,
   "metadata": {},
   "outputs": [
    {
     "name": "stdout",
     "output_type": "stream",
     "text": [
      "Epoch 1/10\n",
      "500/500 [==============================] - 2s 2ms/step - loss: 0.6381 - accuracy: 0.6485\n",
      "Epoch 2/10\n",
      "500/500 [==============================] - 1s 3ms/step - loss: 0.5281 - accuracy: 0.7597\n",
      "Epoch 3/10\n",
      "500/500 [==============================] - 1s 2ms/step - loss: 0.5052 - accuracy: 0.7942\n",
      "Epoch 4/10\n",
      "500/500 [==============================] - 1s 2ms/step - loss: 0.4970 - accuracy: 0.8029\n",
      "Epoch 5/10\n",
      "500/500 [==============================] - 1s 2ms/step - loss: 0.4930 - accuracy: 0.8081\n",
      "Epoch 6/10\n",
      "500/500 [==============================] - 1s 2ms/step - loss: 0.4908 - accuracy: 0.8106\n",
      "Epoch 7/10\n",
      "500/500 [==============================] - 1s 2ms/step - loss: 0.4895 - accuracy: 0.8132\n",
      "Epoch 8/10\n",
      "500/500 [==============================] - 1s 2ms/step - loss: 0.4888 - accuracy: 0.8131\n",
      "Epoch 9/10\n",
      "500/500 [==============================] - 1s 2ms/step - loss: 0.4883 - accuracy: 0.8107\n",
      "Epoch 10/10\n",
      "500/500 [==============================] - 1s 2ms/step - loss: 0.4879 - accuracy: 0.8152\n"
     ]
    }
   ],
   "source": [
    "# Train model\n",
    "model_hist = model.fit(X_train_clean, y_train,\n",
    "                       epochs = 10,\n",
    "                       verbose = 1)"
   ]
  },
  {
   "cell_type": "code",
   "execution_count": 78,
   "metadata": {},
   "outputs": [
    {
     "name": "stdout",
     "output_type": "stream",
     "text": [
      "Model: \"sequential\"\n",
      "_________________________________________________________________\n",
      " Layer (type)                Output Shape              Param #   \n",
      "=================================================================\n",
      " dense (Dense)               (None, 1)                 21        \n",
      "                                                                 \n",
      "=================================================================\n",
      "Total params: 21\n",
      "Trainable params: 21\n",
      "Non-trainable params: 0\n",
      "_________________________________________________________________\n"
     ]
    }
   ],
   "source": [
    "# Summary Model\n",
    "model.summary()"
   ]
  },
  {
   "cell_type": "code",
   "execution_count": 79,
   "metadata": {},
   "outputs": [
    {
     "data": {
      "image/png": "[encoded data removed]",
      "text/plain": [
       "<Figure size 1000x700 with 1 Axes>"
      ]
     },
     "metadata": {},
     "output_type": "display_data"
    }
   ],
   "source": [
    "# Plot Error\n",
    "plt.plot(1 + np.arange(10), model_hist.history[\"loss\"], marker=\"o\")\n",
    "\n",
    "plt.xlabel(\"epoch\")\n",
    "plt.ylabel(\"loss\")\n",
    "plt.show()"
   ]
  },
  {
   "attachments": {},
   "cell_type": "markdown",
   "metadata": {},
   "source": [
    "pada data train"
   ]
  },
  {
   "cell_type": "code",
   "execution_count": 80,
   "metadata": {},
   "outputs": [
    {
     "name": "stdout",
     "output_type": "stream",
     "text": [
      "500/500 [==============================] - 1s 925us/step\n"
     ]
    },
    {
     "data": {
      "text/plain": [
       "array([[0.45453802],\n",
       "       [0.07351019],\n",
       "       [0.58028334],\n",
       "       ...,\n",
       "       [0.7114716 ],\n",
       "       [0.40995327],\n",
       "       [0.44604844]], dtype=float32)"
      ]
     },
     "execution_count": 80,
     "metadata": {},
     "output_type": "execute_result"
    }
   ],
   "source": [
    "# Prediksi\n",
    "y_pred_proba_train = model.predict(X_train_clean)\n",
    "y_pred_proba_train"
   ]
  },
  {
   "cell_type": "code",
   "execution_count": 81,
   "metadata": {},
   "outputs": [],
   "source": [
    "# Buat prediksi\n",
    "thresh = 0.5\n",
    "\n",
    "y_pred_train = (y_pred_proba_train > thresh).astype(\"int\")"
   ]
  },
  {
   "attachments": {},
   "cell_type": "markdown",
   "metadata": {},
   "source": [
    "pada data test"
   ]
  },
  {
   "cell_type": "code",
   "execution_count": 82,
   "metadata": {},
   "outputs": [
    {
     "name": "stdout",
     "output_type": "stream",
     "text": [
      " 1/75 [..............................] - ETA: 1s"
     ]
    },
    {
     "name": "stdout",
     "output_type": "stream",
     "text": [
      "75/75 [==============================] - 0s 962us/step\n"
     ]
    },
    {
     "data": {
      "text/plain": [
       "array([[0.38152984],\n",
       "       [0.84075147],\n",
       "       [0.21299472],\n",
       "       ...,\n",
       "       [0.05939755],\n",
       "       [0.14330256],\n",
       "       [0.9379546 ]], dtype=float32)"
      ]
     },
     "execution_count": 82,
     "metadata": {},
     "output_type": "execute_result"
    }
   ],
   "source": [
    "# Prediksi\n",
    "y_pred_proba_test = model.predict(X_test_clean)\n",
    "y_pred_proba_test"
   ]
  },
  {
   "cell_type": "code",
   "execution_count": 83,
   "metadata": {},
   "outputs": [],
   "source": [
    "# Buat prediksi\n",
    "y_pred_test = (y_pred_proba_test > thresh).astype(\"int\")"
   ]
  },
  {
   "attachments": {},
   "cell_type": "markdown",
   "metadata": {},
   "source": [
    "cek performa\n",
    "\n",
    "pada data train"
   ]
  },
  {
   "cell_type": "code",
   "execution_count": 84,
   "metadata": {},
   "outputs": [
    {
     "data": {
      "text/plain": [
       "array([[6159, 1840],\n",
       "       [1188, 6811]], dtype=int64)"
      ]
     },
     "execution_count": 84,
     "metadata": {},
     "output_type": "execute_result"
    }
   ],
   "source": [
    "# Tampilkan confusion matrix\n",
    "confusion_matrix(y_true = y_train,\n",
    "                 y_pred = y_pred_train)"
   ]
  },
  {
   "cell_type": "code",
   "execution_count": 85,
   "metadata": {},
   "outputs": [
    {
     "data": {
      "text/plain": [
       "0.8107263407925991"
      ]
     },
     "execution_count": 85,
     "metadata": {},
     "output_type": "execute_result"
    }
   ],
   "source": [
    "# Tampilkan score\n",
    "accuracy_score(y_true = y_train,\n",
    "               y_pred = y_pred_train)"
   ]
  },
  {
   "cell_type": "code",
   "execution_count": 86,
   "metadata": {},
   "outputs": [
    {
     "name": "stdout",
     "output_type": "stream",
     "text": [
      "              precision    recall  f1-score   support\n",
      "\n",
      "    stay (0)       0.84      0.77      0.80      7999\n",
      "    left (1)       0.79      0.85      0.82      7999\n",
      "\n",
      "    accuracy                           0.81     15998\n",
      "   macro avg       0.81      0.81      0.81     15998\n",
      "weighted avg       0.81      0.81      0.81     15998\n",
      "\n"
     ]
    }
   ],
   "source": [
    "# Tampilkan score\n",
    "print(classification_report(y_true = y_train,\n",
    "                            y_pred = y_pred_train,\n",
    "                            target_names = [\"stay (0)\", \"left (1)\"]))"
   ]
  },
  {
   "cell_type": "code",
   "execution_count": 87,
   "metadata": {},
   "outputs": [
    {
     "data": {
      "image/png": "[encoded data removed]",
      "text/plain": [
       "<Figure size 1000x700 with 1 Axes>"
      ]
     },
     "metadata": {},
     "output_type": "display_data"
    }
   ],
   "source": [
    "# ROC Curve\n",
    "fpr_lr, tpr_lr, threshold_lr = roc_curve(y_train,\n",
    "                                         y_pred_proba_train)\n",
    "roc_auc_lr = auc(fpr_lr, tpr_lr)\n",
    "\n",
    "plt.title('Receiver Operating Characteristic')\n",
    "plt.plot(fpr_lr, tpr_lr, 'b', label = 'AUC = %0.2f' % roc_auc_lr)\n",
    "plt.legend(loc = 'lower right')\n",
    "plt.plot([0, 1], [0, 1],'r--')\n",
    "plt.xlim([0, 1])\n",
    "plt.ylim([0, 1])\n",
    "plt.ylabel('True Positive Rate')\n",
    "plt.xlabel('False Positive Rate')\n",
    "plt.show()"
   ]
  },
  {
   "attachments": {},
   "cell_type": "markdown",
   "metadata": {},
   "source": [
    "pada data test"
   ]
  },
  {
   "cell_type": "code",
   "execution_count": 88,
   "metadata": {},
   "outputs": [
    {
     "data": {
      "text/plain": [
       "array([[1539,  462],\n",
       "       [  71,  327]], dtype=int64)"
      ]
     },
     "execution_count": 88,
     "metadata": {},
     "output_type": "execute_result"
    }
   ],
   "source": [
    "# Tampilkan confusion matrix\n",
    "confusion_matrix(y_true = y_test,\n",
    "                 y_pred = y_pred_test)"
   ]
  },
  {
   "cell_type": "code",
   "execution_count": 89,
   "metadata": {},
   "outputs": [
    {
     "data": {
      "text/plain": [
       "0.7778240933722385"
      ]
     },
     "execution_count": 89,
     "metadata": {},
     "output_type": "execute_result"
    }
   ],
   "source": [
    "# Tampilkan score\n",
    "accuracy_score(y_true = y_test,\n",
    "               y_pred = y_pred_test)"
   ]
  },
  {
   "cell_type": "code",
   "execution_count": 90,
   "metadata": {},
   "outputs": [
    {
     "name": "stdout",
     "output_type": "stream",
     "text": [
      "              precision    recall  f1-score   support\n",
      "\n",
      "    stay (0)       0.96      0.77      0.85      2001\n",
      "    left (1)       0.41      0.82      0.55       398\n",
      "\n",
      "    accuracy                           0.78      2399\n",
      "   macro avg       0.69      0.80      0.70      2399\n",
      "weighted avg       0.87      0.78      0.80      2399\n",
      "\n"
     ]
    }
   ],
   "source": [
    "# Tampilkan score\n",
    "print(classification_report(y_true = y_test,\n",
    "                            y_pred = y_pred_test,\n",
    "                            target_names = [\"stay (0)\", \"left (1)\"]))"
   ]
  },
  {
   "cell_type": "code",
   "execution_count": 91,
   "metadata": {},
   "outputs": [
    {
     "data": {
      "image/png": "[encoded data removed]",
      "text/plain": [
       "<Figure size 1000x700 with 1 Axes>"
      ]
     },
     "metadata": {},
     "output_type": "display_data"
    }
   ],
   "source": [
    "# ROC Curve\n",
    "fpr_lr, tpr_lr, threshold_lr = roc_curve(y_test,\n",
    "                                         y_pred_proba_test)\n",
    "roc_auc_lr = auc(fpr_lr, tpr_lr)\n",
    "\n",
    "plt.title('Receiver Operating Characteristic')\n",
    "plt.plot(fpr_lr, tpr_lr, 'b', label = 'AUC = %0.2f' % roc_auc_lr)\n",
    "plt.legend(loc = 'lower right')\n",
    "plt.plot([0, 1], [0, 1],'r--')\n",
    "plt.xlim([0, 1])\n",
    "plt.ylim([0, 1])\n",
    "plt.ylabel('True Positive Rate')\n",
    "plt.xlabel('False Positive Rate')\n",
    "plt.show()"
   ]
  },
  {
   "attachments": {},
   "cell_type": "markdown",
   "metadata": {},
   "source": [
    "**Arsitektur Lebih Kompleks**\n",
    "\n",
    "- 1 hidden layer, dengan 3 neuron"
   ]
  },
  {
   "cell_type": "code",
   "execution_count": 92,
   "metadata": {},
   "outputs": [],
   "source": [
    "# untuk menggunakan penambahan hidden layer dan neuron ini, harus diimbangi dengan penambahan data supaya bisa menghasilkan hasil yang lebih baik!\n",
    "\n",
    "# Buat arsitektur model dengan 1 perceptron\n",
    "model = Sequential([\n",
    "    Dense(3, input_shape = (X_train_clean.shape[1],), activation = \"sigmoid\"),\n",
    "    Dense(1, activation = \"sigmoid\")\n",
    "])\n",
    "\n",
    "# Buat optimizer, menggunakan ADAM (varian gradient descent)\n",
    "opt = SGD(learning_rate = 0.01)\n",
    "\n",
    "# Compile model\n",
    "model.compile(loss = \"binary_crossentropy\",\n",
    "              optimizer = opt,\n",
    "              metrics = [\"accuracy\"])"
   ]
  },
  {
   "cell_type": "code",
   "execution_count": 93,
   "metadata": {},
   "outputs": [
    {
     "name": "stdout",
     "output_type": "stream",
     "text": [
      "Epoch 1/10\n"
     ]
    },
    {
     "name": "stdout",
     "output_type": "stream",
     "text": [
      "500/500 [==============================] - 2s 3ms/step - loss: 0.7127 - accuracy: 0.5001\n",
      "Epoch 2/10\n",
      "500/500 [==============================] - 1s 2ms/step - loss: 0.6925 - accuracy: 0.5243\n",
      "Epoch 3/10\n",
      "500/500 [==============================] - 1s 2ms/step - loss: 0.6846 - accuracy: 0.5623\n",
      "Epoch 4/10\n",
      "500/500 [==============================] - 1s 2ms/step - loss: 0.6762 - accuracy: 0.5908\n",
      "Epoch 5/10\n",
      "500/500 [==============================] - 1s 3ms/step - loss: 0.6663 - accuracy: 0.6213\n",
      "Epoch 6/10\n",
      "500/500 [==============================] - 1s 3ms/step - loss: 0.6542 - accuracy: 0.6532\n",
      "Epoch 7/10\n",
      "500/500 [==============================] - 1s 2ms/step - loss: 0.6396 - accuracy: 0.6832\n",
      "Epoch 8/10\n",
      "500/500 [==============================] - 1s 2ms/step - loss: 0.6229 - accuracy: 0.7006\n",
      "Epoch 9/10\n",
      "500/500 [==============================] - 1s 2ms/step - loss: 0.6046 - accuracy: 0.7315\n",
      "Epoch 10/10\n",
      "500/500 [==============================] - 1s 2ms/step - loss: 0.5853 - accuracy: 0.7590\n"
     ]
    }
   ],
   "source": [
    "# Train model\n",
    "model_hist = model.fit(X_train_clean, y_train,\n",
    "                       epochs = 10,\n",
    "                       verbose = 1)"
   ]
  },
  {
   "cell_type": "code",
   "execution_count": 94,
   "metadata": {},
   "outputs": [
    {
     "name": "stdout",
     "output_type": "stream",
     "text": [
      "Model: \"sequential_1\"\n",
      "_________________________________________________________________\n",
      " Layer (type)                Output Shape              Param #   \n",
      "=================================================================\n",
      " dense_1 (Dense)             (None, 3)                 63        \n",
      "                                                                 \n",
      " dense_2 (Dense)             (None, 1)                 4         \n",
      "                                                                 \n",
      "=================================================================\n",
      "Total params: 67\n",
      "Trainable params: 67\n",
      "Non-trainable params: 0\n",
      "_________________________________________________________________\n"
     ]
    }
   ],
   "source": [
    "# Summary Model\n",
    "model.summary()"
   ]
  },
  {
   "cell_type": "code",
   "execution_count": 95,
   "metadata": {},
   "outputs": [
    {
     "data": {
      "image/png": "[encoded data removed]",
      "text/plain": [
       "<Figure size 1000x700 with 1 Axes>"
      ]
     },
     "metadata": {},
     "output_type": "display_data"
    }
   ],
   "source": [
    "# Plot Error\n",
    "plt.plot(1 + np.arange(10), model_hist.history[\"loss\"], marker=\"o\")\n",
    "\n",
    "plt.xlabel(\"epoch\")\n",
    "plt.ylabel(\"loss\")\n",
    "plt.show()"
   ]
  },
  {
   "cell_type": "code",
   "execution_count": 96,
   "metadata": {},
   "outputs": [
    {
     "name": "stdout",
     "output_type": "stream",
     "text": [
      "Epoch 1/100\n",
      "500/500 [==============================] - 1s 3ms/step - loss: 0.5661 - accuracy: 0.7840\n",
      "Epoch 2/100\n",
      "500/500 [==============================] - 1s 3ms/step - loss: 0.5473 - accuracy: 0.7974\n",
      "Epoch 3/100\n",
      "500/500 [==============================] - 1s 3ms/step - loss: 0.5294 - accuracy: 0.8084\n",
      "Epoch 4/100\n",
      "500/500 [==============================] - 1s 3ms/step - loss: 0.5125 - accuracy: 0.8170\n",
      "Epoch 5/100\n",
      "500/500 [==============================] - 1s 3ms/step - loss: 0.4971 - accuracy: 0.8247\n",
      "Epoch 6/100\n",
      "500/500 [==============================] - 1s 3ms/step - loss: 0.4830 - accuracy: 0.8319\n",
      "Epoch 7/100\n",
      "500/500 [==============================] - 1s 2ms/step - loss: 0.4706 - accuracy: 0.8396\n",
      "Epoch 8/100\n",
      "500/500 [==============================] - 1s 2ms/step - loss: 0.4595 - accuracy: 0.8430\n",
      "Epoch 9/100\n",
      "500/500 [==============================] - 1s 2ms/step - loss: 0.4498 - accuracy: 0.8450\n",
      "Epoch 10/100\n",
      "500/500 [==============================] - 1s 3ms/step - loss: 0.4412 - accuracy: 0.8462\n",
      "Epoch 11/100\n",
      "500/500 [==============================] - 1s 3ms/step - loss: 0.4336 - accuracy: 0.8472\n",
      "Epoch 12/100\n",
      "500/500 [==============================] - 1s 2ms/step - loss: 0.4268 - accuracy: 0.8484\n",
      "Epoch 13/100\n",
      "500/500 [==============================] - 1s 2ms/step - loss: 0.4207 - accuracy: 0.8496\n",
      "Epoch 14/100\n",
      "500/500 [==============================] - 1s 3ms/step - loss: 0.4152 - accuracy: 0.8492\n",
      "Epoch 15/100\n",
      "500/500 [==============================] - 1s 3ms/step - loss: 0.4103 - accuracy: 0.8503\n",
      "Epoch 16/100\n",
      "500/500 [==============================] - 1s 3ms/step - loss: 0.4058 - accuracy: 0.8515\n",
      "Epoch 17/100\n",
      "500/500 [==============================] - 1s 2ms/step - loss: 0.4017 - accuracy: 0.8524\n",
      "Epoch 18/100\n",
      "500/500 [==============================] - 1s 2ms/step - loss: 0.3980 - accuracy: 0.8534\n",
      "Epoch 19/100\n",
      "500/500 [==============================] - 1s 2ms/step - loss: 0.3945 - accuracy: 0.8547\n",
      "Epoch 20/100\n",
      "500/500 [==============================] - 1s 2ms/step - loss: 0.3914 - accuracy: 0.8549\n",
      "Epoch 21/100\n",
      "500/500 [==============================] - 1s 3ms/step - loss: 0.3884 - accuracy: 0.8553\n",
      "Epoch 22/100\n",
      "500/500 [==============================] - 2s 4ms/step - loss: 0.3856 - accuracy: 0.8555\n",
      "Epoch 23/100\n",
      "500/500 [==============================] - 3s 7ms/step - loss: 0.3830 - accuracy: 0.8560\n",
      "Epoch 24/100\n",
      "500/500 [==============================] - 3s 6ms/step - loss: 0.3805 - accuracy: 0.8565\n",
      "Epoch 25/100\n",
      "500/500 [==============================] - 2s 4ms/step - loss: 0.3781 - accuracy: 0.8573\n",
      "Epoch 26/100\n",
      "500/500 [==============================] - 1s 2ms/step - loss: 0.3758 - accuracy: 0.8574\n",
      "Epoch 27/100\n",
      "500/500 [==============================] - 1s 3ms/step - loss: 0.3735 - accuracy: 0.8579\n",
      "Epoch 28/100\n",
      "500/500 [==============================] - 2s 4ms/step - loss: 0.3712 - accuracy: 0.8582\n",
      "Epoch 29/100\n",
      "500/500 [==============================] - 3s 5ms/step - loss: 0.3690 - accuracy: 0.8583\n",
      "Epoch 30/100\n",
      "500/500 [==============================] - 1s 2ms/step - loss: 0.3669 - accuracy: 0.8582\n",
      "Epoch 31/100\n",
      "500/500 [==============================] - 2s 4ms/step - loss: 0.3647 - accuracy: 0.8589\n",
      "Epoch 32/100\n",
      "500/500 [==============================] - 2s 4ms/step - loss: 0.3625 - accuracy: 0.8587\n",
      "Epoch 33/100\n",
      "500/500 [==============================] - 2s 4ms/step - loss: 0.3604 - accuracy: 0.8590\n",
      "Epoch 34/100\n",
      "500/500 [==============================] - 1s 3ms/step - loss: 0.3583 - accuracy: 0.8589\n",
      "Epoch 35/100\n",
      "500/500 [==============================] - 1s 3ms/step - loss: 0.3562 - accuracy: 0.8589\n",
      "Epoch 36/100\n",
      "500/500 [==============================] - 1s 2ms/step - loss: 0.3541 - accuracy: 0.8589\n",
      "Epoch 37/100\n",
      "500/500 [==============================] - 1s 2ms/step - loss: 0.3520 - accuracy: 0.8584\n",
      "Epoch 38/100\n",
      "500/500 [==============================] - 1s 3ms/step - loss: 0.3500 - accuracy: 0.8587\n",
      "Epoch 39/100\n",
      "500/500 [==============================] - 1s 2ms/step - loss: 0.3479 - accuracy: 0.8589\n",
      "Epoch 40/100\n",
      "500/500 [==============================] - 1s 3ms/step - loss: 0.3460 - accuracy: 0.8587\n",
      "Epoch 41/100\n",
      "500/500 [==============================] - 1s 3ms/step - loss: 0.3439 - accuracy: 0.8588\n",
      "Epoch 42/100\n",
      "500/500 [==============================] - 1s 2ms/step - loss: 0.3420 - accuracy: 0.8584\n",
      "Epoch 43/100\n",
      "500/500 [==============================] - 1s 2ms/step - loss: 0.3400 - accuracy: 0.8587\n",
      "Epoch 44/100\n",
      "500/500 [==============================] - 1s 2ms/step - loss: 0.3381 - accuracy: 0.8584\n",
      "Epoch 45/100\n",
      "500/500 [==============================] - 1s 3ms/step - loss: 0.3361 - accuracy: 0.8585\n",
      "Epoch 46/100\n",
      "500/500 [==============================] - 1s 3ms/step - loss: 0.3342 - accuracy: 0.8582\n",
      "Epoch 47/100\n",
      "500/500 [==============================] - 1s 3ms/step - loss: 0.3323 - accuracy: 0.8582\n",
      "Epoch 48/100\n",
      "500/500 [==============================] - 1s 3ms/step - loss: 0.3304 - accuracy: 0.8595\n",
      "Epoch 49/100\n",
      "500/500 [==============================] - 1s 3ms/step - loss: 0.3285 - accuracy: 0.8624\n",
      "Epoch 50/100\n",
      "500/500 [==============================] - 1s 3ms/step - loss: 0.3266 - accuracy: 0.8662\n",
      "Epoch 51/100\n",
      "500/500 [==============================] - 1s 2ms/step - loss: 0.3247 - accuracy: 0.8677\n",
      "Epoch 52/100\n",
      "500/500 [==============================] - 1s 2ms/step - loss: 0.3229 - accuracy: 0.8709\n",
      "Epoch 53/100\n",
      "500/500 [==============================] - 1s 3ms/step - loss: 0.3210 - accuracy: 0.8727\n",
      "Epoch 54/100\n",
      "500/500 [==============================] - 1s 3ms/step - loss: 0.3192 - accuracy: 0.8745\n",
      "Epoch 55/100\n",
      "500/500 [==============================] - 1s 2ms/step - loss: 0.3174 - accuracy: 0.8770\n",
      "Epoch 56/100\n",
      "500/500 [==============================] - 1s 2ms/step - loss: 0.3156 - accuracy: 0.8784\n",
      "Epoch 57/100\n",
      "500/500 [==============================] - 1s 3ms/step - loss: 0.3138 - accuracy: 0.8796\n",
      "Epoch 58/100\n",
      "500/500 [==============================] - 1s 3ms/step - loss: 0.3120 - accuracy: 0.8815\n",
      "Epoch 59/100\n",
      "500/500 [==============================] - 1s 3ms/step - loss: 0.3103 - accuracy: 0.8824\n",
      "Epoch 60/100\n",
      "500/500 [==============================] - 1s 2ms/step - loss: 0.3086 - accuracy: 0.8845\n",
      "Epoch 61/100\n",
      "500/500 [==============================] - 1s 2ms/step - loss: 0.3069 - accuracy: 0.8855\n",
      "Epoch 62/100\n",
      "500/500 [==============================] - 1s 2ms/step - loss: 0.3051 - accuracy: 0.8863\n",
      "Epoch 63/100\n",
      "500/500 [==============================] - 1s 2ms/step - loss: 0.3035 - accuracy: 0.8870\n",
      "Epoch 64/100\n",
      "500/500 [==============================] - 1s 2ms/step - loss: 0.3018 - accuracy: 0.8883\n",
      "Epoch 65/100\n",
      "500/500 [==============================] - 1s 2ms/step - loss: 0.3001 - accuracy: 0.8896\n",
      "Epoch 66/100\n",
      "500/500 [==============================] - 1s 2ms/step - loss: 0.2985 - accuracy: 0.8900\n",
      "Epoch 67/100\n",
      "500/500 [==============================] - 1s 3ms/step - loss: 0.2968 - accuracy: 0.8914\n",
      "Epoch 68/100\n",
      "500/500 [==============================] - 1s 3ms/step - loss: 0.2952 - accuracy: 0.8917\n",
      "Epoch 69/100\n",
      "500/500 [==============================] - 1s 3ms/step - loss: 0.2935 - accuracy: 0.8930\n",
      "Epoch 70/100\n",
      "500/500 [==============================] - 1s 2ms/step - loss: 0.2918 - accuracy: 0.8936\n",
      "Epoch 71/100\n",
      "500/500 [==============================] - 1s 3ms/step - loss: 0.2902 - accuracy: 0.8946\n",
      "Epoch 72/100\n",
      "500/500 [==============================] - 1s 3ms/step - loss: 0.2885 - accuracy: 0.8956\n",
      "Epoch 73/100\n",
      "500/500 [==============================] - 1s 2ms/step - loss: 0.2869 - accuracy: 0.8960\n",
      "Epoch 74/100\n",
      "500/500 [==============================] - 1s 2ms/step - loss: 0.2854 - accuracy: 0.8971\n",
      "Epoch 75/100\n",
      "500/500 [==============================] - 1s 2ms/step - loss: 0.2840 - accuracy: 0.8979\n",
      "Epoch 76/100\n",
      "500/500 [==============================] - 1s 2ms/step - loss: 0.2826 - accuracy: 0.8982\n",
      "Epoch 77/100\n",
      "500/500 [==============================] - 1s 2ms/step - loss: 0.2812 - accuracy: 0.8987\n",
      "Epoch 78/100\n",
      "500/500 [==============================] - 1s 3ms/step - loss: 0.2799 - accuracy: 0.8994\n",
      "Epoch 79/100\n",
      "500/500 [==============================] - 1s 3ms/step - loss: 0.2787 - accuracy: 0.8999\n",
      "Epoch 80/100\n",
      "500/500 [==============================] - 1s 3ms/step - loss: 0.2774 - accuracy: 0.9004\n",
      "Epoch 81/100\n",
      "500/500 [==============================] - 1s 2ms/step - loss: 0.2762 - accuracy: 0.9007\n",
      "Epoch 82/100\n",
      "500/500 [==============================] - 2s 3ms/step - loss: 0.2750 - accuracy: 0.9014\n",
      "Epoch 83/100\n",
      "500/500 [==============================] - 1s 3ms/step - loss: 0.2739 - accuracy: 0.9016\n",
      "Epoch 84/100\n",
      "500/500 [==============================] - 1s 3ms/step - loss: 0.2728 - accuracy: 0.9026\n",
      "Epoch 85/100\n",
      "500/500 [==============================] - 1s 2ms/step - loss: 0.2717 - accuracy: 0.9033\n",
      "Epoch 86/100\n",
      "500/500 [==============================] - 2s 5ms/step - loss: 0.2706 - accuracy: 0.9036\n",
      "Epoch 87/100\n",
      "500/500 [==============================] - 2s 4ms/step - loss: 0.2696 - accuracy: 0.9038\n",
      "Epoch 88/100\n",
      "500/500 [==============================] - 1s 3ms/step - loss: 0.2686 - accuracy: 0.9051\n",
      "Epoch 89/100\n",
      "500/500 [==============================] - 2s 4ms/step - loss: 0.2676 - accuracy: 0.9048\n",
      "Epoch 90/100\n",
      "500/500 [==============================] - 2s 5ms/step - loss: 0.2666 - accuracy: 0.9054\n",
      "Epoch 91/100\n",
      "500/500 [==============================] - 1s 2ms/step - loss: 0.2656 - accuracy: 0.9054\n",
      "Epoch 92/100\n",
      "500/500 [==============================] - 1s 3ms/step - loss: 0.2647 - accuracy: 0.9057\n",
      "Epoch 93/100\n",
      "500/500 [==============================] - 1s 3ms/step - loss: 0.2638 - accuracy: 0.9061\n",
      "Epoch 94/100\n",
      "500/500 [==============================] - 1s 3ms/step - loss: 0.2629 - accuracy: 0.9065\n",
      "Epoch 95/100\n",
      "500/500 [==============================] - 1s 3ms/step - loss: 0.2621 - accuracy: 0.9073\n",
      "Epoch 96/100\n",
      "500/500 [==============================] - 1s 2ms/step - loss: 0.2612 - accuracy: 0.9076\n",
      "Epoch 97/100\n",
      "500/500 [==============================] - 1s 3ms/step - loss: 0.2604 - accuracy: 0.9084\n",
      "Epoch 98/100\n",
      "500/500 [==============================] - 1s 2ms/step - loss: 0.2596 - accuracy: 0.9085\n",
      "Epoch 99/100\n",
      "500/500 [==============================] - 1s 2ms/step - loss: 0.2588 - accuracy: 0.9092\n",
      "Epoch 100/100\n",
      "500/500 [==============================] - 1s 2ms/step - loss: 0.2581 - accuracy: 0.9094\n"
     ]
    }
   ],
   "source": [
    "# Train model - Teruskan 100 iterasi lagi\n",
    "model_hist = model.fit(X_train_clean, y_train,\n",
    "                       epochs = 100,\n",
    "                       verbose = 1)"
   ]
  },
  {
   "cell_type": "code",
   "execution_count": 97,
   "metadata": {},
   "outputs": [
    {
     "data": {
      "image/png": "[encoded data removed]",
      "text/plain": [
       "<Figure size 1000x700 with 1 Axes>"
      ]
     },
     "metadata": {},
     "output_type": "display_data"
    }
   ],
   "source": [
    "# Plot Error\n",
    "plt.plot(1 + np.arange(100), model_hist.history[\"loss\"], marker=\"o\")\n",
    "\n",
    "plt.xlabel(\"epoch\")\n",
    "plt.ylabel(\"loss\")\n",
    "plt.show()"
   ]
  },
  {
   "attachments": {},
   "cell_type": "markdown",
   "metadata": {},
   "source": [
    "pada data train"
   ]
  },
  {
   "cell_type": "code",
   "execution_count": 98,
   "metadata": {},
   "outputs": [
    {
     "name": "stdout",
     "output_type": "stream",
     "text": [
      "500/500 [==============================] - 0s 819us/step\n"
     ]
    },
    {
     "data": {
      "text/plain": [
       "array([[0.5243161 ],\n",
       "       [0.1507151 ],\n",
       "       [0.75549775],\n",
       "       ...,\n",
       "       [0.86787176],\n",
       "       [0.8511265 ],\n",
       "       [0.8514291 ]], dtype=float32)"
      ]
     },
     "execution_count": 98,
     "metadata": {},
     "output_type": "execute_result"
    }
   ],
   "source": [
    "# Prediksi\n",
    "y_pred_proba_train = model.predict(X_train_clean)\n",
    "y_pred_proba_train"
   ]
  },
  {
   "cell_type": "code",
   "execution_count": 99,
   "metadata": {},
   "outputs": [],
   "source": [
    "# Buat prediksi\n",
    "thresh = 0.5\n",
    "\n",
    "y_pred_train = (y_pred_proba_train > thresh).astype(\"int\")"
   ]
  },
  {
   "attachments": {},
   "cell_type": "markdown",
   "metadata": {},
   "source": [
    "pada data test"
   ]
  },
  {
   "cell_type": "code",
   "execution_count": 100,
   "metadata": {},
   "outputs": [
    {
     "name": "stdout",
     "output_type": "stream",
     "text": [
      "51/75 [===================>..........] - ETA: 0s"
     ]
    },
    {
     "name": "stdout",
     "output_type": "stream",
     "text": [
      "75/75 [==============================] - 0s 1ms/step\n"
     ]
    },
    {
     "data": {
      "text/plain": [
       "array([[0.32211092],\n",
       "       [0.91277075],\n",
       "       [0.04322984],\n",
       "       ...,\n",
       "       [0.03980207],\n",
       "       [0.04344042],\n",
       "       [0.23429234]], dtype=float32)"
      ]
     },
     "execution_count": 100,
     "metadata": {},
     "output_type": "execute_result"
    }
   ],
   "source": [
    "# Prediksi\n",
    "y_pred_proba_test = model.predict(X_test_clean)\n",
    "y_pred_proba_test"
   ]
  },
  {
   "cell_type": "code",
   "execution_count": 101,
   "metadata": {},
   "outputs": [],
   "source": [
    "# Buat prediksi\n",
    "y_pred_test = (y_pred_proba_test > thresh).astype(\"int\")"
   ]
  },
  {
   "attachments": {},
   "cell_type": "markdown",
   "metadata": {},
   "source": [
    "cek performa\n",
    "\n",
    "pada data train"
   ]
  },
  {
   "cell_type": "code",
   "execution_count": 102,
   "metadata": {},
   "outputs": [
    {
     "data": {
      "text/plain": [
       "array([[7013,  986],\n",
       "       [ 463, 7536]], dtype=int64)"
      ]
     },
     "execution_count": 102,
     "metadata": {},
     "output_type": "execute_result"
    }
   ],
   "source": [
    "# Tampilkan confusion matrix\n",
    "confusion_matrix(y_true = y_train,\n",
    "                 y_pred = y_pred_train)"
   ]
  },
  {
   "cell_type": "code",
   "execution_count": 103,
   "metadata": {},
   "outputs": [
    {
     "data": {
      "text/plain": [
       "0.909426178272284"
      ]
     },
     "execution_count": 103,
     "metadata": {},
     "output_type": "execute_result"
    }
   ],
   "source": [
    "# Tampilkan score\n",
    "accuracy_score(y_true = y_train,\n",
    "               y_pred = y_pred_train)"
   ]
  },
  {
   "cell_type": "code",
   "execution_count": 104,
   "metadata": {},
   "outputs": [
    {
     "name": "stdout",
     "output_type": "stream",
     "text": [
      "              precision    recall  f1-score   support\n",
      "\n",
      "    stay (0)       0.94      0.88      0.91      7999\n",
      "    left (1)       0.88      0.94      0.91      7999\n",
      "\n",
      "    accuracy                           0.91     15998\n",
      "   macro avg       0.91      0.91      0.91     15998\n",
      "weighted avg       0.91      0.91      0.91     15998\n",
      "\n"
     ]
    }
   ],
   "source": [
    "# Tampilkan score\n",
    "print(classification_report(y_true = y_train,\n",
    "                            y_pred = y_pred_train,\n",
    "                            target_names = [\"stay (0)\", \"left (1)\"]))"
   ]
  },
  {
   "cell_type": "code",
   "execution_count": 105,
   "metadata": {},
   "outputs": [
    {
     "data": {
      "image/png": "[encoded data removed]",
      "text/plain": [
       "<Figure size 1000x700 with 1 Axes>"
      ]
     },
     "metadata": {},
     "output_type": "display_data"
    }
   ],
   "source": [
    "# ROC Curve\n",
    "fpr_lr, tpr_lr, threshold_lr = roc_curve(y_train,\n",
    "                                         y_pred_proba_train)\n",
    "roc_auc_lr = auc(fpr_lr, tpr_lr)\n",
    "\n",
    "plt.title('Receiver Operating Characteristic')\n",
    "plt.plot(fpr_lr, tpr_lr, 'b', label = 'AUC = %0.2f' % roc_auc_lr)\n",
    "plt.legend(loc = 'lower right')\n",
    "plt.plot([0, 1], [0, 1],'r--')\n",
    "plt.xlim([0, 1])\n",
    "plt.ylim([0, 1])\n",
    "plt.ylabel('True Positive Rate')\n",
    "plt.xlabel('False Positive Rate')\n",
    "plt.show()"
   ]
  },
  {
   "attachments": {},
   "cell_type": "markdown",
   "metadata": {},
   "source": [
    "pada data test"
   ]
  },
  {
   "cell_type": "code",
   "execution_count": 106,
   "metadata": {},
   "outputs": [
    {
     "data": {
      "text/plain": [
       "array([[1736,  265],\n",
       "       [  38,  360]], dtype=int64)"
      ]
     },
     "execution_count": 106,
     "metadata": {},
     "output_type": "execute_result"
    }
   ],
   "source": [
    "# Tampilkan confusion matrix\n",
    "confusion_matrix(y_true = y_test,\n",
    "                 y_pred = y_pred_test)"
   ]
  },
  {
   "cell_type": "code",
   "execution_count": 107,
   "metadata": {},
   "outputs": [
    {
     "data": {
      "text/plain": [
       "0.873697373905794"
      ]
     },
     "execution_count": 107,
     "metadata": {},
     "output_type": "execute_result"
    }
   ],
   "source": [
    "# Tampilkan score\n",
    "accuracy_score(y_true = y_test,\n",
    "               y_pred = y_pred_test)"
   ]
  },
  {
   "cell_type": "code",
   "execution_count": 108,
   "metadata": {},
   "outputs": [
    {
     "name": "stdout",
     "output_type": "stream",
     "text": [
      "              precision    recall  f1-score   support\n",
      "\n",
      "    stay (0)       0.98      0.87      0.92      2001\n",
      "    left (1)       0.58      0.90      0.70       398\n",
      "\n",
      "    accuracy                           0.87      2399\n",
      "   macro avg       0.78      0.89      0.81      2399\n",
      "weighted avg       0.91      0.87      0.88      2399\n",
      "\n"
     ]
    }
   ],
   "source": [
    "# Tampilkan score\n",
    "print(classification_report(y_true = y_test,\n",
    "                            y_pred = y_pred_test,\n",
    "                            target_names = [\"stay (0)\", \"left (1)\"]))"
   ]
  },
  {
   "attachments": {},
   "cell_type": "markdown",
   "metadata": {},
   "source": [
    "- Recall bisa dinaikan hingga 88%"
   ]
  },
  {
   "cell_type": "code",
   "execution_count": 109,
   "metadata": {},
   "outputs": [
    {
     "data": {
      "image/png": "[encoded data removed]",
      "text/plain": [
       "<Figure size 1000x700 with 1 Axes>"
      ]
     },
     "metadata": {},
     "output_type": "display_data"
    }
   ],
   "source": [
    "# ROC Curve\n",
    "fpr_lr, tpr_lr, threshold_lr = roc_curve(y_test,\n",
    "                                         y_pred_proba_test)\n",
    "roc_auc_lr = auc(fpr_lr, tpr_lr)\n",
    "\n",
    "plt.title('Receiver Operating Characteristic')\n",
    "plt.plot(fpr_lr, tpr_lr, 'b', label = 'AUC = %0.2f' % roc_auc_lr)\n",
    "plt.legend(loc = 'lower right')\n",
    "plt.plot([0, 1], [0, 1],'r--')\n",
    "plt.xlim([0, 1])\n",
    "plt.ylim([0, 1])\n",
    "plt.ylabel('True Positive Rate')\n",
    "plt.xlabel('False Positive Rate')\n",
    "plt.show()"
   ]
  }
 ],
 "metadata": {
  "kernelspec": {
   "display_name": "base",
   "language": "python",
   "name": "python3"
  },
  "language_info": {
   "codemirror_mode": {
    "name": "ipython",
    "version": 3
   },
   "file_extension": ".py",
   "mimetype": "text/x-python",
   "name": "python",
   "nbconvert_exporter": "python",
   "pygments_lexer": "ipython3",
   "version": "3.10.11"
  },
  "orig_nbformat": 4
 },
 "nbformat": 4,
 "nbformat_minor": 2
}
