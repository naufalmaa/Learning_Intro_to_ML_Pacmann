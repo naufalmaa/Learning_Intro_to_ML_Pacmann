{
 "cells": [
  {
   "cell_type": "code",
   "execution_count": 1,
   "metadata": {},
   "outputs": [],
   "source": [
    "import pandas as pd\n",
    "import numpy as np\n",
    "\n",
    "import matplotlib.pyplot as plt\n",
    "import seaborn as sns\n",
    "\n",
    "plt.rcParams[\"figure.figsize\"] = (10, 7)\n",
    "plt.rcParams[\"font.size\"] = 16"
   ]
  },
  {
   "attachments": {},
   "cell_type": "markdown",
   "metadata": {},
   "source": [
    "## **Prediksi karyawan left (1) atau tidak (0)**\n",
    "\n",
    "*Cek Resiko dengan Sederhana*\n",
    "\n",
    "- Salah prediksi karyawan stay - diprediksi stay, padahal resign/left\n",
    "  - Resource bisa berkurang sehingga produktifitas menurun\n",
    "  - Mengeluarkan cost untuk pesangon karyawan\n",
    "  - Ada kemungkinan beberapa target tidak terkejar\n",
    "\n",
    "- Salah prediksi karyawan left - diprediksi left, padahal stay\n",
    "  - Sudah membuka job opening lebih dulu, HR bisa buang-buang waktu.\n",
    "  - Mungkin melakukan restrukturisasi tim.\n",
    "\n",
    "---\n",
    "- Lebih besar resiko dari salah prediksi karyawan stay\n",
    "- Apabila stay = negative (0) & left = positive (1)\n",
    "- Maka kita ingin memperkecil nilai False Negative\n",
    "- Dengan kata lain memperbesar nilai Recall\n",
    "\n",
    "$$\n",
    "\\text{Recall} = \\cfrac{TP}{TP + FN}\n",
    "$$\n",
    "\n",
    "catatan: apabila ingin mengurangi kasus left (positive)nya, maka bisa dikurangi *Precision*-nya\n",
    "\n",
    "$$\n",
    "\\text{Precision} = \\cfrac{TP}{TP + FP}\n",
    "$$"
   ]
  },
  {
   "cell_type": "code",
   "execution_count": 2,
   "metadata": {},
   "outputs": [],
   "source": [
    "# load data\n",
    "\n",
    "def importData(filename):\n",
    "    # Read Data\n",
    "    data = pd.read_csv(filename)\n",
    "    print(f\"shape awal                    : {data.shape}, (#observasi, #fitur)\")\n",
    "\n",
    "    # Drop duplicate\n",
    "    data = data.drop_duplicates()\n",
    "    print(f\"shape setelah drop duplikat   : {data.shape}, (#observasi, #fitur)\")\n",
    "\n",
    "    return data\n"
   ]
  },
  {
   "cell_type": "code",
   "execution_count": 3,
   "metadata": {},
   "outputs": [
    {
     "name": "stdout",
     "output_type": "stream",
     "text": [
      "shape awal                    : (14999, 10), (#observasi, #fitur)\n",
      "shape setelah drop duplikat   : (11991, 10), (#observasi, #fitur)\n"
     ]
    },
    {
     "data": {
      "text/html": [
       "<div>\n",
       "<style scoped>\n",
       "    .dataframe tbody tr th:only-of-type {\n",
       "        vertical-align: middle;\n",
       "    }\n",
       "\n",
       "    .dataframe tbody tr th {\n",
       "        vertical-align: top;\n",
       "    }\n",
       "\n",
       "    .dataframe thead th {\n",
       "        text-align: right;\n",
       "    }\n",
       "</style>\n",
       "<table border=\"1\" class=\"dataframe\">\n",
       "  <thead>\n",
       "    <tr style=\"text-align: right;\">\n",
       "      <th></th>\n",
       "      <th>satisfaction_level</th>\n",
       "      <th>last_evaluation</th>\n",
       "      <th>number_project</th>\n",
       "      <th>average_montly_hours</th>\n",
       "      <th>time_spend_company</th>\n",
       "      <th>Work_accident</th>\n",
       "      <th>left</th>\n",
       "      <th>promotion_last_5years</th>\n",
       "      <th>division</th>\n",
       "      <th>salary</th>\n",
       "    </tr>\n",
       "  </thead>\n",
       "  <tbody>\n",
       "    <tr>\n",
       "      <th>0</th>\n",
       "      <td>0.38</td>\n",
       "      <td>0.53</td>\n",
       "      <td>2</td>\n",
       "      <td>157</td>\n",
       "      <td>3</td>\n",
       "      <td>0</td>\n",
       "      <td>1</td>\n",
       "      <td>0</td>\n",
       "      <td>sales</td>\n",
       "      <td>low</td>\n",
       "    </tr>\n",
       "    <tr>\n",
       "      <th>1</th>\n",
       "      <td>0.80</td>\n",
       "      <td>0.86</td>\n",
       "      <td>5</td>\n",
       "      <td>262</td>\n",
       "      <td>6</td>\n",
       "      <td>0</td>\n",
       "      <td>1</td>\n",
       "      <td>0</td>\n",
       "      <td>sales</td>\n",
       "      <td>medium</td>\n",
       "    </tr>\n",
       "    <tr>\n",
       "      <th>2</th>\n",
       "      <td>0.11</td>\n",
       "      <td>0.88</td>\n",
       "      <td>7</td>\n",
       "      <td>272</td>\n",
       "      <td>4</td>\n",
       "      <td>0</td>\n",
       "      <td>1</td>\n",
       "      <td>0</td>\n",
       "      <td>sales</td>\n",
       "      <td>medium</td>\n",
       "    </tr>\n",
       "    <tr>\n",
       "      <th>3</th>\n",
       "      <td>0.72</td>\n",
       "      <td>0.87</td>\n",
       "      <td>5</td>\n",
       "      <td>223</td>\n",
       "      <td>5</td>\n",
       "      <td>0</td>\n",
       "      <td>1</td>\n",
       "      <td>0</td>\n",
       "      <td>sales</td>\n",
       "      <td>low</td>\n",
       "    </tr>\n",
       "    <tr>\n",
       "      <th>4</th>\n",
       "      <td>0.37</td>\n",
       "      <td>0.52</td>\n",
       "      <td>2</td>\n",
       "      <td>159</td>\n",
       "      <td>3</td>\n",
       "      <td>0</td>\n",
       "      <td>1</td>\n",
       "      <td>0</td>\n",
       "      <td>sales</td>\n",
       "      <td>low</td>\n",
       "    </tr>\n",
       "  </tbody>\n",
       "</table>\n",
       "</div>"
      ],
      "text/plain": [
       "   satisfaction_level  last_evaluation  number_project  average_montly_hours  \\\n",
       "0                0.38             0.53               2                   157   \n",
       "1                0.80             0.86               5                   262   \n",
       "2                0.11             0.88               7                   272   \n",
       "3                0.72             0.87               5                   223   \n",
       "4                0.37             0.52               2                   159   \n",
       "\n",
       "   time_spend_company  Work_accident  left  promotion_last_5years division  \\\n",
       "0                   3              0     1                      0    sales   \n",
       "1                   6              0     1                      0    sales   \n",
       "2                   4              0     1                      0    sales   \n",
       "3                   5              0     1                      0    sales   \n",
       "4                   3              0     1                      0    sales   \n",
       "\n",
       "   salary  \n",
       "0     low  \n",
       "1  medium  \n",
       "2  medium  \n",
       "3     low  \n",
       "4     low  "
      ]
     },
     "execution_count": 3,
     "metadata": {},
     "output_type": "execute_result"
    }
   ],
   "source": [
    "filename = \"data/data_hr.csv\"\n",
    "data = importData(filename = filename)\n",
    "\n",
    "data.head()"
   ]
  },
  {
   "cell_type": "code",
   "execution_count": 4,
   "metadata": {},
   "outputs": [],
   "source": [
    "def splitInputOutput(data, target_column):\n",
    "    X = data.drop(columns = target_column)\n",
    "    y = data[target_column]\n",
    "\n",
    "    return X, y"
   ]
  },
  {
   "cell_type": "code",
   "execution_count": 5,
   "metadata": {},
   "outputs": [
    {
     "data": {
      "text/plain": [
       "(<bound method NDFrame.head of        satisfaction_level  last_evaluation  number_project  \\\n",
       " 0                    0.38             0.53               2   \n",
       " 1                    0.80             0.86               5   \n",
       " 2                    0.11             0.88               7   \n",
       " 3                    0.72             0.87               5   \n",
       " 4                    0.37             0.52               2   \n",
       " ...                   ...              ...             ...   \n",
       " 11995                0.90             0.55               3   \n",
       " 11996                0.74             0.95               5   \n",
       " 11997                0.85             0.54               3   \n",
       " 11998                0.33             0.65               3   \n",
       " 11999                0.50             0.73               4   \n",
       " \n",
       "        average_montly_hours  time_spend_company  Work_accident  \\\n",
       " 0                       157                   3              0   \n",
       " 1                       262                   6              0   \n",
       " 2                       272                   4              0   \n",
       " 3                       223                   5              0   \n",
       " 4                       159                   3              0   \n",
       " ...                     ...                 ...            ...   \n",
       " 11995                   259                  10              1   \n",
       " 11996                   266                  10              0   \n",
       " 11997                   185                  10              0   \n",
       " 11998                   172                  10              0   \n",
       " 11999                   180                   3              0   \n",
       " \n",
       "        promotion_last_5years    division  salary  \n",
       " 0                          0       sales     low  \n",
       " 1                          0       sales  medium  \n",
       " 2                          0       sales  medium  \n",
       " 3                          0       sales     low  \n",
       " 4                          0       sales     low  \n",
       " ...                      ...         ...     ...  \n",
       " 11995                      1  management    high  \n",
       " 11996                      1  management    high  \n",
       " 11997                      1  management    high  \n",
       " 11998                      1   marketing    high  \n",
       " 11999                      0          IT     low  \n",
       " \n",
       " [11991 rows x 9 columns]>,\n",
       " <bound method NDFrame.head of 0        1\n",
       " 1        1\n",
       " 2        1\n",
       " 3        1\n",
       " 4        1\n",
       "         ..\n",
       " 11995    0\n",
       " 11996    0\n",
       " 11997    0\n",
       " 11998    0\n",
       " 11999    0\n",
       " Name: left, Length: 11991, dtype: int64>)"
      ]
     },
     "execution_count": 5,
     "metadata": {},
     "output_type": "execute_result"
    }
   ],
   "source": [
    "target_column = \"left\"\n",
    "X, y = splitInputOutput(data = data,\n",
    "                        target_column = target_column)\n",
    "\n",
    "X.head, y.head"
   ]
  },
  {
   "attachments": {},
   "cell_type": "markdown",
   "metadata": {},
   "source": [
    "Split train-test"
   ]
  },
  {
   "cell_type": "code",
   "execution_count": 6,
   "metadata": {},
   "outputs": [
    {
     "data": {
      "text/plain": [
       "left\n",
       "0    0.833959\n",
       "1    0.166041\n",
       "Name: proportion, dtype: float64"
      ]
     },
     "execution_count": 6,
     "metadata": {},
     "output_type": "execute_result"
    }
   ],
   "source": [
    "# Cek kondisi proporsi kelas target\n",
    "y.value_counts(normalize = True)\n",
    "\n",
    "# Tidak balance"
   ]
  },
  {
   "cell_type": "code",
   "execution_count": 20,
   "metadata": {},
   "outputs": [
    {
     "ename": "ModuleNotFoundError",
     "evalue": "No module named 'sklearn'",
     "output_type": "error",
     "traceback": [
      "\u001b[1;31m---------------------------------------------------------------------------\u001b[0m",
      "\u001b[1;31mModuleNotFoundError\u001b[0m                       Traceback (most recent call last)",
      "Cell \u001b[1;32mIn[20], line 1\u001b[0m\n\u001b[1;32m----> 1\u001b[0m \u001b[39mfrom\u001b[39;00m \u001b[39msklearn\u001b[39;00m\u001b[39m.\u001b[39;00m\u001b[39mmodel_selection\u001b[39;00m \u001b[39mimport\u001b[39;00m train_test_split\n\u001b[0;32m      3\u001b[0m X_train, X_test, y_train, y_test \u001b[39m=\u001b[39m train_test_split(X, y,\n\u001b[0;32m      4\u001b[0m                                                     stratify \u001b[39m=\u001b[39m y,\n\u001b[0;32m      5\u001b[0m                                                     test_size \u001b[39m=\u001b[39m \u001b[39m0.2\u001b[39m,\n\u001b[0;32m      6\u001b[0m                                                     random_state \u001b[39m=\u001b[39m \u001b[39m123\u001b[39m)\n\u001b[0;32m      8\u001b[0m X_train\u001b[39m.\u001b[39mshape, X_test\u001b[39m.\u001b[39mshape, y_train\u001b[39m.\u001b[39mshape, y_test\u001b[39m.\u001b[39mshape\n",
      "\u001b[1;31mModuleNotFoundError\u001b[0m: No module named 'sklearn'"
     ]
    }
   ],
   "source": [
    "from sklearn.model_selection import train_test_split\n",
    "\n",
    "X_train, X_test, y_train, y_test = train_test_split(X, y,\n",
    "                                                    stratify = y,\n",
    "                                                    test_size = 0.2,\n",
    "                                                    random_state = 123)\n",
    "\n",
    "X_train.shape, X_test.shape, y_train.shape, y_test.shape"
   ]
  },
  {
   "attachments": {},
   "cell_type": "markdown",
   "metadata": {},
   "source": [
    "Splitting Categorical and Numerical Column"
   ]
  },
  {
   "cell_type": "code",
   "execution_count": null,
   "metadata": {},
   "outputs": [
    {
     "data": {
      "text/html": [
       "<div>\n",
       "<style scoped>\n",
       "    .dataframe tbody tr th:only-of-type {\n",
       "        vertical-align: middle;\n",
       "    }\n",
       "\n",
       "    .dataframe tbody tr th {\n",
       "        vertical-align: top;\n",
       "    }\n",
       "\n",
       "    .dataframe thead th {\n",
       "        text-align: right;\n",
       "    }\n",
       "</style>\n",
       "<table border=\"1\" class=\"dataframe\">\n",
       "  <thead>\n",
       "    <tr style=\"text-align: right;\">\n",
       "      <th></th>\n",
       "      <th>satisfaction_level</th>\n",
       "      <th>last_evaluation</th>\n",
       "      <th>number_project</th>\n",
       "      <th>average_montly_hours</th>\n",
       "      <th>time_spend_company</th>\n",
       "      <th>Work_accident</th>\n",
       "      <th>promotion_last_5years</th>\n",
       "      <th>division</th>\n",
       "      <th>salary</th>\n",
       "    </tr>\n",
       "  </thead>\n",
       "  <tbody>\n",
       "    <tr>\n",
       "      <th>9492</th>\n",
       "      <td>0.44</td>\n",
       "      <td>0.56</td>\n",
       "      <td>3</td>\n",
       "      <td>123</td>\n",
       "      <td>3</td>\n",
       "      <td>0</td>\n",
       "      <td>0</td>\n",
       "      <td>accounting</td>\n",
       "      <td>medium</td>\n",
       "    </tr>\n",
       "    <tr>\n",
       "      <th>11555</th>\n",
       "      <td>0.98</td>\n",
       "      <td>0.44</td>\n",
       "      <td>4</td>\n",
       "      <td>154</td>\n",
       "      <td>6</td>\n",
       "      <td>1</td>\n",
       "      <td>0</td>\n",
       "      <td>sales</td>\n",
       "      <td>medium</td>\n",
       "    </tr>\n",
       "    <tr>\n",
       "      <th>11301</th>\n",
       "      <td>0.76</td>\n",
       "      <td>0.99</td>\n",
       "      <td>3</td>\n",
       "      <td>133</td>\n",
       "      <td>4</td>\n",
       "      <td>0</td>\n",
       "      <td>0</td>\n",
       "      <td>sales</td>\n",
       "      <td>low</td>\n",
       "    </tr>\n",
       "    <tr>\n",
       "      <th>5578</th>\n",
       "      <td>0.47</td>\n",
       "      <td>0.55</td>\n",
       "      <td>2</td>\n",
       "      <td>156</td>\n",
       "      <td>2</td>\n",
       "      <td>0</td>\n",
       "      <td>0</td>\n",
       "      <td>management</td>\n",
       "      <td>medium</td>\n",
       "    </tr>\n",
       "    <tr>\n",
       "      <th>6241</th>\n",
       "      <td>0.84</td>\n",
       "      <td>0.68</td>\n",
       "      <td>4</td>\n",
       "      <td>151</td>\n",
       "      <td>2</td>\n",
       "      <td>0</td>\n",
       "      <td>0</td>\n",
       "      <td>technical</td>\n",
       "      <td>low</td>\n",
       "    </tr>\n",
       "  </tbody>\n",
       "</table>\n",
       "</div>"
      ],
      "text/plain": [
       "       satisfaction_level  last_evaluation  number_project  \\\n",
       "9492                 0.44             0.56               3   \n",
       "11555                0.98             0.44               4   \n",
       "11301                0.76             0.99               3   \n",
       "5578                 0.47             0.55               2   \n",
       "6241                 0.84             0.68               4   \n",
       "\n",
       "       average_montly_hours  time_spend_company  Work_accident  \\\n",
       "9492                    123                   3              0   \n",
       "11555                   154                   6              1   \n",
       "11301                   133                   4              0   \n",
       "5578                    156                   2              0   \n",
       "6241                    151                   2              0   \n",
       "\n",
       "       promotion_last_5years    division  salary  \n",
       "9492                       0  accounting  medium  \n",
       "11555                      0       sales  medium  \n",
       "11301                      0       sales     low  \n",
       "5578                       0  management  medium  \n",
       "6241                       0   technical     low  "
      ]
     },
     "execution_count": 8,
     "metadata": {},
     "output_type": "execute_result"
    }
   ],
   "source": [
    "X_train.head()"
   ]
  },
  {
   "cell_type": "code",
   "execution_count": null,
   "metadata": {},
   "outputs": [
    {
     "data": {
      "text/plain": [
       "(['Work_accident', 'promotion_last_5years', 'division', 'salary'],\n",
       " ['average_montly_hours',\n",
       "  'satisfaction_level',\n",
       "  'last_evaluation',\n",
       "  'time_spend_company',\n",
       "  'number_project'])"
      ]
     },
     "execution_count": 9,
     "metadata": {},
     "output_type": "execute_result"
    }
   ],
   "source": [
    "categorical_col = [\"Work_accident\", \"promotion_last_5years\", \"division\", \"salary\"]\n",
    "numerical_col = list(set(X_train.columns) - set(categorical_col))\n",
    "\n",
    "categorical_col, numerical_col"
   ]
  },
  {
   "cell_type": "code",
   "execution_count": null,
   "metadata": {},
   "outputs": [],
   "source": [
    "def splitNumCat(data, num_col, cat_col):\n",
    "    data_num = data[num_col]\n",
    "    data_cat = data[cat_col]\n",
    "\n",
    "    return data_num, data_cat\n",
    "    "
   ]
  },
  {
   "cell_type": "code",
   "execution_count": null,
   "metadata": {},
   "outputs": [],
   "source": [
    "X_train_num, X_train_cat = splitNumCat(data = X_train,\n",
    "                                       num_col = numerical_col,\n",
    "                                       cat_col = categorical_col)"
   ]
  },
  {
   "attachments": {},
   "cell_type": "markdown",
   "metadata": {},
   "source": [
    "Handling Numerical Data"
   ]
  },
  {
   "cell_type": "code",
   "execution_count": null,
   "metadata": {},
   "outputs": [
    {
     "data": {
      "text/plain": [
       "average_montly_hours    False\n",
       "satisfaction_level      False\n",
       "last_evaluation         False\n",
       "time_spend_company      False\n",
       "number_project          False\n",
       "dtype: bool"
      ]
     },
     "execution_count": 12,
     "metadata": {},
     "output_type": "execute_result"
    }
   ],
   "source": [
    "# Check missing value\n",
    "X_train_num.isna().any()"
   ]
  },
  {
   "cell_type": "code",
   "execution_count": null,
   "metadata": {},
   "outputs": [],
   "source": [
    "# Buat imputer untuk jaga-jaga apabila di data test ada yang kosong\n",
    "from sklearn.impute import SimpleImputer\n",
    "\n",
    "def imputerNum(data, imputer = None):\n",
    "    if imputer == None:\n",
    "        # Buat imputer\n",
    "        imputer = SimpleImputer(missing_values = np.nan,\n",
    "                                strategy = \"median\")\n",
    "        imputer.fit(data)\n",
    "\n",
    "    # Transform data dengan imputer\n",
    "    data_imputed = imputer.transform(data)\n",
    "    data_imputed = pd.DataFrame(data_imputed,\n",
    "                                index = data.index,\n",
    "                                columns = data.columns)\n",
    "    \n",
    "    return data_imputed, imputer\n"
   ]
  },
  {
   "cell_type": "code",
   "execution_count": null,
   "metadata": {},
   "outputs": [],
   "source": [
    "X_train_num_imputed, imputer_num = imputerNum(data = X_train_num)"
   ]
  },
  {
   "cell_type": "code",
   "execution_count": null,
   "metadata": {},
   "outputs": [
    {
     "data": {
      "text/html": [
       "<div>\n",
       "<style scoped>\n",
       "    .dataframe tbody tr th:only-of-type {\n",
       "        vertical-align: middle;\n",
       "    }\n",
       "\n",
       "    .dataframe tbody tr th {\n",
       "        vertical-align: top;\n",
       "    }\n",
       "\n",
       "    .dataframe thead th {\n",
       "        text-align: right;\n",
       "    }\n",
       "</style>\n",
       "<table border=\"1\" class=\"dataframe\">\n",
       "  <thead>\n",
       "    <tr style=\"text-align: right;\">\n",
       "      <th></th>\n",
       "      <th>average_montly_hours</th>\n",
       "      <th>satisfaction_level</th>\n",
       "      <th>last_evaluation</th>\n",
       "      <th>time_spend_company</th>\n",
       "      <th>number_project</th>\n",
       "    </tr>\n",
       "  </thead>\n",
       "  <tbody>\n",
       "    <tr>\n",
       "      <th>9492</th>\n",
       "      <td>123.0</td>\n",
       "      <td>0.44</td>\n",
       "      <td>0.56</td>\n",
       "      <td>3.0</td>\n",
       "      <td>3.0</td>\n",
       "    </tr>\n",
       "    <tr>\n",
       "      <th>11555</th>\n",
       "      <td>154.0</td>\n",
       "      <td>0.98</td>\n",
       "      <td>0.44</td>\n",
       "      <td>6.0</td>\n",
       "      <td>4.0</td>\n",
       "    </tr>\n",
       "    <tr>\n",
       "      <th>11301</th>\n",
       "      <td>133.0</td>\n",
       "      <td>0.76</td>\n",
       "      <td>0.99</td>\n",
       "      <td>4.0</td>\n",
       "      <td>3.0</td>\n",
       "    </tr>\n",
       "    <tr>\n",
       "      <th>5578</th>\n",
       "      <td>156.0</td>\n",
       "      <td>0.47</td>\n",
       "      <td>0.55</td>\n",
       "      <td>2.0</td>\n",
       "      <td>2.0</td>\n",
       "    </tr>\n",
       "    <tr>\n",
       "      <th>6241</th>\n",
       "      <td>151.0</td>\n",
       "      <td>0.84</td>\n",
       "      <td>0.68</td>\n",
       "      <td>2.0</td>\n",
       "      <td>4.0</td>\n",
       "    </tr>\n",
       "  </tbody>\n",
       "</table>\n",
       "</div>"
      ],
      "text/plain": [
       "       average_montly_hours  satisfaction_level  last_evaluation  \\\n",
       "9492                  123.0                0.44             0.56   \n",
       "11555                 154.0                0.98             0.44   \n",
       "11301                 133.0                0.76             0.99   \n",
       "5578                  156.0                0.47             0.55   \n",
       "6241                  151.0                0.84             0.68   \n",
       "\n",
       "       time_spend_company  number_project  \n",
       "9492                  3.0             3.0  \n",
       "11555                 6.0             4.0  \n",
       "11301                 4.0             3.0  \n",
       "5578                  2.0             2.0  \n",
       "6241                  2.0             4.0  "
      ]
     },
     "execution_count": 15,
     "metadata": {},
     "output_type": "execute_result"
    }
   ],
   "source": [
    "X_train_num_imputed.head()"
   ]
  },
  {
   "attachments": {},
   "cell_type": "markdown",
   "metadata": {},
   "source": [
    "Handling Categorical Data"
   ]
  },
  {
   "cell_type": "code",
   "execution_count": null,
   "metadata": {},
   "outputs": [
    {
     "data": {
      "text/plain": [
       "Work_accident            False\n",
       "promotion_last_5years    False\n",
       "division                 False\n",
       "salary                   False\n",
       "dtype: bool"
      ]
     },
     "execution_count": 16,
     "metadata": {},
     "output_type": "execute_result"
    }
   ],
   "source": [
    "# Check missing value\n",
    "X_train_cat.isna().any()"
   ]
  },
  {
   "cell_type": "code",
   "execution_count": null,
   "metadata": {},
   "outputs": [],
   "source": [
    "# Buat imputer untuk jaga-jaga apabila di data test ada yang kosong\n",
    "def imputerCat(data, imputer = None):\n",
    "    if imputer == None:\n",
    "        # Buat imputer\n",
    "        imputer = SimpleImputer(missing_values = np.nan,\n",
    "                                strategy = \"constant\",\n",
    "                                fill_value = \"UNKNOWN\")\n",
    "        imputer.fit(data)\n",
    "\n",
    "    # Transform data dengan imputer\n",
    "    data_imputed = imputer.transform(data)\n",
    "    data_imputed = pd.DataFrame(data_imputed,\n",
    "                                index = data.index,\n",
    "                                columns = data.columns)\n",
    "    \n",
    "    return data_imputed, imputer\n"
   ]
  },
  {
   "cell_type": "code",
   "execution_count": null,
   "metadata": {},
   "outputs": [],
   "source": [
    "X_train_cat_imputed, imputer_cat = imputerCat(data = X_train_cat)"
   ]
  },
  {
   "cell_type": "code",
   "execution_count": null,
   "metadata": {},
   "outputs": [
    {
     "data": {
      "text/html": [
       "<div>\n",
       "<style scoped>\n",
       "    .dataframe tbody tr th:only-of-type {\n",
       "        vertical-align: middle;\n",
       "    }\n",
       "\n",
       "    .dataframe tbody tr th {\n",
       "        vertical-align: top;\n",
       "    }\n",
       "\n",
       "    .dataframe thead th {\n",
       "        text-align: right;\n",
       "    }\n",
       "</style>\n",
       "<table border=\"1\" class=\"dataframe\">\n",
       "  <thead>\n",
       "    <tr style=\"text-align: right;\">\n",
       "      <th></th>\n",
       "      <th>Work_accident</th>\n",
       "      <th>promotion_last_5years</th>\n",
       "      <th>division</th>\n",
       "      <th>salary</th>\n",
       "    </tr>\n",
       "  </thead>\n",
       "  <tbody>\n",
       "    <tr>\n",
       "      <th>9492</th>\n",
       "      <td>0</td>\n",
       "      <td>0</td>\n",
       "      <td>accounting</td>\n",
       "      <td>medium</td>\n",
       "    </tr>\n",
       "    <tr>\n",
       "      <th>11555</th>\n",
       "      <td>1</td>\n",
       "      <td>0</td>\n",
       "      <td>sales</td>\n",
       "      <td>medium</td>\n",
       "    </tr>\n",
       "    <tr>\n",
       "      <th>11301</th>\n",
       "      <td>0</td>\n",
       "      <td>0</td>\n",
       "      <td>sales</td>\n",
       "      <td>low</td>\n",
       "    </tr>\n",
       "    <tr>\n",
       "      <th>5578</th>\n",
       "      <td>0</td>\n",
       "      <td>0</td>\n",
       "      <td>management</td>\n",
       "      <td>medium</td>\n",
       "    </tr>\n",
       "    <tr>\n",
       "      <th>6241</th>\n",
       "      <td>0</td>\n",
       "      <td>0</td>\n",
       "      <td>technical</td>\n",
       "      <td>low</td>\n",
       "    </tr>\n",
       "  </tbody>\n",
       "</table>\n",
       "</div>"
      ],
      "text/plain": [
       "      Work_accident promotion_last_5years    division  salary\n",
       "9492              0                     0  accounting  medium\n",
       "11555             1                     0       sales  medium\n",
       "11301             0                     0       sales     low\n",
       "5578              0                     0  management  medium\n",
       "6241              0                     0   technical     low"
      ]
     },
     "execution_count": 19,
     "metadata": {},
     "output_type": "execute_result"
    }
   ],
   "source": [
    "X_train_cat_imputed.head()"
   ]
  },
  {
   "attachments": {},
   "cell_type": "markdown",
   "metadata": {},
   "source": [
    "One Hot Encoding Data"
   ]
  },
  {
   "cell_type": "code",
   "execution_count": null,
   "metadata": {},
   "outputs": [],
   "source": [
    "from sklearn.preprocessing import OneHotEncoder\n",
    "\n",
    "def encoderCat(data, encoder_col = None, encoder = None):\n",
    "    if encoder == None:\n",
    "        # Buat objek\n",
    "        encoder = OneHotEncoder(handle_unknown = \"ignore\",\n",
    "                                drop = \"if_binary\")\n",
    "        encoder.fit(data)\n",
    "        encoder_col = encoder.get_feature_names_out(data.columns)\n",
    "\n",
    "    # Transform data\n",
    "    data_encoded = encoder.transform(data).toarray()\n",
    "    data_encoded = pd.DataFrame(data_encoded,\n",
    "                                index = data.index,\n",
    "                                columns = encoder_col)\n",
    "    \n",
    "    return data_encoded, encoder_col, encoder\n"
   ]
  },
  {
   "cell_type": "code",
   "execution_count": null,
   "metadata": {},
   "outputs": [],
   "source": [
    "X_train_cat_encoded, encoder_col, encoder_OHE = encoderCat(data = X_train_cat_imputed)"
   ]
  },
  {
   "cell_type": "code",
   "execution_count": null,
   "metadata": {},
   "outputs": [
    {
     "data": {
      "text/html": [
       "<div>\n",
       "<style scoped>\n",
       "    .dataframe tbody tr th:only-of-type {\n",
       "        vertical-align: middle;\n",
       "    }\n",
       "\n",
       "    .dataframe tbody tr th {\n",
       "        vertical-align: top;\n",
       "    }\n",
       "\n",
       "    .dataframe thead th {\n",
       "        text-align: right;\n",
       "    }\n",
       "</style>\n",
       "<table border=\"1\" class=\"dataframe\">\n",
       "  <thead>\n",
       "    <tr style=\"text-align: right;\">\n",
       "      <th></th>\n",
       "      <th>9492</th>\n",
       "      <th>11555</th>\n",
       "      <th>11301</th>\n",
       "      <th>5578</th>\n",
       "      <th>6241</th>\n",
       "    </tr>\n",
       "  </thead>\n",
       "  <tbody>\n",
       "    <tr>\n",
       "      <th>Work_accident</th>\n",
       "      <td>0</td>\n",
       "      <td>1</td>\n",
       "      <td>0</td>\n",
       "      <td>0</td>\n",
       "      <td>0</td>\n",
       "    </tr>\n",
       "    <tr>\n",
       "      <th>promotion_last_5years</th>\n",
       "      <td>0</td>\n",
       "      <td>0</td>\n",
       "      <td>0</td>\n",
       "      <td>0</td>\n",
       "      <td>0</td>\n",
       "    </tr>\n",
       "    <tr>\n",
       "      <th>division</th>\n",
       "      <td>accounting</td>\n",
       "      <td>sales</td>\n",
       "      <td>sales</td>\n",
       "      <td>management</td>\n",
       "      <td>technical</td>\n",
       "    </tr>\n",
       "    <tr>\n",
       "      <th>salary</th>\n",
       "      <td>medium</td>\n",
       "      <td>medium</td>\n",
       "      <td>low</td>\n",
       "      <td>medium</td>\n",
       "      <td>low</td>\n",
       "    </tr>\n",
       "  </tbody>\n",
       "</table>\n",
       "</div>"
      ],
      "text/plain": [
       "                            9492    11555  11301       5578       6241 \n",
       "Work_accident                   0       1      0           0          0\n",
       "promotion_last_5years           0       0      0           0          0\n",
       "division               accounting   sales  sales  management  technical\n",
       "salary                     medium  medium    low      medium        low"
      ]
     },
     "execution_count": 22,
     "metadata": {},
     "output_type": "execute_result"
    }
   ],
   "source": [
    "X_train_cat_imputed.head().T"
   ]
  },
  {
   "cell_type": "code",
   "execution_count": null,
   "metadata": {},
   "outputs": [
    {
     "data": {
      "text/html": [
       "<div>\n",
       "<style scoped>\n",
       "    .dataframe tbody tr th:only-of-type {\n",
       "        vertical-align: middle;\n",
       "    }\n",
       "\n",
       "    .dataframe tbody tr th {\n",
       "        vertical-align: top;\n",
       "    }\n",
       "\n",
       "    .dataframe thead th {\n",
       "        text-align: right;\n",
       "    }\n",
       "</style>\n",
       "<table border=\"1\" class=\"dataframe\">\n",
       "  <thead>\n",
       "    <tr style=\"text-align: right;\">\n",
       "      <th></th>\n",
       "      <th>9492</th>\n",
       "      <th>11555</th>\n",
       "      <th>11301</th>\n",
       "      <th>5578</th>\n",
       "      <th>6241</th>\n",
       "    </tr>\n",
       "  </thead>\n",
       "  <tbody>\n",
       "    <tr>\n",
       "      <th>Work_accident_1</th>\n",
       "      <td>0.0</td>\n",
       "      <td>1.0</td>\n",
       "      <td>0.0</td>\n",
       "      <td>0.0</td>\n",
       "      <td>0.0</td>\n",
       "    </tr>\n",
       "    <tr>\n",
       "      <th>promotion_last_5years_1</th>\n",
       "      <td>0.0</td>\n",
       "      <td>0.0</td>\n",
       "      <td>0.0</td>\n",
       "      <td>0.0</td>\n",
       "      <td>0.0</td>\n",
       "    </tr>\n",
       "    <tr>\n",
       "      <th>division_IT</th>\n",
       "      <td>0.0</td>\n",
       "      <td>0.0</td>\n",
       "      <td>0.0</td>\n",
       "      <td>0.0</td>\n",
       "      <td>0.0</td>\n",
       "    </tr>\n",
       "    <tr>\n",
       "      <th>division_RandD</th>\n",
       "      <td>0.0</td>\n",
       "      <td>0.0</td>\n",
       "      <td>0.0</td>\n",
       "      <td>0.0</td>\n",
       "      <td>0.0</td>\n",
       "    </tr>\n",
       "    <tr>\n",
       "      <th>division_accounting</th>\n",
       "      <td>1.0</td>\n",
       "      <td>0.0</td>\n",
       "      <td>0.0</td>\n",
       "      <td>0.0</td>\n",
       "      <td>0.0</td>\n",
       "    </tr>\n",
       "    <tr>\n",
       "      <th>division_hr</th>\n",
       "      <td>0.0</td>\n",
       "      <td>0.0</td>\n",
       "      <td>0.0</td>\n",
       "      <td>0.0</td>\n",
       "      <td>0.0</td>\n",
       "    </tr>\n",
       "    <tr>\n",
       "      <th>division_management</th>\n",
       "      <td>0.0</td>\n",
       "      <td>0.0</td>\n",
       "      <td>0.0</td>\n",
       "      <td>1.0</td>\n",
       "      <td>0.0</td>\n",
       "    </tr>\n",
       "    <tr>\n",
       "      <th>division_marketing</th>\n",
       "      <td>0.0</td>\n",
       "      <td>0.0</td>\n",
       "      <td>0.0</td>\n",
       "      <td>0.0</td>\n",
       "      <td>0.0</td>\n",
       "    </tr>\n",
       "    <tr>\n",
       "      <th>division_product_mng</th>\n",
       "      <td>0.0</td>\n",
       "      <td>0.0</td>\n",
       "      <td>0.0</td>\n",
       "      <td>0.0</td>\n",
       "      <td>0.0</td>\n",
       "    </tr>\n",
       "    <tr>\n",
       "      <th>division_sales</th>\n",
       "      <td>0.0</td>\n",
       "      <td>1.0</td>\n",
       "      <td>1.0</td>\n",
       "      <td>0.0</td>\n",
       "      <td>0.0</td>\n",
       "    </tr>\n",
       "    <tr>\n",
       "      <th>division_support</th>\n",
       "      <td>0.0</td>\n",
       "      <td>0.0</td>\n",
       "      <td>0.0</td>\n",
       "      <td>0.0</td>\n",
       "      <td>0.0</td>\n",
       "    </tr>\n",
       "    <tr>\n",
       "      <th>division_technical</th>\n",
       "      <td>0.0</td>\n",
       "      <td>0.0</td>\n",
       "      <td>0.0</td>\n",
       "      <td>0.0</td>\n",
       "      <td>1.0</td>\n",
       "    </tr>\n",
       "    <tr>\n",
       "      <th>salary_high</th>\n",
       "      <td>0.0</td>\n",
       "      <td>0.0</td>\n",
       "      <td>0.0</td>\n",
       "      <td>0.0</td>\n",
       "      <td>0.0</td>\n",
       "    </tr>\n",
       "    <tr>\n",
       "      <th>salary_low</th>\n",
       "      <td>0.0</td>\n",
       "      <td>0.0</td>\n",
       "      <td>1.0</td>\n",
       "      <td>0.0</td>\n",
       "      <td>1.0</td>\n",
       "    </tr>\n",
       "    <tr>\n",
       "      <th>salary_medium</th>\n",
       "      <td>1.0</td>\n",
       "      <td>1.0</td>\n",
       "      <td>0.0</td>\n",
       "      <td>1.0</td>\n",
       "      <td>0.0</td>\n",
       "    </tr>\n",
       "  </tbody>\n",
       "</table>\n",
       "</div>"
      ],
      "text/plain": [
       "                         9492   11555  11301  5578   6241 \n",
       "Work_accident_1            0.0    1.0    0.0    0.0    0.0\n",
       "promotion_last_5years_1    0.0    0.0    0.0    0.0    0.0\n",
       "division_IT                0.0    0.0    0.0    0.0    0.0\n",
       "division_RandD             0.0    0.0    0.0    0.0    0.0\n",
       "division_accounting        1.0    0.0    0.0    0.0    0.0\n",
       "division_hr                0.0    0.0    0.0    0.0    0.0\n",
       "division_management        0.0    0.0    0.0    1.0    0.0\n",
       "division_marketing         0.0    0.0    0.0    0.0    0.0\n",
       "division_product_mng       0.0    0.0    0.0    0.0    0.0\n",
       "division_sales             0.0    1.0    1.0    0.0    0.0\n",
       "division_support           0.0    0.0    0.0    0.0    0.0\n",
       "division_technical         0.0    0.0    0.0    0.0    1.0\n",
       "salary_high                0.0    0.0    0.0    0.0    0.0\n",
       "salary_low                 0.0    0.0    1.0    0.0    1.0\n",
       "salary_medium              1.0    1.0    0.0    1.0    0.0"
      ]
     },
     "execution_count": 23,
     "metadata": {},
     "output_type": "execute_result"
    }
   ],
   "source": [
    "X_train_cat_encoded.head().T"
   ]
  },
  {
   "cell_type": "code",
   "execution_count": null,
   "metadata": {},
   "outputs": [
    {
     "data": {
      "text/plain": [
       "array(['Work_accident_1', 'promotion_last_5years_1', 'division_IT',\n",
       "       'division_RandD', 'division_accounting', 'division_hr',\n",
       "       'division_management', 'division_marketing',\n",
       "       'division_product_mng', 'division_sales', 'division_support',\n",
       "       'division_technical', 'salary_high', 'salary_low', 'salary_medium'],\n",
       "      dtype=object)"
      ]
     },
     "execution_count": 24,
     "metadata": {},
     "output_type": "execute_result"
    }
   ],
   "source": [
    "encoder_col"
   ]
  },
  {
   "attachments": {},
   "cell_type": "markdown",
   "metadata": {},
   "source": [
    "Concat Data"
   ]
  },
  {
   "cell_type": "code",
   "execution_count": null,
   "metadata": {},
   "outputs": [
    {
     "data": {
      "text/html": [
       "<div>\n",
       "<style scoped>\n",
       "    .dataframe tbody tr th:only-of-type {\n",
       "        vertical-align: middle;\n",
       "    }\n",
       "\n",
       "    .dataframe tbody tr th {\n",
       "        vertical-align: top;\n",
       "    }\n",
       "\n",
       "    .dataframe thead th {\n",
       "        text-align: right;\n",
       "    }\n",
       "</style>\n",
       "<table border=\"1\" class=\"dataframe\">\n",
       "  <thead>\n",
       "    <tr style=\"text-align: right;\">\n",
       "      <th></th>\n",
       "      <th>average_montly_hours</th>\n",
       "      <th>satisfaction_level</th>\n",
       "      <th>last_evaluation</th>\n",
       "      <th>time_spend_company</th>\n",
       "      <th>number_project</th>\n",
       "      <th>Work_accident_1</th>\n",
       "      <th>promotion_last_5years_1</th>\n",
       "      <th>division_IT</th>\n",
       "      <th>division_RandD</th>\n",
       "      <th>division_accounting</th>\n",
       "      <th>division_hr</th>\n",
       "      <th>division_management</th>\n",
       "      <th>division_marketing</th>\n",
       "      <th>division_product_mng</th>\n",
       "      <th>division_sales</th>\n",
       "      <th>division_support</th>\n",
       "      <th>division_technical</th>\n",
       "      <th>salary_high</th>\n",
       "      <th>salary_low</th>\n",
       "      <th>salary_medium</th>\n",
       "    </tr>\n",
       "  </thead>\n",
       "  <tbody>\n",
       "    <tr>\n",
       "      <th>9492</th>\n",
       "      <td>123.0</td>\n",
       "      <td>0.44</td>\n",
       "      <td>0.56</td>\n",
       "      <td>3.0</td>\n",
       "      <td>3.0</td>\n",
       "      <td>0.0</td>\n",
       "      <td>0.0</td>\n",
       "      <td>0.0</td>\n",
       "      <td>0.0</td>\n",
       "      <td>1.0</td>\n",
       "      <td>0.0</td>\n",
       "      <td>0.0</td>\n",
       "      <td>0.0</td>\n",
       "      <td>0.0</td>\n",
       "      <td>0.0</td>\n",
       "      <td>0.0</td>\n",
       "      <td>0.0</td>\n",
       "      <td>0.0</td>\n",
       "      <td>0.0</td>\n",
       "      <td>1.0</td>\n",
       "    </tr>\n",
       "    <tr>\n",
       "      <th>11555</th>\n",
       "      <td>154.0</td>\n",
       "      <td>0.98</td>\n",
       "      <td>0.44</td>\n",
       "      <td>6.0</td>\n",
       "      <td>4.0</td>\n",
       "      <td>1.0</td>\n",
       "      <td>0.0</td>\n",
       "      <td>0.0</td>\n",
       "      <td>0.0</td>\n",
       "      <td>0.0</td>\n",
       "      <td>0.0</td>\n",
       "      <td>0.0</td>\n",
       "      <td>0.0</td>\n",
       "      <td>0.0</td>\n",
       "      <td>1.0</td>\n",
       "      <td>0.0</td>\n",
       "      <td>0.0</td>\n",
       "      <td>0.0</td>\n",
       "      <td>0.0</td>\n",
       "      <td>1.0</td>\n",
       "    </tr>\n",
       "    <tr>\n",
       "      <th>11301</th>\n",
       "      <td>133.0</td>\n",
       "      <td>0.76</td>\n",
       "      <td>0.99</td>\n",
       "      <td>4.0</td>\n",
       "      <td>3.0</td>\n",
       "      <td>0.0</td>\n",
       "      <td>0.0</td>\n",
       "      <td>0.0</td>\n",
       "      <td>0.0</td>\n",
       "      <td>0.0</td>\n",
       "      <td>0.0</td>\n",
       "      <td>0.0</td>\n",
       "      <td>0.0</td>\n",
       "      <td>0.0</td>\n",
       "      <td>1.0</td>\n",
       "      <td>0.0</td>\n",
       "      <td>0.0</td>\n",
       "      <td>0.0</td>\n",
       "      <td>1.0</td>\n",
       "      <td>0.0</td>\n",
       "    </tr>\n",
       "    <tr>\n",
       "      <th>5578</th>\n",
       "      <td>156.0</td>\n",
       "      <td>0.47</td>\n",
       "      <td>0.55</td>\n",
       "      <td>2.0</td>\n",
       "      <td>2.0</td>\n",
       "      <td>0.0</td>\n",
       "      <td>0.0</td>\n",
       "      <td>0.0</td>\n",
       "      <td>0.0</td>\n",
       "      <td>0.0</td>\n",
       "      <td>0.0</td>\n",
       "      <td>1.0</td>\n",
       "      <td>0.0</td>\n",
       "      <td>0.0</td>\n",
       "      <td>0.0</td>\n",
       "      <td>0.0</td>\n",
       "      <td>0.0</td>\n",
       "      <td>0.0</td>\n",
       "      <td>0.0</td>\n",
       "      <td>1.0</td>\n",
       "    </tr>\n",
       "    <tr>\n",
       "      <th>6241</th>\n",
       "      <td>151.0</td>\n",
       "      <td>0.84</td>\n",
       "      <td>0.68</td>\n",
       "      <td>2.0</td>\n",
       "      <td>4.0</td>\n",
       "      <td>0.0</td>\n",
       "      <td>0.0</td>\n",
       "      <td>0.0</td>\n",
       "      <td>0.0</td>\n",
       "      <td>0.0</td>\n",
       "      <td>0.0</td>\n",
       "      <td>0.0</td>\n",
       "      <td>0.0</td>\n",
       "      <td>0.0</td>\n",
       "      <td>0.0</td>\n",
       "      <td>0.0</td>\n",
       "      <td>1.0</td>\n",
       "      <td>0.0</td>\n",
       "      <td>1.0</td>\n",
       "      <td>0.0</td>\n",
       "    </tr>\n",
       "  </tbody>\n",
       "</table>\n",
       "</div>"
      ],
      "text/plain": [
       "       average_montly_hours  satisfaction_level  last_evaluation  \\\n",
       "9492                  123.0                0.44             0.56   \n",
       "11555                 154.0                0.98             0.44   \n",
       "11301                 133.0                0.76             0.99   \n",
       "5578                  156.0                0.47             0.55   \n",
       "6241                  151.0                0.84             0.68   \n",
       "\n",
       "       time_spend_company  number_project  Work_accident_1  \\\n",
       "9492                  3.0             3.0              0.0   \n",
       "11555                 6.0             4.0              1.0   \n",
       "11301                 4.0             3.0              0.0   \n",
       "5578                  2.0             2.0              0.0   \n",
       "6241                  2.0             4.0              0.0   \n",
       "\n",
       "       promotion_last_5years_1  division_IT  division_RandD  \\\n",
       "9492                       0.0          0.0             0.0   \n",
       "11555                      0.0          0.0             0.0   \n",
       "11301                      0.0          0.0             0.0   \n",
       "5578                       0.0          0.0             0.0   \n",
       "6241                       0.0          0.0             0.0   \n",
       "\n",
       "       division_accounting  division_hr  division_management  \\\n",
       "9492                   1.0          0.0                  0.0   \n",
       "11555                  0.0          0.0                  0.0   \n",
       "11301                  0.0          0.0                  0.0   \n",
       "5578                   0.0          0.0                  1.0   \n",
       "6241                   0.0          0.0                  0.0   \n",
       "\n",
       "       division_marketing  division_product_mng  division_sales  \\\n",
       "9492                  0.0                   0.0             0.0   \n",
       "11555                 0.0                   0.0             1.0   \n",
       "11301                 0.0                   0.0             1.0   \n",
       "5578                  0.0                   0.0             0.0   \n",
       "6241                  0.0                   0.0             0.0   \n",
       "\n",
       "       division_support  division_technical  salary_high  salary_low  \\\n",
       "9492                0.0                 0.0          0.0         0.0   \n",
       "11555               0.0                 0.0          0.0         0.0   \n",
       "11301               0.0                 0.0          0.0         1.0   \n",
       "5578                0.0                 0.0          0.0         0.0   \n",
       "6241                0.0                 1.0          0.0         1.0   \n",
       "\n",
       "       salary_medium  \n",
       "9492             1.0  \n",
       "11555            1.0  \n",
       "11301            0.0  \n",
       "5578             1.0  \n",
       "6241             0.0  "
      ]
     },
     "execution_count": 25,
     "metadata": {},
     "output_type": "execute_result"
    }
   ],
   "source": [
    "X_train_concat = pd.concat([X_train_num_imputed, X_train_cat_encoded],\n",
    "                           axis = 1)\n",
    "X_train_concat.head()"
   ]
  },
  {
   "attachments": {},
   "cell_type": "markdown",
   "metadata": {},
   "source": [
    "Balancing Data: SMOTE"
   ]
  },
  {
   "cell_type": "code",
   "execution_count": null,
   "metadata": {},
   "outputs": [
    {
     "data": {
      "text/plain": [
       "average_montly_hours       False\n",
       "satisfaction_level         False\n",
       "last_evaluation            False\n",
       "time_spend_company         False\n",
       "number_project             False\n",
       "Work_accident_1            False\n",
       "promotion_last_5years_1    False\n",
       "division_IT                False\n",
       "division_RandD             False\n",
       "division_accounting        False\n",
       "division_hr                False\n",
       "division_management        False\n",
       "division_marketing         False\n",
       "division_product_mng       False\n",
       "division_sales             False\n",
       "division_support           False\n",
       "division_technical         False\n",
       "salary_high                False\n",
       "salary_low                 False\n",
       "salary_medium              False\n",
       "dtype: bool"
      ]
     },
     "execution_count": 26,
     "metadata": {},
     "output_type": "execute_result"
    }
   ],
   "source": [
    "# Cek missing values\n",
    "X_train_concat.isna().any()"
   ]
  },
  {
   "cell_type": "code",
   "execution_count": null,
   "metadata": {},
   "outputs": [],
   "source": [
    "from imblearn.over_sampling import SMOTE"
   ]
  },
  {
   "cell_type": "code",
   "execution_count": null,
   "metadata": {},
   "outputs": [
    {
     "data": {
      "text/plain": [
       "0    7999\n",
       "1    1593\n",
       "Name: left, dtype: int64"
      ]
     },
     "execution_count": 28,
     "metadata": {},
     "output_type": "execute_result"
    }
   ],
   "source": [
    "y_train.value_counts()"
   ]
  },
  {
   "cell_type": "code",
   "execution_count": null,
   "metadata": {},
   "outputs": [],
   "source": [
    "# Buat objek\n",
    "smt = SMOTE(sampling_strategy = \"minority\",\n",
    "            random_state = 123)\n",
    "\n",
    "# Fit objek\n",
    "X_train_smote, y_train = smt.fit_resample(X_train_concat, y_train)"
   ]
  },
  {
   "cell_type": "code",
   "execution_count": null,
   "metadata": {},
   "outputs": [
    {
     "data": {
      "text/plain": [
       "0    7999\n",
       "1    7999\n",
       "Name: left, dtype: int64"
      ]
     },
     "execution_count": 30,
     "metadata": {},
     "output_type": "execute_result"
    }
   ],
   "source": [
    "y_train.value_counts()"
   ]
  },
  {
   "attachments": {},
   "cell_type": "markdown",
   "metadata": {},
   "source": [
    "Scale Data"
   ]
  },
  {
   "cell_type": "code",
   "execution_count": null,
   "metadata": {},
   "outputs": [],
   "source": [
    "from sklearn.preprocessing import StandardScaler"
   ]
  },
  {
   "cell_type": "code",
   "execution_count": null,
   "metadata": {},
   "outputs": [],
   "source": [
    "def standardizeData(data, scaler = None):\n",
    "    if scaler == None:\n",
    "        # Buat & Fit scaler\n",
    "        scaler = StandardScaler()\n",
    "        scaler.fit(data)\n",
    "\n",
    "    # Tranform data\n",
    "    data_scaled = scaler.transform(data)\n",
    "    data_scaled = pd.DataFrame(data_scaled,\n",
    "                               index = data.index,\n",
    "                               columns = data.columns)\n",
    "    \n",
    "    return data_scaled, scaler\n"
   ]
  },
  {
   "cell_type": "code",
   "execution_count": null,
   "metadata": {},
   "outputs": [
    {
     "data": {
      "text/html": [
       "<div>\n",
       "<style scoped>\n",
       "    .dataframe tbody tr th:only-of-type {\n",
       "        vertical-align: middle;\n",
       "    }\n",
       "\n",
       "    .dataframe tbody tr th {\n",
       "        vertical-align: top;\n",
       "    }\n",
       "\n",
       "    .dataframe thead th {\n",
       "        text-align: right;\n",
       "    }\n",
       "</style>\n",
       "<table border=\"1\" class=\"dataframe\">\n",
       "  <thead>\n",
       "    <tr style=\"text-align: right;\">\n",
       "      <th></th>\n",
       "      <th>average_montly_hours</th>\n",
       "      <th>satisfaction_level</th>\n",
       "      <th>last_evaluation</th>\n",
       "      <th>time_spend_company</th>\n",
       "      <th>number_project</th>\n",
       "      <th>Work_accident_1</th>\n",
       "      <th>promotion_last_5years_1</th>\n",
       "      <th>division_IT</th>\n",
       "      <th>division_RandD</th>\n",
       "      <th>division_accounting</th>\n",
       "      <th>division_hr</th>\n",
       "      <th>division_management</th>\n",
       "      <th>division_marketing</th>\n",
       "      <th>division_product_mng</th>\n",
       "      <th>division_sales</th>\n",
       "      <th>division_support</th>\n",
       "      <th>division_technical</th>\n",
       "      <th>salary_high</th>\n",
       "      <th>salary_low</th>\n",
       "      <th>salary_medium</th>\n",
       "    </tr>\n",
       "  </thead>\n",
       "  <tbody>\n",
       "    <tr>\n",
       "      <th>0</th>\n",
       "      <td>-1.486436</td>\n",
       "      <td>-0.431469</td>\n",
       "      <td>-0.890706</td>\n",
       "      <td>-0.471144</td>\n",
       "      <td>-0.578247</td>\n",
       "      <td>-0.351352</td>\n",
       "      <td>-0.110301</td>\n",
       "      <td>-0.2982</td>\n",
       "      <td>-0.235745</td>\n",
       "      <td>4.609847</td>\n",
       "      <td>-0.24908</td>\n",
       "      <td>-0.185308</td>\n",
       "      <td>-0.256809</td>\n",
       "      <td>-0.255502</td>\n",
       "      <td>-0.658298</td>\n",
       "      <td>-0.441779</td>\n",
       "      <td>-0.502233</td>\n",
       "      <td>-0.244195</td>\n",
       "      <td>-1.078023</td>\n",
       "      <td>1.203711</td>\n",
       "    </tr>\n",
       "    <tr>\n",
       "      <th>1</th>\n",
       "      <td>-0.914860</td>\n",
       "      <td>1.603583</td>\n",
       "      <td>-1.560968</td>\n",
       "      <td>2.009526</td>\n",
       "      <td>0.111032</td>\n",
       "      <td>2.972531</td>\n",
       "      <td>-0.110301</td>\n",
       "      <td>-0.2982</td>\n",
       "      <td>-0.235745</td>\n",
       "      <td>-0.241870</td>\n",
       "      <td>-0.24908</td>\n",
       "      <td>-0.185308</td>\n",
       "      <td>-0.256809</td>\n",
       "      <td>-0.255502</td>\n",
       "      <td>1.620617</td>\n",
       "      <td>-0.441779</td>\n",
       "      <td>-0.502233</td>\n",
       "      <td>-0.244195</td>\n",
       "      <td>-1.078023</td>\n",
       "      <td>1.203711</td>\n",
       "    </tr>\n",
       "    <tr>\n",
       "      <th>2</th>\n",
       "      <td>-1.302056</td>\n",
       "      <td>0.774488</td>\n",
       "      <td>1.511067</td>\n",
       "      <td>0.355746</td>\n",
       "      <td>-0.578247</td>\n",
       "      <td>-0.351352</td>\n",
       "      <td>-0.110301</td>\n",
       "      <td>-0.2982</td>\n",
       "      <td>-0.235745</td>\n",
       "      <td>-0.241870</td>\n",
       "      <td>-0.24908</td>\n",
       "      <td>-0.185308</td>\n",
       "      <td>-0.256809</td>\n",
       "      <td>-0.255502</td>\n",
       "      <td>1.620617</td>\n",
       "      <td>-0.441779</td>\n",
       "      <td>-0.502233</td>\n",
       "      <td>-0.244195</td>\n",
       "      <td>0.954389</td>\n",
       "      <td>-0.853525</td>\n",
       "    </tr>\n",
       "    <tr>\n",
       "      <th>3</th>\n",
       "      <td>-0.877984</td>\n",
       "      <td>-0.318410</td>\n",
       "      <td>-0.946561</td>\n",
       "      <td>-1.298034</td>\n",
       "      <td>-1.267525</td>\n",
       "      <td>-0.351352</td>\n",
       "      <td>-0.110301</td>\n",
       "      <td>-0.2982</td>\n",
       "      <td>-0.235745</td>\n",
       "      <td>-0.241870</td>\n",
       "      <td>-0.24908</td>\n",
       "      <td>5.981921</td>\n",
       "      <td>-0.256809</td>\n",
       "      <td>-0.255502</td>\n",
       "      <td>-0.658298</td>\n",
       "      <td>-0.441779</td>\n",
       "      <td>-0.502233</td>\n",
       "      <td>-0.244195</td>\n",
       "      <td>-1.078023</td>\n",
       "      <td>1.203711</td>\n",
       "    </tr>\n",
       "    <tr>\n",
       "      <th>4</th>\n",
       "      <td>-0.970173</td>\n",
       "      <td>1.075977</td>\n",
       "      <td>-0.220443</td>\n",
       "      <td>-1.298034</td>\n",
       "      <td>0.111032</td>\n",
       "      <td>-0.351352</td>\n",
       "      <td>-0.110301</td>\n",
       "      <td>-0.2982</td>\n",
       "      <td>-0.235745</td>\n",
       "      <td>-0.241870</td>\n",
       "      <td>-0.24908</td>\n",
       "      <td>-0.185308</td>\n",
       "      <td>-0.256809</td>\n",
       "      <td>-0.255502</td>\n",
       "      <td>-0.658298</td>\n",
       "      <td>-0.441779</td>\n",
       "      <td>2.138886</td>\n",
       "      <td>-0.244195</td>\n",
       "      <td>0.954389</td>\n",
       "      <td>-0.853525</td>\n",
       "    </tr>\n",
       "  </tbody>\n",
       "</table>\n",
       "</div>"
      ],
      "text/plain": [
       "   average_montly_hours  satisfaction_level  last_evaluation  \\\n",
       "0             -1.486436           -0.431469        -0.890706   \n",
       "1             -0.914860            1.603583        -1.560968   \n",
       "2             -1.302056            0.774488         1.511067   \n",
       "3             -0.877984           -0.318410        -0.946561   \n",
       "4             -0.970173            1.075977        -0.220443   \n",
       "\n",
       "   time_spend_company  number_project  Work_accident_1  \\\n",
       "0           -0.471144       -0.578247        -0.351352   \n",
       "1            2.009526        0.111032         2.972531   \n",
       "2            0.355746       -0.578247        -0.351352   \n",
       "3           -1.298034       -1.267525        -0.351352   \n",
       "4           -1.298034        0.111032        -0.351352   \n",
       "\n",
       "   promotion_last_5years_1  division_IT  division_RandD  division_accounting  \\\n",
       "0                -0.110301      -0.2982       -0.235745             4.609847   \n",
       "1                -0.110301      -0.2982       -0.235745            -0.241870   \n",
       "2                -0.110301      -0.2982       -0.235745            -0.241870   \n",
       "3                -0.110301      -0.2982       -0.235745            -0.241870   \n",
       "4                -0.110301      -0.2982       -0.235745            -0.241870   \n",
       "\n",
       "   division_hr  division_management  division_marketing  division_product_mng  \\\n",
       "0     -0.24908            -0.185308           -0.256809             -0.255502   \n",
       "1     -0.24908            -0.185308           -0.256809             -0.255502   \n",
       "2     -0.24908            -0.185308           -0.256809             -0.255502   \n",
       "3     -0.24908             5.981921           -0.256809             -0.255502   \n",
       "4     -0.24908            -0.185308           -0.256809             -0.255502   \n",
       "\n",
       "   division_sales  division_support  division_technical  salary_high  \\\n",
       "0       -0.658298         -0.441779           -0.502233    -0.244195   \n",
       "1        1.620617         -0.441779           -0.502233    -0.244195   \n",
       "2        1.620617         -0.441779           -0.502233    -0.244195   \n",
       "3       -0.658298         -0.441779           -0.502233    -0.244195   \n",
       "4       -0.658298         -0.441779            2.138886    -0.244195   \n",
       "\n",
       "   salary_low  salary_medium  \n",
       "0   -1.078023       1.203711  \n",
       "1   -1.078023       1.203711  \n",
       "2    0.954389      -0.853525  \n",
       "3   -1.078023       1.203711  \n",
       "4    0.954389      -0.853525  "
      ]
     },
     "execution_count": 33,
     "metadata": {},
     "output_type": "execute_result"
    }
   ],
   "source": [
    "X_train_clean, scaler = standardizeData(data = X_train_smote)\n",
    "X_train_clean.head()"
   ]
  },
  {
   "attachments": {},
   "cell_type": "markdown",
   "metadata": {},
   "source": [
    "Transform Test Data"
   ]
  },
  {
   "cell_type": "code",
   "execution_count": null,
   "metadata": {},
   "outputs": [],
   "source": [
    "def transformTestData(data, num_col, cat_col, encoder_col,\n",
    "                      imputer_num, imputer_cat, encoder_cat,\n",
    "                      scaler):\n",
    "    # 1. Split num-cat\n",
    "    data_num, data_cat = splitNumCat(data = data,\n",
    "                                     num_col = num_col,\n",
    "                                     cat_col = cat_col)\n",
    "    \n",
    "    # 2. Handling num\n",
    "    data_num_imputed, _ = imputerNum(data = data_num,\n",
    "                                     imputer = imputer_num)\n",
    "    \n",
    "    # 3. Handling cat\n",
    "    data_cat_imputed, _ = imputerCat(data = data_cat,\n",
    "                                     imputer = imputer_cat)\n",
    "    data_cat_encoded, _, _ = encoderCat(data = data_cat_imputed,\n",
    "                                        encoder_col = encoder_col,\n",
    "                                        encoder = encoder_cat)\n",
    "    \n",
    "    # 4. Concat data\n",
    "    data_concat = pd.concat([data_num_imputed, data_cat_encoded],\n",
    "                            axis = 1)\n",
    "    \n",
    "    # 5. Scale data\n",
    "    data_clean, _ = standardizeData(data = data_concat,\n",
    "                                    scaler = scaler)\n",
    "    \n",
    "    return data_clean\n"
   ]
  },
  {
   "cell_type": "code",
   "execution_count": null,
   "metadata": {},
   "outputs": [
    {
     "data": {
      "text/html": [
       "<div>\n",
       "<style scoped>\n",
       "    .dataframe tbody tr th:only-of-type {\n",
       "        vertical-align: middle;\n",
       "    }\n",
       "\n",
       "    .dataframe tbody tr th {\n",
       "        vertical-align: top;\n",
       "    }\n",
       "\n",
       "    .dataframe thead th {\n",
       "        text-align: right;\n",
       "    }\n",
       "</style>\n",
       "<table border=\"1\" class=\"dataframe\">\n",
       "  <thead>\n",
       "    <tr style=\"text-align: right;\">\n",
       "      <th></th>\n",
       "      <th>average_montly_hours</th>\n",
       "      <th>satisfaction_level</th>\n",
       "      <th>last_evaluation</th>\n",
       "      <th>time_spend_company</th>\n",
       "      <th>number_project</th>\n",
       "      <th>Work_accident_1</th>\n",
       "      <th>promotion_last_5years_1</th>\n",
       "      <th>division_IT</th>\n",
       "      <th>division_RandD</th>\n",
       "      <th>division_accounting</th>\n",
       "      <th>division_hr</th>\n",
       "      <th>division_management</th>\n",
       "      <th>division_marketing</th>\n",
       "      <th>division_product_mng</th>\n",
       "      <th>division_sales</th>\n",
       "      <th>division_support</th>\n",
       "      <th>division_technical</th>\n",
       "      <th>salary_high</th>\n",
       "      <th>salary_low</th>\n",
       "      <th>salary_medium</th>\n",
       "    </tr>\n",
       "  </thead>\n",
       "  <tbody>\n",
       "    <tr>\n",
       "      <th>8578</th>\n",
       "      <td>-0.232656</td>\n",
       "      <td>1.000605</td>\n",
       "      <td>1.287647</td>\n",
       "      <td>2.009526</td>\n",
       "      <td>1.489588</td>\n",
       "      <td>-0.351352</td>\n",
       "      <td>-0.110301</td>\n",
       "      <td>-0.2982</td>\n",
       "      <td>-0.235745</td>\n",
       "      <td>4.609847</td>\n",
       "      <td>-0.24908</td>\n",
       "      <td>-0.185308</td>\n",
       "      <td>-0.256809</td>\n",
       "      <td>-0.255502</td>\n",
       "      <td>-0.658298</td>\n",
       "      <td>-0.441779</td>\n",
       "      <td>-0.502233</td>\n",
       "      <td>-0.244195</td>\n",
       "      <td>-1.078023</td>\n",
       "      <td>1.203711</td>\n",
       "    </tr>\n",
       "    <tr>\n",
       "      <th>5756</th>\n",
       "      <td>1.168628</td>\n",
       "      <td>-1.411308</td>\n",
       "      <td>0.784950</td>\n",
       "      <td>0.355746</td>\n",
       "      <td>0.800310</td>\n",
       "      <td>-0.351352</td>\n",
       "      <td>-0.110301</td>\n",
       "      <td>-0.2982</td>\n",
       "      <td>-0.235745</td>\n",
       "      <td>4.609847</td>\n",
       "      <td>-0.24908</td>\n",
       "      <td>-0.185308</td>\n",
       "      <td>-0.256809</td>\n",
       "      <td>-0.255502</td>\n",
       "      <td>-0.658298</td>\n",
       "      <td>-0.441779</td>\n",
       "      <td>-0.502233</td>\n",
       "      <td>-0.244195</td>\n",
       "      <td>-1.078023</td>\n",
       "      <td>1.203711</td>\n",
       "    </tr>\n",
       "    <tr>\n",
       "      <th>3994</th>\n",
       "      <td>-0.804232</td>\n",
       "      <td>0.284568</td>\n",
       "      <td>1.455212</td>\n",
       "      <td>-1.298034</td>\n",
       "      <td>0.111032</td>\n",
       "      <td>-0.351352</td>\n",
       "      <td>-0.110301</td>\n",
       "      <td>-0.2982</td>\n",
       "      <td>-0.235745</td>\n",
       "      <td>-0.241870</td>\n",
       "      <td>-0.24908</td>\n",
       "      <td>-0.185308</td>\n",
       "      <td>-0.256809</td>\n",
       "      <td>-0.255502</td>\n",
       "      <td>1.620617</td>\n",
       "      <td>-0.441779</td>\n",
       "      <td>-0.502233</td>\n",
       "      <td>-0.244195</td>\n",
       "      <td>-1.078023</td>\n",
       "      <td>1.203711</td>\n",
       "    </tr>\n",
       "    <tr>\n",
       "      <th>1784</th>\n",
       "      <td>-1.007049</td>\n",
       "      <td>-0.469155</td>\n",
       "      <td>-1.169981</td>\n",
       "      <td>-0.471144</td>\n",
       "      <td>-1.267525</td>\n",
       "      <td>2.972531</td>\n",
       "      <td>-0.110301</td>\n",
       "      <td>-0.2982</td>\n",
       "      <td>-0.235745</td>\n",
       "      <td>4.609847</td>\n",
       "      <td>-0.24908</td>\n",
       "      <td>-0.185308</td>\n",
       "      <td>-0.256809</td>\n",
       "      <td>-0.255502</td>\n",
       "      <td>-0.658298</td>\n",
       "      <td>-0.441779</td>\n",
       "      <td>-0.502233</td>\n",
       "      <td>-0.244195</td>\n",
       "      <td>-1.078023</td>\n",
       "      <td>1.203711</td>\n",
       "    </tr>\n",
       "    <tr>\n",
       "      <th>10508</th>\n",
       "      <td>0.762993</td>\n",
       "      <td>-0.167666</td>\n",
       "      <td>1.455212</td>\n",
       "      <td>-0.471144</td>\n",
       "      <td>0.111032</td>\n",
       "      <td>-0.351352</td>\n",
       "      <td>-0.110301</td>\n",
       "      <td>-0.2982</td>\n",
       "      <td>-0.235745</td>\n",
       "      <td>-0.241870</td>\n",
       "      <td>-0.24908</td>\n",
       "      <td>-0.185308</td>\n",
       "      <td>-0.256809</td>\n",
       "      <td>-0.255502</td>\n",
       "      <td>-0.658298</td>\n",
       "      <td>2.442898</td>\n",
       "      <td>-0.502233</td>\n",
       "      <td>-0.244195</td>\n",
       "      <td>-1.078023</td>\n",
       "      <td>1.203711</td>\n",
       "    </tr>\n",
       "  </tbody>\n",
       "</table>\n",
       "</div>"
      ],
      "text/plain": [
       "       average_montly_hours  satisfaction_level  last_evaluation  \\\n",
       "8578              -0.232656            1.000605         1.287647   \n",
       "5756               1.168628           -1.411308         0.784950   \n",
       "3994              -0.804232            0.284568         1.455212   \n",
       "1784              -1.007049           -0.469155        -1.169981   \n",
       "10508              0.762993           -0.167666         1.455212   \n",
       "\n",
       "       time_spend_company  number_project  Work_accident_1  \\\n",
       "8578             2.009526        1.489588        -0.351352   \n",
       "5756             0.355746        0.800310        -0.351352   \n",
       "3994            -1.298034        0.111032        -0.351352   \n",
       "1784            -0.471144       -1.267525         2.972531   \n",
       "10508           -0.471144        0.111032        -0.351352   \n",
       "\n",
       "       promotion_last_5years_1  division_IT  division_RandD  \\\n",
       "8578                 -0.110301      -0.2982       -0.235745   \n",
       "5756                 -0.110301      -0.2982       -0.235745   \n",
       "3994                 -0.110301      -0.2982       -0.235745   \n",
       "1784                 -0.110301      -0.2982       -0.235745   \n",
       "10508                -0.110301      -0.2982       -0.235745   \n",
       "\n",
       "       division_accounting  division_hr  division_management  \\\n",
       "8578              4.609847     -0.24908            -0.185308   \n",
       "5756              4.609847     -0.24908            -0.185308   \n",
       "3994             -0.241870     -0.24908            -0.185308   \n",
       "1784              4.609847     -0.24908            -0.185308   \n",
       "10508            -0.241870     -0.24908            -0.185308   \n",
       "\n",
       "       division_marketing  division_product_mng  division_sales  \\\n",
       "8578            -0.256809             -0.255502       -0.658298   \n",
       "5756            -0.256809             -0.255502       -0.658298   \n",
       "3994            -0.256809             -0.255502        1.620617   \n",
       "1784            -0.256809             -0.255502       -0.658298   \n",
       "10508           -0.256809             -0.255502       -0.658298   \n",
       "\n",
       "       division_support  division_technical  salary_high  salary_low  \\\n",
       "8578          -0.441779           -0.502233    -0.244195   -1.078023   \n",
       "5756          -0.441779           -0.502233    -0.244195   -1.078023   \n",
       "3994          -0.441779           -0.502233    -0.244195   -1.078023   \n",
       "1784          -0.441779           -0.502233    -0.244195   -1.078023   \n",
       "10508          2.442898           -0.502233    -0.244195   -1.078023   \n",
       "\n",
       "       salary_medium  \n",
       "8578        1.203711  \n",
       "5756        1.203711  \n",
       "3994        1.203711  \n",
       "1784        1.203711  \n",
       "10508       1.203711  "
      ]
     },
     "execution_count": 35,
     "metadata": {},
     "output_type": "execute_result"
    }
   ],
   "source": [
    "X_test_clean = transformTestData(data = X_test,\n",
    "                                 num_col = numerical_col, \n",
    "                                 cat_col = categorical_col,\n",
    "                                 encoder_col = encoder_col,\n",
    "                                 imputer_num = imputer_num,\n",
    "                                 imputer_cat = imputer_cat,\n",
    "                                 encoder_cat = encoder_OHE,\n",
    "                                 scaler = scaler)\n",
    "\n",
    "X_test_clean.head()"
   ]
  },
  {
   "cell_type": "code",
   "execution_count": null,
   "metadata": {},
   "outputs": [
    {
     "data": {
      "text/plain": [
       "Index(['average_montly_hours', 'satisfaction_level', 'last_evaluation',\n",
       "       'time_spend_company', 'number_project', 'Work_accident_1',\n",
       "       'promotion_last_5years_1', 'division_IT', 'division_RandD',\n",
       "       'division_accounting', 'division_hr', 'division_management',\n",
       "       'division_marketing', 'division_product_mng', 'division_sales',\n",
       "       'division_support', 'division_technical', 'salary_high', 'salary_low',\n",
       "       'salary_medium'],\n",
       "      dtype='object')"
      ]
     },
     "execution_count": 36,
     "metadata": {},
     "output_type": "execute_result"
    }
   ],
   "source": [
    "X_test_clean.columns"
   ]
  },
  {
   "cell_type": "code",
   "execution_count": null,
   "metadata": {},
   "outputs": [
    {
     "data": {
      "text/plain": [
       "Index(['average_montly_hours', 'satisfaction_level', 'last_evaluation',\n",
       "       'time_spend_company', 'number_project', 'Work_accident_1',\n",
       "       'promotion_last_5years_1', 'division_IT', 'division_RandD',\n",
       "       'division_accounting', 'division_hr', 'division_management',\n",
       "       'division_marketing', 'division_product_mng', 'division_sales',\n",
       "       'division_support', 'division_technical', 'salary_high', 'salary_low',\n",
       "       'salary_medium'],\n",
       "      dtype='object')"
      ]
     },
     "execution_count": 37,
     "metadata": {},
     "output_type": "execute_result"
    }
   ],
   "source": [
    "X_train_clean.columns"
   ]
  },
  {
   "cell_type": "code",
   "execution_count": null,
   "metadata": {},
   "outputs": [
    {
     "data": {
      "text/plain": [
       "20"
      ]
     },
     "execution_count": 38,
     "metadata": {},
     "output_type": "execute_result"
    }
   ],
   "source": [
    "len(X_train_clean.columns)"
   ]
  },
  {
   "attachments": {},
   "cell_type": "markdown",
   "metadata": {},
   "source": [
    "Done"
   ]
  },
  {
   "attachments": {},
   "cell_type": "markdown",
   "metadata": {},
   "source": [
    "---\n",
    "# Multi-Layer Perceptron (Neural Network)\n",
    "- Mengadaptasi cara sel otak transfer & mengolah informasi.\n",
    "- Satuan terkecilnya adalah Neuron (Perceptron)\n",
    "<center>\n",
    "<img src=\"https://blog.camelot-group.com/wp-content/uploads/2022/01/Perceptron_byCamelot.png\">\n",
    "<br>\n",
    "<a href=\"https://blog.camelot-group.com/2022/01/neural-networks-perceptron/\">source</a>\n",
    "</center>\n",
    "​\n",
    "- 1 Perceptron dapat menerima beberapa input\n",
    "- 1 Perceptron mengeluarkan 1 output\n",
    "- Input-input akan dijumlahkan secara berbobot dahulu (`preActivation`)\n",
    "- Kemudian akan diaktifasi menggunakan `activation function` seperti Sigmoid, ReLU, TanH, dan sebagainya."
   ]
  },
  {
   "attachments": {},
   "cell_type": "markdown",
   "metadata": {},
   "source": [
    "---\n",
    "## Feed Propagation\n",
    "- Misal kita ingin selesaikan kasus klasifikasi\n",
    "- Kita buat arsitektur Neural Network dengan 1 perceptron"
   ]
  },
  {
   "cell_type": "code",
   "execution_count": null,
   "metadata": {},
   "outputs": [],
   "source": [
    "def preActivation(X, w):\n",
    "    \"\"\"\n",
    "    Fungsi untuk mendapatkan nilai pre activation (weighted-sum)\n",
    "    :param X: <pandas DataFrame> data input\n",
    "    :param w: <numpy array> weight dari masing-masing input\n",
    "    :return a: <numpy array> weighted sum atau pre activation\n",
    "    \"\"\"\n",
    "    a = np.dot(X, w[1:]) + w[0]\n",
    "\n",
    "    return a"
   ]
  },
  {
   "cell_type": "code",
   "execution_count": null,
   "metadata": {},
   "outputs": [],
   "source": [
    "def activationFunction(a, types):\n",
    "    \"\"\"\n",
    "    Fungsi untuk melakukan aktifasi nilai pre activation\n",
    "    :param a: <numpy array> pre activation value\n",
    "    :param types: <str> pilihan fungsi aktivasi\n",
    "    :return y: <numpy array> output perceptron\n",
    "    \"\"\"\n",
    "    if types == \"linear\":\n",
    "        y = a\n",
    "    elif types == \"sigmoid\":\n",
    "        y = 1 / (1 + np.exp(-a))\n",
    "    elif types == \"relu\":\n",
    "        y = np.max(0, a)\n",
    "    else:\n",
    "        raise Exception(\"Activation Function tidak terdaftar\")\n",
    "\n",
    "    return y"
   ]
  },
  {
   "attachments": {},
   "cell_type": "markdown",
   "metadata": {},
   "source": [
    "Lakukan Forward Propagation"
   ]
  },
  {
   "cell_type": "code",
   "execution_count": null,
   "metadata": {},
   "outputs": [
    {
     "data": {
      "text/plain": [
       "array([0.84863713, 0.17454325, 0.75713991, 0.45022031, 0.14138717,\n",
       "       0.39126138, 0.3237075 , 0.0688101 , 0.45114183, 0.34491498,\n",
       "       0.22424115, 0.08535763, 0.82756594, 0.76119984, 0.68487779,\n",
       "       0.8401251 , 0.54272962, 0.82583821, 0.62044299, 0.527445  ,\n",
       "       0.75670365])"
      ]
     },
     "execution_count": 41,
     "metadata": {},
     "output_type": "execute_result"
    }
   ],
   "source": [
    "# Buat random weight\n",
    "# Ada 20 weight & 1 bias\n",
    "w = np.random.rand(21)\n",
    "w"
   ]
  },
  {
   "attachments": {},
   "cell_type": "markdown",
   "metadata": {},
   "source": [
    "pada data train"
   ]
  },
  {
   "cell_type": "code",
   "execution_count": null,
   "metadata": {},
   "outputs": [],
   "source": [
    "# Cari pre-activation function\n",
    "a = preActivation(X = X_train_clean,\n",
    "                  w = w)"
   ]
  },
  {
   "cell_type": "code",
   "execution_count": null,
   "metadata": {},
   "outputs": [],
   "source": [
    "# Cari output --> activate the pre-activation\n",
    "# Karena klasifikasi, activation function menggunakan Sigmoid\n",
    "y_pred_proba_train = activationFunction(a = a,\n",
    "                                        types = \"sigmoid\")"
   ]
  },
  {
   "cell_type": "code",
   "execution_count": null,
   "metadata": {},
   "outputs": [],
   "source": [
    "# Buat prediksi\n",
    "thresh = 0.5\n",
    "\n",
    "y_pred_train = (y_pred_proba_train > thresh).astype(\"int\")"
   ]
  },
  {
   "attachments": {},
   "cell_type": "markdown",
   "metadata": {},
   "source": [
    "pada data test"
   ]
  },
  {
   "cell_type": "code",
   "execution_count": null,
   "metadata": {},
   "outputs": [],
   "source": [
    "# Cari pre-activation function\n",
    "a = preActivation(X = X_test_clean,\n",
    "                  w = w)"
   ]
  },
  {
   "cell_type": "code",
   "execution_count": null,
   "metadata": {},
   "outputs": [],
   "source": [
    "# Cari output --> activate the pre-activation\n",
    "# Karena klasifikasi, activation function menggunakan Sigmoid\n",
    "y_pred_proba_test = activationFunction(a = a,\n",
    "                                       types = \"sigmoid\")"
   ]
  },
  {
   "cell_type": "code",
   "execution_count": null,
   "metadata": {},
   "outputs": [],
   "source": [
    "# Buat prediksi\n",
    "y_pred_test = (y_pred_proba_test > thresh).astype(\"int\")"
   ]
  },
  {
   "attachments": {},
   "cell_type": "markdown",
   "metadata": {},
   "source": [
    "cek performa"
   ]
  },
  {
   "cell_type": "code",
   "execution_count": null,
   "metadata": {},
   "outputs": [],
   "source": [
    "# Cari performa\n",
    "from sklearn.metrics import confusion_matrix\n",
    "from sklearn.metrics import accuracy_score\n",
    "from sklearn.metrics import classification_report\n",
    "from sklearn.metrics import roc_curve\n",
    "from sklearn.metrics import auc"
   ]
  },
  {
   "attachments": {},
   "cell_type": "markdown",
   "metadata": {},
   "source": [
    "pada data train"
   ]
  },
  {
   "cell_type": "code",
   "execution_count": null,
   "metadata": {},
   "outputs": [
    {
     "data": {
      "text/plain": [
       "array([[1308, 6691],\n",
       "       [3409, 4590]], dtype=int64)"
      ]
     },
     "execution_count": 49,
     "metadata": {},
     "output_type": "execute_result"
    }
   ],
   "source": [
    "# Tampilkan confusion matrix\n",
    "confusion_matrix(y_true = y_train,\n",
    "                 y_pred = y_pred_train)"
   ]
  },
  {
   "cell_type": "code",
   "execution_count": null,
   "metadata": {},
   "outputs": [
    {
     "data": {
      "text/plain": [
       "0.3686710838854857"
      ]
     },
     "execution_count": 50,
     "metadata": {},
     "output_type": "execute_result"
    }
   ],
   "source": [
    "# Tampilkan score\n",
    "accuracy_score(y_true = y_train,\n",
    "               y_pred = y_pred_train)"
   ]
  },
  {
   "cell_type": "code",
   "execution_count": null,
   "metadata": {},
   "outputs": [
    {
     "name": "stdout",
     "output_type": "stream",
     "text": [
      "              precision    recall  f1-score   support\n",
      "\n",
      "    stay (0)       0.28      0.16      0.21      7999\n",
      "    left (1)       0.41      0.57      0.48      7999\n",
      "\n",
      "    accuracy                           0.37     15998\n",
      "   macro avg       0.34      0.37      0.34     15998\n",
      "weighted avg       0.34      0.37      0.34     15998\n",
      "\n"
     ]
    }
   ],
   "source": [
    "# Tampilkan score\n",
    "print(classification_report(y_true = y_train,\n",
    "                            y_pred = y_pred_train,\n",
    "                            target_names = [\"stay (0)\", \"left (1)\"]))"
   ]
  },
  {
   "attachments": {},
   "cell_type": "markdown",
   "metadata": {},
   "source": [
    "**Baseline**\n",
    "- karena data sudah balance, accuracy baseline adalah 50%\n",
    "- model ini lebih buruk dibanding baseline, jadi harus diimprove\n",
    "\n",
    "**Focus**\n",
    "- `weighted_avg recall` bernilai 0.49, artinya dari yang **benar-benar** left, hanya 49% yang berhasil diprediksi left.\n",
    "- Berarti masih ada hampir 50% karyawan yang left tapi salah prediksi, dengan kata lain resikonya besar.\n",
    "- Kita ingin kecilkan hal tersebut"
   ]
  },
  {
   "cell_type": "code",
   "execution_count": null,
   "metadata": {},
   "outputs": [
    {
     "data": {
      "image/png": "[encoded data removed]",
      "text/plain": [
       "<Figure size 1000x700 with 1 Axes>"
      ]
     },
     "metadata": {},
     "output_type": "display_data"
    }
   ],
   "source": [
    "# ROC Curve\n",
    "fpr_lr, tpr_lr, threshold_lr = roc_curve(y_train,\n",
    "                                         y_pred_proba_train)\n",
    "roc_auc_lr = auc(fpr_lr, tpr_lr)\n",
    "\n",
    "plt.title('Receiver Operating Characteristic')\n",
    "plt.plot(fpr_lr, tpr_lr, 'b', label = 'AUC = %0.2f' % roc_auc_lr)\n",
    "plt.legend(loc = 'lower right')\n",
    "plt.plot([0, 1], [0, 1],'r--')\n",
    "plt.xlim([0, 1])\n",
    "plt.ylim([0, 1])\n",
    "plt.ylabel('True Positive Rate')\n",
    "plt.xlabel('False Positive Rate')\n",
    "plt.show()"
   ]
  },
  {
   "attachments": {},
   "cell_type": "markdown",
   "metadata": {},
   "source": [
    "pada data test"
   ]
  },
  {
   "cell_type": "code",
   "execution_count": null,
   "metadata": {},
   "outputs": [
    {
     "data": {
      "text/plain": [
       "array([[ 306, 1695],\n",
       "       [ 168,  230]], dtype=int64)"
      ]
     },
     "execution_count": 53,
     "metadata": {},
     "output_type": "execute_result"
    }
   ],
   "source": [
    "# Tampilkan confusion matrix\n",
    "confusion_matrix(y_true = y_test,\n",
    "                 y_pred = y_pred_test)"
   ]
  },
  {
   "cell_type": "code",
   "execution_count": null,
   "metadata": {},
   "outputs": [
    {
     "data": {
      "text/plain": [
       "0.22342642767819926"
      ]
     },
     "execution_count": 54,
     "metadata": {},
     "output_type": "execute_result"
    }
   ],
   "source": [
    "# Tampilkan score\n",
    "accuracy_score(y_true = y_test,\n",
    "               y_pred = y_pred_test)"
   ]
  },
  {
   "cell_type": "code",
   "execution_count": null,
   "metadata": {},
   "outputs": [
    {
     "name": "stdout",
     "output_type": "stream",
     "text": [
      "              precision    recall  f1-score   support\n",
      "\n",
      "    stay (0)       0.65      0.15      0.25      2001\n",
      "    left (1)       0.12      0.58      0.20       398\n",
      "\n",
      "    accuracy                           0.22      2399\n",
      "   macro avg       0.38      0.37      0.22      2399\n",
      "weighted avg       0.56      0.22      0.24      2399\n",
      "\n"
     ]
    }
   ],
   "source": [
    "# Tampilkan score\n",
    "print(classification_report(y_true = y_test,\n",
    "                            y_pred = y_pred_test,\n",
    "                            target_names = [\"stay (0)\", \"left (1)\"]))"
   ]
  },
  {
   "cell_type": "code",
   "execution_count": null,
   "metadata": {},
   "outputs": [
    {
     "data": {
      "image/png": "[encoded data removed]",
      "text/plain": [
       "<Figure size 1000x700 with 1 Axes>"
      ]
     },
     "metadata": {},
     "output_type": "display_data"
    }
   ],
   "source": [
    "# ROC Curve\n",
    "fpr_lr, tpr_lr, threshold_lr = roc_curve(y_test,\n",
    "                                         y_pred_proba_test)\n",
    "roc_auc_lr = auc(fpr_lr, tpr_lr)\n",
    "\n",
    "plt.title('Receiver Operating Characteristic')\n",
    "plt.plot(fpr_lr, tpr_lr, 'b', label = 'AUC = %0.2f' % roc_auc_lr)\n",
    "plt.legend(loc = 'lower right')\n",
    "plt.plot([0, 1], [0, 1],'r--')\n",
    "plt.xlim([0, 1])\n",
    "plt.ylim([0, 1])\n",
    "plt.ylabel('True Positive Rate')\n",
    "plt.xlabel('False Positive Rate')\n",
    "plt.show()"
   ]
  },
  {
   "attachments": {},
   "cell_type": "markdown",
   "metadata": {},
   "source": [
    "Masih jelek, ingin kita improve"
   ]
  },
  {
   "attachments": {},
   "cell_type": "markdown",
   "metadata": {},
   "source": [
    "---\n",
    "# Gradient Descent\n",
    "- Akurasi model random masih kecil, ingin kita tingkatkan\n",
    "- Artinya, **weight** ingin kita optimasi\n",
    "- Dapat dioptimasi menggunakan **Gradient Descent**\n",
    "<center>\n",
    "<img src=\"https://static.javatpoint.com/tutorial/machine-learning/images/gradient-descent-in-machine-learning1.png\">\n",
    "<br>\n",
    "<a href=\"https://www.javatpoint.com/gradient-descent-in-machine-learning\">source</a>\n",
    "</center>\n",
    "\n",
    "Algoritma:\n",
    "- Inisialisasi weight, *bisa random*\n",
    "- Cari gradient error terhadap weight\n",
    "- Lakukan update weight dari informasi gradient tersebut\n",
    "\n",
    "$$\n",
    "w_{\\text{new}} = w_{\\text{old}} - \\nabla_{w} E\n",
    "$$\n",
    "\n",
    "- Ulangi hingga stopping criteria tercapai (max. iteration atau weight tidak berubah --> $\\nabla_{w} E = 0$)\n",
    "\n",
    "Cari gradient error menggunakan chain rules\n",
    "​\n",
    "$$\n",
    "\\begin{align*}\n",
    "\\cfrac{\\partial \\text{error}}{\\partial w_{0}} &= \\cfrac{\\partial \\text{error}}{\\partial \\hat{y}} \\cdot \\cfrac{\\partial \\hat{y}}{\\partial a} \\cdot \\cfrac{\\partial a}{\\partial w_{0}} \\\\ \\\\\n",
    "\\cfrac{\\partial \\text{error}}{\\partial w_{1}} &= \\cfrac{\\partial \\text{error}}{\\partial \\hat{y}} \\cdot \\cfrac{\\partial \\hat{y}}{\\partial a} \\cdot \\cfrac{\\partial a}{\\partial w_{1}} \\\\ \\\\\n",
    "\\cfrac{\\partial \\text{error}}{\\partial w_{2}} &= \\cfrac{\\partial \\text{error}}{\\partial \\hat{y}} \\cdot \\cfrac{\\partial \\hat{y}}{\\partial a} \\cdot \\cfrac{\\partial a}{\\partial w_{2}} \\\\ \\\\\n",
    "\\vdots \\\\ \\\\ \n",
    "\\cfrac{\\partial \\text{error}}{\\partial w_{20}} &= \\cfrac{\\partial \\text{error}}{\\partial \\hat{y}} \\cdot \\cfrac{\\partial \\hat{y}}{\\partial a} \\cdot \\cfrac{\\partial a}{\\partial w_{20}}\n",
    "\\end{align*}\n",
    "$$\n",
    "Maka didapat\n",
    "​\n",
    "$$\n",
    "\\begin{align*}\n",
    "\\cfrac{\\partial \\text{error}}{\\partial \\hat{y}} &= -2 (y - \\hat{y}) \\\\ \\\\\n",
    "\\cfrac{\\partial \\hat{y}}{\\partial a} &= \\sigma(a)(1 - \\sigma(a)) \\\\ \\\\\n",
    "\\cfrac{\\partial a}{\\partial w_{0}} &= 1 \\\\ \\\\\n",
    "\\cfrac{\\partial a}{\\partial w_{1}} &= x_{1} \\\\ \\\\\n",
    "\\cfrac{\\partial a}{\\partial w_{2}} &= x_{2} \\\\ \\\\\n",
    "\\vdots \\\\ \\\\\n",
    "\\cfrac{\\partial a}{\\partial w_{20}} &= x_{20}\n",
    "\\end{align*}\n",
    "$$"
   ]
  },
  {
   "cell_type": "code",
   "execution_count": null,
   "metadata": {},
   "outputs": [],
   "source": [
    "def gradientDescent(X, y, \n",
    "                    learning_rate, max_iter, \n",
    "                    epsilon = 1e-6):\n",
    "    \"\"\"\n",
    "    Fungsi untuk melakukan update weight\n",
    "    \"\"\"\n",
    "    X = np.array(X)\n",
    "    n = X.shape[0]          # banyak data\n",
    "    p = X.shape[1] + 1      # banyak parameter\n",
    "\n",
    "    # Inisialisasi weights\n",
    "    w = np.ones(p)\n",
    "\n",
    "    # Inisialisasi\n",
    "    w_hist = []\n",
    "    loss_hist = []\n",
    "    iter = 0\n",
    "    previous_loss = 0\n",
    "\n",
    "    # Lakukan iterasi\n",
    "    for iter in range(max_iter):\n",
    "        # Buat prediksi\n",
    "        a = preActivation(X = X, w = w)\n",
    "        y_pred = activationFunction(a = a, types = \"sigmoid\")\n",
    "\n",
    "        # Cari error\n",
    "        current_loss = np.linalg.norm(y - y_pred)**2\n",
    "        \n",
    "        if np.abs(previous_loss - current_loss) < epsilon:\n",
    "            break\n",
    "\n",
    "        # Update\n",
    "        previous_loss = current_loss\n",
    "        loss_hist.append(current_loss)\n",
    "        w_hist.append(w)\n",
    "        \n",
    "        # Cari gradient error\n",
    "        derr_dy = -2 * (y - y_pred)\n",
    "        dy_da = y_pred * (1 - y_pred)\n",
    "        \n",
    "        derr_dw = np.zeros(p)\n",
    "        for j in range(p):\n",
    "            # Cari da_dw_j\n",
    "            if j == 0:\n",
    "                da_dw = np.ones(n)\n",
    "            else:\n",
    "                da_dw = X[:, j-1]\n",
    "            \n",
    "            # Cari error\n",
    "            derr_dw[j] = np.sum(derr_dy * dy_da * da_dw)\n",
    "\n",
    "\n",
    "        # Update weight dari gradient error\n",
    "        for j in range(p):\n",
    "            w[j] = w[j] - learning_rate * derr_dw[j]\n",
    "\n",
    "        if iter%100 == 0:\n",
    "            print(f\"iterasi {iter+1} - Loss: {current_loss:.4f}\")\n",
    "\n",
    "    # Print last iteration\n",
    "    print(f\"iterasi {iter+1} - Loss: {current_loss:.4f}\")\n",
    "\n",
    "    return loss_hist, w_hist"
   ]
  },
  {
   "cell_type": "code",
   "execution_count": null,
   "metadata": {},
   "outputs": [
    {
     "name": "stdout",
     "output_type": "stream",
     "text": [
      "iterasi 1 - Loss: 7487.2876\n",
      "iterasi 101 - Loss: 1974.6235\n",
      "iterasi 201 - Loss: 1980.0841\n",
      "iterasi 301 - Loss: 1976.7174\n",
      "iterasi 401 - Loss: 1974.9366\n",
      "iterasi 501 - Loss: 1974.4342\n",
      "iterasi 601 - Loss: 1974.1284\n",
      "iterasi 701 - Loss: 1973.9098\n",
      "iterasi 801 - Loss: 1973.7490\n",
      "iterasi 901 - Loss: 1973.6288\n",
      "iterasi 1001 - Loss: 1973.5377\n",
      "iterasi 1101 - Loss: 1973.4680\n",
      "iterasi 1201 - Loss: 1973.4144\n",
      "iterasi 1301 - Loss: 1973.3729\n",
      "iterasi 1401 - Loss: 1973.3406\n",
      "iterasi 1501 - Loss: 1973.3154\n",
      "iterasi 1601 - Loss: 1973.2957\n",
      "iterasi 1701 - Loss: 1973.2802\n",
      "iterasi 1801 - Loss: 1973.2681\n",
      "iterasi 1901 - Loss: 1973.2586\n",
      "iterasi 2001 - Loss: 1973.2511\n",
      "iterasi 2101 - Loss: 1973.2452\n",
      "iterasi 2201 - Loss: 1973.2405\n",
      "iterasi 2301 - Loss: 1973.2369\n",
      "iterasi 2401 - Loss: 1973.2340\n",
      "iterasi 2501 - Loss: 1973.2317\n",
      "iterasi 2601 - Loss: 1973.2299\n",
      "iterasi 2701 - Loss: 1973.2285\n",
      "iterasi 2801 - Loss: 1973.2274\n",
      "iterasi 2901 - Loss: 1973.2265\n",
      "iterasi 3001 - Loss: 1973.2258\n",
      "iterasi 3101 - Loss: 1973.2252\n",
      "iterasi 3201 - Loss: 1973.2248\n",
      "iterasi 3301 - Loss: 1973.2244\n",
      "iterasi 3401 - Loss: 1973.2242\n",
      "iterasi 3501 - Loss: 1973.2240\n",
      "iterasi 3601 - Loss: 1973.2238\n",
      "iterasi 3701 - Loss: 1973.2237\n",
      "iterasi 3801 - Loss: 1973.2236\n",
      "iterasi 3901 - Loss: 1973.2235\n",
      "iterasi 4001 - Loss: 1973.2234\n",
      "iterasi 4101 - Loss: 1973.2234\n",
      "iterasi 4201 - Loss: 1973.2233\n",
      "iterasi 4301 - Loss: 1973.2233\n",
      "iterasi 4401 - Loss: 1973.2233\n",
      "iterasi 4501 - Loss: 1973.2232\n",
      "iterasi 4601 - Loss: 1973.2232\n",
      "iterasi 4701 - Loss: 1973.2232\n",
      "iterasi 4801 - Loss: 1973.2232\n",
      "iterasi 4901 - Loss: 1973.2232\n",
      "iterasi 5000 - Loss: 1986.7147\n"
     ]
    }
   ],
   "source": [
    "loss_hist, w_hist = gradientDescent(X = X_train_clean,\n",
    "                                    y = y_train,\n",
    "                                    learning_rate = 0.01,\n",
    "                                    max_iter = 5000)"
   ]
  },
  {
   "cell_type": "code",
   "execution_count": null,
   "metadata": {},
   "outputs": [
    {
     "data": {
      "image/png": "[encoded data removed]",
      "text/plain": [
       "<Figure size 1000x700 with 1 Axes>"
      ]
     },
     "metadata": {},
     "output_type": "display_data"
    }
   ],
   "source": [
    "# Plot Error history\n",
    "plt.plot([i for i in range(len(loss_hist))], loss_hist)\n",
    "plt.xlabel(\"Iteration\")\n",
    "plt.ylabel(\"Loss\")\n",
    "\n",
    "plt.show()"
   ]
  },
  {
   "cell_type": "code",
   "execution_count": null,
   "metadata": {},
   "outputs": [
    {
     "data": {
      "text/plain": [
       "array([ -2.45867625,  -0.04562661, -10.4318163 ,   0.86908455,\n",
       "        18.47592683,  -7.08388912,  -0.82781371,  -3.70562958,\n",
       "         0.80315708,   0.42570915,   0.58959521,   0.83347193,\n",
       "         0.43217527,   0.8620036 ,   0.84306795,   1.67975205,\n",
       "         0.9767239 ,   1.40559303,   0.1368967 ,   1.4257927 ,\n",
       "         0.96671016])"
      ]
     },
     "execution_count": 60,
     "metadata": {},
     "output_type": "execute_result"
    }
   ],
   "source": [
    "# Cari best weights\n",
    "w_best = w_hist[-1]\n",
    "w_best"
   ]
  },
  {
   "attachments": {},
   "cell_type": "markdown",
   "metadata": {},
   "source": [
    "pada data train"
   ]
  },
  {
   "cell_type": "code",
   "execution_count": null,
   "metadata": {},
   "outputs": [],
   "source": [
    "# Cari pre-activation function\n",
    "a = preActivation(X = X_train_clean,\n",
    "                  w = w_best)"
   ]
  },
  {
   "cell_type": "code",
   "execution_count": null,
   "metadata": {},
   "outputs": [],
   "source": [
    "# Cari output --> activate the pre-activation\n",
    "# Karena klasifikasi, activation function menggunakan Sigmoid\n",
    "y_pred_proba_train = activationFunction(a = a,\n",
    "                                        types = \"sigmoid\")"
   ]
  },
  {
   "cell_type": "code",
   "execution_count": null,
   "metadata": {},
   "outputs": [],
   "source": [
    "# Buat prediksi\n",
    "thresh = 0.5\n",
    "\n",
    "y_pred_train = (y_pred_proba_train > thresh).astype(\"int\")"
   ]
  },
  {
   "attachments": {},
   "cell_type": "markdown",
   "metadata": {},
   "source": [
    "pada data test"
   ]
  },
  {
   "cell_type": "code",
   "execution_count": null,
   "metadata": {},
   "outputs": [],
   "source": [
    "# Cari pre-activation function\n",
    "a = preActivation(X = X_test_clean,\n",
    "                  w = w_best)"
   ]
  },
  {
   "cell_type": "code",
   "execution_count": null,
   "metadata": {},
   "outputs": [],
   "source": [
    "# Cari output --> activate the pre-activation\n",
    "# Karena klasifikasi, activation function menggunakan Sigmoid\n",
    "y_pred_proba_test = activationFunction(a = a,\n",
    "                                       types = \"sigmoid\")"
   ]
  },
  {
   "cell_type": "code",
   "execution_count": null,
   "metadata": {},
   "outputs": [],
   "source": [
    "# Buat prediksi\n",
    "y_pred_test = (y_pred_proba_test > thresh).astype(\"int\")"
   ]
  },
  {
   "attachments": {},
   "cell_type": "markdown",
   "metadata": {},
   "source": [
    "cek performa\n",
    "\n",
    "pada data train"
   ]
  },
  {
   "cell_type": "code",
   "execution_count": null,
   "metadata": {},
   "outputs": [
    {
     "data": {
      "text/plain": [
       "array([[6308, 1691],\n",
       "       [ 363, 7636]], dtype=int64)"
      ]
     },
     "execution_count": 67,
     "metadata": {},
     "output_type": "execute_result"
    }
   ],
   "source": [
    "# Tampilkan confusion matrix\n",
    "confusion_matrix(y_true = y_train,\n",
    "                 y_pred = y_pred_train)"
   ]
  },
  {
   "cell_type": "code",
   "execution_count": null,
   "metadata": {},
   "outputs": [
    {
     "data": {
      "text/plain": [
       "0.8716089511188898"
      ]
     },
     "execution_count": 68,
     "metadata": {},
     "output_type": "execute_result"
    }
   ],
   "source": [
    "# Tampilkan score\n",
    "accuracy_score(y_true = y_train,\n",
    "               y_pred = y_pred_train)"
   ]
  },
  {
   "cell_type": "code",
   "execution_count": null,
   "metadata": {},
   "outputs": [
    {
     "name": "stdout",
     "output_type": "stream",
     "text": [
      "              precision    recall  f1-score   support\n",
      "\n",
      "    stay (0)       0.95      0.79      0.86      7999\n",
      "    left (1)       0.82      0.95      0.88      7999\n",
      "\n",
      "    accuracy                           0.87     15998\n",
      "   macro avg       0.88      0.87      0.87     15998\n",
      "weighted avg       0.88      0.87      0.87     15998\n",
      "\n"
     ]
    }
   ],
   "source": [
    "# Tampilkan score\n",
    "print(classification_report(y_true = y_train,\n",
    "                            y_pred = y_pred_train,\n",
    "                            target_names = [\"stay (0)\", \"left (1)\"]))"
   ]
  },
  {
   "attachments": {},
   "cell_type": "markdown",
   "metadata": {},
   "source": [
    "- Ada perbaikan recall, tadinya 49% sekarang jadi 87%\n",
    "- Membaik"
   ]
  },
  {
   "cell_type": "code",
   "execution_count": null,
   "metadata": {},
   "outputs": [
    {
     "data": {
      "image/png": "[encoded data removed]",
      "text/plain": [
       "<Figure size 1000x700 with 1 Axes>"
      ]
     },
     "metadata": {},
     "output_type": "display_data"
    }
   ],
   "source": [
    "# ROC Curve\n",
    "fpr_lr, tpr_lr, threshold_lr = roc_curve(y_train,\n",
    "                                         y_pred_proba_train)\n",
    "roc_auc_lr = auc(fpr_lr, tpr_lr)\n",
    "\n",
    "plt.title('Receiver Operating Characteristic')\n",
    "plt.plot(fpr_lr, tpr_lr, 'b', label = 'AUC = %0.2f' % roc_auc_lr)\n",
    "plt.legend(loc = 'lower right')\n",
    "plt.plot([0, 1], [0, 1],'r--')\n",
    "plt.xlim([0, 1])\n",
    "plt.ylim([0, 1])\n",
    "plt.ylabel('True Positive Rate')\n",
    "plt.xlabel('False Positive Rate')\n",
    "plt.show()"
   ]
  },
  {
   "attachments": {},
   "cell_type": "markdown",
   "metadata": {},
   "source": [
    "pada data test"
   ]
  },
  {
   "cell_type": "code",
   "execution_count": null,
   "metadata": {},
   "outputs": [
    {
     "data": {
      "text/plain": [
       "array([[1545,  456],\n",
       "       [  24,  374]], dtype=int64)"
      ]
     },
     "execution_count": 71,
     "metadata": {},
     "output_type": "execute_result"
    }
   ],
   "source": [
    "# Tampilkan confusion matrix\n",
    "confusion_matrix(y_true = y_test,\n",
    "                 y_pred = y_pred_test)"
   ]
  },
  {
   "cell_type": "code",
   "execution_count": null,
   "metadata": {},
   "outputs": [
    {
     "data": {
      "text/plain": [
       "0.7999166319299709"
      ]
     },
     "execution_count": 72,
     "metadata": {},
     "output_type": "execute_result"
    }
   ],
   "source": [
    "# Tampilkan score\n",
    "accuracy_score(y_true = y_test,\n",
    "               y_pred = y_pred_test)"
   ]
  },
  {
   "cell_type": "code",
   "execution_count": null,
   "metadata": {},
   "outputs": [
    {
     "name": "stdout",
     "output_type": "stream",
     "text": [
      "              precision    recall  f1-score   support\n",
      "\n",
      "    stay (0)       0.98      0.77      0.87      2001\n",
      "    left (1)       0.45      0.94      0.61       398\n",
      "\n",
      "    accuracy                           0.80      2399\n",
      "   macro avg       0.72      0.86      0.74      2399\n",
      "weighted avg       0.90      0.80      0.82      2399\n",
      "\n"
     ]
    }
   ],
   "source": [
    "# Tampilkan score\n",
    "print(classification_report(y_true = y_test,\n",
    "                            y_pred = y_pred_test,\n",
    "                            target_names = [\"stay (0)\", \"left (1)\"]))"
   ]
  },
  {
   "cell_type": "code",
   "execution_count": null,
   "metadata": {},
   "outputs": [
    {
     "data": {
      "image/png": "[encoded data removed]",
      "text/plain": [
       "<Figure size 1000x700 with 1 Axes>"
      ]
     },
     "metadata": {},
     "output_type": "display_data"
    }
   ],
   "source": [
    "# ROC Curve\n",
    "fpr_lr, tpr_lr, threshold_lr = roc_curve(y_test,\n",
    "                                         y_pred_proba_test)\n",
    "roc_auc_lr = auc(fpr_lr, tpr_lr)\n",
    "\n",
    "plt.title('Receiver Operating Characteristic')\n",
    "plt.plot(fpr_lr, tpr_lr, 'b', label = 'AUC = %0.2f' % roc_auc_lr)\n",
    "plt.legend(loc = 'lower right')\n",
    "plt.plot([0, 1], [0, 1],'r--')\n",
    "plt.xlim([0, 1])\n",
    "plt.ylim([0, 1])\n",
    "plt.ylabel('True Positive Rate')\n",
    "plt.xlabel('False Positive Rate')\n",
    "plt.show()"
   ]
  },
  {
   "attachments": {},
   "cell_type": "markdown",
   "metadata": {},
   "source": [
    "---\n",
    "# Membuat Model Neural Network"
   ]
  },
  {
   "cell_type": "code",
   "execution_count": null,
   "metadata": {},
   "outputs": [
    {
     "ename": "ModuleNotFoundError",
     "evalue": "No module named 'tensorflow'",
     "output_type": "error",
     "traceback": [
      "\u001b[1;31m---------------------------------------------------------------------------\u001b[0m",
      "\u001b[1;31mModuleNotFoundError\u001b[0m                       Traceback (most recent call last)",
      "Cell \u001b[1;32mIn[75], line 2\u001b[0m\n\u001b[0;32m      1\u001b[0m \u001b[39m# Import library\u001b[39;00m\n\u001b[1;32m----> 2\u001b[0m \u001b[39mimport\u001b[39;00m \u001b[39mtensorflow\u001b[39;00m \u001b[39mas\u001b[39;00m \u001b[39mtf\u001b[39;00m\n\u001b[0;32m      3\u001b[0m \u001b[39mfrom\u001b[39;00m \u001b[39mtensorflow\u001b[39;00m\u001b[39m.\u001b[39;00m\u001b[39mkeras\u001b[39;00m\u001b[39m.\u001b[39;00m\u001b[39mmodels\u001b[39;00m \u001b[39mimport\u001b[39;00m Sequential\n\u001b[0;32m      4\u001b[0m \u001b[39mfrom\u001b[39;00m \u001b[39mtensorflow\u001b[39;00m\u001b[39m.\u001b[39;00m\u001b[39mkeras\u001b[39;00m\u001b[39m.\u001b[39;00m\u001b[39mlayers\u001b[39;00m \u001b[39mimport\u001b[39;00m Dense\n",
      "\u001b[1;31mModuleNotFoundError\u001b[0m: No module named 'tensorflow'"
     ]
    }
   ],
   "source": [
    "# Import library\n",
    "import tensorflow as tf\n",
    "from tensorflow.keras.models import Sequential\n",
    "from tensorflow.keras.layers import Dense\n",
    "from tensorflow.keras.optimizers import SGD"
   ]
  },
  {
   "attachments": {},
   "cell_type": "markdown",
   "metadata": {},
   "source": [
    "**Arsitektur Simpel**"
   ]
  },
  {
   "cell_type": "code",
   "execution_count": null,
   "metadata": {},
   "outputs": [],
   "source": [
    "# Buat arsitektur model dengan 1 perceptron\n",
    "model = Sequential([\n",
    "    Dense(1, input_shape = (X_train_clean.shape[1],), activation = \"sigmoid\")\n",
    "])\n",
    "\n",
    "# Buat optimizer, menggunakan ADAM (varian gradient descent)\n",
    "opt = SGD(learning_rate = 0.01)\n",
    "\n",
    "# Compile model\n",
    "model.compile(loss = \"binary_crossentropy\",\n",
    "              optimizer = opt,\n",
    "              metrics = [\"accuracy\"])"
   ]
  },
  {
   "cell_type": "code",
   "execution_count": null,
   "metadata": {},
   "outputs": [],
   "source": [
    "# Train model\n",
    "model_hist = model.fit(X_train_clean, y_train,\n",
    "                       epochs = 10,\n",
    "                       verbose = 1)"
   ]
  },
  {
   "cell_type": "code",
   "execution_count": null,
   "metadata": {},
   "outputs": [],
   "source": [
    "# Summary Model\n",
    "model.summary()"
   ]
  },
  {
   "cell_type": "code",
   "execution_count": null,
   "metadata": {},
   "outputs": [],
   "source": [
    "# Plot Error\n",
    "plt.plot(1 + np.arange(10), model_hist.history[\"loss\"], marker=\"o\")\n",
    "\n",
    "plt.xlabel(\"epoch\")\n",
    "plt.ylabel(\"loss\")\n",
    "plt.show()"
   ]
  },
  {
   "attachments": {},
   "cell_type": "markdown",
   "metadata": {},
   "source": [
    "pada data train"
   ]
  },
  {
   "cell_type": "code",
   "execution_count": null,
   "metadata": {},
   "outputs": [],
   "source": [
    "# Prediksi\n",
    "y_pred_proba_train = model.predict(X_train_clean)\n",
    "y_pred_proba_train"
   ]
  },
  {
   "cell_type": "code",
   "execution_count": null,
   "metadata": {},
   "outputs": [],
   "source": [
    "# Buat prediksi\n",
    "thresh = 0.5\n",
    "\n",
    "y_pred_train = (y_pred_proba_train > thresh).astype(\"int\")"
   ]
  },
  {
   "attachments": {},
   "cell_type": "markdown",
   "metadata": {},
   "source": [
    "pada data test"
   ]
  },
  {
   "cell_type": "code",
   "execution_count": null,
   "metadata": {},
   "outputs": [],
   "source": [
    "# Prediksi\n",
    "y_pred_proba_test = model.predict(X_test_clean)\n",
    "y_pred_proba_test"
   ]
  },
  {
   "cell_type": "code",
   "execution_count": null,
   "metadata": {},
   "outputs": [],
   "source": [
    "# Buat prediksi\n",
    "y_pred_test = (y_pred_proba_test > thresh).astype(\"int\")"
   ]
  },
  {
   "attachments": {},
   "cell_type": "markdown",
   "metadata": {},
   "source": [
    "cek performa\n",
    "\n",
    "pada data train"
   ]
  },
  {
   "cell_type": "code",
   "execution_count": null,
   "metadata": {},
   "outputs": [],
   "source": [
    "# Tampilkan confusion matrix\n",
    "confusion_matrix(y_true = y_train,\n",
    "                 y_pred = y_pred_train)"
   ]
  },
  {
   "cell_type": "code",
   "execution_count": null,
   "metadata": {},
   "outputs": [],
   "source": [
    "# Tampilkan score\n",
    "accuracy_score(y_true = y_train,\n",
    "               y_pred = y_pred_train)"
   ]
  },
  {
   "cell_type": "code",
   "execution_count": null,
   "metadata": {},
   "outputs": [],
   "source": [
    "# Tampilkan score\n",
    "print(classification_report(y_true = y_train,\n",
    "                            y_pred = y_pred_train,\n",
    "                            target_names = [\"stay (0)\", \"left (1)\"]))"
   ]
  },
  {
   "cell_type": "code",
   "execution_count": null,
   "metadata": {},
   "outputs": [],
   "source": [
    "# ROC Curve\n",
    "fpr_lr, tpr_lr, threshold_lr = roc_curve(y_train,\n",
    "                                         y_pred_proba_train)\n",
    "roc_auc_lr = auc(fpr_lr, tpr_lr)\n",
    "\n",
    "plt.title('Receiver Operating Characteristic')\n",
    "plt.plot(fpr_lr, tpr_lr, 'b', label = 'AUC = %0.2f' % roc_auc_lr)\n",
    "plt.legend(loc = 'lower right')\n",
    "plt.plot([0, 1], [0, 1],'r--')\n",
    "plt.xlim([0, 1])\n",
    "plt.ylim([0, 1])\n",
    "plt.ylabel('True Positive Rate')\n",
    "plt.xlabel('False Positive Rate')\n",
    "plt.show()"
   ]
  },
  {
   "attachments": {},
   "cell_type": "markdown",
   "metadata": {},
   "source": [
    "pada data test"
   ]
  },
  {
   "cell_type": "code",
   "execution_count": null,
   "metadata": {},
   "outputs": [],
   "source": [
    "# Tampilkan confusion matrix\n",
    "confusion_matrix(y_true = y_test,\n",
    "                 y_pred = y_pred_test)"
   ]
  },
  {
   "cell_type": "code",
   "execution_count": null,
   "metadata": {},
   "outputs": [],
   "source": [
    "# Tampilkan score\n",
    "accuracy_score(y_true = y_test,\n",
    "               y_pred = y_pred_test)"
   ]
  },
  {
   "cell_type": "code",
   "execution_count": null,
   "metadata": {},
   "outputs": [],
   "source": [
    "# Tampilkan score\n",
    "print(classification_report(y_true = y_test,\n",
    "                            y_pred = y_pred_test,\n",
    "                            target_names = [\"stay (0)\", \"left (1)\"]))"
   ]
  },
  {
   "cell_type": "code",
   "execution_count": null,
   "metadata": {},
   "outputs": [],
   "source": [
    "# ROC Curve\n",
    "fpr_lr, tpr_lr, threshold_lr = roc_curve(y_test,\n",
    "                                         y_pred_proba_test)\n",
    "roc_auc_lr = auc(fpr_lr, tpr_lr)\n",
    "\n",
    "plt.title('Receiver Operating Characteristic')\n",
    "plt.plot(fpr_lr, tpr_lr, 'b', label = 'AUC = %0.2f' % roc_auc_lr)\n",
    "plt.legend(loc = 'lower right')\n",
    "plt.plot([0, 1], [0, 1],'r--')\n",
    "plt.xlim([0, 1])\n",
    "plt.ylim([0, 1])\n",
    "plt.ylabel('True Positive Rate')\n",
    "plt.xlabel('False Positive Rate')\n",
    "plt.show()"
   ]
  },
  {
   "attachments": {},
   "cell_type": "markdown",
   "metadata": {},
   "source": [
    "**Arsitektur Lebih Kompleks**\n",
    "\n",
    "- 1 hidden layer, dengan 3 neuron"
   ]
  },
  {
   "cell_type": "code",
   "execution_count": null,
   "metadata": {},
   "outputs": [],
   "source": [
    "# Buat arsitektur model dengan 1 perceptron\n",
    "model = Sequential([\n",
    "    Dense(3, input_shape = (X_train_clean.shape[1],), activation = \"sigmoid\"),\n",
    "    Dense(1, activation = \"sigmoid\")\n",
    "])\n",
    "\n",
    "# Buat optimizer, menggunakan ADAM (varian gradient descent)\n",
    "opt = SGD(learning_rate = 0.01)\n",
    "\n",
    "# Compile model\n",
    "model.compile(loss = \"binary_crossentropy\",\n",
    "              optimizer = opt,\n",
    "              metrics = [\"accuracy\"])"
   ]
  },
  {
   "cell_type": "code",
   "execution_count": null,
   "metadata": {},
   "outputs": [],
   "source": [
    "# Train model\n",
    "model_hist = model.fit(X_train_clean, y_train,\n",
    "                       epochs = 10,\n",
    "                       verbose = 1)"
   ]
  },
  {
   "cell_type": "code",
   "execution_count": null,
   "metadata": {},
   "outputs": [],
   "source": [
    "# Summary Model\n",
    "model.summary()"
   ]
  },
  {
   "cell_type": "code",
   "execution_count": null,
   "metadata": {},
   "outputs": [],
   "source": [
    "# Plot Error\n",
    "plt.plot(1 + np.arange(10), model_hist.history[\"loss\"], marker=\"o\")\n",
    "\n",
    "plt.xlabel(\"epoch\")\n",
    "plt.ylabel(\"loss\")\n",
    "plt.show()"
   ]
  },
  {
   "cell_type": "code",
   "execution_count": null,
   "metadata": {},
   "outputs": [],
   "source": [
    "# Train model - Teruskan 100 iterasi lagi\n",
    "model_hist = model.fit(X_train_clean, y_train,\n",
    "                       epochs = 100,\n",
    "                       verbose = 1)"
   ]
  },
  {
   "cell_type": "code",
   "execution_count": null,
   "metadata": {},
   "outputs": [],
   "source": [
    "# Plot Error\n",
    "plt.plot(1 + np.arange(100), model_hist.history[\"loss\"], marker=\"o\")\n",
    "\n",
    "plt.xlabel(\"epoch\")\n",
    "plt.ylabel(\"loss\")\n",
    "plt.show()"
   ]
  },
  {
   "attachments": {},
   "cell_type": "markdown",
   "metadata": {},
   "source": [
    "pada data train"
   ]
  },
  {
   "cell_type": "code",
   "execution_count": null,
   "metadata": {},
   "outputs": [],
   "source": [
    "# Prediksi\n",
    "y_pred_proba_train = model.predict(X_train_clean)\n",
    "y_pred_proba_train"
   ]
  },
  {
   "cell_type": "code",
   "execution_count": null,
   "metadata": {},
   "outputs": [],
   "source": [
    "# Buat prediksi\n",
    "thresh = 0.5\n",
    "\n",
    "y_pred_train = (y_pred_proba_train > thresh).astype(\"int\")"
   ]
  },
  {
   "attachments": {},
   "cell_type": "markdown",
   "metadata": {},
   "source": [
    "pada data test"
   ]
  },
  {
   "cell_type": "code",
   "execution_count": null,
   "metadata": {},
   "outputs": [],
   "source": [
    "# Prediksi\n",
    "y_pred_proba_test = model.predict(X_test_clean)\n",
    "y_pred_proba_test"
   ]
  },
  {
   "cell_type": "code",
   "execution_count": null,
   "metadata": {},
   "outputs": [],
   "source": [
    "# Buat prediksi\n",
    "y_pred_test = (y_pred_proba_test > thresh).astype(\"int\")"
   ]
  },
  {
   "attachments": {},
   "cell_type": "markdown",
   "metadata": {},
   "source": [
    "cek performa\n",
    "\n",
    "pada data train"
   ]
  },
  {
   "cell_type": "code",
   "execution_count": null,
   "metadata": {},
   "outputs": [],
   "source": [
    "# Tampilkan confusion matrix\n",
    "confusion_matrix(y_true = y_train,\n",
    "                 y_pred = y_pred_train)"
   ]
  },
  {
   "cell_type": "code",
   "execution_count": null,
   "metadata": {},
   "outputs": [],
   "source": [
    "# Tampilkan score\n",
    "accuracy_score(y_true = y_train,\n",
    "               y_pred = y_pred_train)"
   ]
  },
  {
   "cell_type": "code",
   "execution_count": null,
   "metadata": {},
   "outputs": [],
   "source": [
    "# Tampilkan score\n",
    "print(classification_report(y_true = y_train,\n",
    "                            y_pred = y_pred_train,\n",
    "                            target_names = [\"stay (0)\", \"left (1)\"]))"
   ]
  },
  {
   "cell_type": "code",
   "execution_count": null,
   "metadata": {},
   "outputs": [],
   "source": [
    "# ROC Curve\n",
    "fpr_lr, tpr_lr, threshold_lr = roc_curve(y_train,\n",
    "                                         y_pred_proba_train)\n",
    "roc_auc_lr = auc(fpr_lr, tpr_lr)\n",
    "\n",
    "plt.title('Receiver Operating Characteristic')\n",
    "plt.plot(fpr_lr, tpr_lr, 'b', label = 'AUC = %0.2f' % roc_auc_lr)\n",
    "plt.legend(loc = 'lower right')\n",
    "plt.plot([0, 1], [0, 1],'r--')\n",
    "plt.xlim([0, 1])\n",
    "plt.ylim([0, 1])\n",
    "plt.ylabel('True Positive Rate')\n",
    "plt.xlabel('False Positive Rate')\n",
    "plt.show()"
   ]
  },
  {
   "attachments": {},
   "cell_type": "markdown",
   "metadata": {},
   "source": [
    "pada data test"
   ]
  },
  {
   "cell_type": "code",
   "execution_count": null,
   "metadata": {},
   "outputs": [],
   "source": [
    "# Tampilkan confusion matrix\n",
    "confusion_matrix(y_true = y_test,\n",
    "                 y_pred = y_pred_test)"
   ]
  },
  {
   "cell_type": "code",
   "execution_count": null,
   "metadata": {},
   "outputs": [],
   "source": [
    "# Tampilkan score\n",
    "accuracy_score(y_true = y_test,\n",
    "               y_pred = y_pred_test)"
   ]
  },
  {
   "cell_type": "code",
   "execution_count": null,
   "metadata": {},
   "outputs": [],
   "source": [
    "# Tampilkan score\n",
    "print(classification_report(y_true = y_test,\n",
    "                            y_pred = y_pred_test,\n",
    "                            target_names = [\"stay (0)\", \"left (1)\"]))"
   ]
  },
  {
   "attachments": {},
   "cell_type": "markdown",
   "metadata": {},
   "source": [
    "- Recall bisa dinaikan hingga 88%"
   ]
  },
  {
   "cell_type": "code",
   "execution_count": null,
   "metadata": {},
   "outputs": [],
   "source": [
    "# ROC Curve\n",
    "fpr_lr, tpr_lr, threshold_lr = roc_curve(y_test,\n",
    "                                         y_pred_proba_test)\n",
    "roc_auc_lr = auc(fpr_lr, tpr_lr)\n",
    "\n",
    "plt.title('Receiver Operating Characteristic')\n",
    "plt.plot(fpr_lr, tpr_lr, 'b', label = 'AUC = %0.2f' % roc_auc_lr)\n",
    "plt.legend(loc = 'lower right')\n",
    "plt.plot([0, 1], [0, 1],'r--')\n",
    "plt.xlim([0, 1])\n",
    "plt.ylim([0, 1])\n",
    "plt.ylabel('True Positive Rate')\n",
    "plt.xlabel('False Positive Rate')\n",
    "plt.show()"
   ]
  }
 ],
 "metadata": {
  "kernelspec": {
   "display_name": "base",
   "language": "python",
   "name": "python3"
  },
  "language_info": {
   "codemirror_mode": {
    "name": "ipython",
    "version": 3
   },
   "file_extension": ".py",
   "mimetype": "text/x-python",
   "name": "python",
   "nbconvert_exporter": "python",
   "pygments_lexer": "ipython3",
   "version": "3.10.9"
  },
  "orig_nbformat": 4
 },
 "nbformat": 4,
 "nbformat_minor": 2
}
