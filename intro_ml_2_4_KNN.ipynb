{
 "cells": [
  {
   "cell_type": "code",
   "execution_count": 1,
   "metadata": {},
   "outputs": [],
   "source": [
    "import numpy as np\n",
    "import pandas as pd\n",
    "\n",
    "import matplotlib.pyplot as plt\n",
    "import seaborn as sns\n",
    "\n",
    "plt.rcParams.update({'font.size': 16})"
   ]
  },
  {
   "cell_type": "code",
   "execution_count": 2,
   "metadata": {},
   "outputs": [
    {
     "data": {
      "text/html": [
       "<div>\n",
       "<style scoped>\n",
       "    .dataframe tbody tr th:only-of-type {\n",
       "        vertical-align: middle;\n",
       "    }\n",
       "\n",
       "    .dataframe tbody tr th {\n",
       "        vertical-align: top;\n",
       "    }\n",
       "\n",
       "    .dataframe thead th {\n",
       "        text-align: right;\n",
       "    }\n",
       "</style>\n",
       "<table border=\"1\" class=\"dataframe\">\n",
       "  <thead>\n",
       "    <tr style=\"text-align: right;\">\n",
       "      <th></th>\n",
       "      <th>x_1</th>\n",
       "      <th>x_2</th>\n",
       "      <th>y</th>\n",
       "    </tr>\n",
       "  </thead>\n",
       "  <tbody>\n",
       "    <tr>\n",
       "      <th>0</th>\n",
       "      <td>0.189645</td>\n",
       "      <td>-27.017739</td>\n",
       "      <td>0</td>\n",
       "    </tr>\n",
       "    <tr>\n",
       "      <th>1</th>\n",
       "      <td>0.692067</td>\n",
       "      <td>-9.033156</td>\n",
       "      <td>0</td>\n",
       "    </tr>\n",
       "    <tr>\n",
       "      <th>2</th>\n",
       "      <td>-1.003673</td>\n",
       "      <td>-30.560446</td>\n",
       "      <td>0</td>\n",
       "    </tr>\n",
       "    <tr>\n",
       "      <th>3</th>\n",
       "      <td>0.149332</td>\n",
       "      <td>-51.732407</td>\n",
       "      <td>0</td>\n",
       "    </tr>\n",
       "    <tr>\n",
       "      <th>4</th>\n",
       "      <td>0.132216</td>\n",
       "      <td>-13.741323</td>\n",
       "      <td>0</td>\n",
       "    </tr>\n",
       "  </tbody>\n",
       "</table>\n",
       "</div>"
      ],
      "text/plain": [
       "        x_1        x_2  y\n",
       "0  0.189645 -27.017739  0\n",
       "1  0.692067  -9.033156  0\n",
       "2 -1.003673 -30.560446  0\n",
       "3  0.149332 -51.732407  0\n",
       "4  0.132216 -13.741323  0"
      ]
     },
     "execution_count": 2,
     "metadata": {},
     "output_type": "execute_result"
    }
   ],
   "source": [
    "# data preparation\n",
    "data_train = pd.read_csv(\"data/data_train.csv\")\n",
    "data_train.head()"
   ]
  },
  {
   "cell_type": "code",
   "execution_count": 3,
   "metadata": {},
   "outputs": [
    {
     "data": {
      "text/html": [
       "<div>\n",
       "<style scoped>\n",
       "    .dataframe tbody tr th:only-of-type {\n",
       "        vertical-align: middle;\n",
       "    }\n",
       "\n",
       "    .dataframe tbody tr th {\n",
       "        vertical-align: top;\n",
       "    }\n",
       "\n",
       "    .dataframe thead th {\n",
       "        text-align: right;\n",
       "    }\n",
       "</style>\n",
       "<table border=\"1\" class=\"dataframe\">\n",
       "  <thead>\n",
       "    <tr style=\"text-align: right;\">\n",
       "      <th></th>\n",
       "      <th>x_1</th>\n",
       "      <th>x_2</th>\n",
       "    </tr>\n",
       "  </thead>\n",
       "  <tbody>\n",
       "    <tr>\n",
       "      <th>0</th>\n",
       "      <td>0.5</td>\n",
       "      <td>29.0</td>\n",
       "    </tr>\n",
       "  </tbody>\n",
       "</table>\n",
       "</div>"
      ],
      "text/plain": [
       "   x_1   x_2\n",
       "0  0.5  29.0"
      ]
     },
     "execution_count": 3,
     "metadata": {},
     "output_type": "execute_result"
    }
   ],
   "source": [
    "data_test = pd.DataFrame({\"x_1\": [0.5],\n",
    "                          \"x_2\": [29.0]})\n",
    "data_test"
   ]
  },
  {
   "cell_type": "code",
   "execution_count": 4,
   "metadata": {},
   "outputs": [],
   "source": [
    "# testtesttest"
   ]
  },
  {
   "cell_type": "code",
   "execution_count": 5,
   "metadata": {},
   "outputs": [
    {
     "data": {
      "image/png": "[encoded data removed]",
      "text/plain": [
       "<Figure size 576x576 with 1 Axes>"
      ]
     },
     "metadata": {
      "needs_background": "light"
     },
     "output_type": "display_data"
    }
   ],
   "source": [
    "fig, ax = plt.subplots(nrows=1, ncols=1, figsize=(8, 8))\n",
    "\n",
    "data_class_0 = data_train[data_train[\"y\"]==0]\n",
    "data_class_1 = data_train[data_train[\"y\"]==1]\n",
    "ax.scatter(data_class_0[\"x_1\"], data_class_0[\"x_2\"], c='b', marker='.')\n",
    "ax.scatter(data_class_1[\"x_1\"], data_class_1[\"x_2\"], c='g', marker='.')\n",
    "ax.scatter(data_test[\"x_1\"], data_test[\"x_2\"], marker='x', c='r')\n",
    "\n",
    "ax.set_xlabel(\"x_1\")\n",
    "ax.set_ylabel(\"x_2\")\n",
    "plt.show()"
   ]
  },
  {
   "attachments": {},
   "cell_type": "markdown",
   "metadata": {},
   "source": [
    "## 1. Buat fungsi KNN\n",
    "\n",
    "Input:\n",
    "- `X_test`, data yang ingin diprediksi\n",
    "- `X_train`, data train input\n",
    "- `y_train`, data train output\n",
    "- `k`, jumlah k-observasi terdekat untuk setiap `data_test`\n",
    "\n",
    "Output:\n",
    "- `majority vote`, hasil vote class yang memiliki proporsi terbesar\n",
    "- `indeks_tetangga`, indeks tetangga data test\n",
    "\n",
    "Analisa:\n",
    "- lakukan prediksi saat `k = 3`\n",
    "- lakukan prediksi saat `k = 5`"
   ]
  },
  {
   "cell_type": "code",
   "execution_count": 6,
   "metadata": {},
   "outputs": [],
   "source": [
    "# create fungsi knn\n",
    "def knn(X_test,\n",
    "        X_train, \n",
    "        y_train,\n",
    "        k):\n",
    "    \"\"\"\n",
    "    Fungsi untuk membuat model k Nearest Neighbor\n",
    "    :param X_test: <pandas dataframe> data input yang ingin diprediksi\n",
    "    :param X_train: <pandas dataframe> data input yang dipakai untuk mencari k-observasi\n",
    "    :param y_train: <pandas dataframe> data output yang dipakai untuk mencari k-observasi\n",
    "    :param k: <int> jumlah tetangga terdekat\n",
    "    :return majority_vote: <class> 1 atau 0\n",
    "    :return indeks_tetangga: <list> kumpulan k-tetangga terdekat\n",
    "    \"\"\"\n",
    "    # 1. Cari jarak tiap observasi ke target terdekat\n",
    "    n = len(X_train)\n",
    "    list_jarak = np.zeros(n)\n",
    "\n",
    "    for i in X_train.index:\n",
    "        # Lakukan pencarian jarak berbasis Euclidean\n",
    "        jarak_square = (X_train[\"x_1\"].loc[i] - X_test[\"x_1\"])**2 \\\n",
    "                       + (X_train[\"x_2\"].loc[i] - X_test[\"x_2\"])**2\n",
    "        jarak_ = np.sqrt(jarak_square)\n",
    "        list_jarak[i] = jarak_ \n",
    "\n",
    "    # 2. Cari k tetangga terdekat\n",
    "    indeks_tetangga = list(np.argsort(list_jarak)[:k])\n",
    "    X_tetangga = X_train.loc[indeks_tetangga]\n",
    "    y_tetangga = y_train.loc[indeks_tetangga]\n",
    "\n",
    "    # 3. Buat hasil prediksi\n",
    "    # Klasfikasi adalah mencari kelas\n",
    "    majority_vote = y_tetangga.value_counts(normalize=True).index[0]\n",
    "    \n",
    "    return majority_vote, indeks_tetangga\n"
   ]
  },
  {
   "cell_type": "code",
   "execution_count": 7,
   "metadata": {},
   "outputs": [
    {
     "data": {
      "text/html": [
       "<div>\n",
       "<style scoped>\n",
       "    .dataframe tbody tr th:only-of-type {\n",
       "        vertical-align: middle;\n",
       "    }\n",
       "\n",
       "    .dataframe tbody tr th {\n",
       "        vertical-align: top;\n",
       "    }\n",
       "\n",
       "    .dataframe thead th {\n",
       "        text-align: right;\n",
       "    }\n",
       "</style>\n",
       "<table border=\"1\" class=\"dataframe\">\n",
       "  <thead>\n",
       "    <tr style=\"text-align: right;\">\n",
       "      <th></th>\n",
       "      <th>x_1</th>\n",
       "      <th>x_2</th>\n",
       "      <th>y</th>\n",
       "    </tr>\n",
       "  </thead>\n",
       "  <tbody>\n",
       "    <tr>\n",
       "      <th>0</th>\n",
       "      <td>0.5</td>\n",
       "      <td>29.0</td>\n",
       "      <td>1</td>\n",
       "    </tr>\n",
       "  </tbody>\n",
       "</table>\n",
       "</div>"
      ],
      "text/plain": [
       "   x_1   x_2  y\n",
       "0  0.5  29.0  1"
      ]
     },
     "execution_count": 7,
     "metadata": {},
     "output_type": "execute_result"
    }
   ],
   "source": [
    "# saat K = 3\n",
    "y_test_predict, indeks_tetangga = knn(X_test = data_test,\n",
    "                                      X_train = data_train[[\"x_1\", \"x_2\"]],\n",
    "                                      y_train = data_train[\"y\"],\n",
    "                                      k = 3)\n",
    "\n",
    "data_test[\"y\"] = y_test_predict\n",
    "data_test"
   ]
  },
  {
   "cell_type": "code",
   "execution_count": 8,
   "metadata": {},
   "outputs": [
    {
     "data": {
      "image/png": "[encoded data removed]",
      "text/plain": [
       "<Figure size 576x576 with 1 Axes>"
      ]
     },
     "metadata": {
      "needs_background": "light"
     },
     "output_type": "display_data"
    }
   ],
   "source": [
    "# Plot\n",
    "fig, ax = plt.subplots(nrows=1, ncols=1, figsize=(8, 8))\n",
    "\n",
    "# Display data\n",
    "data_class_0 = data_train[data_train[\"y\"]==0]\n",
    "data_class_1 = data_train[data_train[\"y\"]==1]\n",
    "ax.scatter(data_class_0[\"x_1\"], data_class_0[\"x_2\"], c='b', marker='.', label=\"class 0\")\n",
    "ax.scatter(data_class_1[\"x_1\"], data_class_1[\"x_2\"], c='g', marker='.', label=\"class 1\")\n",
    "\n",
    "# Display Test\n",
    "if data_test[\"y\"][0]==0:\n",
    "    color_test = 'b'\n",
    "else:\n",
    "    color_test = 'g'\n",
    "ax.scatter(data_test[\"x_1\"], data_test[\"x_2\"], marker='x', c=color_test, label=\"test data\")\n",
    "\n",
    "# Display Tetangga\n",
    "ax.scatter(data_train[\"x_1\"].loc[indeks_tetangga], \n",
    "           data_train[\"x_2\"].loc[indeks_tetangga],\n",
    "           marker=\"o\",\n",
    "           c = 'r', label = \"tetangga terdekat\")\n",
    "\n",
    "ax.set_xlabel(\"x_1\")\n",
    "ax.set_ylabel(\"x_2\")\n",
    "# ax.axis(\"equal\")\n",
    "plt.legend()\n",
    "plt.show()"
   ]
  },
  {
   "cell_type": "code",
   "execution_count": 9,
   "metadata": {},
   "outputs": [
    {
     "data": {
      "text/html": [
       "<div>\n",
       "<style scoped>\n",
       "    .dataframe tbody tr th:only-of-type {\n",
       "        vertical-align: middle;\n",
       "    }\n",
       "\n",
       "    .dataframe tbody tr th {\n",
       "        vertical-align: top;\n",
       "    }\n",
       "\n",
       "    .dataframe thead th {\n",
       "        text-align: right;\n",
       "    }\n",
       "</style>\n",
       "<table border=\"1\" class=\"dataframe\">\n",
       "  <thead>\n",
       "    <tr style=\"text-align: right;\">\n",
       "      <th></th>\n",
       "      <th>x_1</th>\n",
       "      <th>x_2</th>\n",
       "      <th>y</th>\n",
       "    </tr>\n",
       "  </thead>\n",
       "  <tbody>\n",
       "    <tr>\n",
       "      <th>0</th>\n",
       "      <td>0.5</td>\n",
       "      <td>29.0</td>\n",
       "      <td>0</td>\n",
       "    </tr>\n",
       "  </tbody>\n",
       "</table>\n",
       "</div>"
      ],
      "text/plain": [
       "   x_1   x_2  y\n",
       "0  0.5  29.0  0"
      ]
     },
     "execution_count": 9,
     "metadata": {},
     "output_type": "execute_result"
    }
   ],
   "source": [
    "# saat K = 5\n",
    "y_test_predict, indeks_tetangga = knn(X_test = data_test,\n",
    "                                      X_train = data_train[[\"x_1\", \"x_2\"]],\n",
    "                                      y_train = data_train[\"y\"],\n",
    "                                      k = 5)\n",
    "\n",
    "data_test[\"y\"] = y_test_predict\n",
    "data_test"
   ]
  },
  {
   "cell_type": "code",
   "execution_count": 10,
   "metadata": {},
   "outputs": [
    {
     "data": {
      "image/png": "[encoded data removed]",
      "text/plain": [
       "<Figure size 576x576 with 1 Axes>"
      ]
     },
     "metadata": {
      "needs_background": "light"
     },
     "output_type": "display_data"
    }
   ],
   "source": [
    "# Plot\n",
    "fig, ax = plt.subplots(nrows=1, ncols=1, figsize=(8, 8))\n",
    "\n",
    "# Display data\n",
    "data_class_0 = data_train[data_train[\"y\"]==0]\n",
    "data_class_1 = data_train[data_train[\"y\"]==1]\n",
    "ax.scatter(data_class_0[\"x_1\"], data_class_0[\"x_2\"], c='b', marker='.', label=\"class 0\")\n",
    "ax.scatter(data_class_1[\"x_1\"], data_class_1[\"x_2\"], c='g', marker='.', label=\"class 1\")\n",
    "\n",
    "# Display Test\n",
    "if data_test[\"y\"][0]==0:\n",
    "    color_test = 'b'\n",
    "else:\n",
    "    color_test = 'g'\n",
    "ax.scatter(data_test[\"x_1\"], data_test[\"x_2\"], marker='x', c=color_test, label=\"test data\")\n",
    "\n",
    "# Display Tetangga\n",
    "ax.scatter(data_train[\"x_1\"].loc[indeks_tetangga], \n",
    "           data_train[\"x_2\"].loc[indeks_tetangga],\n",
    "           marker=\"o\",\n",
    "           c = 'r', label = \"tetangga terdekat\")\n",
    "\n",
    "ax.set_xlabel(\"x_1\")\n",
    "ax.set_ylabel(\"x_2\")\n",
    "# ax.axis(\"equal\")\n",
    "plt.legend()\n",
    "plt.show()"
   ]
  },
  {
   "attachments": {},
   "cell_type": "markdown",
   "metadata": {},
   "source": [
    "## 2. Tambahkan standardisasi data\n",
    "\n",
    "Input:\n",
    "- `X_test`, data yang ingin diprediksi\n",
    "- `X_train`, data train input\n",
    "- `y_train`, data train output\n",
    "- `k`, jumlah k-observasi terdekat untuk setiap `data_test`\n",
    "- `standardize`, true or false\n",
    "\n",
    "Output:\n",
    "- `majority vote`, hasil vote class yang memiliki proporsi terbesar\n",
    "- `indeks_tetangga`, indeks tetangga data test\n",
    "\n",
    "Analisa:\n",
    "- lakukan prediksi saat `k = 3`\n",
    "- lakukan prediksi saat `k = 5`"
   ]
  },
  {
   "cell_type": "code",
   "execution_count": 11,
   "metadata": {},
   "outputs": [],
   "source": [
    "def knn(X_test,\n",
    "        X_train, \n",
    "        y_train,\n",
    "        k,\n",
    "        standardize):\n",
    "    \"\"\"\n",
    "    Fungsi untuk membuat model k Nearest Neighbor\n",
    "    :param X_test: <pandas dataframe> data input yang ingin diprediksi\n",
    "    :param X_train: <pandas dataframe> data input yang dipakai untuk mencari k-observasi\n",
    "    :param y_train: <pandas dataframe> data output yang dipakai untuk mencari k-observasi\n",
    "    :param k: <int> jumlah tetangga terdekat\n",
    "    :param standardize: <bool> true di standardisasikan\n",
    "    :return majority_vote: <class> 1 atau 0\n",
    "    :return indeks_tetangga: <list> kumpulan k-tetangga terdekat\n",
    "    \"\"\"\n",
    "    # 1. Lakukan standardisasi if standardize = true\n",
    "    if standardize:\n",
    "        # cari mean & variance masing-masing fitur data training\n",
    "        mean_train = np.mean(X_train, axis=0)\n",
    "        std_train = np.std(X_train, axis=0)\n",
    "\n",
    "        # transformasi X_train & X_test\n",
    "        X_train = (X_train - mean_train)/std_train\n",
    "        X_test = (X_test - mean_train)/std_train\n",
    "\n",
    "    # 1. Cari jarak tiap observasi ke target terdekat\n",
    "    n = len(X_train)\n",
    "    list_jarak = np.zeros(n)\n",
    "\n",
    "    for i in X_train.index:\n",
    "        # Lakukan pencarian jarak berbasis Euclidean\n",
    "        jarak_square = (X_train[\"x_1\"].loc[i] - X_test[\"x_1\"])**2 \\\n",
    "                       + (X_train[\"x_2\"].loc[i] - X_test[\"x_2\"])**2\n",
    "        jarak_ = np.sqrt(jarak_square)\n",
    "        list_jarak[i] = jarak_ \n",
    "\n",
    "    # 2. Cari k tetangga terdekat\n",
    "    indeks_tetangga = list(np.argsort(list_jarak)[:k])\n",
    "    X_tetangga = X_train.loc[indeks_tetangga]\n",
    "    y_tetangga = y_train.loc[indeks_tetangga]\n",
    "\n",
    "    # 3. Buat hasil prediksi\n",
    "    # Klasfikasi adalah mencari kelas\n",
    "    majority_vote = y_tetangga.value_counts(normalize=True).index[0]\n",
    "    \n",
    "    return majority_vote, indeks_tetangga\n"
   ]
  },
  {
   "cell_type": "code",
   "execution_count": 12,
   "metadata": {},
   "outputs": [
    {
     "data": {
      "text/html": [
       "<div>\n",
       "<style scoped>\n",
       "    .dataframe tbody tr th:only-of-type {\n",
       "        vertical-align: middle;\n",
       "    }\n",
       "\n",
       "    .dataframe tbody tr th {\n",
       "        vertical-align: top;\n",
       "    }\n",
       "\n",
       "    .dataframe thead th {\n",
       "        text-align: right;\n",
       "    }\n",
       "</style>\n",
       "<table border=\"1\" class=\"dataframe\">\n",
       "  <thead>\n",
       "    <tr style=\"text-align: right;\">\n",
       "      <th></th>\n",
       "      <th>x_1</th>\n",
       "      <th>x_2</th>\n",
       "      <th>y</th>\n",
       "    </tr>\n",
       "  </thead>\n",
       "  <tbody>\n",
       "    <tr>\n",
       "      <th>0</th>\n",
       "      <td>0.5</td>\n",
       "      <td>29.0</td>\n",
       "      <td>1</td>\n",
       "    </tr>\n",
       "  </tbody>\n",
       "</table>\n",
       "</div>"
      ],
      "text/plain": [
       "   x_1   x_2  y\n",
       "0  0.5  29.0  1"
      ]
     },
     "execution_count": 12,
     "metadata": {},
     "output_type": "execute_result"
    }
   ],
   "source": [
    "# saat K = 3\n",
    "y_test_predict, indeks_tetangga = knn(X_test = data_test,\n",
    "                                      X_train = data_train[[\"x_1\", \"x_2\"]],\n",
    "                                      y_train = data_train[\"y\"],\n",
    "                                      k = 3,\n",
    "                                      standardize = True)\n",
    "\n",
    "data_test[\"y\"] = y_test_predict\n",
    "data_test"
   ]
  },
  {
   "cell_type": "code",
   "execution_count": 13,
   "metadata": {},
   "outputs": [
    {
     "data": {
      "image/png": "[encoded data removed]",
      "text/plain": [
       "<Figure size 576x576 with 1 Axes>"
      ]
     },
     "metadata": {
      "needs_background": "light"
     },
     "output_type": "display_data"
    }
   ],
   "source": [
    "# Plot\n",
    "fig, ax = plt.subplots(nrows=1, ncols=1, figsize=(8, 8))\n",
    "\n",
    "# Display data\n",
    "data_class_0 = data_train[data_train[\"y\"]==0]\n",
    "data_class_1 = data_train[data_train[\"y\"]==1]\n",
    "ax.scatter(data_class_0[\"x_1\"], data_class_0[\"x_2\"], c='b', marker='.', label=\"class 0\")\n",
    "ax.scatter(data_class_1[\"x_1\"], data_class_1[\"x_2\"], c='g', marker='.', label=\"class 1\")\n",
    "\n",
    "# Display Test\n",
    "if data_test[\"y\"][0]==0:\n",
    "    color_test = 'b'\n",
    "else:\n",
    "    color_test = 'g'\n",
    "ax.scatter(data_test[\"x_1\"], data_test[\"x_2\"], marker='x', c=color_test, label=\"test data\")\n",
    "\n",
    "# Display Tetangga\n",
    "ax.scatter(data_train[\"x_1\"].loc[indeks_tetangga], \n",
    "           data_train[\"x_2\"].loc[indeks_tetangga],\n",
    "           marker=\"o\",\n",
    "           c = 'r', label = \"tetangga terdekat\")\n",
    "\n",
    "ax.set_xlabel(\"x_1\")\n",
    "ax.set_ylabel(\"x_2\")\n",
    "# ax.axis(\"equal\")\n",
    "plt.legend()\n",
    "plt.show()"
   ]
  },
  {
   "cell_type": "code",
   "execution_count": 14,
   "metadata": {},
   "outputs": [
    {
     "data": {
      "text/html": [
       "<div>\n",
       "<style scoped>\n",
       "    .dataframe tbody tr th:only-of-type {\n",
       "        vertical-align: middle;\n",
       "    }\n",
       "\n",
       "    .dataframe tbody tr th {\n",
       "        vertical-align: top;\n",
       "    }\n",
       "\n",
       "    .dataframe thead th {\n",
       "        text-align: right;\n",
       "    }\n",
       "</style>\n",
       "<table border=\"1\" class=\"dataframe\">\n",
       "  <thead>\n",
       "    <tr style=\"text-align: right;\">\n",
       "      <th></th>\n",
       "      <th>x_1</th>\n",
       "      <th>x_2</th>\n",
       "      <th>y</th>\n",
       "    </tr>\n",
       "  </thead>\n",
       "  <tbody>\n",
       "    <tr>\n",
       "      <th>0</th>\n",
       "      <td>0.5</td>\n",
       "      <td>29.0</td>\n",
       "      <td>0</td>\n",
       "    </tr>\n",
       "  </tbody>\n",
       "</table>\n",
       "</div>"
      ],
      "text/plain": [
       "   x_1   x_2  y\n",
       "0  0.5  29.0  0"
      ]
     },
     "execution_count": 14,
     "metadata": {},
     "output_type": "execute_result"
    }
   ],
   "source": [
    "# saat K = 5\n",
    "y_test_predict, indeks_tetangga = knn(X_test = data_test,\n",
    "                                      X_train = data_train[[\"x_1\", \"x_2\"]],\n",
    "                                      y_train = data_train[\"y\"],\n",
    "                                      k = 5,\n",
    "                                      standardize = True)\n",
    "\n",
    "data_test[\"y\"] = y_test_predict\n",
    "data_test"
   ]
  },
  {
   "cell_type": "code",
   "execution_count": 15,
   "metadata": {},
   "outputs": [
    {
     "data": {
      "image/png": "[encoded data removed]",
      "text/plain": [
       "<Figure size 576x576 with 1 Axes>"
      ]
     },
     "metadata": {
      "needs_background": "light"
     },
     "output_type": "display_data"
    }
   ],
   "source": [
    "# Plot\n",
    "fig, ax = plt.subplots(nrows=1, ncols=1, figsize=(8, 8))\n",
    "\n",
    "# Display data\n",
    "data_class_0 = data_train[data_train[\"y\"]==0]\n",
    "data_class_1 = data_train[data_train[\"y\"]==1]\n",
    "ax.scatter(data_class_0[\"x_1\"], data_class_0[\"x_2\"], c='b', marker='.', label=\"class 0\")\n",
    "ax.scatter(data_class_1[\"x_1\"], data_class_1[\"x_2\"], c='g', marker='.', label=\"class 1\")\n",
    "\n",
    "# Display Test\n",
    "if data_test[\"y\"][0]==0:\n",
    "    color_test = 'b'\n",
    "else:\n",
    "    color_test = 'g'\n",
    "ax.scatter(data_test[\"x_1\"], data_test[\"x_2\"], marker='x', c=color_test, label=\"test data\")\n",
    "\n",
    "# Display Tetangga\n",
    "ax.scatter(data_train[\"x_1\"].loc[indeks_tetangga], \n",
    "           data_train[\"x_2\"].loc[indeks_tetangga],\n",
    "           marker=\"o\",\n",
    "           c = 'r', label = \"tetangga terdekat\")\n",
    "\n",
    "ax.set_xlabel(\"x_1\")\n",
    "ax.set_ylabel(\"x_2\")\n",
    "# ax.axis(\"equal\")\n",
    "plt.legend()\n",
    "plt.show()"
   ]
  },
  {
   "attachments": {},
   "cell_type": "markdown",
   "metadata": {},
   "source": [
    "## 3. Tambahkan fungsi distance lain\n",
    "\n",
    "Input:\n",
    "- `X_test`, data yang ingin diprediksi\n",
    "- `X_train`, data train input\n",
    "- `y_train`, data train output\n",
    "- `k`, jumlah k-observasi terdekat untuk setiap `data_test`\n",
    "- `standardize`, true or false\n",
    "- `distance_func`, `euclidean` atau `manhattan`\n",
    "\n",
    "Output:\n",
    "- `majority vote`, hasil vote class yang memiliki proporsi terbesar\n",
    "- `indeks_tetangga`, indeks tetangga data test\n",
    "\n",
    "Analisa:\n",
    "- lakukan prediksi saat `k = 3`\n",
    "- lakukan prediksi saat `k = 5`"
   ]
  },
  {
   "cell_type": "code",
   "execution_count": 16,
   "metadata": {},
   "outputs": [],
   "source": [
    "def knn(X_test,\n",
    "        X_train, \n",
    "        y_train,\n",
    "        k,\n",
    "        standardize,\n",
    "        distance_func):\n",
    "    \"\"\"\n",
    "    Fungsi untuk membuat model k Nearest Neighbor\n",
    "    :param X_test: <pandas dataframe> data input yang ingin diprediksi\n",
    "    :param X_train: <pandas dataframe> data input yang dipakai untuk mencari k-observasi\n",
    "    :param y_train: <pandas dataframe> data output yang dipakai untuk mencari k-observasi\n",
    "    :param k: <int> jumlah tetangga terdekat\n",
    "    :param standardize: <bool> true di standardisasikan\n",
    "    :param distance_func: <str> 'euclidean' dan 'manhattan'\n",
    "    :return majority_vote: <class> 1 atau 0\n",
    "    :return indeks_tetangga: <list> kumpulan k-tetangga terdekat\n",
    "    \"\"\"\n",
    "    # 1. Lakukan standardisasi if standardize = true\n",
    "    if standardize:\n",
    "        # cari mean & variance masing-masing fitur data training\n",
    "        mean_train = np.mean(X_train, axis=0)\n",
    "        std_train = np.std(X_train, axis=0)\n",
    "\n",
    "        # transformasi X_train & X_test\n",
    "        X_train = (X_train - mean_train)/std_train\n",
    "        X_test = (X_test - mean_train)/std_train\n",
    "\n",
    "    # 1. Cari jarak tiap observasi ke target terdekat\n",
    "    n = len(X_train)\n",
    "    list_jarak = np.zeros(n)\n",
    "\n",
    "    for i in X_train.index:\n",
    "        # Lakukan pencarian jarak berbasis Euclidean\n",
    "        # PILIHAN JARAK\n",
    "        if distance_func == \"euclidean\":\n",
    "            jarak_square = (X_train[\"x_1\"].loc[i] - X_test[\"x_1\"])**2 \\\n",
    "                            + (X_train[\"x_2\"].loc[i] - X_test[\"x_2\"])**2\n",
    "            jarak_ = np.sqrt(jarak_square)\n",
    "        elif distance_func == \"manhattan\":\n",
    "            jarak_ = abs(X_train[\"x_1\"].loc[i] - X_test[\"x_1\"]) \\\n",
    "                     + abs(X_train[\"x_2\"].loc[i] - X_test[\"x_2\"])\n",
    " \n",
    "        list_jarak[i] = jarak_ \n",
    "\n",
    "    # 2. Cari k tetangga terdekat\n",
    "    indeks_tetangga = list(np.argsort(list_jarak)[:k])\n",
    "    X_tetangga = X_train.loc[indeks_tetangga]\n",
    "    y_tetangga = y_train.loc[indeks_tetangga]\n",
    "\n",
    "    # 3. Buat hasil prediksi\n",
    "    # Klasfikasi adalah mencari kelas\n",
    "    majority_vote = y_tetangga.value_counts(normalize=True).index[0]\n",
    "    \n",
    "    return majority_vote, indeks_tetangga\n"
   ]
  },
  {
   "cell_type": "code",
   "execution_count": 17,
   "metadata": {},
   "outputs": [
    {
     "data": {
      "text/html": [
       "<div>\n",
       "<style scoped>\n",
       "    .dataframe tbody tr th:only-of-type {\n",
       "        vertical-align: middle;\n",
       "    }\n",
       "\n",
       "    .dataframe tbody tr th {\n",
       "        vertical-align: top;\n",
       "    }\n",
       "\n",
       "    .dataframe thead th {\n",
       "        text-align: right;\n",
       "    }\n",
       "</style>\n",
       "<table border=\"1\" class=\"dataframe\">\n",
       "  <thead>\n",
       "    <tr style=\"text-align: right;\">\n",
       "      <th></th>\n",
       "      <th>x_1</th>\n",
       "      <th>x_2</th>\n",
       "      <th>y</th>\n",
       "    </tr>\n",
       "  </thead>\n",
       "  <tbody>\n",
       "    <tr>\n",
       "      <th>0</th>\n",
       "      <td>0.5</td>\n",
       "      <td>29.0</td>\n",
       "      <td>1</td>\n",
       "    </tr>\n",
       "  </tbody>\n",
       "</table>\n",
       "</div>"
      ],
      "text/plain": [
       "   x_1   x_2  y\n",
       "0  0.5  29.0  1"
      ]
     },
     "execution_count": 17,
     "metadata": {},
     "output_type": "execute_result"
    }
   ],
   "source": [
    "# saat K = 3\n",
    "y_test_predict, indeks_tetangga = knn(X_test = data_test,\n",
    "                                      X_train = data_train[[\"x_1\", \"x_2\"]],\n",
    "                                      y_train = data_train[\"y\"],\n",
    "                                      k = 3,\n",
    "                                      standardize = False,\n",
    "                                      distance_func = \"euclidean\")\n",
    "\n",
    "data_test[\"y\"] = y_test_predict\n",
    "data_test"
   ]
  },
  {
   "cell_type": "code",
   "execution_count": 18,
   "metadata": {},
   "outputs": [
    {
     "data": {
      "image/png": "[encoded data removed]",
      "text/plain": [
       "<Figure size 576x576 with 1 Axes>"
      ]
     },
     "metadata": {
      "needs_background": "light"
     },
     "output_type": "display_data"
    }
   ],
   "source": [
    "# Plot\n",
    "fig, ax = plt.subplots(nrows=1, ncols=1, figsize=(8, 8))\n",
    "\n",
    "# Display data\n",
    "data_class_0 = data_train[data_train[\"y\"]==0]\n",
    "data_class_1 = data_train[data_train[\"y\"]==1]\n",
    "ax.scatter(data_class_0[\"x_1\"], data_class_0[\"x_2\"], c='b', marker='.', label=\"class 0\")\n",
    "ax.scatter(data_class_1[\"x_1\"], data_class_1[\"x_2\"], c='g', marker='.', label=\"class 1\")\n",
    "\n",
    "# Display Test\n",
    "if data_test[\"y\"][0]==0:\n",
    "    color_test = 'b'\n",
    "else:\n",
    "    color_test = 'g'\n",
    "ax.scatter(data_test[\"x_1\"], data_test[\"x_2\"], marker='x', c=color_test, label=\"test data\")\n",
    "\n",
    "# Display Tetangga\n",
    "ax.scatter(data_train[\"x_1\"].loc[indeks_tetangga], \n",
    "           data_train[\"x_2\"].loc[indeks_tetangga],\n",
    "           marker=\"o\",\n",
    "           c = 'r', label = \"tetangga terdekat\")\n",
    "\n",
    "ax.set_xlabel(\"x_1\")\n",
    "ax.set_ylabel(\"x_2\")\n",
    "# ax.axis(\"equal\")\n",
    "plt.legend()\n",
    "plt.show()"
   ]
  },
  {
   "cell_type": "code",
   "execution_count": 19,
   "metadata": {},
   "outputs": [
    {
     "data": {
      "text/html": [
       "<div>\n",
       "<style scoped>\n",
       "    .dataframe tbody tr th:only-of-type {\n",
       "        vertical-align: middle;\n",
       "    }\n",
       "\n",
       "    .dataframe tbody tr th {\n",
       "        vertical-align: top;\n",
       "    }\n",
       "\n",
       "    .dataframe thead th {\n",
       "        text-align: right;\n",
       "    }\n",
       "</style>\n",
       "<table border=\"1\" class=\"dataframe\">\n",
       "  <thead>\n",
       "    <tr style=\"text-align: right;\">\n",
       "      <th></th>\n",
       "      <th>x_1</th>\n",
       "      <th>x_2</th>\n",
       "      <th>y</th>\n",
       "    </tr>\n",
       "  </thead>\n",
       "  <tbody>\n",
       "    <tr>\n",
       "      <th>0</th>\n",
       "      <td>0.5</td>\n",
       "      <td>29.0</td>\n",
       "      <td>0</td>\n",
       "    </tr>\n",
       "  </tbody>\n",
       "</table>\n",
       "</div>"
      ],
      "text/plain": [
       "   x_1   x_2  y\n",
       "0  0.5  29.0  0"
      ]
     },
     "execution_count": 19,
     "metadata": {},
     "output_type": "execute_result"
    }
   ],
   "source": [
    "# saat K = 5\n",
    "y_test_predict, indeks_tetangga = knn(X_test = data_test,\n",
    "                                      X_train = data_train[[\"x_1\", \"x_2\"]],\n",
    "                                      y_train = data_train[\"y\"],\n",
    "                                      k = 5,\n",
    "                                      standardize = True,\n",
    "                                      distance_func = \"manhattan\")\n",
    "\n",
    "data_test[\"y\"] = y_test_predict\n",
    "data_test"
   ]
  },
  {
   "cell_type": "code",
   "execution_count": 20,
   "metadata": {},
   "outputs": [
    {
     "data": {
      "image/png": "[encoded data removed]",
      "text/plain": [
       "<Figure size 576x576 with 1 Axes>"
      ]
     },
     "metadata": {
      "needs_background": "light"
     },
     "output_type": "display_data"
    }
   ],
   "source": [
    "# Plot\n",
    "fig, ax = plt.subplots(nrows=1, ncols=1, figsize=(8, 8))\n",
    "\n",
    "# Display data\n",
    "data_class_0 = data_train[data_train[\"y\"]==0]\n",
    "data_class_1 = data_train[data_train[\"y\"]==1]\n",
    "ax.scatter(data_class_0[\"x_1\"], data_class_0[\"x_2\"], c='b', marker='.', label=\"class 0\")\n",
    "ax.scatter(data_class_1[\"x_1\"], data_class_1[\"x_2\"], c='g', marker='.', label=\"class 1\")\n",
    "\n",
    "# Display Test\n",
    "if data_test[\"y\"][0]==0:\n",
    "    color_test = 'b'\n",
    "else:\n",
    "    color_test = 'g'\n",
    "ax.scatter(data_test[\"x_1\"], data_test[\"x_2\"], marker='x', c=color_test, label=\"test data\")\n",
    "\n",
    "# Display Tetangga\n",
    "ax.scatter(data_train[\"x_1\"].loc[indeks_tetangga], \n",
    "           data_train[\"x_2\"].loc[indeks_tetangga],\n",
    "           marker=\"o\",\n",
    "           c = 'r', label = \"tetangga terdekat\")\n",
    "\n",
    "ax.set_xlabel(\"x_1\")\n",
    "ax.set_ylabel(\"x_2\")\n",
    "# ax.axis(\"equal\")\n",
    "plt.legend()\n",
    "plt.show()"
   ]
  },
  {
   "attachments": {},
   "cell_type": "markdown",
   "metadata": {},
   "source": [
    "## 4. Buat fungsi KNN dengan lebih bagus\n",
    "\n",
    "- buat fungsi khusus `standardizer`\n",
    "- buat fungsi menghitung jarak"
   ]
  },
  {
   "cell_type": "code",
   "execution_count": 21,
   "metadata": {},
   "outputs": [],
   "source": [
    "# Buat fungsi standardisasi\n",
    "def standardizer(data_train, data_test):\n",
    "    \"\"\"\n",
    "    Fungsi untuk melakukan standardisasi dari data_train & data_test\n",
    "    :param data_train: <pandas DataFrame> input train\n",
    "    :param data_test: <pandas DataFrame> input test\n",
    "    :return data_train_new: <pandas DataFrame> new input train\n",
    "    :return data_test_new: <pandas DataFrame> new input test\n",
    "    \"\"\"\n",
    "    # cari mean & variance masing-masing fitur data training\n",
    "    mean_train = np.mean(data_train, axis=0)\n",
    "    std_train = np.std(data_train, axis=0)\n",
    "\n",
    "    # transformasi X_train & X_test\n",
    "    data_train_new = (data_train - mean_train)/std_train\n",
    "    data_test_new = (data_test - mean_train)/std_train\n",
    "\n",
    "    return data_train_new, data_test_new\n",
    "    "
   ]
  },
  {
   "cell_type": "code",
   "execution_count": 22,
   "metadata": {},
   "outputs": [],
   "source": [
    "# Buat fungsi jarak\n",
    "def calculate_distance(a, b, distance_func):\n",
    "    \"\"\"\n",
    "    Fungsi untuk menghitung jarak a & b\n",
    "    :param a: <list> titik a\n",
    "    :param b: <list> titik b\n",
    "    :param distance_func: <str> \"euclidean\" atau \"mahattan\"\n",
    "    :return dist: <float> distance antara a-b\n",
    "    \"\"\"\n",
    "    if distance_func == \"euclidean\":\n",
    "        dist_square = 0\n",
    "        for i in a.index:\n",
    "            dist_square += (a[i] - b[i])**2\n",
    "        \n",
    "        dist = np.sqrt(dist_square)\n",
    "\n",
    "    elif distance_func == \"manhattan\":\n",
    "        dist = 0\n",
    "        for i in a.index:\n",
    "            dist += abs(a[i] - b[i])\n",
    "\n",
    "    return dist\n"
   ]
  },
  {
   "cell_type": "code",
   "execution_count": 23,
   "metadata": {},
   "outputs": [],
   "source": [
    "def knn(X_test,\n",
    "        X_train, \n",
    "        y_train,\n",
    "        k,\n",
    "        standardize,\n",
    "        distance_func):\n",
    "    \"\"\"\n",
    "    Fungsi untuk membuat model k Nearest Neighbor\n",
    "    :param X_test: <pandas dataframe> data input yang ingin diprediksi\n",
    "    :param X_train: <pandas dataframe> data input yang dipakai untuk mencari k-observasi\n",
    "    :param y_train: <pandas dataframe> data output yang dipakai untuk mencari k-observasi\n",
    "    :param k: <int> jumlah tetangga terdekat\n",
    "    :param standardize: <bool> true di standardisasikan\n",
    "    :param distance_func: <str> 'euclidean' dan 'manhattan'\n",
    "    :return majority_vote: <class> 1 atau 0\n",
    "    :return indeks_tetangga: <list> kumpulan k-tetangga terdekat\n",
    "    \"\"\"\n",
    "    # 1. Lakukan standardisasi if standardize = true\n",
    "    if standardize:\n",
    "        X_train, X_test = standardizer(data_train = X_train, \n",
    "                                       data_test = X_test)\n",
    "\n",
    "    # 1. Cari jarak tiap observasi ke target terdekat\n",
    "    n = len(X_train)\n",
    "    list_jarak = np.zeros(n)\n",
    "\n",
    "    for i in X_train.index:\n",
    "        # Lakukan pencarian jarak berbasis Euclidean\n",
    "        # PILIHAN JARAK\n",
    "        titik_1 = X_train.loc[i]\n",
    "        titik_2 = X_test\n",
    "        jarak_ = calculate_distance(a = titik_1, \n",
    "                                    b = titik_2, \n",
    "                                    distance_func = distance_func) \n",
    "        list_jarak[i] = jarak_ \n",
    "\n",
    "    # 2. Cari k tetangga terdekat\n",
    "    indeks_tetangga = list(np.argsort(list_jarak)[:k])\n",
    "    X_tetangga = X_train.loc[indeks_tetangga]\n",
    "    y_tetangga = y_train.loc[indeks_tetangga]\n",
    "\n",
    "    # 3. Buat hasil prediksi\n",
    "    # Klasfikasi adalah mencari kelas\n",
    "    majority_vote = y_tetangga.value_counts(normalize=True).index[0]\n",
    "    \n",
    "    return majority_vote, indeks_tetangga\n"
   ]
  },
  {
   "cell_type": "code",
   "execution_count": 24,
   "metadata": {},
   "outputs": [
    {
     "data": {
      "text/html": [
       "<div>\n",
       "<style scoped>\n",
       "    .dataframe tbody tr th:only-of-type {\n",
       "        vertical-align: middle;\n",
       "    }\n",
       "\n",
       "    .dataframe tbody tr th {\n",
       "        vertical-align: top;\n",
       "    }\n",
       "\n",
       "    .dataframe thead th {\n",
       "        text-align: right;\n",
       "    }\n",
       "</style>\n",
       "<table border=\"1\" class=\"dataframe\">\n",
       "  <thead>\n",
       "    <tr style=\"text-align: right;\">\n",
       "      <th></th>\n",
       "      <th>x_1</th>\n",
       "      <th>x_2</th>\n",
       "      <th>y</th>\n",
       "    </tr>\n",
       "  </thead>\n",
       "  <tbody>\n",
       "    <tr>\n",
       "      <th>0</th>\n",
       "      <td>0.5</td>\n",
       "      <td>29.0</td>\n",
       "      <td>1</td>\n",
       "    </tr>\n",
       "  </tbody>\n",
       "</table>\n",
       "</div>"
      ],
      "text/plain": [
       "   x_1   x_2  y\n",
       "0  0.5  29.0  1"
      ]
     },
     "execution_count": 24,
     "metadata": {},
     "output_type": "execute_result"
    }
   ],
   "source": [
    "# saat K = 3\n",
    "y_test_predict, indeks_tetangga = knn(X_test = data_test,\n",
    "                                      X_train = data_train[[\"x_1\", \"x_2\"]],\n",
    "                                      y_train = data_train[\"y\"],\n",
    "                                      k = 3,\n",
    "                                      standardize = False,\n",
    "                                      distance_func = \"euclidean\")\n",
    "\n",
    "data_test[\"y\"] = y_test_predict\n",
    "data_test"
   ]
  },
  {
   "cell_type": "code",
   "execution_count": 25,
   "metadata": {},
   "outputs": [
    {
     "data": {
      "text/html": [
       "<div>\n",
       "<style scoped>\n",
       "    .dataframe tbody tr th:only-of-type {\n",
       "        vertical-align: middle;\n",
       "    }\n",
       "\n",
       "    .dataframe tbody tr th {\n",
       "        vertical-align: top;\n",
       "    }\n",
       "\n",
       "    .dataframe thead th {\n",
       "        text-align: right;\n",
       "    }\n",
       "</style>\n",
       "<table border=\"1\" class=\"dataframe\">\n",
       "  <thead>\n",
       "    <tr style=\"text-align: right;\">\n",
       "      <th></th>\n",
       "      <th>x_1</th>\n",
       "      <th>x_2</th>\n",
       "      <th>y</th>\n",
       "    </tr>\n",
       "  </thead>\n",
       "  <tbody>\n",
       "    <tr>\n",
       "      <th>0</th>\n",
       "      <td>0.5</td>\n",
       "      <td>29.0</td>\n",
       "      <td>0</td>\n",
       "    </tr>\n",
       "  </tbody>\n",
       "</table>\n",
       "</div>"
      ],
      "text/plain": [
       "   x_1   x_2  y\n",
       "0  0.5  29.0  0"
      ]
     },
     "execution_count": 25,
     "metadata": {},
     "output_type": "execute_result"
    }
   ],
   "source": [
    "y_test_predict, indeks_tetangga = knn(X_test = data_test,\n",
    "                                      X_train = data_train[[\"x_1\", \"x_2\"]],\n",
    "                                      y_train = data_train[\"y\"],\n",
    "                                      k = 3,\n",
    "                                      standardize = False,\n",
    "                                      distance_func = \"manhattan\")\n",
    "\n",
    "data_test[\"y\"] = y_test_predict\n",
    "data_test"
   ]
  },
  {
   "cell_type": "code",
   "execution_count": 26,
   "metadata": {},
   "outputs": [
    {
     "data": {
      "image/png": "[encoded data removed]",
      "text/plain": [
       "<Figure size 576x576 with 1 Axes>"
      ]
     },
     "metadata": {
      "needs_background": "light"
     },
     "output_type": "display_data"
    }
   ],
   "source": [
    "# Plot\n",
    "fig, ax = plt.subplots(nrows=1, ncols=1, figsize=(8, 8))\n",
    "\n",
    "# Display data\n",
    "data_class_0 = data_train[data_train[\"y\"]==0]\n",
    "data_class_1 = data_train[data_train[\"y\"]==1]\n",
    "ax.scatter(data_class_0[\"x_1\"], data_class_0[\"x_2\"], c='b', marker='.', label=\"class 0\")\n",
    "ax.scatter(data_class_1[\"x_1\"], data_class_1[\"x_2\"], c='g', marker='.', label=\"class 1\")\n",
    "\n",
    "# Display Test\n",
    "if data_test[\"y\"][0]==0:\n",
    "    color_test = 'b'\n",
    "else:\n",
    "    color_test = 'g'\n",
    "ax.scatter(data_test[\"x_1\"], data_test[\"x_2\"], marker='x', c=color_test, label=\"test data\")\n",
    "\n",
    "# Display Tetangga\n",
    "ax.scatter(data_train[\"x_1\"].loc[indeks_tetangga], \n",
    "           data_train[\"x_2\"].loc[indeks_tetangga],\n",
    "           marker=\"o\",\n",
    "           c = 'r', label = \"tetangga terdekat\")\n",
    "\n",
    "ax.set_xlabel(\"x_1\")\n",
    "ax.set_ylabel(\"x_2\")\n",
    "# ax.axis(\"equal\")\n",
    "plt.legend()\n",
    "plt.show()"
   ]
  },
  {
   "cell_type": "code",
   "execution_count": 27,
   "metadata": {},
   "outputs": [
    {
     "data": {
      "text/html": [
       "<div>\n",
       "<style scoped>\n",
       "    .dataframe tbody tr th:only-of-type {\n",
       "        vertical-align: middle;\n",
       "    }\n",
       "\n",
       "    .dataframe tbody tr th {\n",
       "        vertical-align: top;\n",
       "    }\n",
       "\n",
       "    .dataframe thead th {\n",
       "        text-align: right;\n",
       "    }\n",
       "</style>\n",
       "<table border=\"1\" class=\"dataframe\">\n",
       "  <thead>\n",
       "    <tr style=\"text-align: right;\">\n",
       "      <th></th>\n",
       "      <th>x_1</th>\n",
       "      <th>x_2</th>\n",
       "      <th>y</th>\n",
       "    </tr>\n",
       "  </thead>\n",
       "  <tbody>\n",
       "    <tr>\n",
       "      <th>0</th>\n",
       "      <td>0.5</td>\n",
       "      <td>29.0</td>\n",
       "      <td>0</td>\n",
       "    </tr>\n",
       "  </tbody>\n",
       "</table>\n",
       "</div>"
      ],
      "text/plain": [
       "   x_1   x_2  y\n",
       "0  0.5  29.0  0"
      ]
     },
     "execution_count": 27,
     "metadata": {},
     "output_type": "execute_result"
    }
   ],
   "source": [
    "# saat K = 5\n",
    "y_test_predict, indeks_tetangga = knn(X_test = data_test,\n",
    "                                      X_train = data_train[[\"x_1\", \"x_2\"]],\n",
    "                                      y_train = data_train[\"y\"],\n",
    "                                      k = 5,\n",
    "                                      standardize = True,\n",
    "                                      distance_func = \"manhattan\")\n",
    "\n",
    "data_test[\"y\"] = y_test_predict\n",
    "data_test"
   ]
  },
  {
   "cell_type": "code",
   "execution_count": 28,
   "metadata": {},
   "outputs": [
    {
     "data": {
      "image/png": "[encoded data removed]",
      "text/plain": [
       "<Figure size 576x576 with 1 Axes>"
      ]
     },
     "metadata": {
      "needs_background": "light"
     },
     "output_type": "display_data"
    }
   ],
   "source": [
    "# Plot\n",
    "fig, ax = plt.subplots(nrows=1, ncols=1, figsize=(8, 8))\n",
    "\n",
    "# Display data\n",
    "data_class_0 = data_train[data_train[\"y\"]==0]\n",
    "data_class_1 = data_train[data_train[\"y\"]==1]\n",
    "ax.scatter(data_class_0[\"x_1\"], data_class_0[\"x_2\"], c='b', marker='.', label=\"class 0\")\n",
    "ax.scatter(data_class_1[\"x_1\"], data_class_1[\"x_2\"], c='g', marker='.', label=\"class 1\")\n",
    "\n",
    "# Display Test\n",
    "if data_test[\"y\"][0]==0:\n",
    "    color_test = 'b'\n",
    "else:\n",
    "    color_test = 'g'\n",
    "ax.scatter(data_test[\"x_1\"], data_test[\"x_2\"], marker='x', c=color_test, label=\"test data\")\n",
    "\n",
    "# Display Tetangga\n",
    "ax.scatter(data_train[\"x_1\"].loc[indeks_tetangga], \n",
    "           data_train[\"x_2\"].loc[indeks_tetangga],\n",
    "           marker=\"o\",\n",
    "           c = 'r', label = \"tetangga terdekat\")\n",
    "\n",
    "ax.set_xlabel(\"x_1\")\n",
    "ax.set_ylabel(\"x_2\")\n",
    "# ax.axis(\"equal\")\n",
    "plt.legend()\n",
    "plt.show()"
   ]
  }
 ],
 "metadata": {
  "kernelspec": {
   "display_name": "base",
   "language": "python",
   "name": "python3"
  },
  "language_info": {
   "codemirror_mode": {
    "name": "ipython",
    "version": 3
   },
   "file_extension": ".py",
   "mimetype": "text/x-python",
   "name": "python",
   "nbconvert_exporter": "python",
   "pygments_lexer": "ipython3",
   "version": "3.9.12"
  },
  "orig_nbformat": 4
 },
 "nbformat": 4,
 "nbformat_minor": 2
}
